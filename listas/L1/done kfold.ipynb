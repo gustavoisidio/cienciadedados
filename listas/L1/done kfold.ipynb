{
 "cells": [
  {
   "cell_type": "code",
   "execution_count": null,
   "metadata": {
    "collapsed": true
   },
   "outputs": [],
   "source": []
  },
  {
   "cell_type": "code",
   "execution_count": null,
   "metadata": {
    "collapsed": true
   },
   "outputs": [],
   "source": [
    "### K-FOLD (kNN)\n",
    "\n",
    "- ~~k variando entre k=2 até o tamanho máximo possível de folders~~"
   ]
  },
  {
   "cell_type": "code",
   "execution_count": null,
   "metadata": {
    "collapsed": true
   },
   "outputs": [],
   "source": [
    "# from sklearn.model_selection import KFold\n",
    "# from sklearn.neighbors import KNeighborsClassifier\n",
    "\n",
    "# X = dfCancerMedia.drop('Class', axis=1).values\n",
    "# y = dfCancerMedia.Class.values\n",
    "\n",
    "# kf = KFold(n_splits = kf_Split)\n",
    "\n",
    "# for train_index, test_index in kf.split(X):\n",
    "#     X_train, X_test = X[train_index], X[test_index]\n",
    "#     y_train, y_test = y[train_index], y[test_index]\n",
    "\n",
    "\n",
    "# neigh = KNeighborsClassifier(n_neighbors=3)\n",
    "# #TREINAMENTO\n",
    "# neigh.fit(X_train, y_train) \n",
    "\n",
    "# #TESTE\n",
    "\n",
    "# # neigh.predict([[10,7,7,6,4,10,4,1,2], [6,1,1,1,2,1,3,1,1]]) # Saída esperada: array([1, 0])\n",
    "\n",
    "# Test = neigh.predict(X_test)\n",
    "# Real = y_test\n",
    "\n",
    "# CancerMediaKNNKFold_Falhas = round((np.sum(Test != Real)*100)/(Test.size), 2)\n",
    "# CancerMediaKNNKFold_Acertos = round((np.sum(Test == Real)*100)/(Test.size), 2)\n",
    " \n",
    "\n",
    "# print(\"%s foram treinados e  %s testes foram feitos. Desses, %s tiveram resultado correto e %s falharam\" % (y_train.size, Real.size, np.sum(Test == Real), np.sum(Test != Real)))\n",
    "# print(\"Resultado: %s falharam e %s acertaram\" % (CancerMediaKNNKFold_Falhas, CancerMediaKNNKFold_Acertos))"
   ]
  },
  {
   "cell_type": "code",
   "execution_count": null,
   "metadata": {
    "collapsed": true
   },
   "outputs": [],
   "source": [
    "### K-FOLD (K-Means)\n",
    "\n",
    "- ~~k variando entre k=2 até o tamanho máximo possível de folders~~"
   ]
  },
  {
   "cell_type": "code",
   "execution_count": null,
   "metadata": {
    "collapsed": true
   },
   "outputs": [],
   "source": [
    "# from sklearn.model_selection import KFold\n",
    "# from sklearn.neighbors.nearest_centroid import NearestCentroid\n",
    "# import numpy as np\n",
    "\n",
    "# X = np.array(dfCancerMedia.drop('Class', axis=1).values)\n",
    "# y = np.array(dfCancerMedia.Class.values)\n",
    "\n",
    "# clf = NearestCentroid()\n",
    "# #TREINAMENTO\n",
    "\n",
    "# kf = KFold(n_splits = kf_Split)\n",
    "\n",
    "# for train_index, test_index in kf.split(X):\n",
    "#     X_train, X_test = X[train_index], X[test_index]\n",
    "#     y_train, y_test = y[train_index], y[test_index]\n",
    "    \n",
    "\n",
    "# clf.fit(X_train, y_train)\n",
    "\n",
    "# #TESTE\n",
    "\n",
    "# # clf.predict([[10,7,7,6,4,10,4,1,2], [6,1,1,1,2,1,3,1,1]]) # Saída esperada: array([1, 0])\n",
    "\n",
    "# Test = clf.predict(X_test)\n",
    "# Real = y_test\n",
    "\n",
    "# CancerMediaKMeansKFold_Falhas = round((np.sum(Test != Real)*100)/(Test.size), 2)\n",
    "# CancerMediaKMeansKFold_Acertos = round((np.sum(Test == Real)*100)/(Test.size), 2)\n",
    " \n",
    "\n",
    "# print(\"%s foram treinados e  %s testes foram feitos. Desses, %s tiveram resultado correto e %s falharam\" % (y_train.size, Real.size, np.sum(Test == Real), np.sum(Test != Real)))\n",
    "# print(\"Resultado: %s falharam e %s acertaram\" % (CancerMediaKMeansKFold_Falhas, CancerMediaKMeansKFold_Acertos))\n",
    "\n",
    "\n",
    "\n"
   ]
  },
  {
   "cell_type": "code",
   "execution_count": null,
   "metadata": {
    "collapsed": true
   },
   "outputs": [],
   "source": [
    "### K-FOLD (RNA)\n",
    "\n",
    "- ~~k variando entre k=2 até o tamanho máximo possível de folders~~"
   ]
  },
  {
   "cell_type": "code",
   "execution_count": null,
   "metadata": {
    "collapsed": true
   },
   "outputs": [],
   "source": [
    "from sklearn.model_selection import KFold\n",
    "from sklearn.neural_network import MLPClassifier\n",
    "\n",
    "X = np.array(dfCancerMedia.drop('Class', axis=1).values)\n",
    "y = np.array(dfCancerMedia.Class.values)\n",
    "\n",
    "kf = KFold(n_splits=kf_Split)\n",
    "\n",
    "for train_index, test_index in kf.split(X):\n",
    "    X_train, X_test = X[train_index], X[test_index]\n",
    "    y_train, y_test = y[train_index], y[test_index]\n",
    "    \n",
    "\n",
    "\n",
    "clf = MLPClassifier(solver='lbfgs', alpha=1e-5, hidden_layer_sizes=(20), random_state=1)\n",
    "\n",
    "### TreiNAMENTO => a funcao fit treina a rede neural com o conjunto de entrada X e a saida esperada y\n",
    "clf.fit(X_train, y_train)\n",
    "\n",
    "# TESTE => prediz qual a classe que pertence a entrada (2,2)\n",
    "# clf.predict([[10,7,7,6,4,10,4,1,2], [6,1,1,1,2,1,3,1,1]]) # Saída esperada: array([1, 0])\n",
    "\n",
    "# [[10,7,7,6,4,10,4,1,2], [6,1,1,1,2,1,3,1,1]] => array([1, 0])\n",
    "\n",
    "Test = clf.predict(X_test)\n",
    "Real = y_test\n",
    "\n",
    "CancerMediaRNAKFold_Falhas = round((np.sum(Test != Real)*100)/(Test.size), 2)\n",
    "CancerMediaRNAKFold_Acertos = round((np.sum(Test == Real)*100)/(Test.size), 2)\n",
    " \n",
    "\n",
    "print(\"%s foram treinados e  %s testes foram feitos. Desses, %s tiveram resultado correto e %s falharam\" % (y_train.size, Real.size, np.sum(Test == Real), np.sum(Test != Real)))\n",
    "print(\"Resultado: %s%% falharam e %s%% acertaram\" % (CancerMediaRNAKFold_Falhas, CancerMediaRNAKFold_Acertos))\n",
    "\n",
    "\n",
    "\n"
   ]
  }
 ],
 "metadata": {
  "kernelspec": {
   "display_name": "Python 3",
   "language": "python",
   "name": "python3"
  },
  "language_info": {
   "codemirror_mode": {
    "name": "ipython",
    "version": 3
   },
   "file_extension": ".py",
   "mimetype": "text/x-python",
   "name": "python",
   "nbconvert_exporter": "python",
   "pygments_lexer": "ipython3",
   "version": "3.5.2"
  }
 },
 "nbformat": 4,
 "nbformat_minor": 2
}
