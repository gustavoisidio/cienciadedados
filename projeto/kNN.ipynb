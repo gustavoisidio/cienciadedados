{
 "cells": [
  {
   "cell_type": "code",
   "execution_count": 38,
   "metadata": {},
   "outputs": [],
   "source": [
    "import numpy as np\n",
    "import pandas as pd \n",
    "import matplotlib.pyplot as plt\n",
    "from sklearn import preprocessing\n",
    "\n",
    "import tensorflow as tf\n",
    "from keras import models\n",
    "from keras import layers\n",
    "\n",
    "import math\n",
    "from sklearn.model_selection import train_test_split, StratifiedKFold\n",
    "import keras\n",
    "from keras.models import Sequential, Model\n",
    "from keras.layers import Input, Flatten, Dense, Dropout, Convolution2D, Conv2D, MaxPooling2D, Lambda, GlobalMaxPooling2D, GlobalAveragePooling2D, BatchNormalization, Activation, AveragePooling2D, Concatenate\n",
    "from keras.preprocessing.image import ImageDataGenerator\n",
    "from keras.callbacks import EarlyStopping, ModelCheckpoint, ReduceLROnPlateau\n",
    "from keras.utils import np_utils\n",
    "\n",
    "from IPython.display import Image\n",
    "from IPython.core.display import HTML \n",
    "\n",
    "%matplotlib inline\n",
    "keras.backend.set_image_data_format('channels_last')"
   ]
  },
  {
   "cell_type": "code",
   "execution_count": 39,
   "metadata": {
    "scrolled": true
   },
   "outputs": [],
   "source": [
    "df = pd.read_csv(\"credit_preprocessed.csv\")"
   ]
  },
  {
   "cell_type": "code",
   "execution_count": 40,
   "metadata": {},
   "outputs": [],
   "source": [
    "df.shape\n",
    "df = df.drop('ID', axis=1)"
   ]
  },
  {
   "cell_type": "code",
   "execution_count": 41,
   "metadata": {},
   "outputs": [],
   "source": [
    "def load_data_kfold(k):\n",
    "    \n",
    "    train = df\n",
    "    \n",
    "    X_train = np.array(df.drop('Class', axis=1).values)\n",
    "    \n",
    "    y_train = np.array(train[\"Class\"].values)\n",
    "    \n",
    "    folds = list(StratifiedKFold(n_splits=k, shuffle=True, random_state=1).split(X_train, y_train))\n",
    "    \n",
    "    return folds, X_train, y_train"
   ]
  },
  {
   "cell_type": "markdown",
   "metadata": {},
   "source": [
    "# kNN - uniform"
   ]
  },
  {
   "cell_type": "code",
   "execution_count": 43,
   "metadata": {
    "scrolled": false
   },
   "outputs": [
    {
     "name": "stdout",
     "output_type": "stream",
     "text": [
      "\n",
      "\n",
      "Com 3 neighbors:\n",
      "\n",
      "\n",
      "Fold  0\n",
      "Resultado: 22.61 falharam e 77.39 acertaram\n",
      "\n",
      "Fold  1\n",
      "Resultado: 21.97 falharam e 78.03 acertaram\n",
      "\n",
      "Resultado Final (Média dos 2 folds): 22.29 falharam e 77.71 acertaram\n",
      "\n",
      "\n",
      "Com 7 neighbors:\n",
      "\n",
      "\n",
      "Fold  0\n",
      "Resultado: 19.66 falharam e 80.34 acertaram\n",
      "\n",
      "Fold  1\n",
      "Resultado: 19.44 falharam e 80.56 acertaram\n",
      "\n",
      "Resultado Final (Média dos 2 folds): 19.55 falharam e 80.45 acertaram\n",
      "\n",
      "\n",
      "Com 11 neighbors:\n",
      "\n",
      "\n",
      "Fold  0\n",
      "Resultado: 19.01 falharam e 80.99 acertaram\n",
      "\n",
      "Fold  1\n",
      "Resultado: 18.9 falharam e 81.1 acertaram\n",
      "\n",
      "Resultado Final (Média dos 2 folds): 18.95 falharam e 81.04 acertaram\n",
      "\n",
      "\n",
      "Com 15 neighbors:\n",
      "\n",
      "\n",
      "Fold  0\n",
      "Resultado: 18.82 falharam e 81.18 acertaram\n",
      "\n",
      "Fold  1\n",
      "Resultado: 18.78 falharam e 81.22 acertaram\n",
      "\n",
      "Resultado Final (Média dos 2 folds): 18.80 falharam e 81.20 acertaram\n",
      "\n",
      "\n",
      "Com 19 neighbors:\n",
      "\n",
      "\n",
      "Fold  0\n",
      "Resultado: 18.73 falharam e 81.27 acertaram\n",
      "\n",
      "Fold  1\n",
      "Resultado: 18.72 falharam e 81.28 acertaram\n",
      "\n",
      "Resultado Final (Média dos 2 folds): 18.73 falharam e 81.28 acertaram\n",
      "\n",
      "\n",
      "Com 23 neighbors:\n",
      "\n",
      "\n",
      "Fold  0\n",
      "Resultado: 18.68 falharam e 81.32 acertaram\n",
      "\n",
      "Fold  1\n",
      "Resultado: 18.62 falharam e 81.38 acertaram\n",
      "\n",
      "Resultado Final (Média dos 2 folds): 18.65 falharam e 81.35 acertaram\n"
     ]
    }
   ],
   "source": [
    "from sklearn.neighbors import KNeighborsClassifier\n",
    "from sklearn.model_selection import train_test_split\n",
    "\n",
    "knn_Acertos_Total = np.asarray([])\n",
    "knn_Falhas_Total = np.asarray([])\n",
    "\n",
    "X = df.drop('Class', axis=1).values\n",
    "y = df.Class.values\n",
    "\n",
    "k = 2\n",
    "folds, X_train, y_train = load_data_kfold(k)\n",
    "\n",
    "\n",
    "for x in range(3, 24, 4):\n",
    "\n",
    "    uniform_Falhas_Media = 0\n",
    "    uniform_Acertos_Media = 0\n",
    "\n",
    "    print(\"\\n\\nCom %d neighbors:\\n\" % (x))\n",
    "\n",
    "    for j, (train_idx, val_idx) in enumerate(folds):\n",
    "\n",
    "        print('\\nFold ',j)\n",
    "        X_train_cv = X_train[train_idx]\n",
    "        y_train_cv = y_train[train_idx]\n",
    "        X_valid_cv = X_train[val_idx]\n",
    "        y_valid_cv = y_train[val_idx]\n",
    "\n",
    "        neigh = KNeighborsClassifier(n_neighbors=x, weights='uniform')\n",
    "        #TREINAMENTO\n",
    "        neigh.fit(X_train_cv, y_train_cv)\n",
    "\n",
    "        Test = neigh.predict(X_valid_cv)\n",
    "        Real = y_valid_cv\n",
    "\n",
    "        uniform_Falhas = round((np.sum(Test != Real)*100)/(Test.size), 2)\n",
    "        uniform_Acertos = round((np.sum(Test == Real)*100)/(Test.size), 2)\n",
    "\n",
    "        uniform_Falhas_Media = (uniform_Falhas_Media + uniform_Falhas)\n",
    "        uniform_Acertos_Media = (uniform_Acertos_Media + uniform_Acertos)\n",
    "\n",
    "        print(\"Resultado: %s falharam e %s acertaram\" % (uniform_Falhas, uniform_Acertos))\n",
    "\n",
    "    uniform_Falhas_Media = uniform_Falhas_Media/k\n",
    "    uniform_Acertos_Media = uniform_Acertos_Media/k\n",
    "\n",
    "    knn_Acertos_Total = np.append(knn_Acertos_Total, uniform_Acertos_Media)\n",
    "    knn_Falhas_Total = np.append(knn_Falhas_Total, uniform_Falhas_Media)\n",
    "\n",
    "    print(\"\\nResultado Final (Média dos %s folds): %.2f falharam e %.2f acertaram\" % (k, uniform_Falhas_Media, uniform_Acertos_Media))\n"
   ]
  },
  {
   "cell_type": "code",
   "execution_count": null,
   "metadata": {},
   "outputs": [],
   "source": []
  },
  {
   "cell_type": "code",
   "execution_count": 44,
   "metadata": {
    "scrolled": false
   },
   "outputs": [
    {
     "data": {
      "text/plain": [
       "(76, 82)"
      ]
     },
     "execution_count": 44,
     "metadata": {},
     "output_type": "execute_result"
    },
    {
     "data": {
      "image/png": "[encoded data removed]",
      "text/plain": [
       "<Figure size 1080x864 with 1 Axes>"
      ]
     },
     "metadata": {
      "needs_background": "light"
     },
     "output_type": "display_data"
    }
   ],
   "source": [
    "data = {'3':knn_Acertos_Total[0],\n",
    "        '7':knn_Acertos_Total[1],\n",
    "        '11':knn_Acertos_Total[2],\n",
    "        '15':knn_Acertos_Total[3],\n",
    "        '19':knn_Acertos_Total[4],\n",
    "        '23':knn_Acertos_Total[5]}   \n",
    "\n",
    "\n",
    "# Creates pandas DataFrame. \n",
    "dfResultados = pd.DataFrame(data, index =['']) \n",
    "\n",
    "ax = dfResultados.plot(figsize=(15,12), kind='bar')\n",
    "ax.set_ylim(76, 82)\n",
    "\n"
   ]
  },
  {
   "cell_type": "code",
   "execution_count": 34,
   "metadata": {},
   "outputs": [
    {
     "data": {
      "text/plain": [
       "81.35"
      ]
     },
     "execution_count": 34,
     "metadata": {},
     "output_type": "execute_result"
    }
   ],
   "source": [
    "knn_Acertos_Total[1]"
   ]
  },
  {
   "cell_type": "code",
   "execution_count": 45,
   "metadata": {
    "scrolled": false
   },
   "outputs": [
    {
     "data": {
      "text/plain": [
       "(18, 23)"
      ]
     },
     "execution_count": 45,
     "metadata": {},
     "output_type": "execute_result"
    },
    {
     "data": {
      "image/png": "[encoded data removed]",
      "text/plain": [
       "<Figure size 1440x1080 with 1 Axes>"
      ]
     },
     "metadata": {
      "needs_background": "light"
     },
     "output_type": "display_data"
    }
   ],
   "source": [
    "data = {'3':knn_Falhas_Total[0],\n",
    "        '7':knn_Falhas_Total[1],\n",
    "        '11':knn_Falhas_Total[2],\n",
    "        '15':knn_Falhas_Total[3],\n",
    "        '19':knn_Falhas_Total[4],\n",
    "        '23':knn_Falhas_Total[5]}   \n",
    "\n",
    "# Creates pandas DataFrame. \n",
    "dfResultados = pd.DataFrame(data, index =['']) \n",
    "\n",
    "ax = dfResultados.plot(figsize=(20,15), kind='bar')\n",
    "ax.set_ylim(18, 23)"
   ]
  },
  {
   "cell_type": "markdown",
   "metadata": {},
   "source": [
    "# kNN - distance"
   ]
  },
  {
   "cell_type": "code",
   "execution_count": 46,
   "metadata": {
    "scrolled": false
   },
   "outputs": [
    {
     "name": "stdout",
     "output_type": "stream",
     "text": [
      "\n",
      "\n",
      "Com 3 neighbors:\n",
      "\n",
      "\n",
      "Fold  0\n",
      "Resultado: 23.43 falharam e 76.57 acertaram\n",
      "\n",
      "Fold  1\n",
      "Resultado: 22.85 falharam e 77.15 acertaram\n",
      "\n",
      "Resultado Final (Média dos 2 folds): 23.14 falharam e 76.86 acertaram\n",
      "\n",
      "\n",
      "Com 7 neighbors:\n",
      "\n",
      "\n",
      "Fold  0\n",
      "Resultado: 20.58 falharam e 79.42 acertaram\n",
      "\n",
      "Fold  1\n",
      "Resultado: 20.49 falharam e 79.51 acertaram\n",
      "\n",
      "Resultado Final (Média dos 2 folds): 20.53 falharam e 79.47 acertaram\n",
      "\n",
      "\n",
      "Com 11 neighbors:\n",
      "\n",
      "\n",
      "Fold  0\n",
      "Resultado: 19.61 falharam e 80.39 acertaram\n",
      "\n",
      "Fold  1\n",
      "Resultado: 19.54 falharam e 80.46 acertaram\n",
      "\n",
      "Resultado Final (Média dos 2 folds): 19.57 falharam e 80.42 acertaram\n",
      "\n",
      "\n",
      "Com 15 neighbors:\n",
      "\n",
      "\n",
      "Fold  0\n",
      "Resultado: 19.31 falharam e 80.69 acertaram\n",
      "\n",
      "Fold  1\n",
      "Resultado: 19.21 falharam e 80.79 acertaram\n",
      "\n",
      "Resultado Final (Média dos 2 folds): 19.26 falharam e 80.74 acertaram\n",
      "\n",
      "\n",
      "Com 19 neighbors:\n",
      "\n",
      "\n",
      "Fold  0\n",
      "Resultado: 19.03 falharam e 80.97 acertaram\n",
      "\n",
      "Fold  1\n",
      "Resultado: 19.03 falharam e 80.97 acertaram\n",
      "\n",
      "Resultado Final (Média dos 2 folds): 19.03 falharam e 80.97 acertaram\n",
      "\n",
      "\n",
      "Com 23 neighbors:\n",
      "\n",
      "\n",
      "Fold  0\n",
      "Resultado: 18.99 falharam e 81.01 acertaram\n",
      "\n",
      "Fold  1\n",
      "Resultado: 18.87 falharam e 81.13 acertaram\n",
      "\n",
      "Resultado Final (Média dos 2 folds): 18.93 falharam e 81.07 acertaram\n"
     ]
    }
   ],
   "source": [
    "from sklearn.neighbors import KNeighborsClassifier\n",
    "from sklearn.model_selection import train_test_split\n",
    "\n",
    "knn_Acertos_Total = np.asarray([])\n",
    "knn_Falhas_Total = np.asarray([])\n",
    "\n",
    "X = df.drop('Class', axis=1).values\n",
    "y = df.Class.values\n",
    "\n",
    "k = 2\n",
    "folds, X_train, y_train = load_data_kfold(k)\n",
    "\n",
    "\n",
    "for x in range(3, 24, 4):\n",
    "\n",
    "    distance_Falhas_Media = 0\n",
    "    distance_Acertos_Media = 0\n",
    "\n",
    "    print(\"\\n\\nCom %d neighbors:\\n\" % (x))\n",
    "\n",
    "    for j, (train_idx, val_idx) in enumerate(folds):\n",
    "\n",
    "        print('\\nFold ',j)\n",
    "        X_train_cv = X_train[train_idx]\n",
    "        y_train_cv = y_train[train_idx]\n",
    "        X_valid_cv = X_train[val_idx]\n",
    "        y_valid_cv = y_train[val_idx]\n",
    "\n",
    "        neigh = KNeighborsClassifier(n_neighbors=x, weights='distance')\n",
    "        #TREINAMENTO\n",
    "        neigh.fit(X_train_cv, y_train_cv)\n",
    "\n",
    "        Test = neigh.predict(X_valid_cv)\n",
    "        Real = y_valid_cv\n",
    "\n",
    "        distance_Falhas = round((np.sum(Test != Real)*100)/(Test.size), 2)\n",
    "        distance_Acertos = round((np.sum(Test == Real)*100)/(Test.size), 2)\n",
    "\n",
    "        distance_Falhas_Media = (distance_Falhas_Media + distance_Falhas)\n",
    "        distance_Acertos_Media = (distance_Acertos_Media + distance_Acertos)\n",
    "\n",
    "        print(\"Resultado: %s falharam e %s acertaram\" % (distance_Falhas, distance_Acertos))\n",
    "\n",
    "    distance_Falhas_Media = distance_Falhas_Media/k\n",
    "    distance_Acertos_Media = distance_Acertos_Media/k\n",
    "\n",
    "    knn_Acertos_Total = np.append(knn_Acertos_Total, distance_Acertos_Media)\n",
    "    knn_Falhas_Total = np.append(knn_Falhas_Total, distance_Falhas_Media)\n",
    "\n",
    "    print(\"\\nResultado Final (Média dos %s folds): %.2f falharam e %.2f acertaram\" % (k, distance_Falhas_Media, distance_Acertos_Media))\n",
    "\n"
   ]
  },
  {
   "cell_type": "code",
   "execution_count": 49,
   "metadata": {
    "scrolled": true
   },
   "outputs": [
    {
     "data": {
      "text/plain": [
       "(76, 82)"
      ]
     },
     "execution_count": 49,
     "metadata": {},
     "output_type": "execute_result"
    },
    {
     "data": {
      "image/png": "[encoded data removed]",
      "text/plain": [
       "<Figure size 1080x864 with 1 Axes>"
      ]
     },
     "metadata": {
      "needs_background": "light"
     },
     "output_type": "display_data"
    }
   ],
   "source": [
    "data = {'3':knn_Acertos_Total[0],\n",
    "        '7':knn_Acertos_Total[1],\n",
    "        '11':knn_Acertos_Total[2],\n",
    "        '15':knn_Acertos_Total[3],\n",
    "        '19':knn_Acertos_Total[4],\n",
    "        '23':knn_Acertos_Total[5]}   \n",
    "\n",
    "# Creates pandas DataFrame. \n",
    "dfResultados = pd.DataFrame(data, index =['']) \n",
    "\n",
    "ax = dfResultados.plot(figsize=(15,12), kind='bar')\n",
    "ax.set_ylim(76, 82)\n",
    "\n",
    "\n"
   ]
  },
  {
   "cell_type": "code",
   "execution_count": 48,
   "metadata": {
    "scrolled": true
   },
   "outputs": [
    {
     "data": {
      "text/plain": [
       "(19, 24)"
      ]
     },
     "execution_count": 48,
     "metadata": {},
     "output_type": "execute_result"
    },
    {
     "data": {
      "image/png": "[encoded data removed]",
      "text/plain": [
       "<Figure size 1440x1080 with 1 Axes>"
      ]
     },
     "metadata": {
      "needs_background": "light"
     },
     "output_type": "display_data"
    }
   ],
   "source": [
    "data = {'3':knn_Falhas_Total[0],\n",
    "        '7':knn_Falhas_Total[1],\n",
    "        '11':knn_Falhas_Total[2],\n",
    "        '15':knn_Falhas_Total[3],\n",
    "        '19':knn_Falhas_Total[4],\n",
    "        '23':knn_Falhas_Total[5]}   \n",
    "\n",
    "# Creates pandas DataFrame. \n",
    "dfResultados = pd.DataFrame(data, index =['']) \n",
    "\n",
    "ax = dfResultados.plot(figsize=(20,15), kind='bar')\n",
    "ax.set_ylim(19, 24)"
   ]
  },
  {
   "cell_type": "code",
   "execution_count": null,
   "metadata": {},
   "outputs": [],
   "source": []
  }
 ],
 "metadata": {
  "kernelspec": {
   "display_name": "Python 3",
   "language": "python",
   "name": "python3"
  },
  "language_info": {
   "codemirror_mode": {
    "name": "ipython",
    "version": 3
   },
   "file_extension": ".py",
   "mimetype": "text/x-python",
   "name": "python",
   "nbconvert_exporter": "python",
   "pygments_lexer": "ipython3",
   "version": "3.6.8"
  }
 },
 "nbformat": 4,
 "nbformat_minor": 2
}
