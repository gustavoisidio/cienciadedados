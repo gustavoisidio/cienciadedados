{
 "cells": [
  {
   "cell_type": "code",
   "execution_count": 38,
   "metadata": {},
   "outputs": [],
   "source": [
    "import numpy as np\n",
    "import pandas as pd \n",
    "import matplotlib.pyplot as plt\n",
    "from sklearn import preprocessing\n",
    "\n",
    "import tensorflow as tf\n",
    "from keras import models\n",
    "from keras import layers\n",
    "\n",
    "import math\n",
    "from sklearn.model_selection import train_test_split, StratifiedKFold\n",
    "import keras\n",
    "from keras.models import Sequential, Model\n",
    "from keras.layers import Input, Flatten, Dense, Dropout, Convolution2D, Conv2D, MaxPooling2D, Lambda, GlobalMaxPooling2D, GlobalAveragePooling2D, BatchNormalization, Activation, AveragePooling2D, Concatenate\n",
    "from keras.preprocessing.image import ImageDataGenerator\n",
    "from keras.callbacks import EarlyStopping, ModelCheckpoint, ReduceLROnPlateau\n",
    "from keras.utils import np_utils\n",
    "\n",
    "from IPython.display import Image\n",
    "from IPython.core.display import HTML \n",
    "\n",
    "%matplotlib inline\n",
    "keras.backend.set_image_data_format('channels_last')"
   ]
  },
  {
   "cell_type": "markdown",
   "metadata": {},
   "source": [
    "# Conteúdo Original da Base\n",
    "\n",
    "## 30k itens e 25 atributos\n",
    "\n",
    "* **ID**: Um ID referente a cada cliente que, posteriormente, será ignorado uma vez que é irrelevante para o treino.\n",
    "* **LIMIT_BAL**: A quntidade máxima em dólar de crédito concedido incluindo a parcela individual e para a família. \n",
    "* **SEX**: Caso o indivíduo em questão possuir sexo masculino, esse atributo será 1. Caso seja feminino, será 2.\n",
    "* **EDUCATION**: Referente ao grau de escolaridade do indivíduo. Caso seja 1, trata-se de alguém com pós-graduação. Sendo 2, alguém que possui graduação. Caso tenha estudado até o colegial, irá constar 3 nesse atributo. Para qualquer outro nível de escolaridade, será 4. Quando 5 e 6, não se sabe a escolaridade do indivíduo.\n",
    "* **MARRIAGE**: Referente ao status de relacionamento. Caso 1, trata-se de um indivíduo casado. Sendo 2, solteiro. Para outro tipo de relacionamento, nesse atributo constará o número 3. Caso o status do indivíduo seja desconhecido, estará 0.\n",
    "* **AGE**: A idade do indivíduo em anos.\n",
    "* **PAY_0**: Pagamento referente a Setembro de 2005. Caso 1, o pagamento foi feito devidamente. Caso entre 2 e 8, indica que o pagamento foi feito com atraso sendo o número referente a quantidade de meses desse atraso. Caso seja 9, significa que o pagamento foi feito com 9 ou mais meses de atraso. Para os demais atributos de PAY_2 a PAY_6, a mesma lógica de valores aplica-se.\n",
    "* **PAY_2**: Pagamento referente a Agosto de 2005.\n",
    "* **PAY_3**: Pagamento referente a Julho de 2005.\n",
    "* **PAY_4**: Pagamento referente a Junho de 2005.\n",
    "* **PAY_5**: Pagamento referente a Maio de 2005.\n",
    "* **PAY_6**: Pagamento referente a Abril de 2005.\n",
    "* **BILL_AMT1**: Valor da fatura em Setembro de 2005, em Dólar\n",
    "* **BILL_AMT2**: Valor da fatura em Agosto de 2005, em Dólar\n",
    "* **BILL_AMT3**: Valor da fatura em Julho de 2005, em Dólar\n",
    "* **BILL_AMT4**: Valor da fatura em Junho de 2005, em Dólar\n",
    "* **BILL_AMT5**: Valor da fatura em Maio de 2005, em Dólar\n",
    "* **BILL_AMT6**: Valor da fatura em Abril de 2005, em Dólar\n",
    "* **PAY_AMT1**: Quantia de pagamento anterior em Setembro de 2005, em dólar\n",
    "* **PAY_AMT2**: Quantia de pagamento anterior em Agosto de 2005, em dólar\n",
    "* **PAY_AMT3**: Quantia de pagamento anterior em Julho de 2005, em dólar\n",
    "* **PAY_AMT4**: Quantia de pagamento anterior em Junho de 2005, em dólar\n",
    "* **PAY_AMT5**: Quantia de pagamento anterior em Maio de 2005, em dólar\n",
    "* **PAY_AMT6**: Quantia de pagamento anterior em Abril de 2005, em dólar\n",
    "* **default.payment.next.month**: Referente a inadimplência do indivíduo no próximo mês. Com 1 representando a inadimplência e 0, a adimplência.\n",
    "\n"
   ]
  },
  {
   "cell_type": "markdown",
   "metadata": {},
   "source": [
    "### Carregando o arquivo da base, UCI_Credit_Card.csv, e nomeando cada um dos seus atributos originais como explicado acima"
   ]
  },
  {
   "cell_type": "code",
   "execution_count": 39,
   "metadata": {
    "scrolled": false
   },
   "outputs": [
    {
     "data": {
      "text/html": [
       "<div>\n",
       "<style scoped>\n",
       "    .dataframe tbody tr th:only-of-type {\n",
       "        vertical-align: middle;\n",
       "    }\n",
       "\n",
       "    .dataframe tbody tr th {\n",
       "        vertical-align: top;\n",
       "    }\n",
       "\n",
       "    .dataframe thead th {\n",
       "        text-align: right;\n",
       "    }\n",
       "</style>\n",
       "<table border=\"1\" class=\"dataframe\">\n",
       "  <thead>\n",
       "    <tr style=\"text-align: right;\">\n",
       "      <th></th>\n",
       "      <th>ID</th>\n",
       "      <th>LIMIT_BAL</th>\n",
       "      <th>SEX</th>\n",
       "      <th>EDUCATION</th>\n",
       "      <th>MARRIAGE</th>\n",
       "      <th>AGE</th>\n",
       "      <th>PAY_0</th>\n",
       "      <th>PAY_2</th>\n",
       "      <th>PAY_3</th>\n",
       "      <th>PAY_4</th>\n",
       "      <th>...</th>\n",
       "      <th>BILL_AMT4</th>\n",
       "      <th>BILL_AMT5</th>\n",
       "      <th>BILL_AMT6</th>\n",
       "      <th>PAY_AMT1</th>\n",
       "      <th>PAY_AMT2</th>\n",
       "      <th>PAY_AMT3</th>\n",
       "      <th>PAY_AMT4</th>\n",
       "      <th>PAY_AMT5</th>\n",
       "      <th>PAY_AMT6</th>\n",
       "      <th>default.payment.next.month</th>\n",
       "    </tr>\n",
       "  </thead>\n",
       "  <tbody>\n",
       "    <tr>\n",
       "      <th>1</th>\n",
       "      <td>1</td>\n",
       "      <td>20000</td>\n",
       "      <td>2</td>\n",
       "      <td>2</td>\n",
       "      <td>1</td>\n",
       "      <td>24</td>\n",
       "      <td>2</td>\n",
       "      <td>2</td>\n",
       "      <td>-1</td>\n",
       "      <td>-1</td>\n",
       "      <td>...</td>\n",
       "      <td>0</td>\n",
       "      <td>0</td>\n",
       "      <td>0</td>\n",
       "      <td>0</td>\n",
       "      <td>689</td>\n",
       "      <td>0</td>\n",
       "      <td>0</td>\n",
       "      <td>0</td>\n",
       "      <td>0</td>\n",
       "      <td>1</td>\n",
       "    </tr>\n",
       "    <tr>\n",
       "      <th>2</th>\n",
       "      <td>2</td>\n",
       "      <td>120000</td>\n",
       "      <td>2</td>\n",
       "      <td>2</td>\n",
       "      <td>2</td>\n",
       "      <td>26</td>\n",
       "      <td>-1</td>\n",
       "      <td>2</td>\n",
       "      <td>0</td>\n",
       "      <td>0</td>\n",
       "      <td>...</td>\n",
       "      <td>3272</td>\n",
       "      <td>3455</td>\n",
       "      <td>3261</td>\n",
       "      <td>0</td>\n",
       "      <td>1000</td>\n",
       "      <td>1000</td>\n",
       "      <td>1000</td>\n",
       "      <td>0</td>\n",
       "      <td>2000</td>\n",
       "      <td>1</td>\n",
       "    </tr>\n",
       "    <tr>\n",
       "      <th>3</th>\n",
       "      <td>3</td>\n",
       "      <td>90000</td>\n",
       "      <td>2</td>\n",
       "      <td>2</td>\n",
       "      <td>2</td>\n",
       "      <td>34</td>\n",
       "      <td>0</td>\n",
       "      <td>0</td>\n",
       "      <td>0</td>\n",
       "      <td>0</td>\n",
       "      <td>...</td>\n",
       "      <td>14331</td>\n",
       "      <td>14948</td>\n",
       "      <td>15549</td>\n",
       "      <td>1518</td>\n",
       "      <td>1500</td>\n",
       "      <td>1000</td>\n",
       "      <td>1000</td>\n",
       "      <td>1000</td>\n",
       "      <td>5000</td>\n",
       "      <td>0</td>\n",
       "    </tr>\n",
       "    <tr>\n",
       "      <th>4</th>\n",
       "      <td>4</td>\n",
       "      <td>50000</td>\n",
       "      <td>2</td>\n",
       "      <td>2</td>\n",
       "      <td>1</td>\n",
       "      <td>37</td>\n",
       "      <td>0</td>\n",
       "      <td>0</td>\n",
       "      <td>0</td>\n",
       "      <td>0</td>\n",
       "      <td>...</td>\n",
       "      <td>28314</td>\n",
       "      <td>28959</td>\n",
       "      <td>29547</td>\n",
       "      <td>2000</td>\n",
       "      <td>2019</td>\n",
       "      <td>1200</td>\n",
       "      <td>1100</td>\n",
       "      <td>1069</td>\n",
       "      <td>1000</td>\n",
       "      <td>0</td>\n",
       "    </tr>\n",
       "    <tr>\n",
       "      <th>5</th>\n",
       "      <td>5</td>\n",
       "      <td>50000</td>\n",
       "      <td>1</td>\n",
       "      <td>2</td>\n",
       "      <td>1</td>\n",
       "      <td>57</td>\n",
       "      <td>-1</td>\n",
       "      <td>0</td>\n",
       "      <td>-1</td>\n",
       "      <td>0</td>\n",
       "      <td>...</td>\n",
       "      <td>20940</td>\n",
       "      <td>19146</td>\n",
       "      <td>19131</td>\n",
       "      <td>2000</td>\n",
       "      <td>36681</td>\n",
       "      <td>10000</td>\n",
       "      <td>9000</td>\n",
       "      <td>689</td>\n",
       "      <td>679</td>\n",
       "      <td>0</td>\n",
       "    </tr>\n",
       "  </tbody>\n",
       "</table>\n",
       "<p>5 rows × 25 columns</p>\n",
       "</div>"
      ],
      "text/plain": [
       "  ID LIMIT_BAL SEX EDUCATION MARRIAGE AGE PAY_0 PAY_2 PAY_3 PAY_4  ...  \\\n",
       "1  1     20000   2         2        1  24     2     2    -1    -1  ...   \n",
       "2  2    120000   2         2        2  26    -1     2     0     0  ...   \n",
       "3  3     90000   2         2        2  34     0     0     0     0  ...   \n",
       "4  4     50000   2         2        1  37     0     0     0     0  ...   \n",
       "5  5     50000   1         2        1  57    -1     0    -1     0  ...   \n",
       "\n",
       "  BILL_AMT4 BILL_AMT5 BILL_AMT6 PAY_AMT1 PAY_AMT2 PAY_AMT3 PAY_AMT4 PAY_AMT5  \\\n",
       "1         0         0         0        0      689        0        0        0   \n",
       "2      3272      3455      3261        0     1000     1000     1000        0   \n",
       "3     14331     14948     15549     1518     1500     1000     1000     1000   \n",
       "4     28314     28959     29547     2000     2019     1200     1100     1069   \n",
       "5     20940     19146     19131     2000    36681    10000     9000      689   \n",
       "\n",
       "  PAY_AMT6 default.payment.next.month  \n",
       "1        0                          1  \n",
       "2     2000                          1  \n",
       "3     5000                          0  \n",
       "4     1000                          0  \n",
       "5      679                          0  \n",
       "\n",
       "[5 rows x 25 columns]"
      ]
     },
     "execution_count": 39,
     "metadata": {},
     "output_type": "execute_result"
    }
   ],
   "source": [
    "df = pd.read_csv(\"UCI_Credit_Card.csv\", names = [\"ID\",\"LIMIT_BAL\",\"SEX\",\"EDUCATION\",\"MARRIAGE\",\"AGE\",\"PAY_0\",\"PAY_2\",\"PAY_3\",\"PAY_4\",\"PAY_5\",\"PAY_6\",\"BILL_AMT1\",\"BILL_AMT2\",\"BILL_AMT3\",\"BILL_AMT4\",\"BILL_AMT5\",\"BILL_AMT6\",\"PAY_AMT1\",\"PAY_AMT2\",\"PAY_AMT3\",\"PAY_AMT4\",\"PAY_AMT5\",\"PAY_AMT6\",\"default.payment.next.month\"])\n",
    "df = df.drop([0])\n",
    "df.head()"
   ]
  },
  {
   "cell_type": "code",
   "execution_count": 40,
   "metadata": {},
   "outputs": [
    {
     "name": "stdout",
     "output_type": "stream",
     "text": [
      "Default Credit Card Clients data -  rows: 30000  columns: 25\n"
     ]
    }
   ],
   "source": [
    "print(\"Default Credit Card Clients data -  rows:\",df.shape[0],\" columns:\", df.shape[1])"
   ]
  },
  {
   "cell_type": "code",
   "execution_count": 41,
   "metadata": {
    "scrolled": true
   },
   "outputs": [
    {
     "data": {
      "text/html": [
       "<div>\n",
       "<style scoped>\n",
       "    .dataframe tbody tr th:only-of-type {\n",
       "        vertical-align: middle;\n",
       "    }\n",
       "\n",
       "    .dataframe tbody tr th {\n",
       "        vertical-align: top;\n",
       "    }\n",
       "\n",
       "    .dataframe thead th {\n",
       "        text-align: right;\n",
       "    }\n",
       "</style>\n",
       "<table border=\"1\" class=\"dataframe\">\n",
       "  <thead>\n",
       "    <tr style=\"text-align: right;\">\n",
       "      <th></th>\n",
       "      <th>ID</th>\n",
       "      <th>LIMIT_BAL</th>\n",
       "      <th>SEX</th>\n",
       "      <th>EDUCATION</th>\n",
       "      <th>MARRIAGE</th>\n",
       "      <th>AGE</th>\n",
       "      <th>PAY_0</th>\n",
       "      <th>PAY_2</th>\n",
       "      <th>PAY_3</th>\n",
       "      <th>PAY_4</th>\n",
       "      <th>...</th>\n",
       "      <th>BILL_AMT4</th>\n",
       "      <th>BILL_AMT5</th>\n",
       "      <th>BILL_AMT6</th>\n",
       "      <th>PAY_AMT1</th>\n",
       "      <th>PAY_AMT2</th>\n",
       "      <th>PAY_AMT3</th>\n",
       "      <th>PAY_AMT4</th>\n",
       "      <th>PAY_AMT5</th>\n",
       "      <th>PAY_AMT6</th>\n",
       "      <th>default.payment.next.month</th>\n",
       "    </tr>\n",
       "  </thead>\n",
       "  <tbody>\n",
       "    <tr>\n",
       "      <th>count</th>\n",
       "      <td>30000</td>\n",
       "      <td>30000</td>\n",
       "      <td>30000</td>\n",
       "      <td>30000</td>\n",
       "      <td>30000</td>\n",
       "      <td>30000</td>\n",
       "      <td>30000</td>\n",
       "      <td>30000</td>\n",
       "      <td>30000</td>\n",
       "      <td>30000</td>\n",
       "      <td>...</td>\n",
       "      <td>30000</td>\n",
       "      <td>30000</td>\n",
       "      <td>30000</td>\n",
       "      <td>30000</td>\n",
       "      <td>30000</td>\n",
       "      <td>30000</td>\n",
       "      <td>30000</td>\n",
       "      <td>30000</td>\n",
       "      <td>30000</td>\n",
       "      <td>30000</td>\n",
       "    </tr>\n",
       "    <tr>\n",
       "      <th>unique</th>\n",
       "      <td>30000</td>\n",
       "      <td>81</td>\n",
       "      <td>2</td>\n",
       "      <td>7</td>\n",
       "      <td>4</td>\n",
       "      <td>56</td>\n",
       "      <td>11</td>\n",
       "      <td>11</td>\n",
       "      <td>11</td>\n",
       "      <td>11</td>\n",
       "      <td>...</td>\n",
       "      <td>21548</td>\n",
       "      <td>21010</td>\n",
       "      <td>20604</td>\n",
       "      <td>7943</td>\n",
       "      <td>7899</td>\n",
       "      <td>7518</td>\n",
       "      <td>6937</td>\n",
       "      <td>6897</td>\n",
       "      <td>6939</td>\n",
       "      <td>2</td>\n",
       "    </tr>\n",
       "    <tr>\n",
       "      <th>top</th>\n",
       "      <td>18943</td>\n",
       "      <td>50000</td>\n",
       "      <td>2</td>\n",
       "      <td>2</td>\n",
       "      <td>2</td>\n",
       "      <td>29</td>\n",
       "      <td>0</td>\n",
       "      <td>0</td>\n",
       "      <td>0</td>\n",
       "      <td>0</td>\n",
       "      <td>...</td>\n",
       "      <td>0</td>\n",
       "      <td>0</td>\n",
       "      <td>0</td>\n",
       "      <td>0</td>\n",
       "      <td>0</td>\n",
       "      <td>0</td>\n",
       "      <td>0</td>\n",
       "      <td>0</td>\n",
       "      <td>0</td>\n",
       "      <td>0</td>\n",
       "    </tr>\n",
       "    <tr>\n",
       "      <th>freq</th>\n",
       "      <td>1</td>\n",
       "      <td>3365</td>\n",
       "      <td>18112</td>\n",
       "      <td>14030</td>\n",
       "      <td>15964</td>\n",
       "      <td>1605</td>\n",
       "      <td>14737</td>\n",
       "      <td>15730</td>\n",
       "      <td>15764</td>\n",
       "      <td>16455</td>\n",
       "      <td>...</td>\n",
       "      <td>3195</td>\n",
       "      <td>3506</td>\n",
       "      <td>4020</td>\n",
       "      <td>5249</td>\n",
       "      <td>5396</td>\n",
       "      <td>5968</td>\n",
       "      <td>6408</td>\n",
       "      <td>6703</td>\n",
       "      <td>7173</td>\n",
       "      <td>23364</td>\n",
       "    </tr>\n",
       "  </tbody>\n",
       "</table>\n",
       "<p>4 rows × 25 columns</p>\n",
       "</div>"
      ],
      "text/plain": [
       "           ID LIMIT_BAL    SEX EDUCATION MARRIAGE    AGE  PAY_0  PAY_2  PAY_3  \\\n",
       "count   30000     30000  30000     30000    30000  30000  30000  30000  30000   \n",
       "unique  30000        81      2         7        4     56     11     11     11   \n",
       "top     18943     50000      2         2        2     29      0      0      0   \n",
       "freq        1      3365  18112     14030    15964   1605  14737  15730  15764   \n",
       "\n",
       "        PAY_4  ... BILL_AMT4 BILL_AMT5 BILL_AMT6 PAY_AMT1 PAY_AMT2 PAY_AMT3  \\\n",
       "count   30000  ...     30000     30000     30000    30000    30000    30000   \n",
       "unique     11  ...     21548     21010     20604     7943     7899     7518   \n",
       "top         0  ...         0         0         0        0        0        0   \n",
       "freq    16455  ...      3195      3506      4020     5249     5396     5968   \n",
       "\n",
       "       PAY_AMT4 PAY_AMT5 PAY_AMT6 default.payment.next.month  \n",
       "count     30000    30000    30000                      30000  \n",
       "unique     6937     6897     6939                          2  \n",
       "top           0        0        0                          0  \n",
       "freq       6408     6703     7173                      23364  \n",
       "\n",
       "[4 rows x 25 columns]"
      ]
     },
     "execution_count": 41,
     "metadata": {},
     "output_type": "execute_result"
    }
   ],
   "source": [
    "df.describe()"
   ]
  },
  {
   "cell_type": "markdown",
   "metadata": {},
   "source": [
    "## Não há nenhum valor ausente. Todos os atributos estão preenchidos para todos os itens"
   ]
  },
  {
   "cell_type": "code",
   "execution_count": 42,
   "metadata": {},
   "outputs": [
    {
     "data": {
      "text/html": [
       "<div>\n",
       "<style scoped>\n",
       "    .dataframe tbody tr th:only-of-type {\n",
       "        vertical-align: middle;\n",
       "    }\n",
       "\n",
       "    .dataframe tbody tr th {\n",
       "        vertical-align: top;\n",
       "    }\n",
       "\n",
       "    .dataframe thead th {\n",
       "        text-align: right;\n",
       "    }\n",
       "</style>\n",
       "<table border=\"1\" class=\"dataframe\">\n",
       "  <thead>\n",
       "    <tr style=\"text-align: right;\">\n",
       "      <th></th>\n",
       "      <th>default.payment.next.month</th>\n",
       "      <th>PAY_6</th>\n",
       "      <th>LIMIT_BAL</th>\n",
       "      <th>SEX</th>\n",
       "      <th>EDUCATION</th>\n",
       "      <th>MARRIAGE</th>\n",
       "      <th>AGE</th>\n",
       "      <th>PAY_0</th>\n",
       "      <th>PAY_2</th>\n",
       "      <th>PAY_3</th>\n",
       "      <th>...</th>\n",
       "      <th>BILL_AMT3</th>\n",
       "      <th>BILL_AMT4</th>\n",
       "      <th>BILL_AMT5</th>\n",
       "      <th>BILL_AMT6</th>\n",
       "      <th>PAY_AMT1</th>\n",
       "      <th>PAY_AMT2</th>\n",
       "      <th>PAY_AMT3</th>\n",
       "      <th>PAY_AMT4</th>\n",
       "      <th>PAY_AMT5</th>\n",
       "      <th>ID</th>\n",
       "    </tr>\n",
       "  </thead>\n",
       "  <tbody>\n",
       "    <tr>\n",
       "      <th>Total</th>\n",
       "      <td>0.0</td>\n",
       "      <td>0.0</td>\n",
       "      <td>0.0</td>\n",
       "      <td>0.0</td>\n",
       "      <td>0.0</td>\n",
       "      <td>0.0</td>\n",
       "      <td>0.0</td>\n",
       "      <td>0.0</td>\n",
       "      <td>0.0</td>\n",
       "      <td>0.0</td>\n",
       "      <td>...</td>\n",
       "      <td>0.0</td>\n",
       "      <td>0.0</td>\n",
       "      <td>0.0</td>\n",
       "      <td>0.0</td>\n",
       "      <td>0.0</td>\n",
       "      <td>0.0</td>\n",
       "      <td>0.0</td>\n",
       "      <td>0.0</td>\n",
       "      <td>0.0</td>\n",
       "      <td>0.0</td>\n",
       "    </tr>\n",
       "    <tr>\n",
       "      <th>Percent</th>\n",
       "      <td>0.0</td>\n",
       "      <td>0.0</td>\n",
       "      <td>0.0</td>\n",
       "      <td>0.0</td>\n",
       "      <td>0.0</td>\n",
       "      <td>0.0</td>\n",
       "      <td>0.0</td>\n",
       "      <td>0.0</td>\n",
       "      <td>0.0</td>\n",
       "      <td>0.0</td>\n",
       "      <td>...</td>\n",
       "      <td>0.0</td>\n",
       "      <td>0.0</td>\n",
       "      <td>0.0</td>\n",
       "      <td>0.0</td>\n",
       "      <td>0.0</td>\n",
       "      <td>0.0</td>\n",
       "      <td>0.0</td>\n",
       "      <td>0.0</td>\n",
       "      <td>0.0</td>\n",
       "      <td>0.0</td>\n",
       "    </tr>\n",
       "  </tbody>\n",
       "</table>\n",
       "<p>2 rows × 25 columns</p>\n",
       "</div>"
      ],
      "text/plain": [
       "         default.payment.next.month  PAY_6  LIMIT_BAL  SEX  EDUCATION  \\\n",
       "Total                           0.0    0.0        0.0  0.0        0.0   \n",
       "Percent                         0.0    0.0        0.0  0.0        0.0   \n",
       "\n",
       "         MARRIAGE  AGE  PAY_0  PAY_2  PAY_3  ...  BILL_AMT3  BILL_AMT4  \\\n",
       "Total         0.0  0.0    0.0    0.0    0.0  ...        0.0        0.0   \n",
       "Percent       0.0  0.0    0.0    0.0    0.0  ...        0.0        0.0   \n",
       "\n",
       "         BILL_AMT5  BILL_AMT6  PAY_AMT1  PAY_AMT2  PAY_AMT3  PAY_AMT4  \\\n",
       "Total          0.0        0.0       0.0       0.0       0.0       0.0   \n",
       "Percent        0.0        0.0       0.0       0.0       0.0       0.0   \n",
       "\n",
       "         PAY_AMT5   ID  \n",
       "Total         0.0  0.0  \n",
       "Percent       0.0  0.0  \n",
       "\n",
       "[2 rows x 25 columns]"
      ]
     },
     "execution_count": 42,
     "metadata": {},
     "output_type": "execute_result"
    }
   ],
   "source": [
    "total = df.isnull().sum().sort_values(ascending = False)\n",
    "percent = (df.isnull().sum()/df.isnull().count()*100).sort_values(ascending = False)\n",
    "pd.concat([total, percent], axis=1, keys=['Total', 'Percent']).transpose()"
   ]
  },
  {
   "cell_type": "markdown",
   "metadata": {},
   "source": [
    "# Aplicando técnicas de IA sem pré-processamento"
   ]
  },
  {
   "cell_type": "markdown",
   "metadata": {},
   "source": [
    "## kNN"
   ]
  },
  {
   "cell_type": "code",
   "execution_count": 43,
   "metadata": {},
   "outputs": [
    {
     "name": "stdout",
     "output_type": "stream",
     "text": [
      "21000 foram treinados e  9000 testes foram feitos. Desses, 6977 tiveram resultado correto e 2023 falharam\n",
      "Resultado: 22.48 falharam e 77.52 acertaram\n"
     ]
    }
   ],
   "source": [
    "from sklearn.neighbors import KNeighborsClassifier\n",
    "\n",
    "X = (df.drop('default.payment.next.month', axis=1)).drop('ID', axis=1).values\n",
    "y = df['default.payment.next.month'].values\n",
    "\n",
    "from sklearn.model_selection import train_test_split\n",
    "\n",
    "X_train, X_test, y_train, y_test = train_test_split(X, y, test_size=0.3)\n",
    "\n",
    "neigh = KNeighborsClassifier(n_neighbors=10)\n",
    "#TREINAMENTO\n",
    "neigh.fit(X_train, y_train) \n",
    "\n",
    "#TESTE\n",
    "\n",
    "Test = neigh.predict(X_test)\n",
    "Real = y_test\n",
    "\n",
    "KNN_Falhas_Antes = round((np.sum(Test != Real)*100)/(Test.size), 2)\n",
    "KNN_Acertos_Antes = round((np.sum(Test == Real)*100)/(Test.size), 2)\n",
    " \n",
    "\n",
    "print(\"%s foram treinados e  %s testes foram feitos. Desses, %s tiveram resultado correto e %s falharam\" % (y_train.size, Real.size, np.sum(Test == Real), np.sum(Test != Real)))\n",
    "print(\"Resultado: %s falharam e %s acertaram\" % (KNN_Falhas_Antes, KNN_Acertos_Antes))"
   ]
  },
  {
   "cell_type": "markdown",
   "metadata": {},
   "source": [
    "## K-Means"
   ]
  },
  {
   "cell_type": "code",
   "execution_count": 44,
   "metadata": {},
   "outputs": [
    {
     "name": "stdout",
     "output_type": "stream",
     "text": [
      "21000 foram treinados e  9000 testes foram feitos. Desses, 4806 tiveram resultado correto e 4194 falharam\n",
      "Resultado: 46.6 falharam e 53.4 acertaram\n"
     ]
    }
   ],
   "source": [
    "from sklearn.neighbors.nearest_centroid import NearestCentroid\n",
    "import numpy as np\n",
    "\n",
    "X = np.array((df.drop('default.payment.next.month', axis=1)).drop('ID', axis=1).values)\n",
    "y = np.array(df['default.payment.next.month'].values)\n",
    "\n",
    "from sklearn.model_selection import train_test_split\n",
    "\n",
    "X_train, X_test, y_train, y_test = train_test_split(X, y, test_size=0.3)\n",
    "\n",
    "\n",
    "\n",
    "\n",
    "clf = NearestCentroid()\n",
    "#TREINAMENTO\n",
    "clf.fit(X_train, y_train) \n",
    "#TESTE\n",
    "\n",
    "clf.fit(X_train, y_train)\n",
    "\n",
    "# clf.predict([[10,7,7,6,4,10,4,1,2], [6,1,1,1,2,1,3,1,1]]) # Saída esperada: array([1, 0])\n",
    "\n",
    "Test = clf.predict(X_test)\n",
    "Real = y_test\n",
    "\n",
    "KMeans_Falhas_Antes = round((np.sum(Test != Real)*100)/(Test.size), 2)\n",
    "KMeans_Acertos_Antes = round((np.sum(Test == Real)*100)/(Test.size), 2)\n",
    "\n",
    "print(\"%s foram treinados e  %s testes foram feitos. Desses, %s tiveram resultado correto e %s falharam\" % (y_train.size, Real.size, np.sum(Test == Real), np.sum(Test != Real)))\n",
    "print(\"Resultado: %s falharam e %s acertaram\" % (KMeans_Falhas_Antes, KMeans_Acertos_Antes))"
   ]
  },
  {
   "cell_type": "markdown",
   "metadata": {},
   "source": [
    "## Random Forest"
   ]
  },
  {
   "cell_type": "code",
   "execution_count": 45,
   "metadata": {},
   "outputs": [],
   "source": [
    "def load_data_kfold(k):\n",
    "    \n",
    "    train = df\n",
    "    \n",
    "    X_train = np.array((df.drop('default.payment.next.month', axis=1)).drop('ID', axis=1).values)\n",
    "    \n",
    "    y_train = np.array(train['default.payment.next.month'].values)\n",
    "    \n",
    "    folds = list(StratifiedKFold(n_splits=k, shuffle=True, random_state=1).split(X_train, y_train))\n",
    "    \n",
    "    return folds, X_train, y_train"
   ]
  },
  {
   "cell_type": "code",
   "execution_count": 46,
   "metadata": {
    "scrolled": true
   },
   "outputs": [
    {
     "name": "stdout",
     "output_type": "stream",
     "text": [
      "\n",
      "Fold  0\n",
      "Resultado: 18.15 falharam e 81.85 acertaram\n",
      "\n",
      "Fold  1\n",
      "Resultado: 18.41 falharam e 81.59 acertaram\n",
      "\n",
      "Fold  2\n",
      "Resultado: 18.61 falharam e 81.39 acertaram\n",
      "\n",
      "Fold  3\n",
      "Resultado: 18.05 falharam e 81.95 acertaram\n",
      "\n",
      "Resultado Final (Média dos 4 folds): 18.30 falharam e 81.69 acertaram\n"
     ]
    }
   ],
   "source": [
    "from sklearn.ensemble import RandomForestClassifier\n",
    "from sklearn.model_selection import train_test_split\n",
    "\n",
    "RForest_Falhas_Media_Antes = 0\n",
    "RForest_Acertos_Media_Antes = 0\n",
    "\n",
    "X = np.array((df.drop('default.payment.next.month', axis=1)).drop('ID', axis=1).values)\n",
    "y = np.array(df['default.payment.next.month'].values)\n",
    "\n",
    "rf = RandomForestClassifier(n_estimators = 100)\n",
    "\n",
    "k = 4\n",
    "folds, X_train, y_train = load_data_kfold(k)\n",
    "\n",
    "\n",
    "for j, (train_idx, val_idx) in enumerate(folds):\n",
    "    \n",
    "    print('\\nFold ',j)\n",
    "    X_train_cv = X_train[train_idx]\n",
    "    y_train_cv = y_train[train_idx]\n",
    "    X_valid_cv = X_train[val_idx]\n",
    "    y_valid_cv = y_train[val_idx]\n",
    "    \n",
    "    rf.fit(X_train_cv,\n",
    "           y_train_cv) \n",
    "    \n",
    "    Test = rf.predict(X_valid_cv)\n",
    "    Real = y_valid_cv\n",
    "\n",
    "    RForest_Falhas_Antes = round((np.sum(Test != Real)*100)/(Test.size), 2)\n",
    "    RForest_Acertos_Antes = round((np.sum(Test == Real)*100)/(Test.size), 2)\n",
    "    \n",
    "    RForest_Falhas_Media_Antes = (RForest_Falhas_Media_Antes + RForest_Falhas_Antes)\n",
    "    RForest_Acertos_Media_Antes = (RForest_Acertos_Media_Antes + RForest_Acertos_Antes)\n",
    "\n",
    "    print(\"Resultado: %s falharam e %s acertaram\" % (RForest_Falhas_Antes, RForest_Acertos_Antes))\n",
    "    \n",
    "RForest_Falhas_Media_Antes = RForest_Falhas_Media_Antes/k\n",
    "RForest_Acertos_Media_Antes = RForest_Acertos_Media_Antes/k\n",
    "\n",
    "print(\"\\nResultado Final (Média dos %s folds): %.2f falharam e %.2f acertaram\" % (k, RForest_Falhas_Media_Antes, RForest_Acertos_Media_Antes))"
   ]
  },
  {
   "cell_type": "markdown",
   "metadata": {},
   "source": [
    "## Keras"
   ]
  },
  {
   "cell_type": "code",
   "execution_count": 47,
   "metadata": {},
   "outputs": [
    {
     "name": "stdout",
     "output_type": "stream",
     "text": [
      "_________________________________________________________________\n",
      "Layer (type)                 Output Shape              Param #   \n",
      "=================================================================\n",
      "dense_58 (Dense)             (None, 46)                1104      \n",
      "_________________________________________________________________\n",
      "dense_59 (Dense)             (None, 46)                2162      \n",
      "_________________________________________________________________\n",
      "dense_60 (Dense)             (None, 1)                 47        \n",
      "=================================================================\n",
      "Total params: 3,313\n",
      "Trainable params: 3,313\n",
      "Non-trainable params: 0\n",
      "_________________________________________________________________\n"
     ]
    }
   ],
   "source": [
    "model = models.Sequential()\n",
    "model.add(layers.Dense(46, activation='relu', input_shape=(2460000,)))\n",
    "model.add(layers.Dense(46, activation='relu'))\n",
    "model.add(layers.Dense(1, activation='softmax'))\n",
    "\n",
    "\n",
    "\n",
    "def load_data_kfold(k):\n",
    "    \n",
    "    train = df\n",
    "    \n",
    "    X_train = np.array((df.drop('default.payment.next.month', axis=1)).drop('ID', axis=1).values)\n",
    "    \n",
    "    y_train = np.array(train['default.payment.next.month'].values)\n",
    "    \n",
    "    folds = list(StratifiedKFold(n_splits=k, shuffle=True, random_state=1).split(X_train, y_train))\n",
    "    \n",
    "    return folds, X_train, y_train\n",
    "\n",
    "k = 7\n",
    "folds, X_train, y_train = load_data_kfold(k)\n",
    "\n",
    "def get_model():\n",
    "    \n",
    "    model = models.Sequential()\n",
    "    \n",
    "    model.add(layers.Dense(46, activation='relu', input_shape=(23,)))\n",
    "    model.add(layers.Dense(46, activation='relu'))\n",
    "    model.add(layers.Dense(1, activation='sigmoid'))\n",
    "    \n",
    "    model.compile(optimizer='rmsprop',\n",
    "                  loss='binary_crossentropy',\n",
    "                  metrics=['accuracy'])\n",
    "\n",
    "    return model\n",
    "\n",
    "\n",
    "model = get_model()\n",
    "model.summary()"
   ]
  },
  {
   "cell_type": "code",
   "execution_count": 48,
   "metadata": {
    "scrolled": false
   },
   "outputs": [
    {
     "name": "stdout",
     "output_type": "stream",
     "text": [
      "\n",
      "Fold  0\n",
      "Epoch 1/10\n",
      "25714/25714 [==============================] - 4s 170us/step - loss: 3.6244 - acc: 0.7750\n",
      "Epoch 2/10\n",
      "25714/25714 [==============================] - 1s 56us/step - loss: 3.6105 - acc: 0.7760\n",
      "Epoch 3/10\n",
      "25714/25714 [==============================] - 2s 59us/step - loss: 3.5852 - acc: 0.7776\n",
      "Epoch 4/10\n",
      "25714/25714 [==============================] - 1s 55us/step - loss: 3.5852 - acc: 0.7776\n",
      "Epoch 5/10\n",
      "25714/25714 [==============================] - 1s 56us/step - loss: 3.5852 - acc: 0.7776: 0s - loss: 3.5886 - acc: 0.777\n",
      "Epoch 6/10\n",
      "25714/25714 [==============================] - 1s 52us/step - loss: 3.5852 - acc: 0.7776\n",
      "Epoch 7/10\n",
      "25714/25714 [==============================] - 1s 47us/step - loss: 3.5852 - acc: 0.7776\n",
      "Epoch 8/10\n",
      "25714/25714 [==============================] - 1s 53us/step - loss: 3.5852 - acc: 0.7776\n",
      "Epoch 9/10\n",
      "25714/25714 [==============================] - 1s 54us/step - loss: 3.5852 - acc: 0.7776\n",
      "Epoch 10/10\n",
      "25714/25714 [==============================] - 1s 56us/step - loss: 3.5852 - acc: 0.7776\n",
      "4286/4286 [==============================] - 0s 90us/step\n",
      "Loss: 3.572524350656286 | Accuracy: 0.7783481102928734\n",
      "\n",
      "Fold  1\n",
      "Epoch 1/10\n",
      "25714/25714 [==============================] - 2s 89us/step - loss: 3.9481 - acc: 0.7547\n",
      "Epoch 2/10\n",
      "25714/25714 [==============================] - 1s 55us/step - loss: 3.5659 - acc: 0.7788\n",
      "Epoch 3/10\n",
      "25714/25714 [==============================] - 2s 62us/step - loss: 3.5659 - acc: 0.7788\n",
      "Epoch 4/10\n",
      "25714/25714 [==============================] - 1s 56us/step - loss: 3.5659 - acc: 0.7788\n",
      "Epoch 5/10\n",
      "25714/25714 [==============================] - 1s 56us/step - loss: 3.5659 - acc: 0.7788\n",
      "Epoch 6/10\n",
      "25714/25714 [==============================] - 1s 53us/step - loss: 3.5659 - acc: 0.7788\n",
      "Epoch 7/10\n",
      "25714/25714 [==============================] - 1s 54us/step - loss: 3.5659 - acc: 0.7788\n",
      "Epoch 8/10\n",
      "25714/25714 [==============================] - 1s 51us/step - loss: 3.5659 - acc: 0.7788\n",
      "Epoch 9/10\n",
      "25714/25714 [==============================] - 1s 49us/step - loss: 3.5659 - acc: 0.7788\n",
      "Epoch 10/10\n",
      "25714/25714 [==============================] - 1s 51us/step - loss: 3.5659 - acc: 0.7788\n",
      "4286/4286 [==============================] - 0s 87us/step\n",
      "Loss: 3.576243974424888 | Accuracy: 0.7781147924306178\n",
      "\n",
      "Fold  2\n",
      "Epoch 1/10\n",
      "25714/25714 [==============================] - 2s 90us/step - loss: 3.5910 - acc: 0.7772\n",
      "Epoch 2/10\n",
      "25714/25714 [==============================] - 1s 54us/step - loss: 3.5709 - acc: 0.7784\n",
      "Epoch 3/10\n",
      "25714/25714 [==============================] - 1s 53us/step - loss: 3.5709 - acc: 0.7784\n",
      "Epoch 4/10\n",
      "25714/25714 [==============================] - 1s 53us/step - loss: 3.5709 - acc: 0.7784: 0s - loss: 3.5\n",
      "Epoch 5/10\n",
      "25714/25714 [==============================] - 1s 55us/step - loss: 3.5709 - acc: 0.7784\n",
      "Epoch 6/10\n",
      "25714/25714 [==============================] - 1s 54us/step - loss: 3.5709 - acc: 0.7784\n",
      "Epoch 7/10\n",
      "25714/25714 [==============================] - 1s 55us/step - loss: 3.5709 - acc: 0.7784\n",
      "Epoch 8/10\n",
      "25714/25714 [==============================] - 1s 55us/step - loss: 3.5709 - acc: 0.7784\n",
      "Epoch 9/10\n",
      "25714/25714 [==============================] - 1s 54us/step - loss: 3.5709 - acc: 0.7784\n",
      "Epoch 10/10\n",
      "25714/25714 [==============================] - 1s 54us/step - loss: 3.5709 - acc: 0.7784\n",
      "4286/4286 [==============================] - 0s 89us/step\n",
      "Loss: 3.57624397253356 | Accuracy: 0.7781147922359223\n",
      "\n",
      "Fold  3\n",
      "Epoch 1/10\n",
      "25714/25714 [==============================] - 2s 78us/step - loss: 3.5906 - acc: 0.7772\n",
      "Epoch 2/10\n",
      "25714/25714 [==============================] - 1s 54us/step - loss: 3.5690 - acc: 0.7786\n",
      "Epoch 3/10\n",
      "25714/25714 [==============================] - 1s 55us/step - loss: 3.5690 - acc: 0.7786\n",
      "Epoch 4/10\n",
      "25714/25714 [==============================] - 1s 56us/step - loss: 3.5690 - acc: 0.7786\n",
      "Epoch 5/10\n",
      "25714/25714 [==============================] - 1s 54us/step - loss: 3.5690 - acc: 0.7786\n",
      "Epoch 6/10\n",
      "25714/25714 [==============================] - 1s 54us/step - loss: 3.5690 - acc: 0.7786\n",
      "Epoch 7/10\n",
      "25714/25714 [==============================] - 1s 56us/step - loss: 3.5690 - acc: 0.7786\n",
      "Epoch 8/10\n",
      "25714/25714 [==============================] - 1s 57us/step - loss: 3.5690 - acc: 0.7786\n",
      "Epoch 9/10\n",
      "25714/25714 [==============================] - 2s 59us/step - loss: 3.5690 - acc: 0.7786\n",
      "Epoch 10/10\n",
      "25714/25714 [==============================] - 1s 56us/step - loss: 3.5690 - acc: 0.7786\n",
      "4286/4286 [==============================] - 1s 156us/step\n",
      "Loss: 3.5762439782866338 | Accuracy: 0.7781147922637359\n",
      "\n",
      "Fold  4\n",
      "Epoch 1/10\n",
      "25714/25714 [==============================] - 3s 136us/step - loss: 3.5654 - acc: 0.7788\n",
      "Epoch 2/10\n",
      "25714/25714 [==============================] - 2s 92us/step - loss: 3.5654 - acc: 0.7788\n",
      "Epoch 3/10\n",
      "25714/25714 [==============================] - 2s 86us/step - loss: 3.5654 - acc: 0.7788\n",
      "Epoch 4/10\n",
      "25714/25714 [==============================] - 3s 104us/step - loss: 3.5654 - acc: 0.7788\n",
      "Epoch 5/10\n",
      "25714/25714 [==============================] - 2s 77us/step - loss: 3.5654 - acc: 0.7788: 1s - lo\n",
      "Epoch 6/10\n",
      "25714/25714 [==============================] - 2s 77us/step - loss: 3.5654 - acc: 0.7788\n",
      "Epoch 7/10\n",
      "25714/25714 [==============================] - 2s 80us/step - loss: 3.5654 - acc: 0.7788\n",
      "Epoch 8/10\n",
      "25714/25714 [==============================] - 2s 77us/step - loss: 3.5654 - acc: 0.7788\n",
      "Epoch 9/10\n",
      "25714/25714 [==============================] - 2s 83us/step - loss: 3.5654 - acc: 0.7788\n",
      "Epoch 10/10\n",
      "25714/25714 [==============================] - 2s 81us/step - loss: 3.5654 - acc: 0.7788\n",
      "4286/4286 [==============================] - 1s 132us/step\n",
      "Loss: 3.56508506451374 | Accuracy: 0.7788147455723665\n",
      "\n",
      "Fold  5\n",
      "Epoch 1/10\n",
      "25715/25715 [==============================] - 3s 127us/step - loss: 3.9800 - acc: 0.7527\n",
      "Epoch 2/10\n",
      "25715/25715 [==============================] - 2s 85us/step - loss: 3.5664 - acc: 0.7787\n",
      "Epoch 3/10\n",
      "25715/25715 [==============================] - 2s 79us/step - loss: 3.5664 - acc: 0.7787\n",
      "Epoch 4/10\n",
      "25715/25715 [==============================] - 2s 85us/step - loss: 3.5664 - acc: 0.7787\n",
      "Epoch 5/10\n",
      "25715/25715 [==============================] - 2s 71us/step - loss: 3.5664 - acc: 0.7787\n",
      "Epoch 6/10\n",
      "25715/25715 [==============================] - 2s 74us/step - loss: 3.5664 - acc: 0.7787\n",
      "Epoch 7/10\n",
      "25715/25715 [==============================] - 2s 83us/step - loss: 3.5664 - acc: 0.7787\n",
      "Epoch 8/10\n",
      "25715/25715 [==============================] - 3s 97us/step - loss: 3.5664 - acc: 0.7787: 0s - loss: 3.579\n",
      "Epoch 9/10\n",
      "25715/25715 [==============================] - 2s 93us/step - loss: 3.5664 - acc: 0.7787\n",
      "Epoch 10/10\n",
      "25715/25715 [==============================] - 2s 72us/step - loss: 3.5664 - acc: 0.7787\n",
      "4285/4285 [==============================] - 1s 131us/step\n",
      "Loss: 3.5757466819767636 | Accuracy: 0.7780630106825812\n",
      "\n",
      "Fold  6\n",
      "Epoch 1/10\n",
      "25715/25715 [==============================] - 3s 115us/step - loss: 4.4847 - acc: 0.7207\n",
      "Epoch 2/10\n",
      "25715/25715 [==============================] - 2s 71us/step - loss: 3.5677 - acc: 0.7787\n",
      "Epoch 3/10\n",
      "25715/25715 [==============================] - 2s 69us/step - loss: 3.5677 - acc: 0.7787\n",
      "Epoch 4/10\n",
      "25715/25715 [==============================] - 2s 81us/step - loss: 3.5677 - acc: 0.7787\n",
      "Epoch 5/10\n",
      "25715/25715 [==============================] - 2s 76us/step - loss: 3.5677 - acc: 0.7787\n",
      "Epoch 6/10\n",
      "25715/25715 [==============================] - 2s 75us/step - loss: 3.5677 - acc: 0.7787\n",
      "Epoch 7/10\n",
      "25715/25715 [==============================] - 2s 73us/step - loss: 3.5677 - acc: 0.7787\n",
      "Epoch 8/10\n",
      "25715/25715 [==============================] - 2s 70us/step - loss: 3.5677 - acc: 0.7787\n",
      "Epoch 9/10\n",
      "25715/25715 [==============================] - 2s 73us/step - loss: 3.5677 - acc: 0.7787\n",
      "Epoch 10/10\n",
      "25715/25715 [==============================] - 2s 70us/step - loss: 3.5677 - acc: 0.7787: 0s - loss: 3.5558 - a\n",
      "4285/4285 [==============================] - 1s 312us/step\n",
      "Loss: 3.5621555260166278 | Accuracy: 0.7789964992218285\n"
     ]
    }
   ],
   "source": [
    "Keras_Accuracy_Antes = 0\n",
    "Keras_Loss_Antes = 0\n",
    "\n",
    "for j, (train_idx, val_idx) in enumerate(folds):\n",
    "    \n",
    "    print('\\nFold ',j)\n",
    "    X_train_cv = X_train[train_idx]\n",
    "    y_train_cv = y_train[train_idx]\n",
    "    X_valid_cv = X_train[val_idx]\n",
    "    y_valid_cv= y_train[val_idx]\n",
    "    \n",
    "    name_weights = \"final_model_fold\" + str(j) + \"_weights.h5\"\n",
    "    model = get_model()\n",
    "    model.fit(X_train_cv,\n",
    "              y_train_cv,\n",
    "              epochs=10,\n",
    "              batch_size=32)\n",
    "    \n",
    "    test_loss, test_accuracy = model.evaluate(X_valid_cv, y_valid_cv)\n",
    "    \n",
    "    Keras_Accuracy_Antes = (Keras_Accuracy_Antes + test_accuracy)\n",
    "    Keras_Loss_Antes = (Keras_Loss_Antes + test_loss)\n",
    "    \n",
    "    print(\"Loss: %s | Accuracy: %s\" % (test_loss, test_accuracy))"
   ]
  },
  {
   "cell_type": "code",
   "execution_count": 49,
   "metadata": {},
   "outputs": [
    {
     "name": "stdout",
     "output_type": "stream",
     "text": [
      "0.7783666775285608\n",
      "3.5720347926297857\n"
     ]
    }
   ],
   "source": [
    "    Keras_Accuracy_Antes = Keras_Accuracy_Antes/k\n",
    "    Keras_Loss_Antes = Keras_Loss_Antes/k\n",
    "    print(Keras_Accuracy_Antes)\n",
    "    print(Keras_Loss_Antes)"
   ]
  },
  {
   "cell_type": "markdown",
   "metadata": {},
   "source": [
    "# Discretização e Normalização"
   ]
  },
  {
   "cell_type": "markdown",
   "metadata": {},
   "source": [
    "## Corrigindo o atributo Marriage\n",
    "1. Como trata-se de um atributo categórico em que 0 signfica desconhecido, para os que não se sabe o status de relacionamento, serão substituídos por 3, que significa \"outros\".\n",
    "2. Para que tenhamos apenas valores binários, serão criadas duas colunas para cada tipo de status Status_married, Status_single, Status_others."
   ]
  },
  {
   "cell_type": "code",
   "execution_count": 50,
   "metadata": {},
   "outputs": [],
   "source": [
    "df['MARRIAGE'] = df['MARRIAGE'].apply(lambda x: 3 if x==0 else x)"
   ]
  },
  {
   "cell_type": "code",
   "execution_count": 51,
   "metadata": {},
   "outputs": [],
   "source": [
    "Status_married = df['MARRIAGE'].astype(int).apply(lambda x: 1 if x == 1 else 0)\n",
    "Status_single = df['MARRIAGE'].astype(int).apply(lambda x: 1 if x == 2 else 0)\n",
    "Status_others = df['MARRIAGE'].astype(int).apply(lambda x: 1 if x == 3 else 0)\n",
    "df = df.drop(['MARRIAGE'], axis=1)\n",
    "df['Status_married'] = Status_married\n",
    "df['Status_single'] = Status_single\n",
    "df['Status_others'] = Status_others"
   ]
  },
  {
   "cell_type": "markdown",
   "metadata": {
    "collapsed": true
   },
   "source": [
    "## Corrigindo atributo Education\n",
    "1. Como trata-se de um atributo categórico em que 5 e 6 significam desconhecido, nos casos em que que não se sabe o grau de escolaridade, serão substrituídos por 4 que significa \"outros\".\n",
    "2. Será feita uma normalização transoformando os atributos categóricos em binários, criando 4 colunas referentes a educação."
   ]
  },
  {
   "cell_type": "code",
   "execution_count": 52,
   "metadata": {},
   "outputs": [],
   "source": [
    "df['EDUCATION'] = df['EDUCATION'].apply(lambda x: 4 if (x==5 or x==6) else x)"
   ]
  },
  {
   "cell_type": "code",
   "execution_count": 53,
   "metadata": {},
   "outputs": [],
   "source": [
    "#  EDUCATION: (1=graduate school, 2=university, 3=high school, 4=others)\n",
    "EDU_graduateschool = df['EDUCATION'].astype(int).apply(lambda x: 1 if x == 1 else 0)\n",
    "EDU_university = df['EDUCATION'].astype(int).apply(lambda x: 1 if x == 2 else 0)\n",
    "EDU_highschool = df['EDUCATION'].astype(int).apply(lambda x: 1 if x == 3 else 0)\n",
    "EDU_others = df['EDUCATION'].astype(int).apply(lambda x: 1 if x == 4 else 0)\n",
    "df = df.drop(['EDUCATION'], axis=1)\n",
    "df['EDU_graduateschool'] = EDU_graduateschool\n",
    "df['EDU_university'] = EDU_university\n",
    "df['EDU_highschool'] = EDU_highschool\n",
    "df['EDU_others'] = EDU_others"
   ]
  },
  {
   "cell_type": "markdown",
   "metadata": {},
   "source": [
    "## Normalizando valores muito grandes\n",
    "Utilizando MinMaxScaler, a normalização é feita nos atributos LIMIT_BAL, AGE, BILL_AMT1, BILL_AMT2', BILL_AMT3, BILL_AMT4, BILL_AMT5, BILL_AMT6, PAY_AMT1, PAY_AMT2, PAY_AMT3, PAY_AMT4, PAY_AMT5 e PAY_AMT6"
   ]
  },
  {
   "cell_type": "code",
   "execution_count": 54,
   "metadata": {
    "scrolled": true
   },
   "outputs": [],
   "source": [
    "scaler = preprocessing.MinMaxScaler()\n",
    "\n",
    "df[['LIMIT_BAL','AGE','BILL_AMT1','BILL_AMT2','BILL_AMT3','BILL_AMT4','BILL_AMT5','BILL_AMT6','PAY_AMT1','PAY_AMT2','PAY_AMT3','PAY_AMT4','PAY_AMT5','PAY_AMT6']] = scaler.fit_transform(df[['LIMIT_BAL','AGE','BILL_AMT1','BILL_AMT2','BILL_AMT3','BILL_AMT4','BILL_AMT5','BILL_AMT6','PAY_AMT1','PAY_AMT2','PAY_AMT3','PAY_AMT4','PAY_AMT5','PAY_AMT6']].astype(float))\n"
   ]
  },
  {
   "cell_type": "markdown",
   "metadata": {},
   "source": [
    "## Normalizando SEX\n",
    "Para todos que são 2, significando \"feminino\", será posto 0, ficando com 1 para masculino e 0 para feminino."
   ]
  },
  {
   "cell_type": "code",
   "execution_count": 55,
   "metadata": {},
   "outputs": [],
   "source": [
    "df['SEX'] = df['SEX'].astype(int).apply(lambda x: 0 if x == 2 else x)"
   ]
  },
  {
   "cell_type": "markdown",
   "metadata": {},
   "source": [
    "## Normalizando PAY[0,2,3,4,5 e 6]\n",
    "### PAY_0"
   ]
  },
  {
   "cell_type": "code",
   "execution_count": 56,
   "metadata": {},
   "outputs": [],
   "source": [
    "df['PAY_0_duly'] = df['PAY_0'].astype(int).apply(lambda x: 1 if x == -1 else 0)\n",
    "df['PAY_0_D1'] = df['PAY_0'].astype(int).apply(lambda x: 1 if x == 1 else 0)\n",
    "df['PAY_0_D2'] = df['PAY_0'].astype(int).apply(lambda x: 1 if x == 2 else 0)\n",
    "df['PAY_0_D3'] = df['PAY_0'].astype(int).apply(lambda x: 1 if x == 3 else 0)\n",
    "df['PAY_0_D4'] = df['PAY_0'].astype(int).apply(lambda x: 1 if x == 4 else 0)\n",
    "df['PAY_0_D5'] = df['PAY_0'].astype(int).apply(lambda x: 1 if x == 5 else 0)\n",
    "df['PAY_0_D6'] = df['PAY_0'].astype(int).apply(lambda x: 1 if x == 6 else 0)\n",
    "df['PAY_0_D7'] = df['PAY_0'].astype(int).apply(lambda x: 1 if x == 7 else 0)\n",
    "df['PAY_0_D8'] = df['PAY_0'].astype(int).apply(lambda x: 1 if x == 8 else 0)\n",
    "df['PAY_0_D9'] = df['PAY_0'].astype(int).apply(lambda x: 1 if x == 9 else 0)\n",
    "df = df.drop(['PAY_0'], axis=1)\n"
   ]
  },
  {
   "cell_type": "markdown",
   "metadata": {},
   "source": [
    "### PAY_2"
   ]
  },
  {
   "cell_type": "code",
   "execution_count": 57,
   "metadata": {},
   "outputs": [],
   "source": [
    "df['PAY_2_duly'] = df['PAY_2'].astype(int).apply(lambda x: 1 if x == -1 else 0)\n",
    "df['PAY_2_D1'] = df['PAY_2'].astype(int).apply(lambda x: 1 if x == 1 else 0)\n",
    "df['PAY_2_D2'] = df['PAY_2'].astype(int).apply(lambda x: 1 if x == 2 else 0)\n",
    "df['PAY_2_D3'] = df['PAY_2'].astype(int).apply(lambda x: 1 if x == 3 else 0)\n",
    "df['PAY_2_D4'] = df['PAY_2'].astype(int).apply(lambda x: 1 if x == 4 else 0)\n",
    "df['PAY_2_D5'] = df['PAY_2'].astype(int).apply(lambda x: 1 if x == 5 else 0)\n",
    "df['PAY_2_D6'] = df['PAY_2'].astype(int).apply(lambda x: 1 if x == 6 else 0)\n",
    "df['PAY_2_D7'] = df['PAY_2'].astype(int).apply(lambda x: 1 if x == 7 else 0)\n",
    "df['PAY_2_D8'] = df['PAY_2'].astype(int).apply(lambda x: 1 if x == 8 else 0)\n",
    "df['PAY_2_D9'] = df['PAY_2'].astype(int).apply(lambda x: 1 if x == 9 else 0)\n",
    "df = df.drop(['PAY_2'], axis=1)\n"
   ]
  },
  {
   "cell_type": "markdown",
   "metadata": {},
   "source": [
    "### PAY_3"
   ]
  },
  {
   "cell_type": "code",
   "execution_count": 58,
   "metadata": {},
   "outputs": [],
   "source": [
    "df['PAY_3_duly'] = df['PAY_3'].astype(int).apply(lambda x: 1 if x == -1 else 0)\n",
    "df['PAY_3_D1'] = df['PAY_3'].astype(int).apply(lambda x: 1 if x == 1 else 0)\n",
    "df['PAY_3_D2'] = df['PAY_3'].astype(int).apply(lambda x: 1 if x == 2 else 0)\n",
    "df['PAY_3_D3'] = df['PAY_3'].astype(int).apply(lambda x: 1 if x == 3 else 0)\n",
    "df['PAY_3_D4'] = df['PAY_3'].astype(int).apply(lambda x: 1 if x == 4 else 0)\n",
    "df['PAY_3_D5'] = df['PAY_3'].astype(int).apply(lambda x: 1 if x == 5 else 0)\n",
    "df['PAY_3_D6'] = df['PAY_3'].astype(int).apply(lambda x: 1 if x == 6 else 0)\n",
    "df['PAY_3_D7'] = df['PAY_3'].astype(int).apply(lambda x: 1 if x == 7 else 0)\n",
    "df['PAY_3_D8'] = df['PAY_3'].astype(int).apply(lambda x: 1 if x == 8 else 0)\n",
    "df['PAY_3_D9'] = df['PAY_3'].astype(int).apply(lambda x: 1 if x == 9 else 0)\n",
    "df = df.drop(['PAY_3'], axis=1)\n"
   ]
  },
  {
   "cell_type": "markdown",
   "metadata": {},
   "source": [
    "### PAY_4"
   ]
  },
  {
   "cell_type": "code",
   "execution_count": 59,
   "metadata": {},
   "outputs": [],
   "source": [
    "df['PAY_4_duly'] = df['PAY_4'].astype(int).apply(lambda x: 1 if x == -1 else 0)\n",
    "df['PAY_4_D1'] = df['PAY_4'].astype(int).apply(lambda x: 1 if x == 1 else 0)\n",
    "df['PAY_4_D2'] = df['PAY_4'].astype(int).apply(lambda x: 1 if x == 2 else 0)\n",
    "df['PAY_4_D3'] = df['PAY_4'].astype(int).apply(lambda x: 1 if x == 3 else 0)\n",
    "df['PAY_4_D4'] = df['PAY_4'].astype(int).apply(lambda x: 1 if x == 4 else 0)\n",
    "df['PAY_4_D5'] = df['PAY_4'].astype(int).apply(lambda x: 1 if x == 5 else 0)\n",
    "df['PAY_4_D6'] = df['PAY_4'].astype(int).apply(lambda x: 1 if x == 6 else 0)\n",
    "df['PAY_4_D7'] = df['PAY_4'].astype(int).apply(lambda x: 1 if x == 7 else 0)\n",
    "df['PAY_4_D8'] = df['PAY_4'].astype(int).apply(lambda x: 1 if x == 8 else 0)\n",
    "df['PAY_4_D9'] = df['PAY_4'].astype(int).apply(lambda x: 1 if x == 9 else 0)\n",
    "df = df.drop(['PAY_4'], axis=1)\n"
   ]
  },
  {
   "cell_type": "markdown",
   "metadata": {},
   "source": [
    "### PAY_5"
   ]
  },
  {
   "cell_type": "code",
   "execution_count": 60,
   "metadata": {},
   "outputs": [],
   "source": [
    "df['PAY_5_duly'] = df['PAY_5'].astype(int).apply(lambda x: 1 if x == -1 else 0)\n",
    "df['PAY_5_D1'] = df['PAY_5'].astype(int).apply(lambda x: 1 if x == 1 else 0)\n",
    "df['PAY_5_D2'] = df['PAY_5'].astype(int).apply(lambda x: 1 if x == 2 else 0)\n",
    "df['PAY_5_D3'] = df['PAY_5'].astype(int).apply(lambda x: 1 if x == 3 else 0)\n",
    "df['PAY_5_D4'] = df['PAY_5'].astype(int).apply(lambda x: 1 if x == 4 else 0)\n",
    "df['PAY_5_D5'] = df['PAY_5'].astype(int).apply(lambda x: 1 if x == 5 else 0)\n",
    "df['PAY_5_D6'] = df['PAY_5'].astype(int).apply(lambda x: 1 if x == 6 else 0)\n",
    "df['PAY_5_D7'] = df['PAY_5'].astype(int).apply(lambda x: 1 if x == 7 else 0)\n",
    "df['PAY_5_D8'] = df['PAY_5'].astype(int).apply(lambda x: 1 if x == 8 else 0)\n",
    "df['PAY_5_D9'] = df['PAY_5'].astype(int).apply(lambda x: 1 if x == 9 else 0)\n",
    "df = df.drop(['PAY_5'], axis=1)\n"
   ]
  },
  {
   "cell_type": "markdown",
   "metadata": {},
   "source": [
    "### PAY_6"
   ]
  },
  {
   "cell_type": "code",
   "execution_count": 61,
   "metadata": {},
   "outputs": [],
   "source": [
    "df['PAY_6_duly'] = df['PAY_6'].astype(int).apply(lambda x: 1 if x == -1 else 0)\n",
    "df['PAY_6_D1'] = df['PAY_6'].astype(int).apply(lambda x: 1 if x == 1 else 0)\n",
    "df['PAY_6_D2'] = df['PAY_6'].astype(int).apply(lambda x: 1 if x == 2 else 0)\n",
    "df['PAY_6_D3'] = df['PAY_6'].astype(int).apply(lambda x: 1 if x == 3 else 0)\n",
    "df['PAY_6_D4'] = df['PAY_6'].astype(int).apply(lambda x: 1 if x == 4 else 0)\n",
    "df['PAY_6_D5'] = df['PAY_6'].astype(int).apply(lambda x: 1 if x == 5 else 0)\n",
    "df['PAY_6_D6'] = df['PAY_6'].astype(int).apply(lambda x: 1 if x == 6 else 0)\n",
    "df['PAY_6_D7'] = df['PAY_6'].astype(int).apply(lambda x: 1 if x == 7 else 0)\n",
    "df['PAY_6_D8'] = df['PAY_6'].astype(int).apply(lambda x: 1 if x == 8 else 0)\n",
    "df['PAY_6_D9'] = df['PAY_6'].astype(int).apply(lambda x: 1 if x == 9 else 0)\n",
    "df = df.drop(['PAY_6'], axis=1)\n"
   ]
  },
  {
   "cell_type": "markdown",
   "metadata": {},
   "source": [
    "## Pondo a classe como ultima coluna\n"
   ]
  },
  {
   "cell_type": "code",
   "execution_count": 62,
   "metadata": {
    "scrolled": true
   },
   "outputs": [],
   "source": [
    "dfClass = df['default.payment.next.month']\n",
    "df = df.drop(['default.payment.next.month'], axis=1)\n",
    "df['Class'] = dfClass"
   ]
  },
  {
   "cell_type": "markdown",
   "metadata": {
    "collapsed": true
   },
   "source": [
    "# Conteúdo Normalizado\n",
    "\n",
    "## A base possui 30k itens e 84 atributos\n",
    "\n",
    "* **ID**: ID of each client\n",
    "* **LIMIT_BAL**: Amount of given credit in NT dollars (includes individual and family/supplementary credit\n",
    "* **SEX**: Gender (1 = male, 0 = female)\n",
    "\n",
    "* **EDU_graduateschool**: EDUCATION is graduate school (1 = yes, 0 = no)\n",
    "* **EDU_university**: EDUCATION is university (1 = yes, 0 = no)\n",
    "* **EDU_highschool**: EDUCATION is high school (1 = yes, 0 = no)\n",
    "* **EDU_others**: EDUCATION is others (1 = yes, 0 = no)\n",
    "\n",
    "* **AGE**: Age in years\n",
    "\n",
    "Repayment status in September, 2005\n",
    "* **PAY_0_duly**: Pay duly\n",
    "* **PAY_0_D1**: Payment delay for one month (1 = yes, 0 = no)\n",
    "* **PAY_0_D2**: Payment delay for two months (1 = yes, 0 = no)\n",
    "* **PAY_0_D3**: Payment delay for three months (1 = yes, 0 = no)\n",
    "* **PAY_0_D4**: Payment delay for four months (1 = yes, 0 = no)\n",
    "* **PAY_0_D5**: Payment delay for five months (1 = yes, 0 = no)\n",
    "* **PAY_0_D6**: Payment delay for six months (1 = yes, 0 = no)\n",
    "* **PAY_0_D7**: Payment delay for seven months (1 = yes, 0 = no)\n",
    "* **PAY_0_D8**: Payment delay for eight months (1 = yes, 0 = no)\n",
    "* **PAY_0_D9**: Payment delay for nine months and above) (1 = yes, 0 = no)\n",
    "\n",
    "Repayment status in August, 2005\n",
    "* **PAY_2_duly**: Pay duly (1 = yes, 0 = no)\n",
    "* **PAY_2_D1**: Payment delay for one month (1 = yes, 0 = no)\n",
    "* **PAY_2_D2**: Payment delay for two months (1 = yes, 0 = no)\n",
    "* **PAY_2_D3**: Payment delay for three months (1 = yes, 0 = no)\n",
    "* **PAY_2_D4**: Payment delay for four months (1 = yes, 0 = no)\n",
    "* **PAY_2_D5**: Payment delay for five months (1 = yes, 0 = no)\n",
    "* **PAY_2_D6**: Payment delay for six months (1 = yes, 0 = no)\n",
    "* **PAY_2_D7**: Payment delay for seven months (1 = yes, 0 = no)\n",
    "* **PAY_2_D8**: Payment delay for eight months (1 = yes, 0 = no)\n",
    "* **PAY_2_D9**: Payment delay for nine months and above) (1 = yes, 0 = no)\n",
    "\n",
    "Repayment status in July, 2005\n",
    "* **PAY_3_duly**: Pay duly (1 = yes, 0 = no)\n",
    "* **PAY_3_D1**: Payment delay for one month (1 = yes, 0 = no)\n",
    "* **PAY_3_D2**: Payment delay for two months (1 = yes, 0 = no)\n",
    "* **PAY_3_D3**: Payment delay for three months (1 = yes, 0 = no)\n",
    "* **PAY_3_D4**: Payment delay for four months (1 = yes, 0 = no)\n",
    "* **PAY_3_D5**: Payment delay for five months (1 = yes, 0 = no)\n",
    "* **PAY_3_D6**: Payment delay for six months (1 = yes, 0 = no)\n",
    "* **PAY_3_D7**: Payment delay for seven months (1 = yes, 0 = no)\n",
    "* **PAY_3_D8**: Payment delay for eight months (1 = yes, 0 = no)\n",
    "* **PAY_3_D9**: Payment delay for nine months and above) (1 = yes, 0 = no)\n",
    "\n",
    "Repayment status in June, 2005\n",
    "* **PAY_4_duly**: Pay duly (1 = yes, 0 = no)\n",
    "* **PAY_4_D1**: Payment delay for one month (1 = yes, 0 = no)\n",
    "* **PAY_4_D2**: Payment delay for two months (1 = yes, 0 = no)\n",
    "* **PAY_4_D3**: Payment delay for three months (1 = yes, 0 = no)\n",
    "* **PAY_4_D4**: Payment delay for four months (1 = yes, 0 = no)\n",
    "* **PAY_4_D5**: Payment delay for five months (1 = yes, 0 = no)\n",
    "* **PAY_4_D6**: Payment delay for six months (1 = yes, 0 = no)\n",
    "* **PAY_4_D7**: Payment delay for seven months (1 = yes, 0 = no)\n",
    "* **PAY_4_D8**: Payment delay for eight months (1 = yes, 0 = no)\n",
    "* **PAY_4_D9**: Payment delay for nine months and above) (1 = yes, 0 = no)\n",
    "\n",
    "Repayment status in May, 2005\n",
    "* **PAY_5_duly**: Pay duly (1 = yes, 0 = no)\n",
    "* **PAY_5_D1**: Payment delay for one month (1 = yes, 0 = no)\n",
    "* **PAY_5_D2**: Payment delay for two months (1 = yes, 0 = no)\n",
    "* **PAY_5_D3**: Payment delay for three months (1 = yes, 0 = no)\n",
    "* **PAY_5_D4**: Payment delay for four months (1 = yes, 0 = no)\n",
    "* **PAY_5_D5**: Payment delay for five months (1 = yes, 0 = no)\n",
    "* **PAY_5_D6**: Payment delay for six months (1 = yes, 0 = no)\n",
    "* **PAY_5_D7**: Payment delay for seven months (1 = yes, 0 = no)\n",
    "* **PAY_5_D8**: Payment delay for eight months (1 = yes, 0 = no)\n",
    "* **PAY_5_D9**: Payment delay for nine months and above) (1 = yes, 0 = no)\n",
    "\n",
    "Repayment status in April, 2005\n",
    "* **PAY_6_duly**: Pay duly (1 = yes, 0 = no)\n",
    "* **PAY_6_D1**: Payment delay for one month (1 = yes, 0 = no)\n",
    "* **PAY_6_D2**: Payment delay for two months (1 = yes, 0 = no)\n",
    "* **PAY_6_D3**: Payment delay for three months (1 = yes, 0 = no)\n",
    "* **PAY_6_D4**: Payment delay for four months (1 = yes, 0 = no)\n",
    "* **PAY_6_D5**: Payment delay for five months (1 = yes, 0 = no)\n",
    "* **PAY_6_D6**: Payment delay for six months (1 = yes, 0 = no)\n",
    "* **PAY_6_D7**: Payment delay for seven months (1 = yes, 0 = no)\n",
    "* **PAY_6_D8**: Payment delay for eight months (1 = yes, 0 = no)\n",
    "* **PAY_6_D9**: Payment delay for nine months and above) (1 = yes, 0 = no)\n",
    "\n",
    "* **BILL_AMT1**: Amount of bill statement in September, 2005 (Scaled between -1 and 1)\n",
    "* **BILL_AMT2**: Amount of bill statement in August, 2005 (Scaled between -1 and 1)\n",
    "* **BILL_AMT3**: Amount of bill statement in July, 2005 (Scaled between -1 and 1)\n",
    "* **BILL_AMT4**: Amount of bill statement in June, 2005 (Scaled between -1 and 1)\n",
    "* **BILL_AMT5**: Amount of bill statement in May, 2005 (Scaled between -1 and 1)\n",
    "* **BILL_AMT6**: Amount of bill statement in April, 2005 (Scaled between -1 and 1)\n",
    "\n",
    "* **PAY_AMT1**: Amount of previous payment in September, 2005 (Scaled between -1 and 1)\n",
    "* **PAY_AMT2**: Amount of previous payment in August, 2005 (Scaled between -1 and 1)\n",
    "* **PAY_AMT3**: Amount of previous payment in July, 2005 (Scaled between -1 and 1)\n",
    "* **PAY_AMT4**: Amount of previous payment in June, 2005 (Scaled between -1 and 1)\n",
    "* **PAY_AMT5**: Amount of previous payment in May, 2005 (Scaled between -1 and 1)\n",
    "* **PAY_AMT6**: Amount of previous payment in April, 2005 (Scaled between -1 and 1)\n",
    "\n",
    "Class\n",
    "* **Class**: Default payment next month (1 = yes, 0 = no)"
   ]
  },
  {
   "cell_type": "code",
   "execution_count": 63,
   "metadata": {},
   "outputs": [],
   "source": [
    "df.shape\n",
    "df = df.drop('ID', axis=1)"
   ]
  },
  {
   "cell_type": "markdown",
   "metadata": {},
   "source": [
    "# kNN"
   ]
  },
  {
   "cell_type": "code",
   "execution_count": 64,
   "metadata": {},
   "outputs": [
    {
     "name": "stdout",
     "output_type": "stream",
     "text": [
      "21000 foram treinados e  9000 testes foram feitos. Desses, 7298 tiveram resultado correto e 1702 falharam\n",
      "Resultado: 18.91 falharam e 81.09 acertaram\n"
     ]
    }
   ],
   "source": [
    "from sklearn.neighbors import KNeighborsClassifier\n",
    "\n",
    "X = df.drop('Class', axis=1).values\n",
    "y = df.Class.values\n",
    "\n",
    "from sklearn.model_selection import train_test_split\n",
    "\n",
    "X_train, X_test, y_train, y_test = train_test_split(X, y, test_size=0.3)\n",
    "\n",
    "neigh = KNeighborsClassifier(n_neighbors=10)\n",
    "#TREINAMENTO\n",
    "neigh.fit(X_train, y_train) \n",
    "\n",
    "#TESTE\n",
    "\n",
    "Test = neigh.predict(X_test)\n",
    "Real = y_test\n",
    "\n",
    "KNN_Falhas = round((np.sum(Test != Real)*100)/(Test.size), 2)\n",
    "KNN_Acertos = round((np.sum(Test == Real)*100)/(Test.size), 2)\n",
    " \n",
    "\n",
    "print(\"%s foram treinados e  %s testes foram feitos. Desses, %s tiveram resultado correto e %s falharam\" % (y_train.size, Real.size, np.sum(Test == Real), np.sum(Test != Real)))\n",
    "print(\"Resultado: %s falharam e %s acertaram\" % (KNN_Falhas, KNN_Acertos))"
   ]
  },
  {
   "cell_type": "markdown",
   "metadata": {},
   "source": [
    "# Aplicando Keras"
   ]
  },
  {
   "cell_type": "code",
   "execution_count": 65,
   "metadata": {},
   "outputs": [
    {
     "name": "stdout",
     "output_type": "stream",
     "text": [
      "_________________________________________________________________\n",
      "Layer (type)                 Output Shape              Param #   \n",
      "=================================================================\n",
      "dense_85 (Dense)             (None, 46)                3818      \n",
      "_________________________________________________________________\n",
      "dense_86 (Dense)             (None, 46)                2162      \n",
      "_________________________________________________________________\n",
      "dense_87 (Dense)             (None, 1)                 47        \n",
      "=================================================================\n",
      "Total params: 6,027\n",
      "Trainable params: 6,027\n",
      "Non-trainable params: 0\n",
      "_________________________________________________________________\n"
     ]
    }
   ],
   "source": [
    "model = models.Sequential()\n",
    "model.add(layers.Dense(46, activation='relu', input_shape=(2460000,)))\n",
    "model.add(layers.Dense(46, activation='relu'))\n",
    "model.add(layers.Dense(1, activation='softmax'))\n",
    "\n",
    "\n",
    "\n",
    "def load_data_kfold(k):\n",
    "    \n",
    "    train = df\n",
    "    \n",
    "    X_train = np.array(df.drop('Class', axis=1).values)\n",
    "    \n",
    "    y_train = np.array(train[\"Class\"].values)\n",
    "    \n",
    "    folds = list(StratifiedKFold(n_splits=k, shuffle=True, random_state=1).split(X_train, y_train))\n",
    "    \n",
    "    return folds, X_train, y_train\n",
    "\n",
    "k = 7\n",
    "folds, X_train, y_train = load_data_kfold(k)\n",
    "\n",
    "def get_model():\n",
    "    \n",
    "    model = models.Sequential()\n",
    "    \n",
    "    model.add(layers.Dense(46, activation='relu', input_shape=(82,)))\n",
    "    model.add(layers.Dense(46, activation='relu'))\n",
    "    model.add(layers.Dense(1, activation='sigmoid'))\n",
    "    \n",
    "    model.compile(optimizer='rmsprop',\n",
    "                  loss='binary_crossentropy',\n",
    "                  metrics=['accuracy'])\n",
    "\n",
    "    return model\n",
    "\n",
    "\n",
    "model = get_model()\n",
    "model.summary()"
   ]
  },
  {
   "cell_type": "code",
   "execution_count": 66,
   "metadata": {
    "scrolled": false
   },
   "outputs": [
    {
     "name": "stdout",
     "output_type": "stream",
     "text": [
      "\n",
      "Fold  0\n",
      "Epoch 1/10\n",
      "25714/25714 [==============================] - 3s 127us/step - loss: 0.4512 - acc: 0.8149\n",
      "Epoch 2/10\n",
      "25714/25714 [==============================] - 1s 55us/step - loss: 0.4382 - acc: 0.8213\n",
      "Epoch 3/10\n",
      "25714/25714 [==============================] - 1s 56us/step - loss: 0.4366 - acc: 0.8217\n",
      "Epoch 4/10\n",
      "25714/25714 [==============================] - 2s 71us/step - loss: 0.4361 - acc: 0.8222\n",
      "Epoch 5/10\n",
      "25714/25714 [==============================] - 2s 90us/step - loss: 0.4352 - acc: 0.8229\n",
      "Epoch 6/10\n",
      "25714/25714 [==============================] - 2s 69us/step - loss: 0.4345 - acc: 0.8223: 1s - loss: \n",
      "Epoch 7/10\n",
      "25714/25714 [==============================] - 2s 83us/step - loss: 0.4345 - acc: 0.8220\n",
      "Epoch 8/10\n",
      "25714/25714 [==============================] - 2s 70us/step - loss: 0.4341 - acc: 0.8224\n",
      "Epoch 9/10\n",
      "25714/25714 [==============================] - 2s 66us/step - loss: 0.4334 - acc: 0.8238\n",
      "Epoch 10/10\n",
      "25714/25714 [==============================] - 2s 64us/step - loss: 0.4333 - acc: 0.8233\n",
      "4286/4286 [==============================] - 0s 111us/step\n",
      "Loss: 0.43790655947154333 | Accuracy: 0.817778814634429\n",
      "\n",
      "Fold  1\n",
      "Epoch 1/10\n",
      "25714/25714 [==============================] - 3s 110us/step - loss: 0.4561 - acc: 0.8100\n",
      "Epoch 2/10\n",
      "25714/25714 [==============================] - 2s 62us/step - loss: 0.4394 - acc: 0.8200\n",
      "Epoch 3/10\n",
      "25714/25714 [==============================] - 2s 62us/step - loss: 0.4378 - acc: 0.8209\n",
      "Epoch 4/10\n",
      "25714/25714 [==============================] - 2s 61us/step - loss: 0.4369 - acc: 0.8216\n",
      "Epoch 5/10\n",
      "25714/25714 [==============================] - 2s 69us/step - loss: 0.4362 - acc: 0.8214\n",
      "Epoch 6/10\n",
      "25714/25714 [==============================] - 2s 75us/step - loss: 0.4360 - acc: 0.8218: 0s - loss:\n",
      "Epoch 7/10\n",
      "25714/25714 [==============================] - 2s 69us/step - loss: 0.4350 - acc: 0.8225: 0s - loss: 0.4350 - ac\n",
      "Epoch 8/10\n",
      "25714/25714 [==============================] - 2s 68us/step - loss: 0.4348 - acc: 0.8219\n",
      "Epoch 9/10\n",
      "25714/25714 [==============================] - 2s 69us/step - loss: 0.4339 - acc: 0.8228\n",
      "Epoch 10/10\n",
      "25714/25714 [==============================] - 2s 70us/step - loss: 0.4341 - acc: 0.8220\n",
      "4286/4286 [==============================] - 1s 131us/step\n",
      "Loss: 0.43522123467460505 | Accuracy: 0.8201119925616447\n",
      "\n",
      "Fold  2\n",
      "Epoch 1/10\n",
      "25714/25714 [==============================] - 3s 123us/step - loss: 0.4520 - acc: 0.8119\n",
      "Epoch 2/10\n",
      "25714/25714 [==============================] - 2s 77us/step - loss: 0.4376 - acc: 0.8210\n",
      "Epoch 3/10\n",
      "25714/25714 [==============================] - 2s 78us/step - loss: 0.4360 - acc: 0.8221\n",
      "Epoch 4/10\n",
      "25714/25714 [==============================] - 2s 77us/step - loss: 0.4351 - acc: 0.8223\n",
      "Epoch 5/10\n",
      "25714/25714 [==============================] - 2s 74us/step - loss: 0.4347 - acc: 0.8227\n",
      "Epoch 6/10\n",
      "25714/25714 [==============================] - 2s 71us/step - loss: 0.4343 - acc: 0.8230\n",
      "Epoch 7/10\n",
      "25714/25714 [==============================] - 2s 81us/step - loss: 0.4343 - acc: 0.8229\n",
      "Epoch 8/10\n",
      "25714/25714 [==============================] - 2s 87us/step - loss: 0.4330 - acc: 0.8239\n",
      "Epoch 9/10\n",
      "25714/25714 [==============================] - 2s 85us/step - loss: 0.4323 - acc: 0.8233\n",
      "Epoch 10/10\n",
      "25714/25714 [==============================] - 2s 87us/step - loss: 0.4323 - acc: 0.8229: 0s - loss: 0.4306\n",
      "4286/4286 [==============================] - 1s 147us/step\n",
      "Loss: 0.44673803653107363 | Accuracy: 0.8166122259350508\n",
      "\n",
      "Fold  3\n",
      "Epoch 1/10\n",
      "25714/25714 [==============================] - 3s 133us/step - loss: 0.4504 - acc: 0.8137\n",
      "Epoch 2/10\n",
      "25714/25714 [==============================] - 2s 87us/step - loss: 0.4372 - acc: 0.8209\n",
      "Epoch 3/10\n",
      "25714/25714 [==============================] - 3s 105us/step - loss: 0.4353 - acc: 0.8220 1s - loss\n",
      "Epoch 4/10\n",
      "25714/25714 [==============================] - 2s 87us/step - loss: 0.4344 - acc: 0.8226\n",
      "Epoch 5/10\n",
      "25714/25714 [==============================] - 2s 89us/step - loss: 0.4332 - acc: 0.8229\n",
      "Epoch 6/10\n",
      "25714/25714 [==============================] - 2s 88us/step - loss: 0.4330 - acc: 0.8230\n",
      "Epoch 7/10\n",
      "25714/25714 [==============================] - 2s 88us/step - loss: 0.4327 - acc: 0.8237\n",
      "Epoch 8/10\n",
      "25714/25714 [==============================] - 2s 82us/step - loss: 0.4319 - acc: 0.8230\n",
      "Epoch 9/10\n",
      "25714/25714 [==============================] - 2s 72us/step - loss: 0.4319 - acc: 0.8234\n",
      "Epoch 10/10\n",
      "25714/25714 [==============================] - 2s 81us/step - loss: 0.4311 - acc: 0.8243\n",
      "4286/4286 [==============================] - 1s 132us/step\n",
      "Loss: 0.4439671977457464 | Accuracy: 0.8191787215298267\n",
      "\n",
      "Fold  4\n",
      "Epoch 1/10\n",
      "25714/25714 [==============================] - 3s 135us/step - loss: 0.4527 - acc: 0.8116\n",
      "Epoch 2/10\n",
      "25714/25714 [==============================] - 2s 91us/step - loss: 0.4373 - acc: 0.8211\n",
      "Epoch 3/10\n",
      "25714/25714 [==============================] - 2s 85us/step - loss: 0.4359 - acc: 0.8208\n",
      "Epoch 4/10\n",
      "25714/25714 [==============================] - 2s 84us/step - loss: 0.4351 - acc: 0.8212: 0s - loss: 0.4352 - \n",
      "Epoch 5/10\n",
      "25714/25714 [==============================] - 2s 83us/step - loss: 0.4349 - acc: 0.8216\n",
      "Epoch 6/10\n",
      "25714/25714 [==============================] - 2s 91us/step - loss: 0.4342 - acc: 0.8220: 1s - l\n",
      "Epoch 7/10\n",
      "25714/25714 [==============================] - 2s 84us/step - loss: 0.4335 - acc: 0.8220\n",
      "Epoch 8/10\n",
      "25714/25714 [==============================] - 2s 93us/step - loss: 0.4337 - acc: 0.8223\n",
      "Epoch 9/10\n",
      "25714/25714 [==============================] - 2s 87us/step - loss: 0.4331 - acc: 0.8224: 0s - loss: 0.4323 - acc: 0.8\n",
      "Epoch 10/10\n",
      "25714/25714 [==============================] - 2s 83us/step - loss: 0.4330 - acc: 0.8235\n",
      "4286/4286 [==============================] - 1s 133us/step\n",
      "Loss: 0.4432005364651219 | Accuracy: 0.8217452168464661\n",
      "\n",
      "Fold  5\n",
      "Epoch 1/10\n",
      "25715/25715 [==============================] - 3s 124us/step - loss: 0.4535 - acc: 0.8118\n",
      "Epoch 2/10\n",
      "25715/25715 [==============================] - 2s 90us/step - loss: 0.4392 - acc: 0.8201\n",
      "Epoch 3/10\n",
      "25715/25715 [==============================] - 2s 88us/step - loss: 0.4375 - acc: 0.8204\n",
      "Epoch 4/10\n",
      "25715/25715 [==============================] - 2s 91us/step - loss: 0.4362 - acc: 0.8212\n",
      "Epoch 5/10\n",
      "25715/25715 [==============================] - 3s 97us/step - loss: 0.4357 - acc: 0.8227\n",
      "Epoch 6/10\n",
      "25715/25715 [==============================] - 2s 91us/step - loss: 0.4352 - acc: 0.8219\n",
      "Epoch 7/10\n",
      "25715/25715 [==============================] - 2s 89us/step - loss: 0.4345 - acc: 0.8220\n",
      "Epoch 8/10\n",
      "25715/25715 [==============================] - 2s 90us/step - loss: 0.4344 - acc: 0.8221\n",
      "Epoch 9/10\n",
      "25715/25715 [==============================] - 2s 89us/step - loss: 0.4338 - acc: 0.8230\n",
      "Epoch 10/10\n",
      "25715/25715 [==============================] - 2s 91us/step - loss: 0.4330 - acc: 0.8228\n",
      "4285/4285 [==============================] - 1s 165us/step\n",
      "Loss: 0.434911633991444 | Accuracy: 0.8210035006112507\n",
      "\n",
      "Fold  6\n",
      "Epoch 1/10\n",
      "25715/25715 [==============================] - 4s 141us/step - loss: 0.4531 - acc: 0.8110\n",
      "Epoch 2/10\n",
      "25715/25715 [==============================] - 2s 79us/step - loss: 0.4377 - acc: 0.8205\n",
      "Epoch 3/10\n",
      "25715/25715 [==============================] - 2s 75us/step - loss: 0.4363 - acc: 0.8217\n",
      "Epoch 4/10\n",
      "25715/25715 [==============================] - 2s 92us/step - loss: 0.4358 - acc: 0.8207\n",
      "Epoch 5/10\n",
      "25715/25715 [==============================] - 2s 96us/step - loss: 0.4348 - acc: 0.8219\n",
      "Epoch 6/10\n",
      "25715/25715 [==============================] - 3s 99us/step - loss: 0.4343 - acc: 0.8226: 0s - loss: 0.4347 - acc: 0.82\n",
      "Epoch 7/10\n",
      "25715/25715 [==============================] - 2s 96us/step - loss: 0.4336 - acc: 0.8225: 1s - loss: 0.4267 - - ETA: 0s - loss: 0.4323 \n",
      "Epoch 8/10\n",
      "25715/25715 [==============================] - 2s 93us/step - loss: 0.4334 - acc: 0.8234\n",
      "Epoch 9/10\n",
      "25715/25715 [==============================] - 2s 93us/step - loss: 0.4328 - acc: 0.8224\n",
      "Epoch 10/10\n",
      "25715/25715 [==============================] - 3s 98us/step - loss: 0.4321 - acc: 0.8231\n",
      "4285/4285 [==============================] - 1s 164us/step\n",
      "Loss: 0.4394433872563419 | Accuracy: 0.8200700114738705\n"
     ]
    }
   ],
   "source": [
    "Keras_Accuracy = 0\n",
    "Keras_Loss = 0\n",
    "\n",
    "for j, (train_idx, val_idx) in enumerate(folds):\n",
    "    \n",
    "    print('\\nFold ',j)\n",
    "    X_train_cv = X_train[train_idx]\n",
    "    y_train_cv = y_train[train_idx]\n",
    "    X_valid_cv = X_train[val_idx]\n",
    "    y_valid_cv= y_train[val_idx]\n",
    "    \n",
    "    name_weights = \"final_model_fold\" + str(j) + \"_weights.h5\"\n",
    "#     callbacks = get_callbacks(name_weights = name_weights, patience_lr=10)\n",
    "#     generator = gen.flow(X_train_cv, y_train_cv, batch_size = batch_size)\n",
    "    model = get_model()\n",
    "    model.fit(X_train_cv,\n",
    "              y_train_cv,\n",
    "              epochs=10,\n",
    "              batch_size=32)\n",
    "    \n",
    "    test_loss, test_accuracy = model.evaluate(X_valid_cv, y_valid_cv)\n",
    "    Keras_Accuracy = (Keras_Accuracy + test_accuracy)\n",
    "    Keras_Loss = (Keras_Loss + test_loss)\n",
    "    print(\"Loss: %s | Accuracy: %s\" % (test_loss, test_accuracy))"
   ]
  },
  {
   "cell_type": "code",
   "execution_count": 67,
   "metadata": {},
   "outputs": [
    {
     "name": "stdout",
     "output_type": "stream",
     "text": [
      "0.8195000690846482\n",
      "0.44019836944798224\n"
     ]
    }
   ],
   "source": [
    "    Keras_Accuracy = Keras_Accuracy/k\n",
    "    Keras_Loss = Keras_Loss/k\n",
    "    print(Keras_Accuracy)\n",
    "    print(Keras_Loss)"
   ]
  },
  {
   "cell_type": "markdown",
   "metadata": {},
   "source": [
    "# Aplicando K-Means "
   ]
  },
  {
   "cell_type": "code",
   "execution_count": 68,
   "metadata": {},
   "outputs": [
    {
     "name": "stdout",
     "output_type": "stream",
     "text": [
      "21000 foram treinados e  9000 testes foram feitos. Desses, 7023 tiveram resultado correto e 1977 falharam\n",
      "Resultado: 21.97 falharam e 78.03 acertaram\n"
     ]
    }
   ],
   "source": [
    "from sklearn.neighbors.nearest_centroid import NearestCentroid\n",
    "import numpy as np\n",
    "\n",
    "X = np.array(df.drop('Class', axis=1).values)\n",
    "y = np.array(df.Class.values)\n",
    "\n",
    "from sklearn.model_selection import train_test_split\n",
    "\n",
    "X_train, X_test, y_train, y_test = train_test_split(X, y, test_size=0.3)\n",
    "\n",
    "\n",
    "\n",
    "\n",
    "clf = NearestCentroid()\n",
    "#TREINAMENTO\n",
    "clf.fit(X_train, y_train) \n",
    "#TESTE\n",
    "\n",
    "clf.fit(X_train, y_train)\n",
    "\n",
    "# clf.predict([[10,7,7,6,4,10,4,1,2], [6,1,1,1,2,1,3,1,1]]) # Saída esperada: array([1, 0])\n",
    "\n",
    "Test = clf.predict(X_test)\n",
    "Real = y_test\n",
    "\n",
    "KMeans_Falhas = round((np.sum(Test != Real)*100)/(Test.size), 2)\n",
    "KMeans_Acertos = round((np.sum(Test == Real)*100)/(Test.size), 2)\n",
    "\n",
    "print(\"%s foram treinados e  %s testes foram feitos. Desses, %s tiveram resultado correto e %s falharam\" % (y_train.size, Real.size, np.sum(Test == Real), np.sum(Test != Real)))\n",
    "print(\"Resultado: %s falharam e %s acertaram\" % (KMeans_Falhas, KMeans_Acertos))"
   ]
  },
  {
   "cell_type": "markdown",
   "metadata": {},
   "source": [
    "# Aplicando Random Forest"
   ]
  },
  {
   "cell_type": "code",
   "execution_count": 69,
   "metadata": {},
   "outputs": [
    {
     "name": "stdout",
     "output_type": "stream",
     "text": [
      "\n",
      "Fold  0\n",
      "Resultado: 18.31 falharam e 81.69 acertaram\n",
      "\n",
      "Fold  1\n",
      "Resultado: 18.65 falharam e 81.35 acertaram\n",
      "\n",
      "Fold  2\n",
      "Resultado: 18.72 falharam e 81.28 acertaram\n",
      "\n",
      "Fold  3\n",
      "Resultado: 18.37 falharam e 81.63 acertaram\n",
      "\n",
      "Resultado Final (Média dos 4 folds): 18.51 falharam e 81.49 acertaram\n"
     ]
    }
   ],
   "source": [
    "from sklearn.ensemble import RandomForestClassifier\n",
    "from sklearn.model_selection import train_test_split\n",
    "\n",
    "RForest_Falhas_Media = 0\n",
    "RForest_Acertos_Media = 0\n",
    "\n",
    "X = np.array(df.drop('Class', axis=1).values)\n",
    "y = np.array(df.Class.values)\n",
    "\n",
    "rf = RandomForestClassifier(n_estimators = 100)\n",
    "\n",
    "k = 4\n",
    "folds, X_train, y_train = load_data_kfold(k)\n",
    "\n",
    "\n",
    "for j, (train_idx, val_idx) in enumerate(folds):\n",
    "    \n",
    "    print('\\nFold ',j)\n",
    "    X_train_cv = X_train[train_idx]\n",
    "    y_train_cv = y_train[train_idx]\n",
    "    X_valid_cv = X_train[val_idx]\n",
    "    y_valid_cv = y_train[val_idx]\n",
    "    \n",
    "    rf.fit(X_train_cv,\n",
    "           y_train_cv) \n",
    "    \n",
    "    Test = rf.predict(X_valid_cv)\n",
    "    Real = y_valid_cv\n",
    "\n",
    "    RForest_Falhas = round((np.sum(Test != Real)*100)/(Test.size), 2)\n",
    "    RForest_Acertos = round((np.sum(Test == Real)*100)/(Test.size), 2)\n",
    "    \n",
    "    RForest_Falhas_Media = (RForest_Falhas_Media + RForest_Falhas)\n",
    "    RForest_Acertos_Media = (RForest_Acertos_Media + RForest_Acertos)\n",
    "\n",
    "    print(\"Resultado: %s falharam e %s acertaram\" % (RForest_Falhas, RForest_Acertos))\n",
    "\n",
    "RForest_Falhas_Media = RForest_Falhas_Media/k\n",
    "RForest_Acertos_Media = RForest_Acertos_Media/k\n",
    "\n",
    "print(\"\\nResultado Final (Média dos %s folds): %.2f falharam e %.2f acertaram\" % (k, RForest_Falhas_Media, RForest_Acertos_Media))"
   ]
  },
  {
   "cell_type": "markdown",
   "metadata": {},
   "source": [
    "# Comparação de Resultados\n"
   ]
  },
  {
   "cell_type": "markdown",
   "metadata": {},
   "source": [
    "## K-Means"
   ]
  },
  {
   "cell_type": "code",
   "execution_count": 70,
   "metadata": {},
   "outputs": [
    {
     "data": {
      "image/png": "[encoded data removed]",
      "text/plain": [
       "<Figure size 432x288 with 1 Axes>"
      ]
     },
     "metadata": {
      "needs_background": "light"
     },
     "output_type": "display_data"
    }
   ],
   "source": [
    "data = {'Antes':[KMeans_Acertos_Antes, KMeans_Falhas_Antes],\n",
    "        'Depois':[KMeans_Acertos, KMeans_Falhas]} \n",
    "\n",
    "# Creates pandas DataFrame. \n",
    "dfResultados = pd.DataFrame(data, index =['Acertos', 'Falhas']) \n",
    "\n",
    "ax = dfResultados.plot.bar(rot=0)"
   ]
  },
  {
   "cell_type": "markdown",
   "metadata": {},
   "source": [
    "## kNN"
   ]
  },
  {
   "cell_type": "code",
   "execution_count": 71,
   "metadata": {},
   "outputs": [
    {
     "data": {
      "image/png": "[encoded data removed]",
      "text/plain": [
       "<Figure size 432x288 with 1 Axes>"
      ]
     },
     "metadata": {
      "needs_background": "light"
     },
     "output_type": "display_data"
    }
   ],
   "source": [
    "data = {'Antes':[KNN_Acertos_Antes, KNN_Falhas_Antes],\n",
    "        'Depois':[KNN_Acertos, KNN_Falhas]} \n",
    "\n",
    "# Creates pandas DataFrame. \n",
    "dfResultados = pd.DataFrame(data, index =['Acertos', 'Falhas']) \n",
    "\n",
    "ax = dfResultados.plot.bar(rot=0)"
   ]
  },
  {
   "cell_type": "markdown",
   "metadata": {},
   "source": [
    "## Keras"
   ]
  },
  {
   "cell_type": "code",
   "execution_count": 72,
   "metadata": {
    "scrolled": true
   },
   "outputs": [
    {
     "name": "stdout",
     "output_type": "stream",
     "text": [
      "Antes \n",
      "Accuracy: 0.78  e Loss: 3.57 \n",
      "Depois \n",
      "Accuracy: 0.82  e Loss: 0.44\n"
     ]
    },
    {
     "data": {
      "image/png": "[encoded data removed]",
      "text/plain": [
       "<Figure size 432x288 with 1 Axes>"
      ]
     },
     "metadata": {
      "needs_background": "light"
     },
     "output_type": "display_data"
    }
   ],
   "source": [
    "data = {'Antes':[Keras_Accuracy_Antes, Keras_Loss_Antes],\n",
    "        'Depois':[Keras_Accuracy, Keras_Loss]} \n",
    "\n",
    "print(\"Antes \\nAccuracy: %.2f  e Loss: %.2f \\nDepois \\nAccuracy: %.2f  e Loss: %.2f\" % (Keras_Accuracy_Antes, Keras_Loss_Antes, Keras_Accuracy, Keras_Loss))\n",
    "\n",
    "# Creates pandas DataFrame. \n",
    "dfResultados = pd.DataFrame(data, index =['Accuracy', 'Loss']) \n",
    "\n",
    "ax = dfResultados.plot.bar(rot=0)"
   ]
  },
  {
   "cell_type": "markdown",
   "metadata": {},
   "source": [
    "## Random Forest"
   ]
  },
  {
   "cell_type": "code",
   "execution_count": 73,
   "metadata": {},
   "outputs": [
    {
     "data": {
      "image/png": "[encoded data removed]",
      "text/plain": [
       "<Figure size 432x288 with 1 Axes>"
      ]
     },
     "metadata": {
      "needs_background": "light"
     },
     "output_type": "display_data"
    }
   ],
   "source": [
    "data = {'Antes':[RForest_Acertos_Media_Antes, RForest_Falhas_Media_Antes],\n",
    "        'Depois':[RForest_Acertos_Media, RForest_Falhas_Media]} \n",
    "\n",
    "# Creates pandas DataFrame. \n",
    "dfResultados = pd.DataFrame(data, index =['Acertos', 'Falhas']) \n",
    "\n",
    "ax = dfResultados.plot.bar(rot=0)"
   ]
  },
  {
   "cell_type": "markdown",
   "metadata": {},
   "source": [
    "## Resultados Gerais"
   ]
  },
  {
   "cell_type": "code",
   "execution_count": 1,
   "metadata": {},
   "outputs": [
    {
     "ename": "NameError",
     "evalue": "name 'KMeans_Acertos_Antes' is not defined",
     "output_type": "error",
     "traceback": [
      "\u001b[0;31m---------------------------------------------------------------------------\u001b[0m",
      "\u001b[0;31mNameError\u001b[0m                                 Traceback (most recent call last)",
      "\u001b[0;32m<ipython-input-1-d9a8d340a40d>\u001b[0m in \u001b[0;36m<module>\u001b[0;34m\u001b[0m\n\u001b[1;32m      1\u001b[0m \u001b[0;34m\u001b[0m\u001b[0m\n\u001b[0;32m----> 2\u001b[0;31m data = {'K-Means':[KMeans_Acertos_Antes, KMeans_Acertos, KMeans_Falhas_Antes, KMeans_Falhas],\n\u001b[0m\u001b[1;32m      3\u001b[0m         \u001b[0;34m'Random Forest'\u001b[0m\u001b[0;34m:\u001b[0m\u001b[0;34m[\u001b[0m\u001b[0mRForest_Acertos_Media_Antes\u001b[0m\u001b[0;34m,\u001b[0m \u001b[0mRForest_Acertos_Media\u001b[0m\u001b[0;34m,\u001b[0m \u001b[0mRForest_Falhas_Media_Antes\u001b[0m\u001b[0;34m,\u001b[0m \u001b[0mRForest_Falhas_Media\u001b[0m\u001b[0;34m]\u001b[0m\u001b[0;34m,\u001b[0m\u001b[0;34m\u001b[0m\u001b[0;34m\u001b[0m\u001b[0m\n\u001b[1;32m      4\u001b[0m         'kNN':[KNN_Acertos_Antes, KNN_Acertos, KNN_Falhas_Antes, KNN_Falhas]} \n\u001b[1;32m      5\u001b[0m \u001b[0;34m\u001b[0m\u001b[0m\n",
      "\u001b[0;31mNameError\u001b[0m: name 'KMeans_Acertos_Antes' is not defined"
     ]
    }
   ],
   "source": [
    "\n",
    "data = {'K-Means':[KMeans_Acertos_Antes, KMeans_Acertos, KMeans_Falhas_Antes, KMeans_Falhas],\n",
    "        'Random Forest':[RForest_Acertos_Media_Antes, RForest_Acertos_Media, RForest_Falhas_Media_Antes, RForest_Falhas_Media],\n",
    "        'kNN':[KNN_Acertos_Antes, KNN_Acertos, KNN_Falhas_Antes, KNN_Falhas]} \n",
    " \n",
    "    \n",
    "# Creates pandas DataFrame. \n",
    "dfResultados = pd.DataFrame(data, index =['Acertos Antes', 'Acertos Depois', 'Erros Antes', 'Erros Depois']) \n",
    "\n",
    "\n",
    "ax = dfResultados.plot.bar(rot=0)\n",
    "\n",
    "\n"
   ]
  },
  {
   "cell_type": "code",
   "execution_count": null,
   "metadata": {},
   "outputs": [],
   "source": []
  }
 ],
 "metadata": {
  "kernelspec": {
   "display_name": "Python 3",
   "language": "python",
   "name": "python3"
  },
  "language_info": {
   "codemirror_mode": {
    "name": "ipython",
    "version": 3
   },
   "file_extension": ".py",
   "mimetype": "text/x-python",
   "name": "python",
   "nbconvert_exporter": "python",
   "pygments_lexer": "ipython3",
   "version": "3.6.8"
  }
 },
 "nbformat": 4,
 "nbformat_minor": 2
}
