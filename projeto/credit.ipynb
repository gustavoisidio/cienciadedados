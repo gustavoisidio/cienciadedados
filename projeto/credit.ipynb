{
 "cells": [
  {
   "cell_type": "code",
   "execution_count": 170,
   "metadata": {},
   "outputs": [],
   "source": [
    "import numpy as np\n",
    "import pandas as pd \n",
    "import matplotlib.pyplot as plt\n",
    "from sklearn import preprocessing\n",
    "\n",
    "import tensorflow as tf\n",
    "from keras import models\n",
    "from keras import layers\n",
    "\n",
    "import math\n",
    "from sklearn.model_selection import train_test_split, StratifiedKFold\n",
    "import keras\n",
    "from keras.models import Sequential, Model\n",
    "from keras.layers import Input, Flatten, Dense, Dropout, Convolution2D, Conv2D, MaxPooling2D, Lambda, GlobalMaxPooling2D, GlobalAveragePooling2D, BatchNormalization, Activation, AveragePooling2D, Concatenate\n",
    "from keras.preprocessing.image import ImageDataGenerator\n",
    "from keras.callbacks import EarlyStopping, ModelCheckpoint, ReduceLROnPlateau\n",
    "from keras.utils import np_utils\n",
    "\n",
    "from IPython.display import Image\n",
    "from IPython.core.display import HTML \n",
    "\n",
    "%matplotlib inline\n",
    "keras.backend.set_image_data_format('channels_last')"
   ]
  },
  {
   "cell_type": "markdown",
   "metadata": {},
   "source": [
    "# Conteúdo Original da Base\n",
    "\n",
    "## 30k itens e 25 atributos\n",
    "\n",
    "* **ID**: Um ID referente a cada cliente que, posteriormente, será ignorado uma vez que é irrelevante para o treino.\n",
    "* **LIMIT_BAL**: A quntidade máxima em dólar de crédito concedido incluindo a parcela individual e para a família. \n",
    "* **SEX**: Caso o indivíduo em questão possuir sexo masculino, esse atributo será 1. Caso seja feminino, será 2.\n",
    "* **EDUCATION**: Referente ao grau de escolaridade do indivíduo. Caso seja 1, trata-se de alguém com pós-graduação. Sendo 2, alguém que possui graduação. Caso tenha estudado até o colegial, irá constar 3 nesse atributo. Para qualquer outro nível de escolaridade, será 4. Quando 5 e 6, não se sabe a escolaridade do indivíduo.\n",
    "* **MARRIAGE**: Referente ao status de relacionamento. Caso 1, trata-se de um indivíduo casado. Sendo 2, solteiro. Para outro tipo de relacionamento, nesse atributo constará o número 3. Caso o status do indivíduo seja desconhecido, estará 0.\n",
    "* **AGE**: A idade do indivíduo em anos.\n",
    "* **PAY_0**: Pagamento referente a Setembro de 2005. Caso 1, o pagamento foi feito devidamente. Caso entre 2 e 8, indica que o pagamento foi feito com atraso sendo o número referente a quantidade de meses desse atraso. Caso seja 9, significa que o pagamento foi feito com 9 ou mais meses de atraso. Para os demais atributos de PAY_2 a PAY_6, a mesma lógica de valores aplica-se.\n",
    "* **PAY_2**: Pagamento referente a Agosto de 2005.\n",
    "* **PAY_3**: Pagamento referente a Julho de 2005.\n",
    "* **PAY_4**: Pagamento referente a Junho de 2005.\n",
    "* **PAY_5**: Pagamento referente a Maio de 2005.\n",
    "* **PAY_6**: Pagamento referente a Abril de 2005.\n",
    "* **BILL_AMT1**: Valor da fatura em Setembro de 2005, em Dólar\n",
    "* **BILL_AMT2**: Valor da fatura em Agosto de 2005, em Dólar\n",
    "* **BILL_AMT3**: Valor da fatura em Julho de 2005, em Dólar\n",
    "* **BILL_AMT4**: Valor da fatura em Junho de 2005, em Dólar\n",
    "* **BILL_AMT5**: Valor da fatura em Maio de 2005, em Dólar\n",
    "* **BILL_AMT6**: Valor da fatura em Abril de 2005, em Dólar\n",
    "* **PAY_AMT1**: Quantia de pagamento anterior em Setembro de 2005, em dólar\n",
    "* **PAY_AMT2**: Quantia de pagamento anterior em Agosto de 2005, em dólar\n",
    "* **PAY_AMT3**: Quantia de pagamento anterior em Julho de 2005, em dólar\n",
    "* **PAY_AMT4**: Quantia de pagamento anterior em Junho de 2005, em dólar\n",
    "* **PAY_AMT5**: Quantia de pagamento anterior em Maio de 2005, em dólar\n",
    "* **PAY_AMT6**: Quantia de pagamento anterior em Abril de 2005, em dólar\n",
    "* **default.payment.next.month**: Referente a inadimplência do indivíduo no próximo mês. Com 1 representando a inadimplência e 0, a adimplência.\n",
    "\n"
   ]
  },
  {
   "cell_type": "markdown",
   "metadata": {},
   "source": [
    "### Carregando o arquivo da base, UCI_Credit_Card.csv, e nomeando cada um dos seus atributos originais como explicado acima"
   ]
  },
  {
   "cell_type": "code",
   "execution_count": 171,
   "metadata": {
    "scrolled": false
   },
   "outputs": [
    {
     "data": {
      "text/html": [
       "<div>\n",
       "<style scoped>\n",
       "    .dataframe tbody tr th:only-of-type {\n",
       "        vertical-align: middle;\n",
       "    }\n",
       "\n",
       "    .dataframe tbody tr th {\n",
       "        vertical-align: top;\n",
       "    }\n",
       "\n",
       "    .dataframe thead th {\n",
       "        text-align: right;\n",
       "    }\n",
       "</style>\n",
       "<table border=\"1\" class=\"dataframe\">\n",
       "  <thead>\n",
       "    <tr style=\"text-align: right;\">\n",
       "      <th></th>\n",
       "      <th>ID</th>\n",
       "      <th>LIMIT_BAL</th>\n",
       "      <th>SEX</th>\n",
       "      <th>EDUCATION</th>\n",
       "      <th>MARRIAGE</th>\n",
       "      <th>AGE</th>\n",
       "      <th>PAY_0</th>\n",
       "      <th>PAY_2</th>\n",
       "      <th>PAY_3</th>\n",
       "      <th>PAY_4</th>\n",
       "      <th>...</th>\n",
       "      <th>BILL_AMT4</th>\n",
       "      <th>BILL_AMT5</th>\n",
       "      <th>BILL_AMT6</th>\n",
       "      <th>PAY_AMT1</th>\n",
       "      <th>PAY_AMT2</th>\n",
       "      <th>PAY_AMT3</th>\n",
       "      <th>PAY_AMT4</th>\n",
       "      <th>PAY_AMT5</th>\n",
       "      <th>PAY_AMT6</th>\n",
       "      <th>default.payment.next.month</th>\n",
       "    </tr>\n",
       "  </thead>\n",
       "  <tbody>\n",
       "    <tr>\n",
       "      <th>1</th>\n",
       "      <td>1</td>\n",
       "      <td>20000</td>\n",
       "      <td>2</td>\n",
       "      <td>2</td>\n",
       "      <td>1</td>\n",
       "      <td>24</td>\n",
       "      <td>2</td>\n",
       "      <td>2</td>\n",
       "      <td>-1</td>\n",
       "      <td>-1</td>\n",
       "      <td>...</td>\n",
       "      <td>0</td>\n",
       "      <td>0</td>\n",
       "      <td>0</td>\n",
       "      <td>0</td>\n",
       "      <td>689</td>\n",
       "      <td>0</td>\n",
       "      <td>0</td>\n",
       "      <td>0</td>\n",
       "      <td>0</td>\n",
       "      <td>1</td>\n",
       "    </tr>\n",
       "    <tr>\n",
       "      <th>2</th>\n",
       "      <td>2</td>\n",
       "      <td>120000</td>\n",
       "      <td>2</td>\n",
       "      <td>2</td>\n",
       "      <td>2</td>\n",
       "      <td>26</td>\n",
       "      <td>-1</td>\n",
       "      <td>2</td>\n",
       "      <td>0</td>\n",
       "      <td>0</td>\n",
       "      <td>...</td>\n",
       "      <td>3272</td>\n",
       "      <td>3455</td>\n",
       "      <td>3261</td>\n",
       "      <td>0</td>\n",
       "      <td>1000</td>\n",
       "      <td>1000</td>\n",
       "      <td>1000</td>\n",
       "      <td>0</td>\n",
       "      <td>2000</td>\n",
       "      <td>1</td>\n",
       "    </tr>\n",
       "    <tr>\n",
       "      <th>3</th>\n",
       "      <td>3</td>\n",
       "      <td>90000</td>\n",
       "      <td>2</td>\n",
       "      <td>2</td>\n",
       "      <td>2</td>\n",
       "      <td>34</td>\n",
       "      <td>0</td>\n",
       "      <td>0</td>\n",
       "      <td>0</td>\n",
       "      <td>0</td>\n",
       "      <td>...</td>\n",
       "      <td>14331</td>\n",
       "      <td>14948</td>\n",
       "      <td>15549</td>\n",
       "      <td>1518</td>\n",
       "      <td>1500</td>\n",
       "      <td>1000</td>\n",
       "      <td>1000</td>\n",
       "      <td>1000</td>\n",
       "      <td>5000</td>\n",
       "      <td>0</td>\n",
       "    </tr>\n",
       "    <tr>\n",
       "      <th>4</th>\n",
       "      <td>4</td>\n",
       "      <td>50000</td>\n",
       "      <td>2</td>\n",
       "      <td>2</td>\n",
       "      <td>1</td>\n",
       "      <td>37</td>\n",
       "      <td>0</td>\n",
       "      <td>0</td>\n",
       "      <td>0</td>\n",
       "      <td>0</td>\n",
       "      <td>...</td>\n",
       "      <td>28314</td>\n",
       "      <td>28959</td>\n",
       "      <td>29547</td>\n",
       "      <td>2000</td>\n",
       "      <td>2019</td>\n",
       "      <td>1200</td>\n",
       "      <td>1100</td>\n",
       "      <td>1069</td>\n",
       "      <td>1000</td>\n",
       "      <td>0</td>\n",
       "    </tr>\n",
       "    <tr>\n",
       "      <th>5</th>\n",
       "      <td>5</td>\n",
       "      <td>50000</td>\n",
       "      <td>1</td>\n",
       "      <td>2</td>\n",
       "      <td>1</td>\n",
       "      <td>57</td>\n",
       "      <td>-1</td>\n",
       "      <td>0</td>\n",
       "      <td>-1</td>\n",
       "      <td>0</td>\n",
       "      <td>...</td>\n",
       "      <td>20940</td>\n",
       "      <td>19146</td>\n",
       "      <td>19131</td>\n",
       "      <td>2000</td>\n",
       "      <td>36681</td>\n",
       "      <td>10000</td>\n",
       "      <td>9000</td>\n",
       "      <td>689</td>\n",
       "      <td>679</td>\n",
       "      <td>0</td>\n",
       "    </tr>\n",
       "  </tbody>\n",
       "</table>\n",
       "<p>5 rows × 25 columns</p>\n",
       "</div>"
      ],
      "text/plain": [
       "  ID LIMIT_BAL SEX EDUCATION MARRIAGE AGE PAY_0 PAY_2 PAY_3 PAY_4  ...  \\\n",
       "1  1     20000   2         2        1  24     2     2    -1    -1  ...   \n",
       "2  2    120000   2         2        2  26    -1     2     0     0  ...   \n",
       "3  3     90000   2         2        2  34     0     0     0     0  ...   \n",
       "4  4     50000   2         2        1  37     0     0     0     0  ...   \n",
       "5  5     50000   1         2        1  57    -1     0    -1     0  ...   \n",
       "\n",
       "  BILL_AMT4 BILL_AMT5 BILL_AMT6 PAY_AMT1 PAY_AMT2 PAY_AMT3 PAY_AMT4 PAY_AMT5  \\\n",
       "1         0         0         0        0      689        0        0        0   \n",
       "2      3272      3455      3261        0     1000     1000     1000        0   \n",
       "3     14331     14948     15549     1518     1500     1000     1000     1000   \n",
       "4     28314     28959     29547     2000     2019     1200     1100     1069   \n",
       "5     20940     19146     19131     2000    36681    10000     9000      689   \n",
       "\n",
       "  PAY_AMT6 default.payment.next.month  \n",
       "1        0                          1  \n",
       "2     2000                          1  \n",
       "3     5000                          0  \n",
       "4     1000                          0  \n",
       "5      679                          0  \n",
       "\n",
       "[5 rows x 25 columns]"
      ]
     },
     "execution_count": 171,
     "metadata": {},
     "output_type": "execute_result"
    }
   ],
   "source": [
    "df = pd.read_csv(\"UCI_Credit_Card.csv\", names = [\"ID\",\"LIMIT_BAL\",\"SEX\",\"EDUCATION\",\"MARRIAGE\",\"AGE\",\"PAY_0\",\"PAY_2\",\"PAY_3\",\"PAY_4\",\"PAY_5\",\"PAY_6\",\"BILL_AMT1\",\"BILL_AMT2\",\"BILL_AMT3\",\"BILL_AMT4\",\"BILL_AMT5\",\"BILL_AMT6\",\"PAY_AMT1\",\"PAY_AMT2\",\"PAY_AMT3\",\"PAY_AMT4\",\"PAY_AMT5\",\"PAY_AMT6\",\"default.payment.next.month\"])\n",
    "df = df.drop([0])\n",
    "df.head()"
   ]
  },
  {
   "cell_type": "code",
   "execution_count": 172,
   "metadata": {},
   "outputs": [
    {
     "name": "stdout",
     "output_type": "stream",
     "text": [
      "Default Credit Card Clients data -  rows: 30000  columns: 25\n"
     ]
    }
   ],
   "source": [
    "print(\"Default Credit Card Clients data -  rows:\",df.shape[0],\" columns:\", df.shape[1])"
   ]
  },
  {
   "cell_type": "code",
   "execution_count": 173,
   "metadata": {
    "scrolled": true
   },
   "outputs": [
    {
     "data": {
      "text/html": [
       "<div>\n",
       "<style scoped>\n",
       "    .dataframe tbody tr th:only-of-type {\n",
       "        vertical-align: middle;\n",
       "    }\n",
       "\n",
       "    .dataframe tbody tr th {\n",
       "        vertical-align: top;\n",
       "    }\n",
       "\n",
       "    .dataframe thead th {\n",
       "        text-align: right;\n",
       "    }\n",
       "</style>\n",
       "<table border=\"1\" class=\"dataframe\">\n",
       "  <thead>\n",
       "    <tr style=\"text-align: right;\">\n",
       "      <th></th>\n",
       "      <th>ID</th>\n",
       "      <th>LIMIT_BAL</th>\n",
       "      <th>SEX</th>\n",
       "      <th>EDUCATION</th>\n",
       "      <th>MARRIAGE</th>\n",
       "      <th>AGE</th>\n",
       "      <th>PAY_0</th>\n",
       "      <th>PAY_2</th>\n",
       "      <th>PAY_3</th>\n",
       "      <th>PAY_4</th>\n",
       "      <th>...</th>\n",
       "      <th>BILL_AMT4</th>\n",
       "      <th>BILL_AMT5</th>\n",
       "      <th>BILL_AMT6</th>\n",
       "      <th>PAY_AMT1</th>\n",
       "      <th>PAY_AMT2</th>\n",
       "      <th>PAY_AMT3</th>\n",
       "      <th>PAY_AMT4</th>\n",
       "      <th>PAY_AMT5</th>\n",
       "      <th>PAY_AMT6</th>\n",
       "      <th>default.payment.next.month</th>\n",
       "    </tr>\n",
       "  </thead>\n",
       "  <tbody>\n",
       "    <tr>\n",
       "      <th>count</th>\n",
       "      <td>30000</td>\n",
       "      <td>30000</td>\n",
       "      <td>30000</td>\n",
       "      <td>30000</td>\n",
       "      <td>30000</td>\n",
       "      <td>30000</td>\n",
       "      <td>30000</td>\n",
       "      <td>30000</td>\n",
       "      <td>30000</td>\n",
       "      <td>30000</td>\n",
       "      <td>...</td>\n",
       "      <td>30000</td>\n",
       "      <td>30000</td>\n",
       "      <td>30000</td>\n",
       "      <td>30000</td>\n",
       "      <td>30000</td>\n",
       "      <td>30000</td>\n",
       "      <td>30000</td>\n",
       "      <td>30000</td>\n",
       "      <td>30000</td>\n",
       "      <td>30000</td>\n",
       "    </tr>\n",
       "    <tr>\n",
       "      <th>unique</th>\n",
       "      <td>30000</td>\n",
       "      <td>81</td>\n",
       "      <td>2</td>\n",
       "      <td>7</td>\n",
       "      <td>4</td>\n",
       "      <td>56</td>\n",
       "      <td>11</td>\n",
       "      <td>11</td>\n",
       "      <td>11</td>\n",
       "      <td>11</td>\n",
       "      <td>...</td>\n",
       "      <td>21548</td>\n",
       "      <td>21010</td>\n",
       "      <td>20604</td>\n",
       "      <td>7943</td>\n",
       "      <td>7899</td>\n",
       "      <td>7518</td>\n",
       "      <td>6937</td>\n",
       "      <td>6897</td>\n",
       "      <td>6939</td>\n",
       "      <td>2</td>\n",
       "    </tr>\n",
       "    <tr>\n",
       "      <th>top</th>\n",
       "      <td>19677</td>\n",
       "      <td>50000</td>\n",
       "      <td>2</td>\n",
       "      <td>2</td>\n",
       "      <td>2</td>\n",
       "      <td>29</td>\n",
       "      <td>0</td>\n",
       "      <td>0</td>\n",
       "      <td>0</td>\n",
       "      <td>0</td>\n",
       "      <td>...</td>\n",
       "      <td>0</td>\n",
       "      <td>0</td>\n",
       "      <td>0</td>\n",
       "      <td>0</td>\n",
       "      <td>0</td>\n",
       "      <td>0</td>\n",
       "      <td>0</td>\n",
       "      <td>0</td>\n",
       "      <td>0</td>\n",
       "      <td>0</td>\n",
       "    </tr>\n",
       "    <tr>\n",
       "      <th>freq</th>\n",
       "      <td>1</td>\n",
       "      <td>3365</td>\n",
       "      <td>18112</td>\n",
       "      <td>14030</td>\n",
       "      <td>15964</td>\n",
       "      <td>1605</td>\n",
       "      <td>14737</td>\n",
       "      <td>15730</td>\n",
       "      <td>15764</td>\n",
       "      <td>16455</td>\n",
       "      <td>...</td>\n",
       "      <td>3195</td>\n",
       "      <td>3506</td>\n",
       "      <td>4020</td>\n",
       "      <td>5249</td>\n",
       "      <td>5396</td>\n",
       "      <td>5968</td>\n",
       "      <td>6408</td>\n",
       "      <td>6703</td>\n",
       "      <td>7173</td>\n",
       "      <td>23364</td>\n",
       "    </tr>\n",
       "  </tbody>\n",
       "</table>\n",
       "<p>4 rows × 25 columns</p>\n",
       "</div>"
      ],
      "text/plain": [
       "           ID LIMIT_BAL    SEX EDUCATION MARRIAGE    AGE  PAY_0  PAY_2  PAY_3  \\\n",
       "count   30000     30000  30000     30000    30000  30000  30000  30000  30000   \n",
       "unique  30000        81      2         7        4     56     11     11     11   \n",
       "top     19677     50000      2         2        2     29      0      0      0   \n",
       "freq        1      3365  18112     14030    15964   1605  14737  15730  15764   \n",
       "\n",
       "        PAY_4  ... BILL_AMT4 BILL_AMT5 BILL_AMT6 PAY_AMT1 PAY_AMT2 PAY_AMT3  \\\n",
       "count   30000  ...     30000     30000     30000    30000    30000    30000   \n",
       "unique     11  ...     21548     21010     20604     7943     7899     7518   \n",
       "top         0  ...         0         0         0        0        0        0   \n",
       "freq    16455  ...      3195      3506      4020     5249     5396     5968   \n",
       "\n",
       "       PAY_AMT4 PAY_AMT5 PAY_AMT6 default.payment.next.month  \n",
       "count     30000    30000    30000                      30000  \n",
       "unique     6937     6897     6939                          2  \n",
       "top           0        0        0                          0  \n",
       "freq       6408     6703     7173                      23364  \n",
       "\n",
       "[4 rows x 25 columns]"
      ]
     },
     "execution_count": 173,
     "metadata": {},
     "output_type": "execute_result"
    }
   ],
   "source": [
    "df.describe()"
   ]
  },
  {
   "cell_type": "markdown",
   "metadata": {},
   "source": [
    "## Não há nenhum valor ausente. Todos os atributos estão preenchidos para todos os itens"
   ]
  },
  {
   "cell_type": "code",
   "execution_count": 174,
   "metadata": {},
   "outputs": [
    {
     "data": {
      "text/html": [
       "<div>\n",
       "<style scoped>\n",
       "    .dataframe tbody tr th:only-of-type {\n",
       "        vertical-align: middle;\n",
       "    }\n",
       "\n",
       "    .dataframe tbody tr th {\n",
       "        vertical-align: top;\n",
       "    }\n",
       "\n",
       "    .dataframe thead th {\n",
       "        text-align: right;\n",
       "    }\n",
       "</style>\n",
       "<table border=\"1\" class=\"dataframe\">\n",
       "  <thead>\n",
       "    <tr style=\"text-align: right;\">\n",
       "      <th></th>\n",
       "      <th>default.payment.next.month</th>\n",
       "      <th>PAY_6</th>\n",
       "      <th>LIMIT_BAL</th>\n",
       "      <th>SEX</th>\n",
       "      <th>EDUCATION</th>\n",
       "      <th>MARRIAGE</th>\n",
       "      <th>AGE</th>\n",
       "      <th>PAY_0</th>\n",
       "      <th>PAY_2</th>\n",
       "      <th>PAY_3</th>\n",
       "      <th>...</th>\n",
       "      <th>BILL_AMT3</th>\n",
       "      <th>BILL_AMT4</th>\n",
       "      <th>BILL_AMT5</th>\n",
       "      <th>BILL_AMT6</th>\n",
       "      <th>PAY_AMT1</th>\n",
       "      <th>PAY_AMT2</th>\n",
       "      <th>PAY_AMT3</th>\n",
       "      <th>PAY_AMT4</th>\n",
       "      <th>PAY_AMT5</th>\n",
       "      <th>ID</th>\n",
       "    </tr>\n",
       "  </thead>\n",
       "  <tbody>\n",
       "    <tr>\n",
       "      <th>Total</th>\n",
       "      <td>0.0</td>\n",
       "      <td>0.0</td>\n",
       "      <td>0.0</td>\n",
       "      <td>0.0</td>\n",
       "      <td>0.0</td>\n",
       "      <td>0.0</td>\n",
       "      <td>0.0</td>\n",
       "      <td>0.0</td>\n",
       "      <td>0.0</td>\n",
       "      <td>0.0</td>\n",
       "      <td>...</td>\n",
       "      <td>0.0</td>\n",
       "      <td>0.0</td>\n",
       "      <td>0.0</td>\n",
       "      <td>0.0</td>\n",
       "      <td>0.0</td>\n",
       "      <td>0.0</td>\n",
       "      <td>0.0</td>\n",
       "      <td>0.0</td>\n",
       "      <td>0.0</td>\n",
       "      <td>0.0</td>\n",
       "    </tr>\n",
       "    <tr>\n",
       "      <th>Percent</th>\n",
       "      <td>0.0</td>\n",
       "      <td>0.0</td>\n",
       "      <td>0.0</td>\n",
       "      <td>0.0</td>\n",
       "      <td>0.0</td>\n",
       "      <td>0.0</td>\n",
       "      <td>0.0</td>\n",
       "      <td>0.0</td>\n",
       "      <td>0.0</td>\n",
       "      <td>0.0</td>\n",
       "      <td>...</td>\n",
       "      <td>0.0</td>\n",
       "      <td>0.0</td>\n",
       "      <td>0.0</td>\n",
       "      <td>0.0</td>\n",
       "      <td>0.0</td>\n",
       "      <td>0.0</td>\n",
       "      <td>0.0</td>\n",
       "      <td>0.0</td>\n",
       "      <td>0.0</td>\n",
       "      <td>0.0</td>\n",
       "    </tr>\n",
       "  </tbody>\n",
       "</table>\n",
       "<p>2 rows × 25 columns</p>\n",
       "</div>"
      ],
      "text/plain": [
       "         default.payment.next.month  PAY_6  LIMIT_BAL  SEX  EDUCATION  \\\n",
       "Total                           0.0    0.0        0.0  0.0        0.0   \n",
       "Percent                         0.0    0.0        0.0  0.0        0.0   \n",
       "\n",
       "         MARRIAGE  AGE  PAY_0  PAY_2  PAY_3  ...  BILL_AMT3  BILL_AMT4  \\\n",
       "Total         0.0  0.0    0.0    0.0    0.0  ...        0.0        0.0   \n",
       "Percent       0.0  0.0    0.0    0.0    0.0  ...        0.0        0.0   \n",
       "\n",
       "         BILL_AMT5  BILL_AMT6  PAY_AMT1  PAY_AMT2  PAY_AMT3  PAY_AMT4  \\\n",
       "Total          0.0        0.0       0.0       0.0       0.0       0.0   \n",
       "Percent        0.0        0.0       0.0       0.0       0.0       0.0   \n",
       "\n",
       "         PAY_AMT5   ID  \n",
       "Total         0.0  0.0  \n",
       "Percent       0.0  0.0  \n",
       "\n",
       "[2 rows x 25 columns]"
      ]
     },
     "execution_count": 174,
     "metadata": {},
     "output_type": "execute_result"
    }
   ],
   "source": [
    "total = df.isnull().sum().sort_values(ascending = False)\n",
    "percent = (df.isnull().sum()/df.isnull().count()*100).sort_values(ascending = False)\n",
    "pd.concat([total, percent], axis=1, keys=['Total', 'Percent']).transpose()"
   ]
  },
  {
   "cell_type": "markdown",
   "metadata": {},
   "source": [
    "# Aplicando técnicas de IA sem pré-processamento"
   ]
  },
  {
   "cell_type": "markdown",
   "metadata": {},
   "source": [
    "## kNN"
   ]
  },
  {
   "cell_type": "code",
   "execution_count": 175,
   "metadata": {},
   "outputs": [
    {
     "name": "stdout",
     "output_type": "stream",
     "text": [
      "21000 foram treinados e  9000 testes foram feitos. Desses, 6979 tiveram resultado correto e 2021 falharam\n",
      "Resultado: 22.46 falharam e 77.54 acertaram\n"
     ]
    }
   ],
   "source": [
    "from sklearn.neighbors import KNeighborsClassifier\n",
    "\n",
    "X = (df.drop('default.payment.next.month', axis=1)).drop('ID', axis=1).values\n",
    "y = df['default.payment.next.month'].values\n",
    "\n",
    "from sklearn.model_selection import train_test_split\n",
    "\n",
    "X_train, X_test, y_train, y_test = train_test_split(X, y, test_size=0.3)\n",
    "\n",
    "neigh = KNeighborsClassifier(n_neighbors=10)\n",
    "#TREINAMENTO\n",
    "neigh.fit(X_train, y_train) \n",
    "\n",
    "#TESTE\n",
    "\n",
    "Test = neigh.predict(X_test)\n",
    "Real = y_test\n",
    "\n",
    "KNN_Falhas_Antes = round((np.sum(Test != Real)*100)/(Test.size), 2)\n",
    "KNN_Acertos_Antes = round((np.sum(Test == Real)*100)/(Test.size), 2)\n",
    " \n",
    "\n",
    "print(\"%s foram treinados e  %s testes foram feitos. Desses, %s tiveram resultado correto e %s falharam\" % (y_train.size, Real.size, np.sum(Test == Real), np.sum(Test != Real)))\n",
    "print(\"Resultado: %s falharam e %s acertaram\" % (KNN_Falhas_Antes, KNN_Acertos_Antes))"
   ]
  },
  {
   "cell_type": "markdown",
   "metadata": {},
   "source": [
    "## K-Means"
   ]
  },
  {
   "cell_type": "code",
   "execution_count": 176,
   "metadata": {},
   "outputs": [
    {
     "name": "stdout",
     "output_type": "stream",
     "text": [
      "21000 foram treinados e  9000 testes foram feitos. Desses, 4739 tiveram resultado correto e 4261 falharam\n",
      "Resultado: 47.34 falharam e 52.66 acertaram\n"
     ]
    }
   ],
   "source": [
    "from sklearn.neighbors.nearest_centroid import NearestCentroid\n",
    "import numpy as np\n",
    "\n",
    "X = np.array((df.drop('default.payment.next.month', axis=1)).drop('ID', axis=1).values)\n",
    "y = np.array(df['default.payment.next.month'].values)\n",
    "\n",
    "from sklearn.model_selection import train_test_split\n",
    "\n",
    "X_train, X_test, y_train, y_test = train_test_split(X, y, test_size=0.3)\n",
    "\n",
    "\n",
    "\n",
    "\n",
    "clf = NearestCentroid()\n",
    "#TREINAMENTO\n",
    "clf.fit(X_train, y_train) \n",
    "#TESTE\n",
    "\n",
    "clf.fit(X_train, y_train)\n",
    "\n",
    "# clf.predict([[10,7,7,6,4,10,4,1,2], [6,1,1,1,2,1,3,1,1]]) # Saída esperada: array([1, 0])\n",
    "\n",
    "Test = clf.predict(X_test)\n",
    "Real = y_test\n",
    "\n",
    "KMeans_Falhas_Antes = round((np.sum(Test != Real)*100)/(Test.size), 2)\n",
    "KMeans_Acertos_Antes = round((np.sum(Test == Real)*100)/(Test.size), 2)\n",
    "\n",
    "print(\"%s foram treinados e  %s testes foram feitos. Desses, %s tiveram resultado correto e %s falharam\" % (y_train.size, Real.size, np.sum(Test == Real), np.sum(Test != Real)))\n",
    "print(\"Resultado: %s falharam e %s acertaram\" % (KMeans_Falhas_Antes, KMeans_Acertos_Antes))"
   ]
  },
  {
   "cell_type": "markdown",
   "metadata": {},
   "source": [
    "## Random Forest"
   ]
  },
  {
   "cell_type": "code",
   "execution_count": 177,
   "metadata": {},
   "outputs": [],
   "source": [
    "def load_data_kfold(k):\n",
    "    \n",
    "    train = df\n",
    "    \n",
    "    X_train = np.array((df.drop('default.payment.next.month', axis=1)).drop('ID', axis=1).values)\n",
    "    \n",
    "    y_train = np.array(train['default.payment.next.month'].values)\n",
    "    \n",
    "    folds = list(StratifiedKFold(n_splits=k, shuffle=True, random_state=1).split(X_train, y_train))\n",
    "    \n",
    "    return folds, X_train, y_train"
   ]
  },
  {
   "cell_type": "code",
   "execution_count": 178,
   "metadata": {
    "scrolled": true
   },
   "outputs": [
    {
     "name": "stdout",
     "output_type": "stream",
     "text": [
      "\n",
      "Fold  0\n",
      "Resultado: 18.07 falharam e 81.93 acertaram\n",
      "\n",
      "Fold  1\n",
      "Resultado: 18.31 falharam e 81.69 acertaram\n",
      "\n",
      "Fold  2\n",
      "Resultado: 18.68 falharam e 81.32 acertaram\n",
      "\n",
      "Fold  3\n",
      "Resultado: 18.45 falharam e 81.55 acertaram\n",
      "\n",
      "Resultado Final (Média dos 4 folds): 18.38 falharam e 81.62 acertaram\n"
     ]
    }
   ],
   "source": [
    "from sklearn.ensemble import RandomForestClassifier\n",
    "from sklearn.model_selection import train_test_split\n",
    "\n",
    "RForest_Falhas_Media_Antes = 0\n",
    "RForest_Acertos_Media_Antes = 0\n",
    "\n",
    "X = np.array((df.drop('default.payment.next.month', axis=1)).drop('ID', axis=1).values)\n",
    "y = np.array(df['default.payment.next.month'].values)\n",
    "\n",
    "rf = RandomForestClassifier(n_estimators = 100)\n",
    "\n",
    "k = 4\n",
    "folds, X_train, y_train = load_data_kfold(k)\n",
    "\n",
    "\n",
    "for j, (train_idx, val_idx) in enumerate(folds):\n",
    "    \n",
    "    print('\\nFold ',j)\n",
    "    X_train_cv = X_train[train_idx]\n",
    "    y_train_cv = y_train[train_idx]\n",
    "    X_valid_cv = X_train[val_idx]\n",
    "    y_valid_cv = y_train[val_idx]\n",
    "    \n",
    "    rf.fit(X_train_cv,\n",
    "           y_train_cv) \n",
    "    \n",
    "    Test = rf.predict(X_valid_cv)\n",
    "    Real = y_valid_cv\n",
    "\n",
    "    RForest_Falhas_Antes = round((np.sum(Test != Real)*100)/(Test.size), 2)\n",
    "    RForest_Acertos_Antes = round((np.sum(Test == Real)*100)/(Test.size), 2)\n",
    "    \n",
    "    RForest_Falhas_Media_Antes = (RForest_Falhas_Media_Antes + RForest_Falhas_Antes)\n",
    "    RForest_Acertos_Media_Antes = (RForest_Acertos_Media_Antes + RForest_Acertos_Antes)\n",
    "\n",
    "    print(\"Resultado: %s falharam e %s acertaram\" % (RForest_Falhas_Antes, RForest_Acertos_Antes))\n",
    "    \n",
    "RForest_Falhas_Media_Antes = RForest_Falhas_Media_Antes/k\n",
    "RForest_Acertos_Media_Antes = RForest_Acertos_Media_Antes/k\n",
    "\n",
    "print(\"\\nResultado Final (Média dos %s folds): %.2f falharam e %.2f acertaram\" % (k, RForest_Falhas_Media_Antes, RForest_Acertos_Media_Antes))"
   ]
  },
  {
   "cell_type": "markdown",
   "metadata": {},
   "source": [
    "## Keras"
   ]
  },
  {
   "cell_type": "code",
   "execution_count": 179,
   "metadata": {},
   "outputs": [
    {
     "name": "stdout",
     "output_type": "stream",
     "text": [
      "_________________________________________________________________\n",
      "Layer (type)                 Output Shape              Param #   \n",
      "=================================================================\n",
      "dense_175 (Dense)            (None, 46)                1104      \n",
      "_________________________________________________________________\n",
      "dense_176 (Dense)            (None, 46)                2162      \n",
      "_________________________________________________________________\n",
      "dense_177 (Dense)            (None, 1)                 47        \n",
      "=================================================================\n",
      "Total params: 3,313\n",
      "Trainable params: 3,313\n",
      "Non-trainable params: 0\n",
      "_________________________________________________________________\n"
     ]
    }
   ],
   "source": [
    "model = models.Sequential()\n",
    "model.add(layers.Dense(46, activation='relu', input_shape=(2460000,)))\n",
    "model.add(layers.Dense(46, activation='relu'))\n",
    "model.add(layers.Dense(1, activation='softmax'))\n",
    "\n",
    "\n",
    "\n",
    "def load_data_kfold(k):\n",
    "    \n",
    "    train = df\n",
    "    \n",
    "    X_train = np.array((df.drop('default.payment.next.month', axis=1)).drop('ID', axis=1).values)\n",
    "    \n",
    "    y_train = np.array(train['default.payment.next.month'].values)\n",
    "    \n",
    "    folds = list(StratifiedKFold(n_splits=k, shuffle=True, random_state=1).split(X_train, y_train))\n",
    "    \n",
    "    return folds, X_train, y_train\n",
    "\n",
    "k = 7\n",
    "folds, X_train, y_train = load_data_kfold(k)\n",
    "\n",
    "def get_model():\n",
    "    \n",
    "    model = models.Sequential()\n",
    "    \n",
    "    model.add(layers.Dense(46, activation='relu', input_shape=(23,)))\n",
    "    model.add(layers.Dense(46, activation='relu'))\n",
    "    model.add(layers.Dense(1, activation='sigmoid'))\n",
    "    \n",
    "    model.compile(optimizer='rmsprop',\n",
    "                  loss='binary_crossentropy',\n",
    "                  metrics=['accuracy'])\n",
    "\n",
    "    return model\n",
    "\n",
    "\n",
    "model = get_model()\n",
    "model.summary()"
   ]
  },
  {
   "cell_type": "code",
   "execution_count": 180,
   "metadata": {
    "scrolled": false
   },
   "outputs": [
    {
     "name": "stdout",
     "output_type": "stream",
     "text": [
      "\n",
      "Fold  0\n",
      "Epoch 1/10\n",
      "25714/25714 [==============================] - 4s 147us/step - loss: 12.4116 - acc: 0.2215\n",
      "Epoch 2/10\n",
      "25714/25714 [==============================] - 1s 54us/step - loss: 12.4116 - acc: 0.2215\n",
      "Epoch 3/10\n",
      "25714/25714 [==============================] - 1s 53us/step - loss: 12.4116 - acc: 0.2215\n",
      "Epoch 4/10\n",
      "25714/25714 [==============================] - 1s 53us/step - loss: 12.4116 - acc: 0.2215\n",
      "Epoch 5/10\n",
      "25714/25714 [==============================] - 1s 54us/step - loss: 12.4116 - acc: 0.2215\n",
      "Epoch 6/10\n",
      "25714/25714 [==============================] - 1s 54us/step - loss: 12.4116 - acc: 0.2215\n",
      "Epoch 7/10\n",
      "25714/25714 [==============================] - 1s 54us/step - loss: 12.4116 - acc: 0.2215\n",
      "Epoch 8/10\n",
      "25714/25714 [==============================] - 1s 53us/step - loss: 12.4116 - acc: 0.2215\n",
      "Epoch 9/10\n",
      "25714/25714 [==============================] - 1s 55us/step - loss: 12.4116 - acc: 0.2215\n",
      "Epoch 10/10\n",
      "25714/25714 [==============================] - 1s 55us/step - loss: 12.4116 - acc: 0.2215\n",
      "4286/4286 [==============================] - 1s 141us/step\n",
      "Loss: 12.416164723056752 | Accuracy: 0.22118525435809938\n",
      "\n",
      "Fold  1\n",
      "Epoch 1/10\n",
      "25714/25714 [==============================] - 3s 102us/step - loss: 3.5660 - acc: 0.7788\n",
      "Epoch 2/10\n",
      "25714/25714 [==============================] - 1s 54us/step - loss: 3.5660 - acc: 0.7788\n",
      "Epoch 3/10\n",
      "25714/25714 [==============================] - 1s 53us/step - loss: 3.5660 - acc: 0.7788\n",
      "Epoch 4/10\n",
      "25714/25714 [==============================] - 1s 53us/step - loss: 3.5660 - acc: 0.7788\n",
      "Epoch 5/10\n",
      "25714/25714 [==============================] - 1s 54us/step - loss: 3.5660 - acc: 0.7788\n",
      "Epoch 6/10\n",
      "25714/25714 [==============================] - 1s 53us/step - loss: 3.5660 - acc: 0.7788\n",
      "Epoch 7/10\n",
      "25714/25714 [==============================] - 1s 54us/step - loss: 3.5660 - acc: 0.7788\n",
      "Epoch 8/10\n",
      "25714/25714 [==============================] - 1s 53us/step - loss: 3.5660 - acc: 0.7788\n",
      "Epoch 9/10\n",
      "25714/25714 [==============================] - 1s 53us/step - loss: 3.5660 - acc: 0.7788\n",
      "Epoch 10/10\n",
      "25714/25714 [==============================] - 1s 53us/step - loss: 3.5660 - acc: 0.7788\n",
      "4286/4286 [==============================] - 1s 140us/step\n",
      "Loss: 3.5650850503844076 | Accuracy: 0.778814745767062\n",
      "\n",
      "Fold  2\n",
      "Epoch 1/10\n",
      "25714/25714 [==============================] - 3s 106us/step - loss: 12.4159 - acc: 0.2212\n",
      "Epoch 2/10\n",
      "25714/25714 [==============================] - 1s 56us/step - loss: 12.4159 - acc: 0.2212\n",
      "Epoch 3/10\n",
      "25714/25714 [==============================] - 1s 55us/step - loss: 12.4159 - acc: 0.2212\n",
      "Epoch 4/10\n",
      "25714/25714 [==============================] - 1s 56us/step - loss: 12.4159 - acc: 0.2212\n",
      "Epoch 5/10\n",
      "25714/25714 [==============================] - 1s 56us/step - loss: 12.4159 - acc: 0.2212\n",
      "Epoch 6/10\n",
      "25714/25714 [==============================] - 1s 56us/step - loss: 12.4159 - acc: 0.2212\n",
      "Epoch 7/10\n",
      "25714/25714 [==============================] - 1s 56us/step - loss: 12.4159 - acc: 0.2212\n",
      "Epoch 8/10\n",
      "25714/25714 [==============================] - 1s 56us/step - loss: 12.4159 - acc: 0.2212\n",
      "Epoch 9/10\n",
      "25714/25714 [==============================] - 1s 55us/step - loss: 12.4159 - acc: 0.2212\n",
      "Epoch 10/10\n",
      "25714/25714 [==============================] - 1s 56us/step - loss: 12.4159 - acc: 0.2212\n",
      "4286/4286 [==============================] - 1s 145us/step\n",
      "Loss: 12.416164720831661 | Accuracy: 0.22118525432333233\n",
      "\n",
      "Fold  3\n",
      "Epoch 1/10\n",
      "25714/25714 [==============================] - 3s 105us/step - loss: 3.6796 - acc: 0.7715\n",
      "Epoch 2/10\n",
      "25714/25714 [==============================] - 1s 55us/step - loss: 3.5672 - acc: 0.7787: 0s - loss: 3.5711 - acc: 0.778\n",
      "Epoch 3/10\n",
      "25714/25714 [==============================] - 1s 54us/step - loss: 3.5672 - acc: 0.7787\n",
      "Epoch 4/10\n",
      "25714/25714 [==============================] - 1s 55us/step - loss: 3.5672 - acc: 0.7787\n",
      "Epoch 5/10\n",
      "25714/25714 [==============================] - 1s 54us/step - loss: 3.5672 - acc: 0.7787\n",
      "Epoch 6/10\n",
      "25714/25714 [==============================] - 1s 54us/step - loss: 3.5672 - acc: 0.7787\n",
      "Epoch 7/10\n",
      "25714/25714 [==============================] - 1s 54us/step - loss: 3.5672 - acc: 0.7787\n",
      "Epoch 8/10\n",
      "25714/25714 [==============================] - 1s 54us/step - loss: 3.5672 - acc: 0.7787\n",
      "Epoch 9/10\n",
      "25714/25714 [==============================] - 1s 54us/step - loss: 3.5672 - acc: 0.7787\n",
      "Epoch 10/10\n",
      "25714/25714 [==============================] - 1s 53us/step - loss: 3.5672 - acc: 0.7787\n",
      "4286/4286 [==============================] - 1s 150us/step\n",
      "Loss: 3.5661685706754613 | Accuracy: 0.7785814278213654\n",
      "\n",
      "Fold  4\n",
      "Epoch 1/10\n",
      "25714/25714 [==============================] - 3s 106us/step - loss: 12.3021 - acc: 0.2283\n",
      "Epoch 2/10\n",
      "25714/25714 [==============================] - 1s 54us/step - loss: 8.3165 - acc: 0.4793\n",
      "Epoch 3/10\n",
      "25714/25714 [==============================] - 1s 58us/step - loss: 3.6122 - acc: 0.7758\n",
      "Epoch 4/10\n",
      "25714/25714 [==============================] - 1s 54us/step - loss: 3.5771 - acc: 0.7781\n",
      "Epoch 5/10\n",
      "25714/25714 [==============================] - 1s 55us/step - loss: 3.5771 - acc: 0.7781\n",
      "Epoch 6/10\n",
      "25714/25714 [==============================] - 1s 54us/step - loss: 3.5771 - acc: 0.7781\n",
      "Epoch 7/10\n",
      "25714/25714 [==============================] - 1s 55us/step - loss: 3.5771 - acc: 0.7781\n",
      "Epoch 8/10\n",
      "25714/25714 [==============================] - 1s 55us/step - loss: 3.5771 - acc: 0.7781\n",
      "Epoch 9/10\n",
      "25714/25714 [==============================] - 1s 55us/step - loss: 3.5771 - acc: 0.7781\n",
      "Epoch 10/10\n",
      "25714/25714 [==============================] - 1s 54us/step - loss: 3.5771 - acc: 0.7781: 1s - loss\n",
      "4286/4286 [==============================] - 1s 153us/step\n",
      "Loss: 3.5612834294266196 | Accuracy: 0.7790480633511813\n",
      "\n",
      "Fold  5\n",
      "Epoch 1/10\n",
      "25715/25715 [==============================] - 3s 107us/step - loss: 12.4160 - acc: 0.2212\n",
      "Epoch 2/10\n",
      "25715/25715 [==============================] - 1s 55us/step - loss: 12.4160 - acc: 0.2212\n",
      "Epoch 3/10\n",
      "25715/25715 [==============================] - 1s 55us/step - loss: 12.4160 - acc: 0.2212\n",
      "Epoch 4/10\n",
      "25715/25715 [==============================] - 1s 57us/step - loss: 12.4160 - acc: 0.2212\n",
      "Epoch 5/10\n",
      "25715/25715 [==============================] - 1s 55us/step - loss: 12.4160 - acc: 0.2212\n",
      "Epoch 6/10\n",
      "25715/25715 [==============================] - 1s 56us/step - loss: 12.4160 - acc: 0.2212\n",
      "Epoch 7/10\n",
      "25715/25715 [==============================] - 1s 55us/step - loss: 12.4160 - acc: 0.2212\n",
      "Epoch 8/10\n",
      "25715/25715 [==============================] - 1s 54us/step - loss: 12.4160 - acc: 0.2212\n",
      "Epoch 9/10\n",
      "25715/25715 [==============================] - 1s 55us/step - loss: 12.4160 - acc: 0.2212\n",
      "Epoch 10/10\n",
      "25715/25715 [==============================] - 1s 55us/step - loss: 12.4160 - acc: 0.2212\n",
      "4285/4285 [==============================] - 1s 158us/step\n",
      "Loss: 12.415341800569514 | Accuracy: 0.22123687283300045\n",
      "\n",
      "Fold  6\n",
      "Epoch 1/10\n",
      "25715/25715 [==============================] - 3s 112us/step - loss: 12.3975 - acc: 0.2224\n",
      "Epoch 2/10\n",
      "25715/25715 [==============================] - 1s 58us/step - loss: 12.3975 - acc: 0.2224\n",
      "Epoch 3/10\n",
      "25715/25715 [==============================] - 1s 57us/step - loss: 12.3975 - acc: 0.2224\n",
      "Epoch 4/10\n",
      "25715/25715 [==============================] - 1s 56us/step - loss: 12.3975 - acc: 0.2224\n",
      "Epoch 5/10\n",
      "25715/25715 [==============================] - 1s 57us/step - loss: 12.3975 - acc: 0.2224\n",
      "Epoch 6/10\n",
      "25715/25715 [==============================] - 1s 58us/step - loss: 12.3975 - acc: 0.2224\n",
      "Epoch 7/10\n",
      "25715/25715 [==============================] - 2s 65us/step - loss: 12.3975 - acc: 0.2224 0s - loss: 12.3922 -\n",
      "Epoch 8/10\n",
      "25715/25715 [==============================] - 2s 65us/step - loss: 12.3975 - acc: 0.2224\n",
      "Epoch 9/10\n",
      "25715/25715 [==============================] - 2s 69us/step - loss: 12.3975 - acc: 0.2224\n",
      "Epoch 10/10\n",
      "25715/25715 [==============================] - 2s 68us/step - loss: 12.3975 - acc: 0.2224\n",
      "4285/4285 [==============================] - 1s 176us/step\n",
      "Loss: 12.404344306108971 | Accuracy: 0.22193698949129467\n"
     ]
    }
   ],
   "source": [
    "Keras_Accuracy_Antes = 0\n",
    "Keras_Loss_Antes = 0\n",
    "\n",
    "for j, (train_idx, val_idx) in enumerate(folds):\n",
    "    \n",
    "    print('\\nFold ',j)\n",
    "    X_train_cv = X_train[train_idx]\n",
    "    y_train_cv = y_train[train_idx]\n",
    "    X_valid_cv = X_train[val_idx]\n",
    "    y_valid_cv= y_train[val_idx]\n",
    "    \n",
    "    name_weights = \"final_model_fold\" + str(j) + \"_weights.h5\"\n",
    "    model = get_model()\n",
    "    model.fit(X_train_cv,\n",
    "              y_train_cv,\n",
    "              epochs=10,\n",
    "              batch_size=32)\n",
    "    \n",
    "    test_loss, test_accuracy = model.evaluate(X_valid_cv, y_valid_cv)\n",
    "    \n",
    "    Keras_Accuracy_Antes = (Keras_Accuracy_Antes + test_accuracy)\n",
    "    Keras_Loss_Antes = (Keras_Loss_Antes + test_loss)\n",
    "    \n",
    "    print(\"Loss: %s | Accuracy: %s\" % (test_loss, test_accuracy))"
   ]
  },
  {
   "cell_type": "code",
   "execution_count": 181,
   "metadata": {},
   "outputs": [
    {
     "name": "stdout",
     "output_type": "stream",
     "text": [
      "0.46028408684933364\n",
      "8.620650371579057\n"
     ]
    }
   ],
   "source": [
    "    Keras_Accuracy_Antes = Keras_Accuracy_Antes/k\n",
    "    Keras_Loss_Antes = Keras_Loss_Antes/k\n",
    "    print(Keras_Accuracy_Antes)\n",
    "    print(Keras_Loss_Antes)"
   ]
  },
  {
   "cell_type": "markdown",
   "metadata": {},
   "source": [
    "# Discretização e Normalização"
   ]
  },
  {
   "cell_type": "markdown",
   "metadata": {},
   "source": [
    "## Corrigindo o atributo Marriage\n",
    "1. Como trata-se de um atributo categórico em que 0 signfica desconhecido, para os que não se sabe o status de relacionamento, serão substituídos por 3, que significa \"outros\".\n",
    "2. Para que tenhamos apenas valores binários, serão criadas duas colunas para cada tipo de status Status_married, Status_single, Status_others."
   ]
  },
  {
   "cell_type": "code",
   "execution_count": 182,
   "metadata": {},
   "outputs": [],
   "source": [
    "df['MARRIAGE'] = df['MARRIAGE'].apply(lambda x: 3 if x==0 else x)"
   ]
  },
  {
   "cell_type": "code",
   "execution_count": 183,
   "metadata": {},
   "outputs": [],
   "source": [
    "Status_married = df['MARRIAGE'].astype(int).apply(lambda x: 1 if x == 1 else 0)\n",
    "Status_single = df['MARRIAGE'].astype(int).apply(lambda x: 1 if x == 2 else 0)\n",
    "Status_others = df['MARRIAGE'].astype(int).apply(lambda x: 1 if x == 3 else 0)\n",
    "df = df.drop(['MARRIAGE'], axis=1)\n",
    "df['Status_married'] = Status_married\n",
    "df['Status_single'] = Status_single\n",
    "df['Status_others'] = Status_others"
   ]
  },
  {
   "cell_type": "markdown",
   "metadata": {
    "collapsed": true
   },
   "source": [
    "## Corrigindo atributo Education\n",
    "1. Como trata-se de um atributo categórico em que 5 e 6 significam desconhecido, nos casos em que que não se sabe o grau de escolaridade, serão substrituídos por 4 que significa \"outros\".\n",
    "2. Será feita uma normalização transoformando os atributos categóricos em binários, criando 4 colunas referentes a educação."
   ]
  },
  {
   "cell_type": "code",
   "execution_count": 184,
   "metadata": {},
   "outputs": [],
   "source": [
    "df['EDUCATION'] = df['EDUCATION'].apply(lambda x: 4 if (x==5 or x==6) else x)"
   ]
  },
  {
   "cell_type": "code",
   "execution_count": 185,
   "metadata": {},
   "outputs": [],
   "source": [
    "#  EDUCATION: (1=graduate school, 2=university, 3=high school, 4=others)\n",
    "EDU_graduateschool = df['EDUCATION'].astype(int).apply(lambda x: 1 if x == 1 else 0)\n",
    "EDU_university = df['EDUCATION'].astype(int).apply(lambda x: 1 if x == 2 else 0)\n",
    "EDU_highschool = df['EDUCATION'].astype(int).apply(lambda x: 1 if x == 3 else 0)\n",
    "EDU_others = df['EDUCATION'].astype(int).apply(lambda x: 1 if x == 4 else 0)\n",
    "df = df.drop(['EDUCATION'], axis=1)\n",
    "df['EDU_graduateschool'] = EDU_graduateschool\n",
    "df['EDU_university'] = EDU_university\n",
    "df['EDU_highschool'] = EDU_highschool\n",
    "df['EDU_others'] = EDU_others"
   ]
  },
  {
   "cell_type": "markdown",
   "metadata": {},
   "source": [
    "## Normalizando valores muito grandes\n",
    "Utilizando MinMaxScaler, a normalização é feita nos atributos LIMIT_BAL, AGE, BILL_AMT1, BILL_AMT2', BILL_AMT3, BILL_AMT4, BILL_AMT5, BILL_AMT6, PAY_AMT1, PAY_AMT2, PAY_AMT3, PAY_AMT4, PAY_AMT5 e PAY_AMT6"
   ]
  },
  {
   "cell_type": "code",
   "execution_count": 186,
   "metadata": {
    "scrolled": true
   },
   "outputs": [],
   "source": [
    "scaler = preprocessing.MinMaxScaler()\n",
    "\n",
    "df[['LIMIT_BAL','AGE','BILL_AMT1','BILL_AMT2','BILL_AMT3','BILL_AMT4','BILL_AMT5','BILL_AMT6','PAY_AMT1','PAY_AMT2','PAY_AMT3','PAY_AMT4','PAY_AMT5','PAY_AMT6']] = scaler.fit_transform(df[['LIMIT_BAL','AGE','BILL_AMT1','BILL_AMT2','BILL_AMT3','BILL_AMT4','BILL_AMT5','BILL_AMT6','PAY_AMT1','PAY_AMT2','PAY_AMT3','PAY_AMT4','PAY_AMT5','PAY_AMT6']].astype(float))\n"
   ]
  },
  {
   "cell_type": "markdown",
   "metadata": {},
   "source": [
    "## Normalizando SEX\n",
    "Para todos que são 2, significando \"feminino\", será posto 0, ficando com 1 para masculino e 0 para feminino."
   ]
  },
  {
   "cell_type": "code",
   "execution_count": 187,
   "metadata": {},
   "outputs": [],
   "source": [
    "df['SEX'] = df['SEX'].astype(int).apply(lambda x: 0 if x == 2 else x)"
   ]
  },
  {
   "cell_type": "markdown",
   "metadata": {},
   "source": [
    "## Normalizando PAY[0,2,3,4,5 e 6]\n",
    "### PAY_0"
   ]
  },
  {
   "cell_type": "code",
   "execution_count": 188,
   "metadata": {},
   "outputs": [],
   "source": [
    "df['PAY_0_duly'] = df['PAY_0'].astype(int).apply(lambda x: 1 if x == -1 else 0)\n",
    "df['PAY_0_D1'] = df['PAY_0'].astype(int).apply(lambda x: 1 if x == 1 else 0)\n",
    "df['PAY_0_D2'] = df['PAY_0'].astype(int).apply(lambda x: 1 if x == 2 else 0)\n",
    "df['PAY_0_D3'] = df['PAY_0'].astype(int).apply(lambda x: 1 if x == 3 else 0)\n",
    "df['PAY_0_D4'] = df['PAY_0'].astype(int).apply(lambda x: 1 if x == 4 else 0)\n",
    "df['PAY_0_D5'] = df['PAY_0'].astype(int).apply(lambda x: 1 if x == 5 else 0)\n",
    "df['PAY_0_D6'] = df['PAY_0'].astype(int).apply(lambda x: 1 if x == 6 else 0)\n",
    "df['PAY_0_D7'] = df['PAY_0'].astype(int).apply(lambda x: 1 if x == 7 else 0)\n",
    "df['PAY_0_D8'] = df['PAY_0'].astype(int).apply(lambda x: 1 if x == 8 else 0)\n",
    "df['PAY_0_D9'] = df['PAY_0'].astype(int).apply(lambda x: 1 if x == 9 else 0)\n",
    "df = df.drop(['PAY_0'], axis=1)\n"
   ]
  },
  {
   "cell_type": "markdown",
   "metadata": {},
   "source": [
    "### PAY_2"
   ]
  },
  {
   "cell_type": "code",
   "execution_count": 189,
   "metadata": {},
   "outputs": [],
   "source": [
    "df['PAY_2_duly'] = df['PAY_2'].astype(int).apply(lambda x: 1 if x == -1 else 0)\n",
    "df['PAY_2_D1'] = df['PAY_2'].astype(int).apply(lambda x: 1 if x == 1 else 0)\n",
    "df['PAY_2_D2'] = df['PAY_2'].astype(int).apply(lambda x: 1 if x == 2 else 0)\n",
    "df['PAY_2_D3'] = df['PAY_2'].astype(int).apply(lambda x: 1 if x == 3 else 0)\n",
    "df['PAY_2_D4'] = df['PAY_2'].astype(int).apply(lambda x: 1 if x == 4 else 0)\n",
    "df['PAY_2_D5'] = df['PAY_2'].astype(int).apply(lambda x: 1 if x == 5 else 0)\n",
    "df['PAY_2_D6'] = df['PAY_2'].astype(int).apply(lambda x: 1 if x == 6 else 0)\n",
    "df['PAY_2_D7'] = df['PAY_2'].astype(int).apply(lambda x: 1 if x == 7 else 0)\n",
    "df['PAY_2_D8'] = df['PAY_2'].astype(int).apply(lambda x: 1 if x == 8 else 0)\n",
    "df['PAY_2_D9'] = df['PAY_2'].astype(int).apply(lambda x: 1 if x == 9 else 0)\n",
    "df = df.drop(['PAY_2'], axis=1)\n"
   ]
  },
  {
   "cell_type": "markdown",
   "metadata": {},
   "source": [
    "### PAY_3"
   ]
  },
  {
   "cell_type": "code",
   "execution_count": 190,
   "metadata": {},
   "outputs": [],
   "source": [
    "df['PAY_3_duly'] = df['PAY_3'].astype(int).apply(lambda x: 1 if x == -1 else 0)\n",
    "df['PAY_3_D1'] = df['PAY_3'].astype(int).apply(lambda x: 1 if x == 1 else 0)\n",
    "df['PAY_3_D2'] = df['PAY_3'].astype(int).apply(lambda x: 1 if x == 2 else 0)\n",
    "df['PAY_3_D3'] = df['PAY_3'].astype(int).apply(lambda x: 1 if x == 3 else 0)\n",
    "df['PAY_3_D4'] = df['PAY_3'].astype(int).apply(lambda x: 1 if x == 4 else 0)\n",
    "df['PAY_3_D5'] = df['PAY_3'].astype(int).apply(lambda x: 1 if x == 5 else 0)\n",
    "df['PAY_3_D6'] = df['PAY_3'].astype(int).apply(lambda x: 1 if x == 6 else 0)\n",
    "df['PAY_3_D7'] = df['PAY_3'].astype(int).apply(lambda x: 1 if x == 7 else 0)\n",
    "df['PAY_3_D8'] = df['PAY_3'].astype(int).apply(lambda x: 1 if x == 8 else 0)\n",
    "df['PAY_3_D9'] = df['PAY_3'].astype(int).apply(lambda x: 1 if x == 9 else 0)\n",
    "df = df.drop(['PAY_3'], axis=1)\n"
   ]
  },
  {
   "cell_type": "markdown",
   "metadata": {},
   "source": [
    "### PAY_4"
   ]
  },
  {
   "cell_type": "code",
   "execution_count": 191,
   "metadata": {},
   "outputs": [],
   "source": [
    "df['PAY_4_duly'] = df['PAY_4'].astype(int).apply(lambda x: 1 if x == -1 else 0)\n",
    "df['PAY_4_D1'] = df['PAY_4'].astype(int).apply(lambda x: 1 if x == 1 else 0)\n",
    "df['PAY_4_D2'] = df['PAY_4'].astype(int).apply(lambda x: 1 if x == 2 else 0)\n",
    "df['PAY_4_D3'] = df['PAY_4'].astype(int).apply(lambda x: 1 if x == 3 else 0)\n",
    "df['PAY_4_D4'] = df['PAY_4'].astype(int).apply(lambda x: 1 if x == 4 else 0)\n",
    "df['PAY_4_D5'] = df['PAY_4'].astype(int).apply(lambda x: 1 if x == 5 else 0)\n",
    "df['PAY_4_D6'] = df['PAY_4'].astype(int).apply(lambda x: 1 if x == 6 else 0)\n",
    "df['PAY_4_D7'] = df['PAY_4'].astype(int).apply(lambda x: 1 if x == 7 else 0)\n",
    "df['PAY_4_D8'] = df['PAY_4'].astype(int).apply(lambda x: 1 if x == 8 else 0)\n",
    "df['PAY_4_D9'] = df['PAY_4'].astype(int).apply(lambda x: 1 if x == 9 else 0)\n",
    "df = df.drop(['PAY_4'], axis=1)\n"
   ]
  },
  {
   "cell_type": "markdown",
   "metadata": {},
   "source": [
    "### PAY_5"
   ]
  },
  {
   "cell_type": "code",
   "execution_count": 192,
   "metadata": {},
   "outputs": [],
   "source": [
    "df['PAY_5_duly'] = df['PAY_5'].astype(int).apply(lambda x: 1 if x == -1 else 0)\n",
    "df['PAY_5_D1'] = df['PAY_5'].astype(int).apply(lambda x: 1 if x == 1 else 0)\n",
    "df['PAY_5_D2'] = df['PAY_5'].astype(int).apply(lambda x: 1 if x == 2 else 0)\n",
    "df['PAY_5_D3'] = df['PAY_5'].astype(int).apply(lambda x: 1 if x == 3 else 0)\n",
    "df['PAY_5_D4'] = df['PAY_5'].astype(int).apply(lambda x: 1 if x == 4 else 0)\n",
    "df['PAY_5_D5'] = df['PAY_5'].astype(int).apply(lambda x: 1 if x == 5 else 0)\n",
    "df['PAY_5_D6'] = df['PAY_5'].astype(int).apply(lambda x: 1 if x == 6 else 0)\n",
    "df['PAY_5_D7'] = df['PAY_5'].astype(int).apply(lambda x: 1 if x == 7 else 0)\n",
    "df['PAY_5_D8'] = df['PAY_5'].astype(int).apply(lambda x: 1 if x == 8 else 0)\n",
    "df['PAY_5_D9'] = df['PAY_5'].astype(int).apply(lambda x: 1 if x == 9 else 0)\n",
    "df = df.drop(['PAY_5'], axis=1)\n"
   ]
  },
  {
   "cell_type": "markdown",
   "metadata": {},
   "source": [
    "### PAY_6"
   ]
  },
  {
   "cell_type": "code",
   "execution_count": 193,
   "metadata": {},
   "outputs": [],
   "source": [
    "df['PAY_6_duly'] = df['PAY_6'].astype(int).apply(lambda x: 1 if x == -1 else 0)\n",
    "df['PAY_6_D1'] = df['PAY_6'].astype(int).apply(lambda x: 1 if x == 1 else 0)\n",
    "df['PAY_6_D2'] = df['PAY_6'].astype(int).apply(lambda x: 1 if x == 2 else 0)\n",
    "df['PAY_6_D3'] = df['PAY_6'].astype(int).apply(lambda x: 1 if x == 3 else 0)\n",
    "df['PAY_6_D4'] = df['PAY_6'].astype(int).apply(lambda x: 1 if x == 4 else 0)\n",
    "df['PAY_6_D5'] = df['PAY_6'].astype(int).apply(lambda x: 1 if x == 5 else 0)\n",
    "df['PAY_6_D6'] = df['PAY_6'].astype(int).apply(lambda x: 1 if x == 6 else 0)\n",
    "df['PAY_6_D7'] = df['PAY_6'].astype(int).apply(lambda x: 1 if x == 7 else 0)\n",
    "df['PAY_6_D8'] = df['PAY_6'].astype(int).apply(lambda x: 1 if x == 8 else 0)\n",
    "df['PAY_6_D9'] = df['PAY_6'].astype(int).apply(lambda x: 1 if x == 9 else 0)\n",
    "df = df.drop(['PAY_6'], axis=1)\n"
   ]
  },
  {
   "cell_type": "markdown",
   "metadata": {},
   "source": [
    "## Pondo a classe como ultima coluna\n"
   ]
  },
  {
   "cell_type": "code",
   "execution_count": 194,
   "metadata": {
    "scrolled": true
   },
   "outputs": [],
   "source": [
    "dfClass = df['default.payment.next.month']\n",
    "df = df.drop(['default.payment.next.month'], axis=1)\n",
    "df['Class'] = dfClass"
   ]
  },
  {
   "cell_type": "markdown",
   "metadata": {
    "collapsed": true
   },
   "source": [
    "# Conteúdo Normalizado\n",
    "\n",
    "## A base possui 30k itens e 84 atributos\n",
    "\n",
    "* **ID**: ID of each client\n",
    "* **LIMIT_BAL**: Amount of given credit in NT dollars (includes individual and family/supplementary credit\n",
    "* **SEX**: Gender (1 = male, 0 = female)\n",
    "\n",
    "* **EDU_graduateschool**: EDUCATION is graduate school (1 = yes, 0 = no)\n",
    "* **EDU_university**: EDUCATION is university (1 = yes, 0 = no)\n",
    "* **EDU_highschool**: EDUCATION is high school (1 = yes, 0 = no)\n",
    "* **EDU_others**: EDUCATION is others (1 = yes, 0 = no)\n",
    "\n",
    "* **AGE**: Age in years\n",
    "\n",
    "Repayment status in September, 2005\n",
    "* **PAY_0_duly**: Pay duly\n",
    "* **PAY_0_D1**: Payment delay for one month (1 = yes, 0 = no)\n",
    "* **PAY_0_D2**: Payment delay for two months (1 = yes, 0 = no)\n",
    "* **PAY_0_D3**: Payment delay for three months (1 = yes, 0 = no)\n",
    "* **PAY_0_D4**: Payment delay for four months (1 = yes, 0 = no)\n",
    "* **PAY_0_D5**: Payment delay for five months (1 = yes, 0 = no)\n",
    "* **PAY_0_D6**: Payment delay for six months (1 = yes, 0 = no)\n",
    "* **PAY_0_D7**: Payment delay for seven months (1 = yes, 0 = no)\n",
    "* **PAY_0_D8**: Payment delay for eight months (1 = yes, 0 = no)\n",
    "* **PAY_0_D9**: Payment delay for nine months and above) (1 = yes, 0 = no)\n",
    "\n",
    "Repayment status in August, 2005\n",
    "* **PAY_2_duly**: Pay duly (1 = yes, 0 = no)\n",
    "* **PAY_2_D1**: Payment delay for one month (1 = yes, 0 = no)\n",
    "* **PAY_2_D2**: Payment delay for two months (1 = yes, 0 = no)\n",
    "* **PAY_2_D3**: Payment delay for three months (1 = yes, 0 = no)\n",
    "* **PAY_2_D4**: Payment delay for four months (1 = yes, 0 = no)\n",
    "* **PAY_2_D5**: Payment delay for five months (1 = yes, 0 = no)\n",
    "* **PAY_2_D6**: Payment delay for six months (1 = yes, 0 = no)\n",
    "* **PAY_2_D7**: Payment delay for seven months (1 = yes, 0 = no)\n",
    "* **PAY_2_D8**: Payment delay for eight months (1 = yes, 0 = no)\n",
    "* **PAY_2_D9**: Payment delay for nine months and above) (1 = yes, 0 = no)\n",
    "\n",
    "Repayment status in July, 2005\n",
    "* **PAY_3_duly**: Pay duly (1 = yes, 0 = no)\n",
    "* **PAY_3_D1**: Payment delay for one month (1 = yes, 0 = no)\n",
    "* **PAY_3_D2**: Payment delay for two months (1 = yes, 0 = no)\n",
    "* **PAY_3_D3**: Payment delay for three months (1 = yes, 0 = no)\n",
    "* **PAY_3_D4**: Payment delay for four months (1 = yes, 0 = no)\n",
    "* **PAY_3_D5**: Payment delay for five months (1 = yes, 0 = no)\n",
    "* **PAY_3_D6**: Payment delay for six months (1 = yes, 0 = no)\n",
    "* **PAY_3_D7**: Payment delay for seven months (1 = yes, 0 = no)\n",
    "* **PAY_3_D8**: Payment delay for eight months (1 = yes, 0 = no)\n",
    "* **PAY_3_D9**: Payment delay for nine months and above) (1 = yes, 0 = no)\n",
    "\n",
    "Repayment status in June, 2005\n",
    "* **PAY_4_duly**: Pay duly (1 = yes, 0 = no)\n",
    "* **PAY_4_D1**: Payment delay for one month (1 = yes, 0 = no)\n",
    "* **PAY_4_D2**: Payment delay for two months (1 = yes, 0 = no)\n",
    "* **PAY_4_D3**: Payment delay for three months (1 = yes, 0 = no)\n",
    "* **PAY_4_D4**: Payment delay for four months (1 = yes, 0 = no)\n",
    "* **PAY_4_D5**: Payment delay for five months (1 = yes, 0 = no)\n",
    "* **PAY_4_D6**: Payment delay for six months (1 = yes, 0 = no)\n",
    "* **PAY_4_D7**: Payment delay for seven months (1 = yes, 0 = no)\n",
    "* **PAY_4_D8**: Payment delay for eight months (1 = yes, 0 = no)\n",
    "* **PAY_4_D9**: Payment delay for nine months and above) (1 = yes, 0 = no)\n",
    "\n",
    "Repayment status in May, 2005\n",
    "* **PAY_5_duly**: Pay duly (1 = yes, 0 = no)\n",
    "* **PAY_5_D1**: Payment delay for one month (1 = yes, 0 = no)\n",
    "* **PAY_5_D2**: Payment delay for two months (1 = yes, 0 = no)\n",
    "* **PAY_5_D3**: Payment delay for three months (1 = yes, 0 = no)\n",
    "* **PAY_5_D4**: Payment delay for four months (1 = yes, 0 = no)\n",
    "* **PAY_5_D5**: Payment delay for five months (1 = yes, 0 = no)\n",
    "* **PAY_5_D6**: Payment delay for six months (1 = yes, 0 = no)\n",
    "* **PAY_5_D7**: Payment delay for seven months (1 = yes, 0 = no)\n",
    "* **PAY_5_D8**: Payment delay for eight months (1 = yes, 0 = no)\n",
    "* **PAY_5_D9**: Payment delay for nine months and above) (1 = yes, 0 = no)\n",
    "\n",
    "Repayment status in April, 2005\n",
    "* **PAY_6_duly**: Pay duly (1 = yes, 0 = no)\n",
    "* **PAY_6_D1**: Payment delay for one month (1 = yes, 0 = no)\n",
    "* **PAY_6_D2**: Payment delay for two months (1 = yes, 0 = no)\n",
    "* **PAY_6_D3**: Payment delay for three months (1 = yes, 0 = no)\n",
    "* **PAY_6_D4**: Payment delay for four months (1 = yes, 0 = no)\n",
    "* **PAY_6_D5**: Payment delay for five months (1 = yes, 0 = no)\n",
    "* **PAY_6_D6**: Payment delay for six months (1 = yes, 0 = no)\n",
    "* **PAY_6_D7**: Payment delay for seven months (1 = yes, 0 = no)\n",
    "* **PAY_6_D8**: Payment delay for eight months (1 = yes, 0 = no)\n",
    "* **PAY_6_D9**: Payment delay for nine months and above) (1 = yes, 0 = no)\n",
    "\n",
    "* **BILL_AMT1**: Amount of bill statement in September, 2005 (Scaled between -1 and 1)\n",
    "* **BILL_AMT2**: Amount of bill statement in August, 2005 (Scaled between -1 and 1)\n",
    "* **BILL_AMT3**: Amount of bill statement in July, 2005 (Scaled between -1 and 1)\n",
    "* **BILL_AMT4**: Amount of bill statement in June, 2005 (Scaled between -1 and 1)\n",
    "* **BILL_AMT5**: Amount of bill statement in May, 2005 (Scaled between -1 and 1)\n",
    "* **BILL_AMT6**: Amount of bill statement in April, 2005 (Scaled between -1 and 1)\n",
    "\n",
    "* **PAY_AMT1**: Amount of previous payment in September, 2005 (Scaled between -1 and 1)\n",
    "* **PAY_AMT2**: Amount of previous payment in August, 2005 (Scaled between -1 and 1)\n",
    "* **PAY_AMT3**: Amount of previous payment in July, 2005 (Scaled between -1 and 1)\n",
    "* **PAY_AMT4**: Amount of previous payment in June, 2005 (Scaled between -1 and 1)\n",
    "* **PAY_AMT5**: Amount of previous payment in May, 2005 (Scaled between -1 and 1)\n",
    "* **PAY_AMT6**: Amount of previous payment in April, 2005 (Scaled between -1 and 1)\n",
    "\n",
    "Class\n",
    "* **Class**: Default payment next month (1 = yes, 0 = no)"
   ]
  },
  {
   "cell_type": "code",
   "execution_count": 195,
   "metadata": {},
   "outputs": [],
   "source": [
    "df.shape\n",
    "df = df.drop('ID', axis=1)"
   ]
  },
  {
   "cell_type": "markdown",
   "metadata": {},
   "source": [
    "# kNN"
   ]
  },
  {
   "cell_type": "code",
   "execution_count": 196,
   "metadata": {},
   "outputs": [
    {
     "name": "stdout",
     "output_type": "stream",
     "text": [
      "21000 foram treinados e  9000 testes foram feitos. Desses, 7297 tiveram resultado correto e 1703 falharam\n",
      "Resultado: 18.92 falharam e 81.08 acertaram\n"
     ]
    }
   ],
   "source": [
    "from sklearn.neighbors import KNeighborsClassifier\n",
    "\n",
    "X = df.drop('Class', axis=1).values\n",
    "y = df.Class.values\n",
    "\n",
    "from sklearn.model_selection import train_test_split\n",
    "\n",
    "X_train, X_test, y_train, y_test = train_test_split(X, y, test_size=0.3)\n",
    "\n",
    "neigh = KNeighborsClassifier(n_neighbors=10)\n",
    "#TREINAMENTO\n",
    "neigh.fit(X_train, y_train) \n",
    "\n",
    "#TESTE\n",
    "\n",
    "Test = neigh.predict(X_test)\n",
    "Real = y_test\n",
    "\n",
    "KNN_Falhas = round((np.sum(Test != Real)*100)/(Test.size), 2)\n",
    "KNN_Acertos = round((np.sum(Test == Real)*100)/(Test.size), 2)\n",
    " \n",
    "\n",
    "print(\"%s foram treinados e  %s testes foram feitos. Desses, %s tiveram resultado correto e %s falharam\" % (y_train.size, Real.size, np.sum(Test == Real), np.sum(Test != Real)))\n",
    "print(\"Resultado: %s falharam e %s acertaram\" % (KNN_Falhas, KNN_Acertos))"
   ]
  },
  {
   "cell_type": "markdown",
   "metadata": {},
   "source": [
    "# Aplicando Keras"
   ]
  },
  {
   "cell_type": "code",
   "execution_count": 197,
   "metadata": {},
   "outputs": [
    {
     "name": "stdout",
     "output_type": "stream",
     "text": [
      "_________________________________________________________________\n",
      "Layer (type)                 Output Shape              Param #   \n",
      "=================================================================\n",
      "dense_202 (Dense)            (None, 46)                3818      \n",
      "_________________________________________________________________\n",
      "dense_203 (Dense)            (None, 46)                2162      \n",
      "_________________________________________________________________\n",
      "dense_204 (Dense)            (None, 1)                 47        \n",
      "=================================================================\n",
      "Total params: 6,027\n",
      "Trainable params: 6,027\n",
      "Non-trainable params: 0\n",
      "_________________________________________________________________\n"
     ]
    }
   ],
   "source": [
    "model = models.Sequential()\n",
    "model.add(layers.Dense(46, activation='relu', input_shape=(2460000,)))\n",
    "model.add(layers.Dense(46, activation='relu'))\n",
    "model.add(layers.Dense(1, activation='softmax'))\n",
    "\n",
    "\n",
    "\n",
    "def load_data_kfold(k):\n",
    "    \n",
    "    train = df\n",
    "    \n",
    "    X_train = np.array(df.drop('Class', axis=1).values)\n",
    "    \n",
    "    y_train = np.array(train[\"Class\"].values)\n",
    "    \n",
    "    folds = list(StratifiedKFold(n_splits=k, shuffle=True, random_state=1).split(X_train, y_train))\n",
    "    \n",
    "    return folds, X_train, y_train\n",
    "\n",
    "k = 7\n",
    "folds, X_train, y_train = load_data_kfold(k)\n",
    "\n",
    "def get_model():\n",
    "    \n",
    "    model = models.Sequential()\n",
    "    \n",
    "    model.add(layers.Dense(46, activation='relu', input_shape=(82,)))\n",
    "    model.add(layers.Dense(46, activation='relu'))\n",
    "    model.add(layers.Dense(1, activation='sigmoid'))\n",
    "    \n",
    "    model.compile(optimizer='rmsprop',\n",
    "                  loss='binary_crossentropy',\n",
    "                  metrics=['accuracy'])\n",
    "\n",
    "    return model\n",
    "\n",
    "\n",
    "model = get_model()\n",
    "model.summary()"
   ]
  },
  {
   "cell_type": "code",
   "execution_count": 198,
   "metadata": {
    "scrolled": false
   },
   "outputs": [
    {
     "name": "stdout",
     "output_type": "stream",
     "text": [
      "\n",
      "Fold  0\n",
      "Epoch 1/10\n",
      "25714/25714 [==============================] - 4s 168us/step - loss: 0.4503 - acc: 0.8143 2s - loss: 0.454\n",
      "Epoch 2/10\n",
      "25714/25714 [==============================] - 2s 63us/step - loss: 0.4378 - acc: 0.8208\n",
      "Epoch 3/10\n",
      "25714/25714 [==============================] - 2s 62us/step - loss: 0.4368 - acc: 0.8215\n",
      "Epoch 4/10\n",
      "25714/25714 [==============================] - 2s 59us/step - loss: 0.4354 - acc: 0.8210\n",
      "Epoch 5/10\n",
      "25714/25714 [==============================] - 2s 59us/step - loss: 0.4352 - acc: 0.8220\n",
      "Epoch 6/10\n",
      "25714/25714 [==============================] - 2s 61us/step - loss: 0.4346 - acc: 0.8225\n",
      "Epoch 7/10\n",
      "25714/25714 [==============================] - 2s 66us/step - loss: 0.4343 - acc: 0.8226\n",
      "Epoch 8/10\n",
      "25714/25714 [==============================] - 2s 66us/step - loss: 0.4336 - acc: 0.8233\n",
      "Epoch 9/10\n",
      "25714/25714 [==============================] - 2s 62us/step - loss: 0.4333 - acc: 0.8239\n",
      "Epoch 10/10\n",
      "25714/25714 [==============================] - 2s 59us/step - loss: 0.4329 - acc: 0.8239\n",
      "4286/4286 [==============================] - 1s 165us/step\n",
      "Loss: 0.43472909098521495 | Accuracy: 0.8154456368740952\n",
      "\n",
      "Fold  1\n",
      "Epoch 1/10\n",
      "25714/25714 [==============================] - 3s 129us/step - loss: 0.4529 - acc: 0.8120\n",
      "Epoch 2/10\n",
      "25714/25714 [==============================] - 2s 69us/step - loss: 0.4387 - acc: 0.8208\n",
      "Epoch 3/10\n",
      "25714/25714 [==============================] - 2s 60us/step - loss: 0.4369 - acc: 0.8226\n",
      "Epoch 4/10\n",
      "25714/25714 [==============================] - 2s 59us/step - loss: 0.4368 - acc: 0.8224\n",
      "Epoch 5/10\n",
      "25714/25714 [==============================] - 2s 61us/step - loss: 0.4361 - acc: 0.8214\n",
      "Epoch 6/10\n",
      "25714/25714 [==============================] - 3s 127us/step - loss: 0.4354 - acc: 0.8220\n",
      "Epoch 7/10\n",
      "25714/25714 [==============================] - 4s 139us/step - loss: 0.4351 - acc: 0.8224\n",
      "Epoch 8/10\n",
      "25714/25714 [==============================] - 2s 96us/step - loss: 0.4344 - acc: 0.8224\n",
      "Epoch 9/10\n",
      "25714/25714 [==============================] - 2s 78us/step - loss: 0.4343 - acc: 0.8230\n",
      "Epoch 10/10\n",
      "25714/25714 [==============================] - 2s 92us/step - loss: 0.4334 - acc: 0.8226\n",
      "4286/4286 [==============================] - 1s 227us/step\n",
      "Loss: 0.4372328850664494 | Accuracy: 0.8198786747828299\n",
      "\n",
      "Fold  2\n",
      "Epoch 1/10\n",
      "25714/25714 [==============================] - 4s 146us/step - loss: 0.4511 - acc: 0.8125 2s - loss: \n",
      "Epoch 2/10\n",
      "25714/25714 [==============================] - 2s 83us/step - loss: 0.4372 - acc: 0.8208: 0s - loss: 0.4375 - acc: 0\n",
      "Epoch 3/10\n",
      "25714/25714 [==============================] - 2s 79us/step - loss: 0.4362 - acc: 0.8222\n",
      "Epoch 4/10\n",
      "25714/25714 [==============================] - 2s 84us/step - loss: 0.4350 - acc: 0.8225\n",
      "Epoch 5/10\n",
      "25714/25714 [==============================] - 2s 79us/step - loss: 0.4344 - acc: 0.8238\n",
      "Epoch 6/10\n",
      "25714/25714 [==============================] - 2s 81us/step - loss: 0.4339 - acc: 0.8232\n",
      "Epoch 7/10\n",
      "25714/25714 [==============================] - 2s 82us/step - loss: 0.4329 - acc: 0.8231\n",
      "Epoch 8/10\n",
      "25714/25714 [==============================] - 2s 84us/step - loss: 0.4321 - acc: 0.8238\n",
      "Epoch 9/10\n",
      "25714/25714 [==============================] - 2s 82us/step - loss: 0.4321 - acc: 0.8236\n",
      "Epoch 10/10\n",
      "25714/25714 [==============================] - 2s 83us/step - loss: 0.4316 - acc: 0.8241\n",
      "4286/4286 [==============================] - 1s 204us/step\n",
      "Loss: 0.44351343968400764 | Accuracy: 0.8187120859443835\n",
      "\n",
      "Fold  3\n",
      "Epoch 1/10\n",
      "25714/25714 [==============================] - 4s 144us/step - loss: 0.4507 - acc: 0.8124\n",
      "Epoch 2/10\n",
      "25714/25714 [==============================] - 2s 74us/step - loss: 0.4367 - acc: 0.8202\n",
      "Epoch 3/10\n",
      "25714/25714 [==============================] - 2s 79us/step - loss: 0.4355 - acc: 0.8213\n",
      "Epoch 4/10\n",
      "25714/25714 [==============================] - 2s 85us/step - loss: 0.4345 - acc: 0.8222: 1s - loss:\n",
      "Epoch 5/10\n",
      "25714/25714 [==============================] - 2s 69us/step - loss: 0.4338 - acc: 0.8217\n",
      "Epoch 6/10\n",
      "25714/25714 [==============================] - 2s 78us/step - loss: 0.4332 - acc: 0.8225\n",
      "Epoch 7/10\n",
      "25714/25714 [==============================] - 2s 71us/step - loss: 0.4325 - acc: 0.8224\n",
      "Epoch 8/10\n",
      "25714/25714 [==============================] - 2s 69us/step - loss: 0.4320 - acc: 0.8235\n",
      "Epoch 9/10\n",
      "25714/25714 [==============================] - 2s 70us/step - loss: 0.4318 - acc: 0.8222\n",
      "Epoch 10/10\n",
      "25714/25714 [==============================] - 2s 74us/step - loss: 0.4308 - acc: 0.8237\n",
      "4286/4286 [==============================] - 1s 209us/step\n",
      "Loss: 0.4433212610977696 | Accuracy: 0.8205786282027152\n",
      "\n",
      "Fold  4\n",
      "Epoch 1/10\n",
      "25714/25714 [==============================] - 4s 151us/step - loss: 0.4538 - acc: 0.8109\n",
      "Epoch 2/10\n",
      "25714/25714 [==============================] - 2s 83us/step - loss: 0.4384 - acc: 0.8196\n",
      "Epoch 3/10\n",
      "25714/25714 [==============================] - 2s 93us/step - loss: 0.4361 - acc: 0.8211\n",
      "Epoch 4/10\n",
      "25714/25714 [==============================] - 2s 88us/step - loss: 0.4358 - acc: 0.8219\n",
      "Epoch 5/10\n",
      "25714/25714 [==============================] - 2s 86us/step - loss: 0.4355 - acc: 0.8220\n",
      "Epoch 6/10\n",
      "25714/25714 [==============================] - 2s 79us/step - loss: 0.4352 - acc: 0.8220\n",
      "Epoch 7/10\n",
      "25714/25714 [==============================] - 2s 84us/step - loss: 0.4343 - acc: 0.8222\n",
      "Epoch 8/10\n",
      "25714/25714 [==============================] - 3s 109us/step - loss: 0.4337 - acc: 0.8224\n",
      "Epoch 9/10\n",
      "25714/25714 [==============================] - 2s 81us/step - loss: 0.4337 - acc: 0.8227\n",
      "Epoch 10/10\n",
      "25714/25714 [==============================] - 2s 79us/step - loss: 0.4333 - acc: 0.8233\n",
      "4286/4286 [==============================] - 1s 204us/step\n",
      "Loss: 0.4368092652046953 | Accuracy: 0.822678487961725\n",
      "\n",
      "Fold  5\n",
      "Epoch 1/10\n",
      "25715/25715 [==============================] - 4s 155us/step - loss: 0.4528 - acc: 0.8129\n",
      "Epoch 2/10\n",
      "25715/25715 [==============================] - 2s 82us/step - loss: 0.4385 - acc: 0.8200\n",
      "Epoch 3/10\n",
      "25715/25715 [==============================] - 2s 85us/step - loss: 0.4366 - acc: 0.8212\n",
      "Epoch 4/10\n",
      "25715/25715 [==============================] - 2s 80us/step - loss: 0.4351 - acc: 0.8210\n",
      "Epoch 5/10\n",
      "25715/25715 [==============================] - 2s 93us/step - loss: 0.4351 - acc: 0.8215\n",
      "Epoch 6/10\n",
      "25715/25715 [==============================] - 2s 83us/step - loss: 0.4342 - acc: 0.8218\n",
      "Epoch 7/10\n",
      "25715/25715 [==============================] - 2s 82us/step - loss: 0.4340 - acc: 0.8222\n",
      "Epoch 8/10\n",
      "25715/25715 [==============================] - 2s 83us/step - loss: 0.4332 - acc: 0.8224\n",
      "Epoch 9/10\n",
      "25715/25715 [==============================] - 2s 85us/step - loss: 0.4324 - acc: 0.8226\n",
      "Epoch 10/10\n",
      "25715/25715 [==============================] - 3s 113us/step - loss: 0.4324 - acc: 0.8232\n",
      "4285/4285 [==============================] - 1s 243us/step\n",
      "Loss: 0.4326229991684717 | Accuracy: 0.8210035007364413\n",
      "\n",
      "Fold  6\n",
      "Epoch 1/10\n",
      "25715/25715 [==============================] - 5s 191us/step - loss: 0.4526 - acc: 0.8131 2s - loss:\n",
      "Epoch 2/10\n",
      "25715/25715 [==============================] - 3s 103us/step - loss: 0.4376 - acc: 0.8205 2s - loss: 0.4295 - acc - ETA:\n",
      "Epoch 3/10\n",
      "25715/25715 [==============================] - 2s 96us/step - loss: 0.4363 - acc: 0.8218\n",
      "Epoch 4/10\n",
      "25715/25715 [==============================] - 3s 107us/step - loss: 0.4353 - acc: 0.8215\n",
      "Epoch 5/10\n",
      "25715/25715 [==============================] - 2s 94us/step - loss: 0.4348 - acc: 0.8218\n",
      "Epoch 6/10\n",
      "25715/25715 [==============================] - 3s 99us/step - loss: 0.4347 - acc: 0.8222\n",
      "Epoch 7/10\n",
      "25715/25715 [==============================] - 2s 93us/step - loss: 0.4343 - acc: 0.8231\n",
      "Epoch 8/10\n",
      "25715/25715 [==============================] - 2s 95us/step - loss: 0.4337 - acc: 0.8233\n",
      "Epoch 9/10\n",
      "25715/25715 [==============================] - 2s 94us/step - loss: 0.4327 - acc: 0.8233\n",
      "Epoch 10/10\n",
      "25715/25715 [==============================] - 2s 93us/step - loss: 0.4321 - acc: 0.8234: 0s - loss: 0.4329 - ac\n",
      "4285/4285 [==============================] - 1s 223us/step\n",
      "Loss: 0.4408376345834765 | Accuracy: 0.8182030337694228\n"
     ]
    }
   ],
   "source": [
    "Keras_Accuracy = 0\n",
    "Keras_Loss = 0\n",
    "\n",
    "for j, (train_idx, val_idx) in enumerate(folds):\n",
    "    \n",
    "    print('\\nFold ',j)\n",
    "    X_train_cv = X_train[train_idx]\n",
    "    y_train_cv = y_train[train_idx]\n",
    "    X_valid_cv = X_train[val_idx]\n",
    "    y_valid_cv= y_train[val_idx]\n",
    "    \n",
    "    name_weights = \"final_model_fold\" + str(j) + \"_weights.h5\"\n",
    "#     callbacks = get_callbacks(name_weights = name_weights, patience_lr=10)\n",
    "#     generator = gen.flow(X_train_cv, y_train_cv, batch_size = batch_size)\n",
    "    model = get_model()\n",
    "    model.fit(X_train_cv,\n",
    "              y_train_cv,\n",
    "              epochs=10,\n",
    "              batch_size=32)\n",
    "    \n",
    "    test_loss, test_accuracy = model.evaluate(X_valid_cv, y_valid_cv)\n",
    "    Keras_Accuracy = (Keras_Accuracy + test_accuracy)\n",
    "    Keras_Loss = (Keras_Loss + test_loss)\n",
    "    print(\"Loss: %s | Accuracy: %s\" % (test_loss, test_accuracy))"
   ]
  },
  {
   "cell_type": "code",
   "execution_count": 199,
   "metadata": {},
   "outputs": [
    {
     "name": "stdout",
     "output_type": "stream",
     "text": [
      "0.8195000068959448\n",
      "0.43843808225572645\n"
     ]
    }
   ],
   "source": [
    "    Keras_Accuracy = Keras_Accuracy/k\n",
    "    Keras_Loss = Keras_Loss/k\n",
    "    print(Keras_Accuracy)\n",
    "    print(Keras_Loss)"
   ]
  },
  {
   "cell_type": "markdown",
   "metadata": {},
   "source": [
    "# Aplicando K-Means "
   ]
  },
  {
   "cell_type": "code",
   "execution_count": 200,
   "metadata": {},
   "outputs": [
    {
     "name": "stdout",
     "output_type": "stream",
     "text": [
      "21000 foram treinados e  9000 testes foram feitos. Desses, 7022 tiveram resultado correto e 1978 falharam\n",
      "Resultado: 21.98 falharam e 78.02 acertaram\n"
     ]
    }
   ],
   "source": [
    "from sklearn.neighbors.nearest_centroid import NearestCentroid\n",
    "import numpy as np\n",
    "\n",
    "X = np.array(df.drop('Class', axis=1).values)\n",
    "y = np.array(df.Class.values)\n",
    "\n",
    "from sklearn.model_selection import train_test_split\n",
    "\n",
    "X_train, X_test, y_train, y_test = train_test_split(X, y, test_size=0.3)\n",
    "\n",
    "\n",
    "\n",
    "\n",
    "clf = NearestCentroid()\n",
    "#TREINAMENTO\n",
    "clf.fit(X_train, y_train) \n",
    "#TESTE\n",
    "\n",
    "clf.fit(X_train, y_train)\n",
    "\n",
    "# clf.predict([[10,7,7,6,4,10,4,1,2], [6,1,1,1,2,1,3,1,1]]) # Saída esperada: array([1, 0])\n",
    "\n",
    "Test = clf.predict(X_test)\n",
    "Real = y_test\n",
    "\n",
    "KMeans_Falhas = round((np.sum(Test != Real)*100)/(Test.size), 2)\n",
    "KMeans_Acertos = round((np.sum(Test == Real)*100)/(Test.size), 2)\n",
    "\n",
    "print(\"%s foram treinados e  %s testes foram feitos. Desses, %s tiveram resultado correto e %s falharam\" % (y_train.size, Real.size, np.sum(Test == Real), np.sum(Test != Real)))\n",
    "print(\"Resultado: %s falharam e %s acertaram\" % (KMeans_Falhas, KMeans_Acertos))"
   ]
  },
  {
   "cell_type": "markdown",
   "metadata": {},
   "source": [
    "# Aplicando Random Forest"
   ]
  },
  {
   "cell_type": "code",
   "execution_count": 208,
   "metadata": {},
   "outputs": [
    {
     "name": "stdout",
     "output_type": "stream",
     "text": [
      "\n",
      "Fold  0\n",
      "Resultado: 18.39 falharam e 81.61 acertaram\n",
      "\n",
      "Fold  1\n",
      "Resultado: 18.48 falharam e 81.52 acertaram\n",
      "\n",
      "Fold  2\n",
      "Resultado: 18.77 falharam e 81.23 acertaram\n",
      "\n",
      "Fold  3\n",
      "Resultado: 18.37 falharam e 81.63 acertaram\n",
      "\n",
      "Resultado Final (Média dos 4 folds): 18.50 falharam e 81.50 acertaram\n"
     ]
    }
   ],
   "source": [
    "from sklearn.ensemble import RandomForestClassifier\n",
    "from sklearn.model_selection import train_test_split\n",
    "\n",
    "RForest_Falhas_Media = 0\n",
    "RForest_Acertos_Media = 0\n",
    "\n",
    "X = np.array(df.drop('Class', axis=1).values)\n",
    "y = np.array(df.Class.values)\n",
    "\n",
    "rf = RandomForestClassifier(n_estimators = 100)\n",
    "\n",
    "k = 4\n",
    "folds, X_train, y_train = load_data_kfold(k)\n",
    "\n",
    "\n",
    "for j, (train_idx, val_idx) in enumerate(folds):\n",
    "    \n",
    "    print('\\nFold ',j)\n",
    "    X_train_cv = X_train[train_idx]\n",
    "    y_train_cv = y_train[train_idx]\n",
    "    X_valid_cv = X_train[val_idx]\n",
    "    y_valid_cv = y_train[val_idx]\n",
    "    \n",
    "    rf.fit(X_train_cv,\n",
    "           y_train_cv) \n",
    "    \n",
    "    Test = rf.predict(X_valid_cv)\n",
    "    Real = y_valid_cv\n",
    "\n",
    "    RForest_Falhas = round((np.sum(Test != Real)*100)/(Test.size), 2)\n",
    "    RForest_Acertos = round((np.sum(Test == Real)*100)/(Test.size), 2)\n",
    "    \n",
    "    RForest_Falhas_Media = (RForest_Falhas_Media + RForest_Falhas)\n",
    "    RForest_Acertos_Media = (RForest_Acertos_Media + RForest_Acertos)\n",
    "\n",
    "    print(\"Resultado: %s falharam e %s acertaram\" % (RForest_Falhas, RForest_Acertos))\n",
    "\n",
    "RForest_Falhas_Media = RForest_Falhas_Media/k\n",
    "RForest_Acertos_Media = RForest_Acertos_Media/k\n",
    "\n",
    "print(\"\\nResultado Final (Média dos %s folds): %.2f falharam e %.2f acertaram\" % (k, RForest_Falhas_Media, RForest_Acertos_Media))"
   ]
  },
  {
   "cell_type": "markdown",
   "metadata": {},
   "source": [
    "# Comparação de Resultados\n"
   ]
  },
  {
   "cell_type": "markdown",
   "metadata": {},
   "source": [
    "## K-Means"
   ]
  },
  {
   "cell_type": "code",
   "execution_count": 209,
   "metadata": {},
   "outputs": [
    {
     "data": {
      "image/png": "[encoded data removed]",
      "text/plain": [
       "<Figure size 432x288 with 1 Axes>"
      ]
     },
     "metadata": {
      "needs_background": "light"
     },
     "output_type": "display_data"
    }
   ],
   "source": [
    "data = {'Antes':[KMeans_Acertos_Antes, KMeans_Falhas_Antes],\n",
    "        'Depois':[KMeans_Acertos, KMeans_Falhas]} \n",
    "\n",
    "# Creates pandas DataFrame. \n",
    "dfResultados = pd.DataFrame(data, index =['Acertos', 'Falhas']) \n",
    "\n",
    "ax = dfResultados.plot.bar(rot=0)"
   ]
  },
  {
   "cell_type": "markdown",
   "metadata": {},
   "source": [
    "## kNN"
   ]
  },
  {
   "cell_type": "code",
   "execution_count": 210,
   "metadata": {},
   "outputs": [
    {
     "data": {
      "image/png": "[encoded data removed]",
      "text/plain": [
       "<Figure size 432x288 with 1 Axes>"
      ]
     },
     "metadata": {
      "needs_background": "light"
     },
     "output_type": "display_data"
    }
   ],
   "source": [
    "data = {'Antes':[KNN_Acertos_Antes, KNN_Falhas_Antes],\n",
    "        'Depois':[KNN_Acertos, KNN_Falhas]} \n",
    "\n",
    "# Creates pandas DataFrame. \n",
    "dfResultados = pd.DataFrame(data, index =['Acertos', 'Falhas']) \n",
    "\n",
    "ax = dfResultados.plot.bar(rot=0)"
   ]
  },
  {
   "cell_type": "markdown",
   "metadata": {},
   "source": [
    "## Keras"
   ]
  },
  {
   "cell_type": "code",
   "execution_count": 211,
   "metadata": {
    "scrolled": true
   },
   "outputs": [
    {
     "name": "stdout",
     "output_type": "stream",
     "text": [
      "Antes \n",
      "Accuracy: 0.46  e Loss: 8.62 \n",
      "Depois \n",
      "Accuracy: 0.82  e Loss: 0.44\n"
     ]
    },
    {
     "data": {
      "image/png": "[encoded data removed]",
      "text/plain": [
       "<Figure size 432x288 with 1 Axes>"
      ]
     },
     "metadata": {
      "needs_background": "light"
     },
     "output_type": "display_data"
    }
   ],
   "source": [
    "data = {'Antes':[Keras_Accuracy_Antes, Keras_Loss_Antes],\n",
    "        'Depois':[Keras_Accuracy, Keras_Loss]} \n",
    "\n",
    "print(\"Antes \\nAccuracy: %.2f  e Loss: %.2f \\nDepois \\nAccuracy: %.2f  e Loss: %.2f\" % (Keras_Accuracy_Antes, Keras_Loss_Antes, Keras_Accuracy, Keras_Loss))\n",
    "\n",
    "# Creates pandas DataFrame. \n",
    "dfResultados = pd.DataFrame(data, index =['Accuracy', 'Loss']) \n",
    "\n",
    "ax = dfResultados.plot.bar(rot=0)"
   ]
  },
  {
   "cell_type": "markdown",
   "metadata": {},
   "source": [
    "## Random Forest"
   ]
  },
  {
   "cell_type": "code",
   "execution_count": 212,
   "metadata": {},
   "outputs": [
    {
     "data": {
      "image/png": "[encoded data removed]",
      "text/plain": [
       "<Figure size 432x288 with 1 Axes>"
      ]
     },
     "metadata": {
      "needs_background": "light"
     },
     "output_type": "display_data"
    }
   ],
   "source": [
    "data = {'Antes':[RForest_Acertos_Media_Antes, RForest_Falhas_Media_Antes],\n",
    "        'Depois':[RForest_Acertos_Media, RForest_Falhas_Media]} \n",
    "\n",
    "# Creates pandas DataFrame. \n",
    "dfResultados = pd.DataFrame(data, index =['Acertos', 'Falhas']) \n",
    "\n",
    "ax = dfResultados.plot.bar(rot=0)"
   ]
  },
  {
   "cell_type": "markdown",
   "metadata": {},
   "source": [
    "## Resultados Gerais"
   ]
  },
  {
   "cell_type": "code",
   "execution_count": 213,
   "metadata": {},
   "outputs": [
    {
     "data": {
      "image/png": "[encoded data removed]",
      "text/plain": [
       "<Figure size 432x288 with 1 Axes>"
      ]
     },
     "metadata": {
      "needs_background": "light"
     },
     "output_type": "display_data"
    }
   ],
   "source": [
    "\n",
    "data = {'K-Means':[KMeans_Acertos_Antes, KMeans_Acertos, KMeans_Falhas_Antes, KMeans_Falhas],\n",
    "        'Random Forest':[RForest_Acertos_Media_Antes, RForest_Acertos_Media, RForest_Falhas_Media_Antes, RForest_Falhas_Media],\n",
    "        'kNN':[KNN_Acertos_Antes, KNN_Acertos, KNN_Falhas_Antes, KNN_Falhas]} \n",
    " \n",
    "    \n",
    "# Creates pandas DataFrame. \n",
    "dfResultados = pd.DataFrame(data, index =['Acertos Antes', 'Acertos Depois', 'Erros Antes', 'Erros Depois']) \n",
    "\n",
    "ax = dfResultados.plot.bar(rot=0)\n",
    "\n",
    "\n"
   ]
  }
 ],
 "metadata": {
  "kernelspec": {
   "display_name": "Python 3",
   "language": "python",
   "name": "python3"
  },
  "language_info": {
   "codemirror_mode": {
    "name": "ipython",
    "version": 3
   },
   "file_extension": ".py",
   "mimetype": "text/x-python",
   "name": "python",
   "nbconvert_exporter": "python",
   "pygments_lexer": "ipython3",
   "version": "3.6.8"
  }
 },
 "nbformat": 4,
 "nbformat_minor": 2
}
