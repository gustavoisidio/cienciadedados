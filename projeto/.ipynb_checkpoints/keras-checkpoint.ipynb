{
 "cells": [
  {
   "cell_type": "code",
   "execution_count": 2,
   "metadata": {},
   "outputs": [
    {
     "name": "stderr",
     "output_type": "stream",
     "text": [
      "Using TensorFlow backend.\n"
     ]
    }
   ],
   "source": [
    "import numpy as np\n",
    "import pandas as pd \n",
    "import matplotlib.pyplot as plt\n",
    "from sklearn import preprocessing\n",
    "\n",
    "import tensorflow as tf\n",
    "from keras import models\n",
    "from keras import layers\n",
    "\n",
    "import math\n",
    "from sklearn.model_selection import train_test_split, StratifiedKFold\n",
    "import keras\n",
    "from keras.models import Sequential, Model\n",
    "from keras.layers import Input, Flatten, Dense, Dropout, Convolution2D, Conv2D, MaxPooling2D, Lambda, GlobalMaxPooling2D, GlobalAveragePooling2D, BatchNormalization, Activation, AveragePooling2D, Concatenate\n",
    "from keras.preprocessing.image import ImageDataGenerator\n",
    "from keras.callbacks import EarlyStopping, ModelCheckpoint, ReduceLROnPlateau\n",
    "from keras.utils import np_utils\n",
    "\n",
    "from IPython.display import Image\n",
    "from IPython.core.display import HTML \n",
    "\n",
    "%matplotlib inline\n",
    "keras.backend.set_image_data_format('channels_last')"
   ]
  },
  {
   "cell_type": "markdown",
   "metadata": {},
   "source": [
    "# Lendo csv pré-processado"
   ]
  },
  {
   "cell_type": "code",
   "execution_count": 3,
   "metadata": {},
   "outputs": [
    {
     "data": {
      "text/html": [
       "<div>\n",
       "<style scoped>\n",
       "    .dataframe tbody tr th:only-of-type {\n",
       "        vertical-align: middle;\n",
       "    }\n",
       "\n",
       "    .dataframe tbody tr th {\n",
       "        vertical-align: top;\n",
       "    }\n",
       "\n",
       "    .dataframe thead th {\n",
       "        text-align: right;\n",
       "    }\n",
       "</style>\n",
       "<table border=\"1\" class=\"dataframe\">\n",
       "  <thead>\n",
       "    <tr style=\"text-align: right;\">\n",
       "      <th></th>\n",
       "      <th>ID</th>\n",
       "      <th>LIMIT_BAL</th>\n",
       "      <th>SEX</th>\n",
       "      <th>AGE</th>\n",
       "      <th>BILL_AMT1</th>\n",
       "      <th>BILL_AMT2</th>\n",
       "      <th>BILL_AMT3</th>\n",
       "      <th>BILL_AMT4</th>\n",
       "      <th>BILL_AMT5</th>\n",
       "      <th>BILL_AMT6</th>\n",
       "      <th>...</th>\n",
       "      <th>PAY_6_D1</th>\n",
       "      <th>PAY_6_D2</th>\n",
       "      <th>PAY_6_D3</th>\n",
       "      <th>PAY_6_D4</th>\n",
       "      <th>PAY_6_D5</th>\n",
       "      <th>PAY_6_D6</th>\n",
       "      <th>PAY_6_D7</th>\n",
       "      <th>PAY_6_D8</th>\n",
       "      <th>PAY_6_D9</th>\n",
       "      <th>Class</th>\n",
       "    </tr>\n",
       "  </thead>\n",
       "  <tbody>\n",
       "    <tr>\n",
       "      <th>0</th>\n",
       "      <td>1</td>\n",
       "      <td>0.010101</td>\n",
       "      <td>0</td>\n",
       "      <td>0.051724</td>\n",
       "      <td>0.149982</td>\n",
       "      <td>0.069164</td>\n",
       "      <td>0.086723</td>\n",
       "      <td>0.160138</td>\n",
       "      <td>0.080648</td>\n",
       "      <td>0.260979</td>\n",
       "      <td>...</td>\n",
       "      <td>0</td>\n",
       "      <td>0</td>\n",
       "      <td>0</td>\n",
       "      <td>0</td>\n",
       "      <td>0</td>\n",
       "      <td>0</td>\n",
       "      <td>0</td>\n",
       "      <td>0</td>\n",
       "      <td>0</td>\n",
       "      <td>1</td>\n",
       "    </tr>\n",
       "    <tr>\n",
       "      <th>1</th>\n",
       "      <td>2</td>\n",
       "      <td>0.111111</td>\n",
       "      <td>0</td>\n",
       "      <td>0.086207</td>\n",
       "      <td>0.148892</td>\n",
       "      <td>0.067858</td>\n",
       "      <td>0.087817</td>\n",
       "      <td>0.163220</td>\n",
       "      <td>0.084074</td>\n",
       "      <td>0.263485</td>\n",
       "      <td>...</td>\n",
       "      <td>0</td>\n",
       "      <td>1</td>\n",
       "      <td>0</td>\n",
       "      <td>0</td>\n",
       "      <td>0</td>\n",
       "      <td>0</td>\n",
       "      <td>0</td>\n",
       "      <td>0</td>\n",
       "      <td>0</td>\n",
       "      <td>1</td>\n",
       "    </tr>\n",
       "    <tr>\n",
       "      <th>2</th>\n",
       "      <td>3</td>\n",
       "      <td>0.080808</td>\n",
       "      <td>0</td>\n",
       "      <td>0.224138</td>\n",
       "      <td>0.172392</td>\n",
       "      <td>0.079532</td>\n",
       "      <td>0.093789</td>\n",
       "      <td>0.173637</td>\n",
       "      <td>0.095470</td>\n",
       "      <td>0.272928</td>\n",
       "      <td>...</td>\n",
       "      <td>0</td>\n",
       "      <td>0</td>\n",
       "      <td>0</td>\n",
       "      <td>0</td>\n",
       "      <td>0</td>\n",
       "      <td>0</td>\n",
       "      <td>0</td>\n",
       "      <td>0</td>\n",
       "      <td>0</td>\n",
       "      <td>0</td>\n",
       "    </tr>\n",
       "    <tr>\n",
       "      <th>3</th>\n",
       "      <td>4</td>\n",
       "      <td>0.040404</td>\n",
       "      <td>0</td>\n",
       "      <td>0.275862</td>\n",
       "      <td>0.188100</td>\n",
       "      <td>0.111995</td>\n",
       "      <td>0.113407</td>\n",
       "      <td>0.186809</td>\n",
       "      <td>0.109363</td>\n",
       "      <td>0.283685</td>\n",
       "      <td>...</td>\n",
       "      <td>0</td>\n",
       "      <td>0</td>\n",
       "      <td>0</td>\n",
       "      <td>0</td>\n",
       "      <td>0</td>\n",
       "      <td>0</td>\n",
       "      <td>0</td>\n",
       "      <td>0</td>\n",
       "      <td>0</td>\n",
       "      <td>0</td>\n",
       "    </tr>\n",
       "    <tr>\n",
       "      <th>4</th>\n",
       "      <td>5</td>\n",
       "      <td>0.040404</td>\n",
       "      <td>1</td>\n",
       "      <td>0.620690</td>\n",
       "      <td>0.154144</td>\n",
       "      <td>0.071601</td>\n",
       "      <td>0.106020</td>\n",
       "      <td>0.179863</td>\n",
       "      <td>0.099633</td>\n",
       "      <td>0.275681</td>\n",
       "      <td>...</td>\n",
       "      <td>0</td>\n",
       "      <td>0</td>\n",
       "      <td>0</td>\n",
       "      <td>0</td>\n",
       "      <td>0</td>\n",
       "      <td>0</td>\n",
       "      <td>0</td>\n",
       "      <td>0</td>\n",
       "      <td>0</td>\n",
       "      <td>0</td>\n",
       "    </tr>\n",
       "  </tbody>\n",
       "</table>\n",
       "<p>5 rows × 84 columns</p>\n",
       "</div>"
      ],
      "text/plain": [
       "   ID  LIMIT_BAL  SEX       AGE  BILL_AMT1  BILL_AMT2  BILL_AMT3  BILL_AMT4  \\\n",
       "0   1   0.010101    0  0.051724   0.149982   0.069164   0.086723   0.160138   \n",
       "1   2   0.111111    0  0.086207   0.148892   0.067858   0.087817   0.163220   \n",
       "2   3   0.080808    0  0.224138   0.172392   0.079532   0.093789   0.173637   \n",
       "3   4   0.040404    0  0.275862   0.188100   0.111995   0.113407   0.186809   \n",
       "4   5   0.040404    1  0.620690   0.154144   0.071601   0.106020   0.179863   \n",
       "\n",
       "   BILL_AMT5  BILL_AMT6  ...  PAY_6_D1  PAY_6_D2  PAY_6_D3  PAY_6_D4  \\\n",
       "0   0.080648   0.260979  ...         0         0         0         0   \n",
       "1   0.084074   0.263485  ...         0         1         0         0   \n",
       "2   0.095470   0.272928  ...         0         0         0         0   \n",
       "3   0.109363   0.283685  ...         0         0         0         0   \n",
       "4   0.099633   0.275681  ...         0         0         0         0   \n",
       "\n",
       "   PAY_6_D5  PAY_6_D6  PAY_6_D7  PAY_6_D8  PAY_6_D9  Class  \n",
       "0         0         0         0         0         0      1  \n",
       "1         0         0         0         0         0      1  \n",
       "2         0         0         0         0         0      0  \n",
       "3         0         0         0         0         0      0  \n",
       "4         0         0         0         0         0      0  \n",
       "\n",
       "[5 rows x 84 columns]"
      ]
     },
     "execution_count": 3,
     "metadata": {},
     "output_type": "execute_result"
    }
   ],
   "source": [
    "df = pd.read_csv(\"credit_preprocessed.csv\")\n",
    "\n",
    "df.head()"
   ]
  },
  {
   "cell_type": "code",
   "execution_count": 4,
   "metadata": {},
   "outputs": [],
   "source": [
    "df.shape\n",
    "df = df.drop('ID', axis=1)"
   ]
  },
  {
   "cell_type": "markdown",
   "metadata": {},
   "source": [
    "# Aplicando Keras"
   ]
  },
  {
   "cell_type": "code",
   "execution_count": 5,
   "metadata": {
    "scrolled": true
   },
   "outputs": [
    {
     "name": "stdout",
     "output_type": "stream",
     "text": [
      "_________________________________________________________________\n",
      "Layer (type)                 Output Shape              Param #   \n",
      "=================================================================\n",
      "dense_4 (Dense)              (None, 46)                3818      \n",
      "_________________________________________________________________\n",
      "dense_5 (Dense)              (None, 46)                2162      \n",
      "_________________________________________________________________\n",
      "dense_6 (Dense)              (None, 1)                 47        \n",
      "=================================================================\n",
      "Total params: 6,027\n",
      "Trainable params: 6,027\n",
      "Non-trainable params: 0\n",
      "_________________________________________________________________\n"
     ]
    }
   ],
   "source": [
    "from sklearn.metrics import confusion_matrix\n",
    "from keras.models import load_model\n",
    "\n",
    "model = models.Sequential()\n",
    "model.add(layers.Dense(46, activation='relu', input_shape=(2460000,)))\n",
    "model.add(layers.Dense(46, activation='relu'))\n",
    "model.add(layers.Dense(1, activation='softmax'))\n",
    "\n",
    "\n",
    "\n",
    "def load_data_kfold(k):\n",
    "    \n",
    "    train = df\n",
    "    \n",
    "    X_train = np.array(df.drop('Class', axis=1).values)\n",
    "    \n",
    "    y_train = np.array(train[\"Class\"].values)\n",
    "    \n",
    "    folds = list(StratifiedKFold(n_splits=k, shuffle=True, random_state=1).split(X_train, y_train))\n",
    "    \n",
    "    return folds, X_train, y_train\n",
    "\n",
    "k = 7\n",
    "folds, X_train, y_train = load_data_kfold(k)\n",
    "\n",
    "def get_model():\n",
    "    \n",
    "    model = models.Sequential()\n",
    "    \n",
    "    model.add(layers.Dense(46, activation='relu', input_shape=(82,)))\n",
    "    model.add(layers.Dense(46, activation='relu'))\n",
    "    model.add(layers.Dense(1, activation='sigmoid'))\n",
    "    \n",
    "    model.compile(optimizer='adam',\n",
    "                  loss='binary_crossentropy',\n",
    "                  metrics=['accuracy'])\n",
    "\n",
    "    return model\n",
    "\n",
    "\n",
    "model = get_model()\n",
    "model.summary()"
   ]
  },
  {
   "cell_type": "code",
   "execution_count": 6,
   "metadata": {
    "scrolled": false
   },
   "outputs": [
    {
     "name": "stdout",
     "output_type": "stream",
     "text": [
      "\n",
      "Fold  0\n",
      "Epoch 1/2\n",
      "25714/25714 [==============================] - 4s 139us/step - loss: 0.4576 - acc: 0.8099\n",
      "Epoch 2/2\n",
      "25714/25714 [==============================] - 1s 58us/step - loss: 0.4371 - acc: 0.8213\n",
      "4286/4286 [==============================] - 0s 28us/step\n",
      "\n",
      "\n",
      "[[3138  200]\n",
      " [ 588  360]]\n",
      "\n",
      "Loss: 0.43\n",
      "Acurácia: 0.816%\n",
      "Sensibilidade: 84.21%\n",
      "Especificidade: 64.28%\n",
      "Eficiencia: 74.25%\n",
      "Valor Preditivo Positivo: 94.00%\n",
      "Valor Preditivo Negativo: 37.97%\n",
      "Coeficiente PHI: 0.39\n",
      "\n",
      "\n",
      "Fold  1\n",
      "Epoch 1/2\n",
      "25714/25714 [==============================] - 1s 56us/step - loss: 0.4545 - acc: 0.8117\n",
      "Epoch 2/2\n",
      "25714/25714 [==============================] - 1s 45us/step - loss: 0.4387 - acc: 0.8207\n",
      "4286/4286 [==============================] - 0s 35us/step\n",
      "\n",
      "\n",
      "[[3164  174]\n",
      " [ 599  349]]\n",
      "\n",
      "Loss: 0.43\n",
      "Acurácia: 0.819%\n",
      "Sensibilidade: 84.08%\n",
      "Especificidade: 66.73%\n",
      "Eficiencia: 75.40%\n",
      "Valor Preditivo Positivo: 94.78%\n",
      "Valor Preditivo Negativo: 36.81%\n",
      "Coeficiente PHI: 0.40\n",
      "\n",
      "\n",
      "Fold  2\n",
      "Epoch 1/2\n",
      "25714/25714 [==============================] - 2s 68us/step - loss: 0.4527 - acc: 0.8101\n",
      "Epoch 2/2\n",
      "25714/25714 [==============================] - 1s 49us/step - loss: 0.4365 - acc: 0.8202\n",
      "4286/4286 [==============================] - 0s 35us/step\n",
      "\n",
      "\n",
      "[[3157  181]\n",
      " [ 600  348]]\n",
      "\n",
      "Loss: 0.43\n",
      "Acurácia: 0.817%\n",
      "Sensibilidade: 84.02%\n",
      "Especificidade: 65.78%\n",
      "Eficiencia: 74.90%\n",
      "Valor Preditivo Positivo: 94.57%\n",
      "Valor Preditivo Negativo: 36.70%\n",
      "Coeficiente PHI: 0.39\n",
      "\n",
      "\n",
      "Fold  3\n",
      "Epoch 1/2\n",
      "25714/25714 [==============================] - 2s 65us/step - loss: 0.4515 - acc: 0.8132\n",
      "Epoch 2/2\n",
      "25714/25714 [==============================] - 1s 55us/step - loss: 0.4360 - acc: 0.8217\n",
      "4286/4286 [==============================] - 0s 44us/step\n",
      "\n",
      "\n",
      "[[3154  184]\n",
      " [ 591  357]]\n",
      "\n",
      "Loss: 0.44\n",
      "Acurácia: 0.819%\n",
      "Sensibilidade: 84.21%\n",
      "Especificidade: 65.98%\n",
      "Eficiencia: 75.10%\n",
      "Valor Preditivo Positivo: 94.48%\n",
      "Valor Preditivo Negativo: 37.65%\n",
      "Coeficiente PHI: 0.40\n",
      "\n",
      "\n",
      "Fold  4\n",
      "Epoch 1/2\n",
      "25714/25714 [==============================] - 2s 69us/step - loss: 0.4537 - acc: 0.8103\n",
      "Epoch 2/2\n",
      "25714/25714 [==============================] - 1s 52us/step - loss: 0.4368 - acc: 0.8205\n",
      "4286/4286 [==============================] - 0s 45us/step\n",
      "\n",
      "\n",
      "[[3222  116]\n",
      " [ 633  315]]\n",
      "\n",
      "Loss: 0.44\n",
      "Acurácia: 0.825%\n",
      "Sensibilidade: 83.57%\n",
      "Especificidade: 73.08%\n",
      "Eficiencia: 78.33%\n",
      "Valor Preditivo Positivo: 96.52%\n",
      "Valor Preditivo Negativo: 33.22%\n",
      "Coeficiente PHI: 0.41\n",
      "\n",
      "\n",
      "Fold  5\n",
      "Epoch 1/2\n",
      "25715/25715 [==============================] - 2s 75us/step - loss: 0.4538 - acc: 0.8098\n",
      "Epoch 2/2\n",
      "25715/25715 [==============================] - 2s 59us/step - loss: 0.4370 - acc: 0.8206\n",
      "4285/4285 [==============================] - 0s 49us/step\n",
      "\n",
      "\n",
      "[[3176  161]\n",
      " [ 602  346]]\n",
      "\n",
      "Loss: 0.43\n",
      "Acurácia: 0.821%\n",
      "Sensibilidade: 84.06%\n",
      "Especificidade: 68.24%\n",
      "Eficiencia: 76.15%\n",
      "Valor Preditivo Positivo: 95.17%\n",
      "Valor Preditivo Negativo: 36.49%\n",
      "Coeficiente PHI: 0.40\n",
      "\n",
      "\n",
      "Fold  6\n",
      "Epoch 1/2\n",
      "25715/25715 [==============================] - 2s 73us/step - loss: 0.4506 - acc: 0.8125\n",
      "Epoch 2/2\n",
      "25715/25715 [==============================] - 1s 57us/step - loss: 0.4364 - acc: 0.8212\n",
      "4285/4285 [==============================] - 0s 56us/step\n",
      "\n",
      "\n",
      "[[3188  149]\n",
      " [ 623  325]]\n",
      "\n",
      "Loss: 0.43\n",
      "Acurácia: 0.819%\n",
      "Sensibilidade: 83.65%\n",
      "Especificidade: 68.56%\n",
      "Eficiencia: 76.10%\n",
      "Valor Preditivo Positivo: 95.53%\n",
      "Valor Preditivo Negativo: 34.28%\n",
      "Coeficiente PHI: 0.39\n",
      "\n",
      "Media  |  Variância\n",
      "\n",
      "Loss: 0.43 | 1.13\n",
      "Acurácia: 0.819% | 7.410%\n",
      "Eficiencia: 75.75% | 1.493%\n",
      "Coeficiente PHI: 0.40 | 3.68\n",
      "Sensibilidade: 83.97% | 0.057%\n",
      "Especificidade: 67.52% | 7.005%\n",
      "Valor Preditivo Positivo: 95.01% | 0.587%\n",
      "Valor Preditivo Negativo: 36.16% | 2.643%\n"
     ]
    }
   ],
   "source": [
    "import math\n",
    "\n",
    "\n",
    "\n",
    "\n",
    "\n",
    "test_loss = np.asarray([])\n",
    "test_accuracy = np.asarray([])\n",
    "test_sensibilidade = np.asarray([])\n",
    "test_especificidade = np.asarray([])\n",
    "test_eficiencia = np.asarray([])\n",
    "test_valor_preditivo_positivo = np.asarray([])\n",
    "test_valor_preditivo_negativo = np.asarray([])\n",
    "test_PHI = np.asarray([])\n",
    "\n",
    "for j, (train_idx, val_idx) in enumerate(folds):\n",
    "    \n",
    "    print('\\nFold ',j)\n",
    "    X_train_cv = X_train[train_idx]\n",
    "    y_train_cv = y_train[train_idx]\n",
    "    X_valid_cv = X_train[val_idx]\n",
    "    y_valid_cv= y_train[val_idx]\n",
    "    \n",
    "    name_weights = \"final_model_fold\" + str(j) + \"_weights.h5\"\n",
    "    model = get_model()\n",
    "    model.fit(X_train_cv,\n",
    "              y_train_cv,\n",
    "              epochs=2,\n",
    "              batch_size=32)\n",
    "    \n",
    "    t_loss, t_accuracy = model.evaluate(X_valid_cv, y_valid_cv)\n",
    "\n",
    "    \n",
    "    y_pred = model.predict(X_valid_cv)\n",
    "    y_pred = (y_pred>0.5)\n",
    "    \n",
    "    cm = confusion_matrix(y_valid_cv, y_pred)\n",
    "    print(\"\\n\")\n",
    "    print(cm)\n",
    "    \n",
    "    VP = cm[0][0]\n",
    "    FP = cm[0][1]\n",
    "    FN = cm[1][0]\n",
    "    VN = cm[1][1]\n",
    "    \n",
    "    test_loss = np.append(test_loss, t_loss)\n",
    "    test_accuracy = np.append(test_accuracy, t_accuracy)\n",
    "    test_sensibilidade = np.append(test_sensibilidade, (VP/(VP+FN))*100)\n",
    "    test_especificidade = np.append(test_especificidade, (VN/(VN+FP))*100)\n",
    "    test_eficiencia = np.append(test_eficiencia, (((VP/(VP+FN)) + (VN/(VN+FP)))/2)*100)\n",
    "    test_valor_preditivo_positivo = np.append(test_valor_preditivo_positivo, (VP/(VP+FP))*100)\n",
    "    test_valor_preditivo_negativo = np.append(test_valor_preditivo_negativo, (VN/(VN+FN))*100)\n",
    "    test_PHI = np.append(test_PHI, (VP*VN - FP*FN) / math.sqrt((VP + FP)*(VP + FN)*(VN + FP)*(VN + FN)))\n",
    "    \n",
    "    if j == 0: fold0 = np.array([test_loss[j], test_accuracy[j], test_eficiencia[j], test_PHI[j], test_sensibilidade[j], test_especificidade[j], test_valor_preditivo_positivo[j], test_valor_preditivo_negativo[j]])\n",
    "    elif j == 1: fold1 = np.array([test_loss[j], test_accuracy[j], test_eficiencia[j], test_PHI[j], test_sensibilidade[j], test_especificidade[j], test_valor_preditivo_positivo[j], test_valor_preditivo_negativo[j]])\n",
    "    elif j == 2: fold2 = np.array([test_loss[j], test_accuracy[j], test_eficiencia[j], test_PHI[j], test_sensibilidade[j], test_especificidade[j], test_valor_preditivo_positivo[j], test_valor_preditivo_negativo[j]])\n",
    "    elif j == 3: fold3 = np.array([test_loss[j], test_accuracy[j], test_eficiencia[j], test_PHI[j], test_sensibilidade[j], test_especificidade[j], test_valor_preditivo_positivo[j], test_valor_preditivo_negativo[j]])\n",
    "    elif j == 4: fold4 = np.array([test_loss[j], test_accuracy[j], test_eficiencia[j], test_PHI[j], test_sensibilidade[j], test_especificidade[j], test_valor_preditivo_positivo[j], test_valor_preditivo_negativo[j]])\n",
    "    elif j == 5: fold5 = np.array([test_loss[j], test_accuracy[j], test_eficiencia[j], test_PHI[j], test_sensibilidade[j], test_especificidade[j], test_valor_preditivo_positivo[j], test_valor_preditivo_negativo[j]])\n",
    "    elif j == 6: fold6 = np.array([test_loss[j], test_accuracy[j], test_eficiencia[j], test_PHI[j], test_sensibilidade[j], test_especificidade[j], test_valor_preditivo_positivo[j], test_valor_preditivo_negativo[j]])\n",
    "\n",
    "    \n",
    "    print(\"\\nLoss: %.4s\" % (test_loss[j]))\n",
    "    print(\"Acurácia: %.5s%%\" % (test_accuracy[j]))\n",
    "    print(\"Sensibilidade: %.5s%%\" % (test_sensibilidade[j]))\n",
    "    print(\"Especificidade: %.5s%%\" %(test_especificidade[j]))\n",
    "    print(\"Eficiencia: %.5s%%\" %(test_eficiencia[j]))\n",
    "    print(\"Valor Preditivo Positivo: %.5s%%\" %(test_valor_preditivo_positivo[j]))\n",
    "    print(\"Valor Preditivo Negativo: %.5s%%\" %(test_valor_preditivo_negativo[j]))\n",
    "    print(\"Coeficiente PHI: %.4s\\n\" % (test_PHI[j]))\n",
    "\n",
    "print(\"Media  |  Variância\")\n",
    "print(\"\\nLoss: %.4s | %.4s\" % (test_loss.mean(), test_loss.var()))\n",
    "print(\"Acurácia: %.5s%% | %.5s%%\" % (test_accuracy.mean(), test_accuracy.var()))\n",
    "print(\"Eficiencia: %.5s%% | %.5s%%\" %(test_eficiencia.mean(), test_eficiencia.var()))\n",
    "print(\"Coeficiente PHI: %.4s | %.4s\" % (test_PHI.mean(), test_PHI.var()))\n",
    "print(\"Sensibilidade: %.5s%% | %.5s%%\" % (test_sensibilidade.mean(), test_sensibilidade.var()))\n",
    "print(\"Especificidade: %.5s%% | %.5s%%\" %(test_especificidade.mean(), test_especificidade.var()))\n",
    "print(\"Valor Preditivo Positivo: %.5s%% | %.5s%%\" %(test_valor_preditivo_positivo.mean(), test_valor_preditivo_positivo.var()))\n",
    "print(\"Valor Preditivo Negativo: %.5s%% | %.5s%%\" %(test_valor_preditivo_negativo.mean(), test_valor_preditivo_negativo.var()))\n",
    "\n",
    "\n",
    "# totalVariation = np.asarray([test_loss.var(), test_accuracy.var(), test_eficiencia.var(), test_PHI.var(), test_sensibilidade.var(), test_especificidade.var(), test_valor_preditivo_positivo.var(), test_valor_preditivo_negativo.var()])\n"
   ]
  },
  {
   "cell_type": "code",
   "execution_count": 7,
   "metadata": {},
   "outputs": [
    {
     "name": "stdout",
     "output_type": "stream",
     "text": [
      "[ 0.43703534  0.81614559 74.25235795  0.39386924 84.21900161 64.28571429\n",
      " 94.00838826 37.97468354]\n"
     ]
    }
   ],
   "source": [
    "print(fold0)"
   ]
  },
  {
   "cell_type": "code",
   "execution_count": 8,
   "metadata": {},
   "outputs": [
    {
     "name": "stdout",
     "output_type": "stream",
     "text": [
      "[0.43703534 0.43076408 0.43828505 0.44094014 0.44043455 0.43429514\n",
      " 0.43917633]\n"
     ]
    }
   ],
   "source": [
    "print(test_loss)"
   ]
  },
  {
   "cell_type": "code",
   "execution_count": 36,
   "metadata": {},
   "outputs": [
    {
     "data": {
      "image/png": "[encoded data removed]",
      "text/plain": [
       "<Figure size 720x360 with 1 Axes>"
      ]
     },
     "metadata": {
      "needs_background": "light"
     },
     "output_type": "display_data"
    }
   ],
   "source": [
    "\n",
    "# data to plot\n",
    "n_groups = 8\n",
    "# means_frank = np.asarray([0, 1, 2, 4])\n",
    "# means_guido = np.asarray([3, 5, 7, 9])\n",
    "\n",
    "# create plot\n",
    "\n",
    "fig, ax = plt.subplots()\n",
    "index = np.arange(n_groups)\n",
    "bar_width = 0.1\n",
    "opacity = 1\n",
    "\n",
    "rects1 = plt.bar(index, fold0, bar_width,\n",
    "alpha=opacity,\n",
    "color='b',\n",
    "label='Fold_0')\n",
    "\n",
    "rects2 = plt.bar(index + bar_width, fold1, bar_width,\n",
    "alpha=opacity,\n",
    "color='g',\n",
    "label='Fold_1')\n",
    "\n",
    "rects3 = plt.bar(index + (bar_width*2), fold2, bar_width,\n",
    "alpha=opacity,\n",
    "color='m',\n",
    "label='Fold_2')\n",
    "\n",
    "rects4 = plt.bar(index + (bar_width*3), fold3, bar_width,\n",
    "alpha=opacity,\n",
    "color='y',\n",
    "label='Fold_3')\n",
    "\n",
    "rects5 = plt.bar(index + (bar_width*4), fold4, bar_width,\n",
    "alpha=opacity,\n",
    "color='r',\n",
    "label='Fold_4')\n",
    "\n",
    "rects6 = plt.bar(index + (bar_width*5), fold5, bar_width,\n",
    "alpha=opacity,\n",
    "color='c',\n",
    "label='Fold_5')\n",
    "\n",
    "rects7 = plt.bar(index + (bar_width*6), fold6, bar_width,\n",
    "alpha=opacity,\n",
    "color='k',\n",
    "label='Fold_6')\n",
    "\n",
    "\n",
    "# plt.xlabel('Person')\n",
    "# plt.ylabel('Scores')\n",
    "plt.title('Resultados das 8 metricas nos 7 folds')\n",
    "plt.xticks(index + bar_width, ('Loss', 'Acurácia', 'Eficiencia', 'PHI', 'Sensibilidade', 'Especificidade', 'VP Positivo', 'VP Negativo'))\n",
    "\n",
    "plt.legend()\n",
    "plt.rcParams['figure.figsize'] = [10, 5]\n",
    "plt.tight_layout()\n",
    "plt.show()\n",
    "\n"
   ]
  },
  {
   "cell_type": "code",
   "execution_count": 37,
   "metadata": {
    "scrolled": false
   },
   "outputs": [
    {
     "data": {
      "image/png": "[encoded data removed]",
      "text/plain": [
       "<Figure size 720x360 with 1 Axes>"
      ]
     },
     "metadata": {
      "needs_background": "light"
     },
     "output_type": "display_data"
    }
   ],
   "source": [
    "data = {'Fold 0':fold0[0],\n",
    "        'Fold 1':fold1[0],\n",
    "        'Fold 2':fold2[0],\n",
    "        'Fold 3':fold3[0],\n",
    "        'Fold 4':fold4[0],\n",
    "        'Fold 5':fold5[0],\n",
    "        'Fold 6':fold6[0]}\n",
    "\n",
    "# Creates pandas DataFrame. \n",
    "dfResultados = pd.DataFrame(data, index =['Loss']) \n",
    "\n",
    "ax = dfResultados.plot.bar(rot=0)"
   ]
  },
  {
   "cell_type": "code",
   "execution_count": 38,
   "metadata": {},
   "outputs": [
    {
     "data": {
      "image/png": "[encoded data removed]",
      "text/plain": [
       "<Figure size 720x360 with 1 Axes>"
      ]
     },
     "metadata": {
      "needs_background": "light"
     },
     "output_type": "display_data"
    }
   ],
   "source": [
    "data = {'Fold 0':fold0[1],\n",
    "        'Fold 1':fold1[1],\n",
    "        'Fold 2':fold2[1],\n",
    "        'Fold 3':fold3[1],\n",
    "        'Fold 4':fold4[1],\n",
    "        'Fold 5':fold5[1],\n",
    "        'Fold 6':fold6[1]}\n",
    "\n",
    "# Creates pandas DataFrame. \n",
    "dfResultados = pd.DataFrame(data, index =['Acurácia']) \n",
    "\n",
    "ax = dfResultados.plot.bar(rot=0)\n",
    "\n"
   ]
  },
  {
   "cell_type": "code",
   "execution_count": 39,
   "metadata": {},
   "outputs": [
    {
     "data": {
      "image/png": "[encoded data removed]",
      "text/plain": [
       "<Figure size 720x360 with 1 Axes>"
      ]
     },
     "metadata": {
      "needs_background": "light"
     },
     "output_type": "display_data"
    }
   ],
   "source": [
    "data = {'Fold 0':fold0[2],\n",
    "        'Fold 1':fold1[2],\n",
    "        'Fold 2':fold2[2],\n",
    "        'Fold 3':fold3[2],\n",
    "        'Fold 4':fold4[2],\n",
    "        'Fold 5':fold5[2],\n",
    "        'Fold 6':fold6[2]}\n",
    "\n",
    "# Creates pandas DataFrame. \n",
    "dfResultados = pd.DataFrame(data, index =['Eficiência']) \n",
    "\n",
    "ax = dfResultados.plot.bar(rot=0)\n",
    "\n"
   ]
  },
  {
   "cell_type": "code",
   "execution_count": 40,
   "metadata": {},
   "outputs": [
    {
     "data": {
      "image/png": "[encoded data removed]",
      "text/plain": [
       "<Figure size 720x360 with 1 Axes>"
      ]
     },
     "metadata": {
      "needs_background": "light"
     },
     "output_type": "display_data"
    }
   ],
   "source": [
    "data = {'Fold 0':fold0[3],\n",
    "        'Fold 1':fold1[3],\n",
    "        'Fold 2':fold2[3],\n",
    "        'Fold 3':fold3[3],\n",
    "        'Fold 4':fold4[3],\n",
    "        'Fold 5':fold5[3],\n",
    "        'Fold 6':fold6[3]}\n",
    "\n",
    "# Creates pandas DataFrame. \n",
    "dfResultados = pd.DataFrame(data, index =['PHI']) \n",
    "\n",
    "ax = dfResultados.plot.bar(rot=0)"
   ]
  },
  {
   "cell_type": "code",
   "execution_count": 41,
   "metadata": {},
   "outputs": [
    {
     "data": {
      "image/png": "[encoded data removed]",
      "text/plain": [
       "<Figure size 720x360 with 1 Axes>"
      ]
     },
     "metadata": {
      "needs_background": "light"
     },
     "output_type": "display_data"
    }
   ],
   "source": [
    "data = {'Fold 0':fold0[4],\n",
    "        'Fold 1':fold1[4],\n",
    "        'Fold 2':fold2[4],\n",
    "        'Fold 3':fold3[4],\n",
    "        'Fold 4':fold4[4],\n",
    "        'Fold 5':fold5[4],\n",
    "        'Fold 6':fold6[4]}\n",
    "\n",
    "# Creates pandas DataFrame. \n",
    "dfResultados = pd.DataFrame(data, index =['Sensibilidade']) \n",
    "\n",
    "ax = dfResultados.plot.bar(rot=0)"
   ]
  },
  {
   "cell_type": "code",
   "execution_count": 42,
   "metadata": {},
   "outputs": [
    {
     "data": {
      "image/png": "[encoded data removed]",
      "text/plain": [
       "<Figure size 720x360 with 1 Axes>"
      ]
     },
     "metadata": {
      "needs_background": "light"
     },
     "output_type": "display_data"
    }
   ],
   "source": [
    "\n",
    "data = {'Fold 0':fold0[5],\n",
    "        'Fold 1':fold1[5],\n",
    "        'Fold 2':fold2[5],\n",
    "        'Fold 3':fold3[5],\n",
    "        'Fold 4':fold4[5],\n",
    "        'Fold 5':fold5[5],\n",
    "        'Fold 6':fold6[5]}\n",
    "\n",
    "# Creates pandas DataFrame. \n",
    "dfResultados = pd.DataFrame(data, index =['Especificidade']) \n",
    "\n",
    "ax = dfResultados.plot.bar(rot=0)"
   ]
  },
  {
   "cell_type": "code",
   "execution_count": 43,
   "metadata": {},
   "outputs": [
    {
     "data": {
      "image/png": "[encoded data removed]",
      "text/plain": [
       "<Figure size 720x360 with 1 Axes>"
      ]
     },
     "metadata": {
      "needs_background": "light"
     },
     "output_type": "display_data"
    }
   ],
   "source": [
    "\n",
    "data = {'Fold 0':fold0[6],\n",
    "        'Fold 1':fold1[6],\n",
    "        'Fold 2':fold2[6],\n",
    "        'Fold 3':fold3[6],\n",
    "        'Fold 4':fold4[6],\n",
    "        'Fold 5':fold5[6],\n",
    "        'Fold 6':fold6[6]}\n",
    "\n",
    "# Creates pandas DataFrame. \n",
    "dfResultados = pd.DataFrame(data, index =['VP Positivo']) \n",
    "\n",
    "ax = dfResultados.plot.bar(rot=0)"
   ]
  },
  {
   "cell_type": "code",
   "execution_count": 44,
   "metadata": {},
   "outputs": [
    {
     "data": {
      "image/png": "[encoded data removed]",
      "text/plain": [
       "<Figure size 720x360 with 1 Axes>"
      ]
     },
     "metadata": {
      "needs_background": "light"
     },
     "output_type": "display_data"
    }
   ],
   "source": [
    "data = {'Fold 0':fold0[7],\n",
    "        'Fold 1':fold1[7],\n",
    "        'Fold 2':fold2[7],\n",
    "        'Fold 3':fold3[7],\n",
    "        'Fold 4':fold4[7],\n",
    "        'Fold 5':fold5[7],\n",
    "        'Fold 6':fold6[7]}\n",
    "\n",
    "# Creates pandas DataFrame. \n",
    "dfResultados = pd.DataFrame(data, index =['VP Negativo']) \n",
    "\n",
    "ax = dfResultados.plot.bar(rot=0)"
   ]
  },
  {
   "cell_type": "code",
   "execution_count": 45,
   "metadata": {
    "scrolled": false
   },
   "outputs": [
    {
     "data": {
      "image/png": "[encoded data removed]",
      "text/plain": [
       "<Figure size 720x360 with 1 Axes>"
      ]
     },
     "metadata": {
      "needs_background": "light"
     },
     "output_type": "display_data"
    }
   ],
   "source": [
    "\n",
    "# data to plot\n",
    "n_groups = 7\n",
    "means_frank = np.asarray([0, 1, 2, 4])\n",
    "means_guido = np.asarray([3, 5, 7, 9])\n",
    "\n",
    "# create plot\n",
    "\n",
    "fig, ax = plt.subplots()\n",
    "index = np.arange(n_groups)\n",
    "bar_width = 0.1\n",
    "opacity = 1\n",
    "\n",
    "rects1 = plt.bar(index, test_loss, bar_width,\n",
    "alpha=opacity,\n",
    "color='b',\n",
    "label='Loss')\n",
    "\n",
    "rects2 = plt.bar(index + bar_width, test_accuracy, bar_width,\n",
    "alpha=opacity,\n",
    "color='c',\n",
    "label='Accuracy')\n",
    "\n",
    "\n",
    "# plt.xlabel('Person')\n",
    "# plt.ylabel('Scores')\n",
    "plt.title('Resultados dos 7 folds')\n",
    "plt.xticks(index + bar_width, ('Fold 0', 'Fold 1', 'Fold 2', 'Fold 3', 'Fold 4', 'Fold 5', 'Fold 6'))\n",
    "plt.legend()\n",
    "plt.rcParams['figure.figsize'] = [10, 5]\n",
    "plt.tight_layout()\n",
    "plt.show()\n",
    "\n",
    "\n"
   ]
  },
  {
   "cell_type": "code",
   "execution_count": 46,
   "metadata": {},
   "outputs": [
    {
     "data": {
      "image/png": "[encoded data removed]",
      "text/plain": [
       "<Figure size 720x360 with 1 Axes>"
      ]
     },
     "metadata": {
      "needs_background": "light"
     },
     "output_type": "display_data"
    }
   ],
   "source": [
    "objects = ('Loss', 'Acurácia', 'Sensibilidade', 'Especificidade', 'Eficiencia', 'VP Positivo', 'VP Negativo', 'PHI')\n",
    "y_pos = np.arange(len(objects))\n",
    "\n",
    "totalVariation = np.asarray([test_loss.var(), test_accuracy.var(), test_eficiencia.var(), test_PHI.var(), test_sensibilidade.var(), test_especificidade.var(), test_valor_preditivo_positivo.var(), test_valor_preditivo_negativo.var()])\n",
    "\n",
    "plt.bar(y_pos, totalVariation, align='center', alpha=0.5, color='g')\n",
    "plt.xticks(y_pos, objects)\n",
    "plt.ylabel('Variação')\n",
    "plt.title('Variação nos 7 folds')\n",
    "plt.rcParams['figure.figsize'] = [20, 5]\n",
    "plt.show()\n"
   ]
  },
  {
   "cell_type": "code",
   "execution_count": 47,
   "metadata": {},
   "outputs": [
    {
     "data": {
      "image/png": "[encoded data removed]",
      "text/plain": [
       "<Figure size 1440x360 with 1 Axes>"
      ]
     },
     "metadata": {
      "needs_background": "light"
     },
     "output_type": "display_data"
    }
   ],
   "source": [
    "objects = ('Loss', 'Acurácia', 'Sensibilidade', 'Especificidade', 'Eficiencia', 'VP Positivo', 'VP Negativo', 'PHI')\n",
    "y_pos = np.arange(len(objects))\n",
    "\n",
    "totalVariation = np.asarray([test_loss.var(), test_accuracy.var(), test_eficiencia.var(), test_PHI.var(), test_sensibilidade.var(), test_especificidade.var(), test_valor_preditivo_positivo.var(), test_valor_preditivo_negativo.var()])\n",
    "\n",
    "plt.bar(y_pos, totalVariation, align='center', alpha=0.5, color='y')\n",
    "plt.xticks(y_pos, objects)\n",
    "plt.ylabel('Variação')\n",
    "plt.title('Variação nos 7 folds')\n",
    "plt.rcParams['figure.figsize'] = [20, 5]\n",
    "plt.show()"
   ]
  },
  {
   "cell_type": "code",
   "execution_count": null,
   "metadata": {},
   "outputs": [],
   "source": []
  },
  {
   "cell_type": "code",
   "execution_count": null,
   "metadata": {},
   "outputs": [],
   "source": []
  }
 ],
 "metadata": {
  "kernelspec": {
   "display_name": "Python 3",
   "language": "python",
   "name": "python3"
  },
  "language_info": {
   "codemirror_mode": {
    "name": "ipython",
    "version": 3
   },
   "file_extension": ".py",
   "mimetype": "text/x-python",
   "name": "python",
   "nbconvert_exporter": "python",
   "pygments_lexer": "ipython3",
   "version": "3.6.8"
  }
 },
 "nbformat": 4,
 "nbformat_minor": 2
}
