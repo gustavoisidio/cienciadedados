{
 "cells": [
  {
   "cell_type": "code",
   "execution_count": 59,
   "metadata": {},
   "outputs": [],
   "source": [
    "import numpy as np\n",
    "import pandas as pd \n",
    "import matplotlib.pyplot as plt\n",
    "from sklearn import preprocessing\n",
    "\n",
    "import tensorflow as tf\n",
    "from keras import models\n",
    "from keras import layers\n",
    "\n",
    "import math\n",
    "from sklearn.model_selection import train_test_split, StratifiedKFold\n",
    "import keras\n",
    "from keras.models import Sequential, Model\n",
    "from keras.layers import Input, Flatten, Dense, Dropout, Convolution2D, Conv2D, MaxPooling2D, Lambda, GlobalMaxPooling2D, GlobalAveragePooling2D, BatchNormalization, Activation, AveragePooling2D, Concatenate\n",
    "from keras.preprocessing.image import ImageDataGenerator\n",
    "from keras.callbacks import EarlyStopping, ModelCheckpoint, ReduceLROnPlateau\n",
    "from keras.utils import np_utils\n",
    "\n",
    "from IPython.display import Image\n",
    "from IPython.core.display import HTML \n",
    "\n",
    "%matplotlib inline\n",
    "keras.backend.set_image_data_format('channels_last')"
   ]
  },
  {
   "cell_type": "code",
   "execution_count": 60,
   "metadata": {
    "scrolled": true
   },
   "outputs": [],
   "source": [
    "df = pd.read_csv(\"credit_preprocessed.csv\")"
   ]
  },
  {
   "cell_type": "code",
   "execution_count": 61,
   "metadata": {},
   "outputs": [],
   "source": [
    "df.shape\n",
    "df = df.drop('ID', axis=1)"
   ]
  },
  {
   "cell_type": "code",
   "execution_count": 62,
   "metadata": {},
   "outputs": [],
   "source": [
    "def load_data_kfold(k):\n",
    "    \n",
    "    train = df\n",
    "    \n",
    "    X_train = np.array(df.drop('Class', axis=1).values)\n",
    "    \n",
    "    y_train = np.array(train[\"Class\"].values)\n",
    "    \n",
    "    folds = list(StratifiedKFold(n_splits=k, shuffle=True, random_state=1).split(X_train, y_train))\n",
    "    \n",
    "    return folds, X_train, y_train"
   ]
  },
  {
   "cell_type": "markdown",
   "metadata": {},
   "source": [
    "# K-Means - euclidean"
   ]
  },
  {
   "cell_type": "code",
   "execution_count": 63,
   "metadata": {},
   "outputs": [
    {
     "name": "stdout",
     "output_type": "stream",
     "text": [
      "\n",
      "Fold  0\n",
      "Resultado: 22.4 falharam e 77.6 acertaram\n",
      "\n",
      "Fold  1\n",
      "Resultado: 21.19 falharam e 78.81 acertaram\n",
      "\n",
      "Fold  2\n",
      "Resultado: 22.14 falharam e 77.86 acertaram\n",
      "\n",
      "Fold  3\n",
      "Resultado: 22.59 falharam e 77.41 acertaram\n",
      "\n",
      "Fold  4\n",
      "Resultado: 21.47 falharam e 78.53 acertaram\n",
      "\n",
      "Fold  5\n",
      "Resultado: 22.01 falharam e 77.99 acertaram\n",
      "\n",
      "Fold  6\n",
      "Resultado: 22.61 falharam e 77.39 acertaram\n",
      "\n",
      "Resultado Final (Média dos 7 folds): 22.06 falharam e 77.94 acertaram\n"
     ]
    }
   ],
   "source": [
    "from sklearn.neighbors.nearest_centroid import NearestCentroid\n",
    "import numpy as np\n",
    "\n",
    "X = np.array(df.drop('Class', axis=1).values)\n",
    "y = np.array(df.Class.values)\n",
    "\n",
    "from sklearn.model_selection import train_test_split\n",
    "\n",
    "# X_train, X_test, y_train, y_test = train_test_split(X, y, test_size=0.3)\n",
    "\n",
    "clf = NearestCentroid(metric='euclidean')\n",
    "\n",
    "k = 7\n",
    "folds, X_train, y_train = load_data_kfold(k)\n",
    "\n",
    "euclidean_Acertos_Total = np.asarray([])\n",
    "euclidean_Falhas_Total = np.asarray([])\n",
    "\n",
    "KMeans_Falhas_euclidean = 0\n",
    "KMeans_Acertos_euclidean = 0\n",
    "\n",
    "for j, (train_idx, val_idx) in enumerate(folds):\n",
    "\n",
    "    print('\\nFold ',j)\n",
    "    X_train_cv = X_train[train_idx]\n",
    "    y_train_cv = y_train[train_idx]\n",
    "    X_valid_cv = X_train[val_idx]\n",
    "    y_valid_cv = y_train[val_idx]\n",
    "\n",
    "    clf.fit(X_train_cv, y_train_cv)\n",
    "\n",
    "    Test = clf.predict(X_valid_cv)\n",
    "    Real = y_valid_cv\n",
    "    \n",
    "    euclidean_Falhas = round((np.sum(Test != Real)*100)/(Test.size), 2)\n",
    "    euclidean_Acertos = round((np.sum(Test == Real)*100)/(Test.size), 2)\n",
    "\n",
    "    KMeans_Falhas_euclidean = (KMeans_Falhas_euclidean + euclidean_Falhas)\n",
    "    KMeans_Acertos_euclidean = (KMeans_Acertos_euclidean + euclidean_Acertos)\n",
    "\n",
    "    print(\"Resultado: %s falharam e %s acertaram\" % (euclidean_Falhas, euclidean_Acertos))\n",
    "\n",
    "KMeans_Falhas_euclidean = KMeans_Falhas_euclidean/k\n",
    "KMeans_Acertos_euclidean = KMeans_Acertos_euclidean/k\n",
    "\n",
    "print(\"\\nResultado Final (Média dos %s folds): %.2f falharam e %.2f acertaram\" % (k, KMeans_Falhas_euclidean, KMeans_Acertos_euclidean))\n",
    "# euclidean_Acertos_Total = np.append(euclidean_Acertos_Total, euclidean_Acertos_Media)\n",
    "# euclidean_Falhas_Total = np.append(euclidean_Falhas_Total, euclidean_Falhas_Media)\n",
    "\n"
   ]
  },
  {
   "cell_type": "markdown",
   "metadata": {},
   "source": [
    "# K-Means - manhattan"
   ]
  },
  {
   "cell_type": "code",
   "execution_count": 64,
   "metadata": {
    "scrolled": true
   },
   "outputs": [
    {
     "name": "stdout",
     "output_type": "stream",
     "text": [
      "\n",
      "Fold  0\n",
      "Resultado: 46.29 falharam e 53.71 acertaram\n",
      "\n",
      "Fold  1\n",
      "Resultado: 45.82 falharam e 54.18 acertaram\n",
      "\n",
      "Fold  2\n",
      "Resultado: 46.85 falharam e 53.15 acertaram\n",
      "\n",
      "Fold  3\n",
      "Resultado: 41.83 falharam e 58.17 acertaram\n",
      "\n",
      "Fold  4\n",
      "Resultado: 42.65 falharam e 57.35 acertaram\n",
      "\n",
      "Fold  5\n",
      "Resultado: 46.21 falharam e 53.79 acertaram\n",
      "\n",
      "Fold  6\n",
      "Resultado: 47.05 falharam e 52.95 acertaram\n",
      "\n",
      "Resultado Final (Média dos 7 folds): 45.24 falharam e 54.76 acertaram\n"
     ]
    }
   ],
   "source": [
    "from sklearn.neighbors.nearest_centroid import NearestCentroid\n",
    "import numpy as np\n",
    "\n",
    "X = np.array(df.drop('Class', axis=1).values)\n",
    "y = np.array(df.Class.values)\n",
    "\n",
    "from sklearn.model_selection import train_test_split\n",
    "\n",
    "# X_train, X_test, y_train, y_test = train_test_split(X, y, test_size=0.3)\n",
    "\n",
    "clf = NearestCentroid(metric='manhattan')\n",
    "\n",
    "k = 7\n",
    "folds, X_train, y_train = load_data_kfold(k)\n",
    "\n",
    "manhattan_Acertos_Total = np.asarray([])\n",
    "manhattan_Falhas_Total = np.asarray([])\n",
    "\n",
    "KMeans_Falhas_manhattan = 0\n",
    "KMeans_Acertos_manhattan = 0\n",
    "\n",
    "for j, (train_idx, val_idx) in enumerate(folds):\n",
    "\n",
    "    print('\\nFold ',j)\n",
    "    X_train_cv = X_train[train_idx]\n",
    "    y_train_cv = y_train[train_idx]\n",
    "    X_valid_cv = X_train[val_idx]\n",
    "    y_valid_cv = y_train[val_idx]\n",
    "\n",
    "    clf.fit(X_train_cv, y_train_cv)\n",
    "\n",
    "    Test = clf.predict(X_valid_cv)\n",
    "    Real = y_valid_cv\n",
    "    \n",
    "    manhattan_Falhas = round((np.sum(Test != Real)*100)/(Test.size), 2)\n",
    "    manhattan_Acertos = round((np.sum(Test == Real)*100)/(Test.size), 2)\n",
    "\n",
    "    KMeans_Falhas_manhattan = (KMeans_Falhas_manhattan + manhattan_Falhas)\n",
    "    KMeans_Acertos_manhattan = (KMeans_Acertos_manhattan + manhattan_Acertos)\n",
    "\n",
    "    print(\"Resultado: %s falharam e %s acertaram\" % (manhattan_Falhas, manhattan_Acertos))\n",
    "\n",
    "KMeans_Falhas_manhattan = KMeans_Falhas_manhattan/k\n",
    "KMeans_Acertos_manhattan = KMeans_Acertos_manhattan/k\n",
    "\n",
    "print(\"\\nResultado Final (Média dos %s folds): %.2f falharam e %.2f acertaram\" % (k, KMeans_Falhas_manhattan, KMeans_Acertos_manhattan))\n",
    "# manhattan_Acertos_Total = np.append(manhattan_Acertos_Total, manhattan_Acertos_Media)\n",
    "# manhattan_Falhas_Total = np.append(manhattan_Falhas_Total, manhattan_Falhas_Media)\n",
    "\n"
   ]
  },
  {
   "cell_type": "markdown",
   "metadata": {},
   "source": [
    "# K-Means - cosine"
   ]
  },
  {
   "cell_type": "code",
   "execution_count": 65,
   "metadata": {
    "scrolled": true
   },
   "outputs": [
    {
     "name": "stdout",
     "output_type": "stream",
     "text": [
      "\n",
      "Fold  0\n",
      "Resultado: 22.89 falharam e 77.11 acertaram\n",
      "\n",
      "Fold  1\n",
      "Resultado: 21.44 falharam e 78.56 acertaram\n",
      "\n",
      "Fold  2\n",
      "Resultado: 22.47 falharam e 77.53 acertaram\n",
      "\n",
      "Fold  3\n",
      "Resultado: 22.82 falharam e 77.18 acertaram\n",
      "\n",
      "Fold  4\n",
      "Resultado: 22.05 falharam e 77.95 acertaram\n",
      "\n",
      "Fold  5\n",
      "Resultado: 22.31 falharam e 77.69 acertaram\n",
      "\n",
      "Fold  6\n",
      "Resultado: 22.92 falharam e 77.08 acertaram\n",
      "\n",
      "Resultado Final (Média dos 7 folds): 22.41 falharam e 77.59 acertaram\n"
     ]
    },
    {
     "name": "stderr",
     "output_type": "stream",
     "text": [
      "/Users/gustavoisidio/.conda/envs/tensorflow/lib/python3.6/site-packages/sklearn/neighbors/nearest_centroid.py:141: UserWarning: Averaging for metrics other than euclidean and manhattan not supported. The average is set to be the mean.\n",
      "  warnings.warn(\"Averaging for metrics other than \"\n",
      "/Users/gustavoisidio/.conda/envs/tensorflow/lib/python3.6/site-packages/sklearn/neighbors/nearest_centroid.py:141: UserWarning: Averaging for metrics other than euclidean and manhattan not supported. The average is set to be the mean.\n",
      "  warnings.warn(\"Averaging for metrics other than \"\n",
      "/Users/gustavoisidio/.conda/envs/tensorflow/lib/python3.6/site-packages/sklearn/neighbors/nearest_centroid.py:141: UserWarning: Averaging for metrics other than euclidean and manhattan not supported. The average is set to be the mean.\n",
      "  warnings.warn(\"Averaging for metrics other than \"\n",
      "/Users/gustavoisidio/.conda/envs/tensorflow/lib/python3.6/site-packages/sklearn/neighbors/nearest_centroid.py:141: UserWarning: Averaging for metrics other than euclidean and manhattan not supported. The average is set to be the mean.\n",
      "  warnings.warn(\"Averaging for metrics other than \"\n",
      "/Users/gustavoisidio/.conda/envs/tensorflow/lib/python3.6/site-packages/sklearn/neighbors/nearest_centroid.py:141: UserWarning: Averaging for metrics other than euclidean and manhattan not supported. The average is set to be the mean.\n",
      "  warnings.warn(\"Averaging for metrics other than \"\n",
      "/Users/gustavoisidio/.conda/envs/tensorflow/lib/python3.6/site-packages/sklearn/neighbors/nearest_centroid.py:141: UserWarning: Averaging for metrics other than euclidean and manhattan not supported. The average is set to be the mean.\n",
      "  warnings.warn(\"Averaging for metrics other than \"\n",
      "/Users/gustavoisidio/.conda/envs/tensorflow/lib/python3.6/site-packages/sklearn/neighbors/nearest_centroid.py:141: UserWarning: Averaging for metrics other than euclidean and manhattan not supported. The average is set to be the mean.\n",
      "  warnings.warn(\"Averaging for metrics other than \"\n"
     ]
    }
   ],
   "source": [
    "from sklearn.neighbors.nearest_centroid import NearestCentroid\n",
    "import numpy as np\n",
    "\n",
    "X = np.array(df.drop('Class', axis=1).values)\n",
    "y = np.array(df.Class.values)\n",
    "\n",
    "from sklearn.model_selection import train_test_split\n",
    "\n",
    "# X_train, X_test, y_train, y_test = train_test_split(X, y, test_size=0.3)\n",
    "\n",
    "clf = NearestCentroid(metric='cosine')\n",
    "\n",
    "k = 7\n",
    "folds, X_train, y_train = load_data_kfold(k)\n",
    "\n",
    "cosine_Acertos_Total = np.asarray([])\n",
    "cosine_Falhas_Total = np.asarray([])\n",
    "\n",
    "KMeans_Falhas_cosine = 0\n",
    "KMeans_Acertos_cosine = 0\n",
    "\n",
    "for j, (train_idx, val_idx) in enumerate(folds):\n",
    "\n",
    "    print('\\nFold ',j)\n",
    "    X_train_cv = X_train[train_idx]\n",
    "    y_train_cv = y_train[train_idx]\n",
    "    X_valid_cv = X_train[val_idx]\n",
    "    y_valid_cv = y_train[val_idx]\n",
    "\n",
    "    clf.fit(X_train_cv, y_train_cv)\n",
    "\n",
    "    Test = clf.predict(X_valid_cv)\n",
    "    Real = y_valid_cv\n",
    "    \n",
    "    cosine_Falhas = round((np.sum(Test != Real)*100)/(Test.size), 2)\n",
    "    cosine_Acertos = round((np.sum(Test == Real)*100)/(Test.size), 2)\n",
    "\n",
    "    KMeans_Falhas_cosine = (KMeans_Falhas_cosine + cosine_Falhas)\n",
    "    KMeans_Acertos_cosine = (KMeans_Acertos_cosine + cosine_Acertos)\n",
    "\n",
    "    print(\"Resultado: %s falharam e %s acertaram\" % (cosine_Falhas, cosine_Acertos))\n",
    "\n",
    "KMeans_Falhas_cosine = KMeans_Falhas_cosine/k\n",
    "KMeans_Acertos_cosine = KMeans_Acertos_cosine/k\n",
    "\n",
    "print(\"\\nResultado Final (Média dos %s folds): %.2f falharam e %.2f acertaram\" % (k, KMeans_Falhas_cosine, KMeans_Acertos_cosine))\n",
    "# cosine_Acertos_Total = np.append(cosine_Acertos_Total, cosine_Acertos_Media)\n",
    "# cosine_Falhas_Total = np.append(cosine_Falhas_Total, cosine_Falhas_Media)\n",
    "\n"
   ]
  },
  {
   "cell_type": "markdown",
   "metadata": {},
   "source": [
    "# K-Means - minkowski"
   ]
  },
  {
   "cell_type": "code",
   "execution_count": 66,
   "metadata": {
    "scrolled": true
   },
   "outputs": [
    {
     "name": "stdout",
     "output_type": "stream",
     "text": [
      "\n",
      "Fold  0\n",
      "Resultado: 22.4 falharam e 77.6 acertaram\n",
      "\n",
      "Fold  1\n",
      "Resultado: 21.19 falharam e 78.81 acertaram\n",
      "\n",
      "Fold  2\n",
      "Resultado: 22.14 falharam e 77.86 acertaram\n",
      "\n",
      "Fold  3\n",
      "Resultado: 22.59 falharam e 77.41 acertaram\n",
      "\n",
      "Fold  4\n",
      "Resultado: 21.47 falharam e 78.53 acertaram\n",
      "\n",
      "Fold  5\n"
     ]
    },
    {
     "name": "stderr",
     "output_type": "stream",
     "text": [
      "/Users/gustavoisidio/.conda/envs/tensorflow/lib/python3.6/site-packages/sklearn/neighbors/nearest_centroid.py:141: UserWarning: Averaging for metrics other than euclidean and manhattan not supported. The average is set to be the mean.\n",
      "  warnings.warn(\"Averaging for metrics other than \"\n",
      "/Users/gustavoisidio/.conda/envs/tensorflow/lib/python3.6/site-packages/sklearn/neighbors/nearest_centroid.py:141: UserWarning: Averaging for metrics other than euclidean and manhattan not supported. The average is set to be the mean.\n",
      "  warnings.warn(\"Averaging for metrics other than \"\n",
      "/Users/gustavoisidio/.conda/envs/tensorflow/lib/python3.6/site-packages/sklearn/neighbors/nearest_centroid.py:141: UserWarning: Averaging for metrics other than euclidean and manhattan not supported. The average is set to be the mean.\n",
      "  warnings.warn(\"Averaging for metrics other than \"\n",
      "/Users/gustavoisidio/.conda/envs/tensorflow/lib/python3.6/site-packages/sklearn/neighbors/nearest_centroid.py:141: UserWarning: Averaging for metrics other than euclidean and manhattan not supported. The average is set to be the mean.\n",
      "  warnings.warn(\"Averaging for metrics other than \"\n",
      "/Users/gustavoisidio/.conda/envs/tensorflow/lib/python3.6/site-packages/sklearn/neighbors/nearest_centroid.py:141: UserWarning: Averaging for metrics other than euclidean and manhattan not supported. The average is set to be the mean.\n",
      "  warnings.warn(\"Averaging for metrics other than \"\n",
      "/Users/gustavoisidio/.conda/envs/tensorflow/lib/python3.6/site-packages/sklearn/neighbors/nearest_centroid.py:141: UserWarning: Averaging for metrics other than euclidean and manhattan not supported. The average is set to be the mean.\n",
      "  warnings.warn(\"Averaging for metrics other than \"\n"
     ]
    },
    {
     "name": "stdout",
     "output_type": "stream",
     "text": [
      "Resultado: 22.01 falharam e 77.99 acertaram\n",
      "\n",
      "Fold  6\n",
      "Resultado: 22.61 falharam e 77.39 acertaram\n",
      "\n",
      "Resultado Final (Média dos 7 folds): 22.06 falharam e 77.94 acertaram\n"
     ]
    },
    {
     "name": "stderr",
     "output_type": "stream",
     "text": [
      "/Users/gustavoisidio/.conda/envs/tensorflow/lib/python3.6/site-packages/sklearn/neighbors/nearest_centroid.py:141: UserWarning: Averaging for metrics other than euclidean and manhattan not supported. The average is set to be the mean.\n",
      "  warnings.warn(\"Averaging for metrics other than \"\n"
     ]
    }
   ],
   "source": [
    "from sklearn.neighbors.nearest_centroid import NearestCentroid\n",
    "import numpy as np\n",
    "\n",
    "X = np.array(df.drop('Class', axis=1).values)\n",
    "y = np.array(df.Class.values)\n",
    "\n",
    "from sklearn.model_selection import train_test_split\n",
    "\n",
    "# X_train, X_test, y_train, y_test = train_test_split(X, y, test_size=0.3)\n",
    "\n",
    "clf = NearestCentroid(metric='minkowski')\n",
    "\n",
    "k = 7\n",
    "folds, X_train, y_train = load_data_kfold(k)\n",
    "\n",
    "minkowski_Acertos_Total = np.asarray([])\n",
    "minkowski_Falhas_Total = np.asarray([])\n",
    "\n",
    "KMeans_Falhas_minkowski = 0\n",
    "KMeans_Acertos_minkowski = 0\n",
    "\n",
    "for j, (train_idx, val_idx) in enumerate(folds):\n",
    "\n",
    "    print('\\nFold ',j)\n",
    "    X_train_cv = X_train[train_idx]\n",
    "    y_train_cv = y_train[train_idx]\n",
    "    X_valid_cv = X_train[val_idx]\n",
    "    y_valid_cv = y_train[val_idx]\n",
    "\n",
    "    clf.fit(X_train_cv, y_train_cv)\n",
    "\n",
    "    Test = clf.predict(X_valid_cv)\n",
    "    Real = y_valid_cv\n",
    "    \n",
    "    minkowski_Falhas = round((np.sum(Test != Real)*100)/(Test.size), 2)\n",
    "    minkowski_Acertos = round((np.sum(Test == Real)*100)/(Test.size), 2)\n",
    "\n",
    "    KMeans_Falhas_minkowski = (KMeans_Falhas_minkowski + minkowski_Falhas)\n",
    "    KMeans_Acertos_minkowski = (KMeans_Acertos_minkowski + minkowski_Acertos)\n",
    "\n",
    "    print(\"Resultado: %s falharam e %s acertaram\" % (minkowski_Falhas, minkowski_Acertos))\n",
    "\n",
    "KMeans_Falhas_minkowski = KMeans_Falhas_minkowski/k\n",
    "KMeans_Acertos_minkowski = KMeans_Acertos_minkowski/k\n",
    "\n",
    "print(\"\\nResultado Final (Média dos %s folds): %.2f falharam e %.2f acertaram\" % (k, KMeans_Falhas_minkowski, KMeans_Acertos_minkowski))\n",
    "# minkowski_Acertos_Total = np.append(minkowski_Acertos_Total, minkowski_Acertos_Media)\n",
    "# minkowski_Falhas_Total = np.append(minkowski_Falhas_Total, minkowski_Falhas_Media)\n",
    "\n"
   ]
  },
  {
   "cell_type": "markdown",
   "metadata": {},
   "source": [
    "# K-Means - braycurtis"
   ]
  },
  {
   "cell_type": "code",
   "execution_count": 67,
   "metadata": {},
   "outputs": [
    {
     "name": "stdout",
     "output_type": "stream",
     "text": [
      "\n",
      "Fold  0\n",
      "Resultado: 21.05 falharam e 78.95 acertaram\n",
      "\n",
      "Fold  1\n",
      "Resultado: 20.0 falharam e 80.0 acertaram\n",
      "\n",
      "Fold  2\n"
     ]
    },
    {
     "name": "stderr",
     "output_type": "stream",
     "text": [
      "/Users/gustavoisidio/.conda/envs/tensorflow/lib/python3.6/site-packages/sklearn/neighbors/nearest_centroid.py:141: UserWarning: Averaging for metrics other than euclidean and manhattan not supported. The average is set to be the mean.\n",
      "  warnings.warn(\"Averaging for metrics other than \"\n",
      "/Users/gustavoisidio/.conda/envs/tensorflow/lib/python3.6/site-packages/sklearn/neighbors/nearest_centroid.py:141: UserWarning: Averaging for metrics other than euclidean and manhattan not supported. The average is set to be the mean.\n",
      "  warnings.warn(\"Averaging for metrics other than \"\n",
      "/Users/gustavoisidio/.conda/envs/tensorflow/lib/python3.6/site-packages/sklearn/neighbors/nearest_centroid.py:141: UserWarning: Averaging for metrics other than euclidean and manhattan not supported. The average is set to be the mean.\n",
      "  warnings.warn(\"Averaging for metrics other than \"\n",
      "/Users/gustavoisidio/.conda/envs/tensorflow/lib/python3.6/site-packages/sklearn/neighbors/nearest_centroid.py:141: UserWarning: Averaging for metrics other than euclidean and manhattan not supported. The average is set to be the mean.\n",
      "  warnings.warn(\"Averaging for metrics other than \"\n"
     ]
    },
    {
     "name": "stdout",
     "output_type": "stream",
     "text": [
      "Resultado: 20.79 falharam e 79.21 acertaram\n",
      "\n",
      "Fold  3\n",
      "Resultado: 20.98 falharam e 79.02 acertaram\n",
      "\n",
      "Fold  4\n",
      "Resultado: 20.16 falharam e 79.84 acertaram\n",
      "\n",
      "Fold  5\n",
      "Resultado: 20.68 falharam e 79.32 acertaram\n",
      "\n",
      "Fold  6\n",
      "Resultado: 21.07 falharam e 78.93 acertaram\n",
      "\n",
      "Resultado Final (Média dos 7 folds): 20.68 falharam e 79.32 acertaram\n"
     ]
    },
    {
     "name": "stderr",
     "output_type": "stream",
     "text": [
      "/Users/gustavoisidio/.conda/envs/tensorflow/lib/python3.6/site-packages/sklearn/neighbors/nearest_centroid.py:141: UserWarning: Averaging for metrics other than euclidean and manhattan not supported. The average is set to be the mean.\n",
      "  warnings.warn(\"Averaging for metrics other than \"\n",
      "/Users/gustavoisidio/.conda/envs/tensorflow/lib/python3.6/site-packages/sklearn/neighbors/nearest_centroid.py:141: UserWarning: Averaging for metrics other than euclidean and manhattan not supported. The average is set to be the mean.\n",
      "  warnings.warn(\"Averaging for metrics other than \"\n",
      "/Users/gustavoisidio/.conda/envs/tensorflow/lib/python3.6/site-packages/sklearn/neighbors/nearest_centroid.py:141: UserWarning: Averaging for metrics other than euclidean and manhattan not supported. The average is set to be the mean.\n",
      "  warnings.warn(\"Averaging for metrics other than \"\n"
     ]
    }
   ],
   "source": [
    "from sklearn.neighbors.nearest_centroid import NearestCentroid\n",
    "import numpy as np\n",
    "\n",
    "X = np.array(df.drop('Class', axis=1).values)\n",
    "y = np.array(df.Class.values)\n",
    "\n",
    "from sklearn.model_selection import train_test_split\n",
    "\n",
    "# X_train, X_test, y_train, y_test = train_test_split(X, y, test_size=0.3)\n",
    "\n",
    "clf = NearestCentroid(metric='braycurtis')\n",
    "\n",
    "k = 7\n",
    "folds, X_train, y_train = load_data_kfold(k)\n",
    "\n",
    "braycurtis_Acertos_Total = np.asarray([])\n",
    "braycurtis_Falhas_Total = np.asarray([])\n",
    "\n",
    "KMeans_Falhas_braycurtis = 0\n",
    "KMeans_Acertos_braycurtis = 0\n",
    "\n",
    "for j, (train_idx, val_idx) in enumerate(folds):\n",
    "\n",
    "    print('\\nFold ',j)\n",
    "    X_train_cv = X_train[train_idx]\n",
    "    y_train_cv = y_train[train_idx]\n",
    "    X_valid_cv = X_train[val_idx]\n",
    "    y_valid_cv = y_train[val_idx]\n",
    "\n",
    "    clf.fit(X_train_cv, y_train_cv)\n",
    "\n",
    "    Test = clf.predict(X_valid_cv)\n",
    "    Real = y_valid_cv\n",
    "    \n",
    "    braycurtis_Falhas = round((np.sum(Test != Real)*100)/(Test.size), 2)\n",
    "    braycurtis_Acertos = round((np.sum(Test == Real)*100)/(Test.size), 2)\n",
    "\n",
    "    KMeans_Falhas_braycurtis = (KMeans_Falhas_braycurtis + braycurtis_Falhas)\n",
    "    KMeans_Acertos_braycurtis = (KMeans_Acertos_braycurtis + braycurtis_Acertos)\n",
    "\n",
    "    print(\"Resultado: %s falharam e %s acertaram\" % (braycurtis_Falhas, braycurtis_Acertos))\n",
    "\n",
    "KMeans_Falhas_braycurtis = KMeans_Falhas_braycurtis/k\n",
    "KMeans_Acertos_braycurtis = KMeans_Acertos_braycurtis/k\n",
    "\n",
    "print(\"\\nResultado Final (Média dos %s folds): %.2f falharam e %.2f acertaram\" % (k, KMeans_Falhas_braycurtis, KMeans_Acertos_braycurtis))\n",
    "# braycurtis_Acertos_Total = np.append(braycurtis_Acertos_Total, braycurtis_Acertos_Media)\n",
    "# braycurtis_Falhas_Total = np.append(braycurtis_Falhas_Total, braycurtis_Falhas_Media)\n"
   ]
  },
  {
   "cell_type": "code",
   "execution_count": 74,
   "metadata": {
    "scrolled": false
   },
   "outputs": [
    {
     "data": {
      "text/plain": [
       "(53, 80)"
      ]
     },
     "execution_count": 74,
     "metadata": {},
     "output_type": "execute_result"
    },
    {
     "data": {
      "image/png": "[encoded data removed]",
      "text/plain": [
       "<Figure size 720x720 with 1 Axes>"
      ]
     },
     "metadata": {
      "needs_background": "light"
     },
     "output_type": "display_data"
    }
   ],
   "source": [
    "\n",
    "data = {'manhattan':[KMeans_Acertos_manhattan],\n",
    "        'cosine':[KMeans_Acertos_cosine],\n",
    "        'euclidean':[KMeans_Acertos_euclidian],\n",
    "        'minkowski':[KMeans_Acertos_minkowski],\n",
    "        'braycurtis':[KMeans_Acertos_braycurtis]} \n",
    " \n",
    "    \n",
    "# Creates pandas DataFrame. \n",
    "dfResultados = pd.DataFrame(data, index =['Acertos']) \n",
    "\n",
    "plt.rcParams['figure.figsize'] = [10, 10]\n",
    "\n",
    "ax = dfResultados.plot.bar(rot=0)\n",
    "ax.set_ylim(53, 80)\n",
    "\n"
   ]
  },
  {
   "cell_type": "code",
   "execution_count": 73,
   "metadata": {},
   "outputs": [
    {
     "data": {
      "text/plain": [
       "(0, 47)"
      ]
     },
     "execution_count": 73,
     "metadata": {},
     "output_type": "execute_result"
    },
    {
     "data": {
      "image/png": "[encoded data removed]",
      "text/plain": [
       "<Figure size 720x720 with 1 Axes>"
      ]
     },
     "metadata": {
      "needs_background": "light"
     },
     "output_type": "display_data"
    }
   ],
   "source": [
    "\n",
    "data = {'manhattan':[KMeans_Falhas_manhattan],\n",
    "        'cosine':[KMeans_Falhas_cosine],\n",
    "        'euclidean':[KMeans_Falhas_euclidian],\n",
    "        'minkowski':[KMeans_Falhas_minkowski],\n",
    "        'braycurtis':[KMeans_Falhas_braycurtis]} \n",
    " \n",
    "    \n",
    "# Creates pandas DataFrame. \n",
    "dfResultados = pd.DataFrame(data, index =['Erros']) \n",
    "\n",
    "plt.rcParams['figure.figsize'] = [10, 10]\n",
    "\n",
    "ax = dfResultados.plot.bar(rot=0)\n",
    "ax.set_ylim(0, 47)\n",
    "\n",
    "\n"
   ]
  },
  {
   "cell_type": "code",
   "execution_count": null,
   "metadata": {},
   "outputs": [],
   "source": []
  }
 ],
 "metadata": {
  "kernelspec": {
   "display_name": "Python 3",
   "language": "python",
   "name": "python3"
  },
  "language_info": {
   "codemirror_mode": {
    "name": "ipython",
    "version": 3
   },
   "file_extension": ".py",
   "mimetype": "text/x-python",
   "name": "python",
   "nbconvert_exporter": "python",
   "pygments_lexer": "ipython3",
   "version": "3.6.8"
  }
 },
 "nbformat": 4,
 "nbformat_minor": 2
}
