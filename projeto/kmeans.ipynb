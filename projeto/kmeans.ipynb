{
 "cells": [
  {
   "cell_type": "code",
   "execution_count": 8,
   "metadata": {},
   "outputs": [],
   "source": [
    "import numpy as np\n",
    "import pandas as pd \n",
    "import matplotlib.pyplot as plt\n",
    "from sklearn import preprocessing\n",
    "\n",
    "import tensorflow as tf\n",
    "from keras import models\n",
    "from keras import layers\n",
    "\n",
    "import math\n",
    "from sklearn.model_selection import train_test_split, StratifiedKFold\n",
    "import keras\n",
    "from keras.models import Sequential, Model\n",
    "from keras.layers import Input, Flatten, Dense, Dropout, Convolution2D, Conv2D, MaxPooling2D, Lambda, GlobalMaxPooling2D, GlobalAveragePooling2D, BatchNormalization, Activation, AveragePooling2D, Concatenate\n",
    "from keras.preprocessing.image import ImageDataGenerator\n",
    "from keras.callbacks import EarlyStopping, ModelCheckpoint, ReduceLROnPlateau\n",
    "from keras.utils import np_utils\n",
    "\n",
    "from IPython.display import Image\n",
    "from IPython.core.display import HTML \n",
    "\n",
    "%matplotlib inline\n",
    "keras.backend.set_image_data_format('channels_last')"
   ]
  },
  {
   "cell_type": "markdown",
   "metadata": {},
   "source": [
    "### Carregando o arquivo da base, UCI_Credit_Card.csv, e nomeando cada um dos seus atributos originais como explicado acima"
   ]
  },
  {
   "cell_type": "code",
   "execution_count": 9,
   "metadata": {
    "scrolled": false
   },
   "outputs": [],
   "source": [
    "df = pd.read_csv(\"UCI_Credit_Card.csv\", names = [\"ID\",\"LIMIT_BAL\",\"SEX\",\"EDUCATION\",\"MARRIAGE\",\"AGE\",\"PAY_0\",\"PAY_2\",\"PAY_3\",\"PAY_4\",\"PAY_5\",\"PAY_6\",\"BILL_AMT1\",\"BILL_AMT2\",\"BILL_AMT3\",\"BILL_AMT4\",\"BILL_AMT5\",\"BILL_AMT6\",\"PAY_AMT1\",\"PAY_AMT2\",\"PAY_AMT3\",\"PAY_AMT4\",\"PAY_AMT5\",\"PAY_AMT6\",\"default.payment.next.month\"])\n",
    "df = df.drop([0])\n"
   ]
  },
  {
   "cell_type": "markdown",
   "metadata": {},
   "source": [
    "# Aplicando K-Means"
   ]
  },
  {
   "cell_type": "markdown",
   "metadata": {},
   "source": [
    "## K-Means"
   ]
  },
  {
   "cell_type": "code",
   "execution_count": 10,
   "metadata": {},
   "outputs": [
    {
     "name": "stdout",
     "output_type": "stream",
     "text": [
      "21000 foram treinados e  9000 testes foram feitos. Desses, 4811 tiveram resultado correto e 4189 falharam\n",
      "Resultado: 46.54 falharam e 53.46 acertaram\n"
     ]
    }
   ],
   "source": [
    "from sklearn.neighbors.nearest_centroid import NearestCentroid\n",
    "import numpy as np\n",
    "\n",
    "X = np.array((df.drop('default.payment.next.month', axis=1)).drop('ID', axis=1).values)\n",
    "y = np.array(df['default.payment.next.month'].values)\n",
    "\n",
    "from sklearn.model_selection import train_test_split\n",
    "\n",
    "X_train, X_test, y_train, y_test = train_test_split(X, y, test_size=0.3)\n",
    "\n",
    "\n",
    "\n",
    "\n",
    "clf = NearestCentroid()\n",
    "#TREINAMENTO\n",
    "clf.fit(X_train, y_train) \n",
    "#TESTE\n",
    "\n",
    "clf.fit(X_train, y_train)\n",
    "\n",
    "# clf.predict([[10,7,7,6,4,10,4,1,2], [6,1,1,1,2,1,3,1,1]]) # Saída esperada: array([1, 0])\n",
    "\n",
    "Test = clf.predict(X_test)\n",
    "Real = y_test\n",
    "\n",
    "KMeans_Falhas_Antes = round((np.sum(Test != Real)*100)/(Test.size), 2)\n",
    "KMeans_Acertos_Antes = round((np.sum(Test == Real)*100)/(Test.size), 2)\n",
    "\n",
    "print(\"%s foram treinados e  %s testes foram feitos. Desses, %s tiveram resultado correto e %s falharam\" % (y_train.size, Real.size, np.sum(Test == Real), np.sum(Test != Real)))\n",
    "print(\"Resultado: %s falharam e %s acertaram\" % (KMeans_Falhas_Antes, KMeans_Acertos_Antes))"
   ]
  },
  {
   "cell_type": "code",
   "execution_count": 11,
   "metadata": {
    "scrolled": true
   },
   "outputs": [],
   "source": [
    "df = pd.read_csv(\"credit_preprocessed.csv\")"
   ]
  },
  {
   "cell_type": "code",
   "execution_count": 12,
   "metadata": {},
   "outputs": [],
   "source": [
    "df.shape\n",
    "df = df.drop('ID', axis=1)"
   ]
  },
  {
   "cell_type": "markdown",
   "metadata": {},
   "source": [
    "# Aplicando K-Means - Após pré-processamento"
   ]
  },
  {
   "cell_type": "code",
   "execution_count": 13,
   "metadata": {},
   "outputs": [
    {
     "name": "stdout",
     "output_type": "stream",
     "text": [
      "21000 foram treinados e  9000 testes foram feitos. Desses, 7005 tiveram resultado correto e 1995 falharam\n",
      "Resultado: 22.17 falharam e 77.83 acertaram\n"
     ]
    }
   ],
   "source": [
    "from sklearn.neighbors.nearest_centroid import NearestCentroid\n",
    "import numpy as np\n",
    "\n",
    "X = np.array(df.drop('Class', axis=1).values)\n",
    "y = np.array(df.Class.values)\n",
    "\n",
    "from sklearn.model_selection import train_test_split\n",
    "\n",
    "X_train, X_test, y_train, y_test = train_test_split(X, y, test_size=0.3)\n",
    "\n",
    "\n",
    "\n",
    "\n",
    "clf = NearestCentroid()\n",
    "#TREINAMENTO\n",
    "clf.fit(X_train, y_train) \n",
    "#TESTE\n",
    "\n",
    "clf.fit(X_train, y_train)\n",
    "\n",
    "# clf.predict([[10,7,7,6,4,10,4,1,2], [6,1,1,1,2,1,3,1,1]]) # Saída esperada: array([1, 0])\n",
    "\n",
    "Test = clf.predict(X_test)\n",
    "Real = y_test\n",
    "\n",
    "KMeans_Falhas = round((np.sum(Test != Real)*100)/(Test.size), 2)\n",
    "KMeans_Acertos = round((np.sum(Test == Real)*100)/(Test.size), 2)\n",
    "\n",
    "print(\"%s foram treinados e  %s testes foram feitos. Desses, %s tiveram resultado correto e %s falharam\" % (y_train.size, Real.size, np.sum(Test == Real), np.sum(Test != Real)))\n",
    "print(\"Resultado: %s falharam e %s acertaram\" % (KMeans_Falhas, KMeans_Acertos))"
   ]
  },
  {
   "cell_type": "markdown",
   "metadata": {},
   "source": [
    "# Comparação de Resultados\n"
   ]
  },
  {
   "cell_type": "code",
   "execution_count": 14,
   "metadata": {},
   "outputs": [
    {
     "data": {
      "image/png": "[encoded data removed]",
      "text/plain": [
       "<Figure size 432x288 with 1 Axes>"
      ]
     },
     "metadata": {
      "needs_background": "light"
     },
     "output_type": "display_data"
    }
   ],
   "source": [
    "data = {'Antes':[KMeans_Acertos_Antes, KMeans_Falhas_Antes],\n",
    "        'Depois':[KMeans_Acertos, KMeans_Falhas]} \n",
    "\n",
    "# Creates pandas DataFrame. \n",
    "dfResultados = pd.DataFrame(data, index =['Acertos', 'Falhas']) \n",
    "\n",
    "ax = dfResultados.plot.bar(rot=0)"
   ]
  }
 ],
 "metadata": {
  "kernelspec": {
   "display_name": "Python 3",
   "language": "python",
   "name": "python3"
  },
  "language_info": {
   "codemirror_mode": {
    "name": "ipython",
    "version": 3
   },
   "file_extension": ".py",
   "mimetype": "text/x-python",
   "name": "python",
   "nbconvert_exporter": "python",
   "pygments_lexer": "ipython3",
   "version": "3.6.8"
  }
 },
 "nbformat": 4,
 "nbformat_minor": 2
}
