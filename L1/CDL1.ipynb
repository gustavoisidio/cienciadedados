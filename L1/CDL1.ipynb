{
 "cells": [
  {
   "cell_type": "markdown",
   "metadata": {
    "deletable": true,
    "editable": true
   },
   "source": [
    "# Índice\n",
    "- Câncer\n",
    "    - Média\n",
    "        - [Treinamento - RNA]\n",
    "        - Treinamento - K-Means supervisionado: o Nearest Centroid Classifier\n",
    "        - Treinamento - kNN\n",
    "        - ~~Classificação - k-FOLD~~\n",
    "    - Moda\n",
    "        - Treinamento - RNA\n",
    "        - Treinamento - K-Means supervisionado: o Nearest Centroid Classifier\n",
    "        - Treinamento - kNN\n",
    "        - ~~Classificação - k-FOLD~~\n",
    "    - Random\n",
    "        - Treinamento - RNA\n",
    "        - Treinamento - K-Means supervisionado: o Nearest Centroid Classifier\n",
    "        - Treinamento - kNN\n",
    "        - ~~Classificação - k-FOLD~~\n",
    "    - Not Empty\n",
    "        - Treinamento - RNA\n",
    "        - Treinamento - K-Means supervisionado: o Nearest Centroid Classifier\n",
    "        - Treinamento - kNN\n",
    "        - ~~Classificação - k-FOLD~~\n",
    "\n",
    "    \n",
    "- Iris\n",
    "    - Média\n",
    "        - Treinamento - RNA\n",
    "        - Treinamento - K-Means supervisionado: o Nearest Centroid Classifier\n",
    "        - Treinamento - kNN\n",
    "        - ~~Classificação - k-FOLD~~\n",
    "    - Moda\n",
    "        - Treinamento - RNA\n",
    "        - Treinamento - K-Means supervisionado: o Nearest Centroid Classifier\n",
    "        - Treinamento - kNN\n",
    "        - ~~Classificação - k-FOLD~~\n",
    "    - Random\n",
    "        - Treinamento - RNA\n",
    "        - Treinamento - K-Means supervisionado: o Nearest Centroid Classifier\n",
    "        - Treinamento - kNN\n",
    "        - ~~Classificação - k-FOLD~~\n",
    "    - Not Empty\n",
    "        - Treinamento - RNA\n",
    "        - Treinamento - K-Means supervisionado: o Nearest Centroid Classifier\n",
    "        - Treinamento - kNN\n",
    "        - ~~Classificação - k-FOLD~~\n",
    "\n",
    "\n",
    "- Resultado Câncer\n",
    "- Resultado Iris"
   ]
  },
  {
   "cell_type": "markdown",
   "metadata": {
    "deletable": true,
    "editable": true
   },
   "source": [
    "# Câncer"
   ]
  },
  {
   "cell_type": "markdown",
   "metadata": {
    "deletable": true,
    "editable": true
   },
   "source": [
    "## Média\n",
    "- Em **dfCancer**, os '**-**' e '**?**' são substituídos pela média de cada coluna."
   ]
  },
  {
   "cell_type": "code",
   "execution_count": 1039,
   "metadata": {
    "collapsed": true,
    "deletable": true,
    "editable": true
   },
   "outputs": [],
   "source": [
    "import matplotlib.pyplot as plt\n",
    "import numpy as np\n",
    "import pandas as pd\n",
    "\n",
    "kf_Split = 4 # K-fold"
   ]
  },
  {
   "cell_type": "code",
   "execution_count": 1040,
   "metadata": {
    "collapsed": false,
    "deletable": true,
    "editable": true
   },
   "outputs": [],
   "source": [
    "dfCancer = pd.read_csv(\"breast-cancer-problemas.data\", names = ['col1', 'col2', 'col3', 'col4', 'col5', 'col6', 'col7', 'col8', 'col9', 'col10', 'col11'])\n",
    "\n",
    "for i in range (2,12):\n",
    "    coluna = 'col' + str(i)\n",
    "    colMedia = dfCancer[coluna][dfCancer[coluna].astype(str) != '-'][dfCancer[coluna].astype(str) != '?'].astype(str).astype(int).values.mean()\n",
    "    dfCancer[coluna] = dfCancer[coluna].apply(lambda x: colMedia.astype(int) if ((x == '-') or (x == '?')) else x)\n",
    "\n",
    "dfCancer.columns = ['id', 'Clump Thickness', 'Uniformity of Cell Size', 'Uniformity of Cell Shape', 'Marginal Adhesion', 'Single Epithelial Cell Size', 'Bare Nuclei', 'Bland Chromatin', 'Normal Nucleoli', 'Mitoses', 'Class']\n",
    "\n",
    "dfCancerMedia = dfCancer"
   ]
  },
  {
   "cell_type": "markdown",
   "metadata": {
    "deletable": true,
    "editable": true
   },
   "source": [
    "\n",
    "\n",
    "### Treinamento - RNA\n",
    "- backpropagation\n",
    "- 20 neurônios na camada escondida\n",
    "- 70% para treinamento e 30% para teste \n",
    "\n"
   ]
  },
  {
   "cell_type": "code",
   "execution_count": 1041,
   "metadata": {
    "collapsed": false,
    "deletable": true,
    "editable": true,
    "scrolled": false
   },
   "outputs": [
    {
     "name": "stdout",
     "output_type": "stream",
     "text": [
      "489 foram treinados e  210 testes foram feitos. Desses, 198 tiveram resultado correto e 12 falharam\n",
      "Resultado: 5.71 falharam e 94.29 acertaram\n"
     ]
    }
   ],
   "source": [
    "from sklearn.neural_network import MLPClassifier\n",
    "\n",
    "dfCancerMedia.Class = dfCancerMedia.Class.apply(lambda x: 0 if x == 2 else 1) #Trocando atributo numérico por binário 2 => 0 e 4 => 1      \n",
    "dfCancerMedia = dfCancerMedia.drop('id', axis=1) # Eliminando atributo id\n",
    "\n",
    "X = dfCancerMedia.drop('Class', axis=1)\n",
    "y = dfCancerMedia.Class\n",
    "\n",
    "from sklearn.model_selection import train_test_split\n",
    "\n",
    "X_train, X_test, y_train, y_test = train_test_split(X, y, test_size=0.3)\n",
    "\n",
    "clf = MLPClassifier(solver='lbfgs', alpha=1e-5, hidden_layer_sizes=(20), random_state=1)\n",
    "\n",
    "### TreiNAMENTO => a funcao fit treina a rede neural com o conjunto de entrada X e a saida esperada y\n",
    "clf.fit(X_train, y_train)\n",
    "\n",
    "# TESTE => prediz qual a classe que pertence a entrada (2,2)\n",
    "# clf.predict([[10,7,7,6,4,10,4,1,2], [6,1,1,1,2,1,3,1,1]]) # Saída esperada: array([1, 0])\n",
    "\n",
    "# [[10,7,7,6,4,10,4,1,2], [6,1,1,1,2,1,3,1,1]] => array([1, 0])\n",
    "\n",
    "Test = clf.predict(X_test.values)\n",
    "Real = y_test.values\n",
    "\n",
    "CancerMediaRNA_Falhas = round((np.sum(Test != Real)*100)/(Test.size), 2)\n",
    "CancerMediaRNA_Acertos = round((np.sum(Test == Real)*100)/(Test.size), 2)\n",
    " \n",
    "\n",
    "print(\"%s foram treinados e  %s testes foram feitos. Desses, %s tiveram resultado correto e %s falharam\" % (y_train.size, Real.size, np.sum(Test == Real), np.sum(Test != Real)))\n",
    "print(\"Resultado: %s falharam e %s acertaram\" % (CancerMediaRNA_Falhas, CancerMediaRNA_Acertos))\n",
    "\n"
   ]
  },
  {
   "cell_type": "markdown",
   "metadata": {
    "deletable": true,
    "editable": true
   },
   "source": [
    "### Treinamento - K-Means supervisionado: o Nearest Centroid Classifier\n",
    "\n"
   ]
  },
  {
   "cell_type": "code",
   "execution_count": 1042,
   "metadata": {
    "collapsed": false,
    "deletable": true,
    "editable": true
   },
   "outputs": [
    {
     "name": "stdout",
     "output_type": "stream",
     "text": [
      "489 foram treinados e  210 testes foram feitos. Desses, 205 tiveram resultado correto e 5 falharam\n",
      "Resultado: 2.38 falharam e 97.62 acertaram\n"
     ]
    }
   ],
   "source": [
    "from sklearn.neighbors.nearest_centroid import NearestCentroid\n",
    "import numpy as np\n",
    "\n",
    "X = np.array(dfCancerMedia.drop('Class', axis=1).values)\n",
    "y = np.array(dfCancerMedia.Class.values)\n",
    "\n",
    "clf = NearestCentroid()\n",
    "#TREINAMENTO\n",
    "\n",
    "from sklearn.model_selection import train_test_split\n",
    "\n",
    "X_train, X_test, y_train, y_test = train_test_split(X, y, test_size=0.3)\n",
    "\n",
    "clf.fit(X_train, y_train)\n",
    "\n",
    "#TESTE\n",
    "\n",
    "# clf.predict([[10,7,7,6,4,10,4,1,2], [6,1,1,1,2,1,3,1,1]]) # Saída esperada: array([1, 0])\n",
    "\n",
    "Test = clf.predict(X_test)\n",
    "Real = y_test\n",
    "\n",
    "CancerMediaKMeans_Falhas = round((np.sum(Test != Real)*100)/(Test.size), 2)\n",
    "CancerMediaKMeans_Acertos = round((np.sum(Test == Real)*100)/(Test.size), 2)\n",
    " \n",
    "\n",
    "print(\"%s foram treinados e  %s testes foram feitos. Desses, %s tiveram resultado correto e %s falharam\" % (y_train.size, Real.size, np.sum(Test == Real), np.sum(Test != Real)))\n",
    "print(\"Resultado: %s falharam e %s acertaram\" % (CancerMediaKMeans_Falhas, CancerMediaKMeans_Acertos))\n",
    "\n",
    "\n"
   ]
  },
  {
   "cell_type": "markdown",
   "metadata": {
    "deletable": true,
    "editable": true
   },
   "source": [
    "### Treinamento - kNN\n",
    "\n",
    "- A taxa de erro de médio de classificação para diferentes valores de k\n"
   ]
  },
  {
   "cell_type": "code",
   "execution_count": 1043,
   "metadata": {
    "collapsed": false,
    "deletable": true,
    "editable": true
   },
   "outputs": [
    {
     "name": "stdout",
     "output_type": "stream",
     "text": [
      "489 foram treinados e  210 testes foram feitos. Desses, 201 tiveram resultado correto e 9 falharam\n",
      "Resultado: 4.29 falharam e 95.71 acertaram\n"
     ]
    }
   ],
   "source": [
    "from sklearn.neighbors import KNeighborsClassifier\n",
    "\n",
    "X = dfCancerMedia.drop('Class', axis=1).values\n",
    "y = dfCancerMedia.Class.values\n",
    "\n",
    "from sklearn.model_selection import train_test_split\n",
    "\n",
    "X_train, X_test, y_train, y_test = train_test_split(X, y, test_size=0.3)\n",
    "\n",
    "neigh = KNeighborsClassifier(n_neighbors=3)\n",
    "#TREINAMENTO\n",
    "neigh.fit(X_train, y_train) \n",
    "\n",
    "#TESTE\n",
    "\n",
    "# neigh.predict([[10,7,7,6,4,10,4,1,2], [6,1,1,1,2,1,3,1,1]]) # Saída esperada: array([1, 0])\n",
    "\n",
    "Test = neigh.predict(X_test)\n",
    "Real = y_test\n",
    "\n",
    "CancerMediaKNN_Falhas = round((np.sum(Test != Real)*100)/(Test.size), 2)\n",
    "CancerMediaKNN_Acertos = round((np.sum(Test == Real)*100)/(Test.size), 2)\n",
    " \n",
    "\n",
    "print(\"%s foram treinados e  %s testes foram feitos. Desses, %s tiveram resultado correto e %s falharam\" % (y_train.size, Real.size, np.sum(Test == Real), np.sum(Test != Real)))\n",
    "print(\"Resultado: %s falharam e %s acertaram\" % (CancerMediaKNN_Falhas, CancerMediaKNN_Acertos))"
   ]
  },
  {
   "cell_type": "markdown",
   "metadata": {
    "deletable": true,
    "editable": true
   },
   "source": [
    "## Moda\n",
    "- Em **dfCancer**, os '**-**' e '**?**' são substituídos pela moda de cada coluna."
   ]
  },
  {
   "cell_type": "code",
   "execution_count": 1044,
   "metadata": {
    "collapsed": false,
    "deletable": true,
    "editable": true
   },
   "outputs": [],
   "source": [
    "dfCancer = pd.read_csv(\"breast-cancer-problemas.data\", names = ['col1', 'col2', 'col3', 'col4', 'col5', 'col6', 'col7', 'col8', 'col9', 'col10', 'col11'])\n",
    "from statistics import mode\n",
    "from statistics import mean\n",
    "\n",
    "for i in range (2,12):\n",
    "    coluna = 'col' + str(i)\n",
    "    dfCancer[coluna].fillna(0, inplace=True)\n",
    "    colMode = mode(dfCancer[coluna][dfCancer[coluna].astype(str) != '-'][dfCancer[coluna].astype(str) != '?'].astype(str).astype(int).values)\n",
    "    dfCancer[coluna] = dfCancer[coluna].apply(lambda x: colMode if ((x == '-') or (x == '?')) else x)\n",
    "\n",
    "dfCancer.columns = ['id', 'Clump Thickness', 'Uniformity of Cell Size', 'Uniformity of Cell Shape', 'Marginal Adhesion', 'Single Epithelial Cell Size', 'Bare Nuclei', 'Bland Chromatin', 'Normal Nucleoli', 'Mitoses', 'Class']\n",
    "\n",
    "dfCancerModa = dfCancer\n"
   ]
  },
  {
   "cell_type": "markdown",
   "metadata": {
    "deletable": true,
    "editable": true
   },
   "source": [
    "\n",
    "\n",
    "### Treinamento - RNA\n",
    "- backpropagation\n",
    "- 20 neurônios na camada escondida\n",
    "- 70% para treinamento e 30% para teste\n",
    "\n"
   ]
  },
  {
   "cell_type": "code",
   "execution_count": 1045,
   "metadata": {
    "collapsed": false,
    "deletable": true,
    "editable": true
   },
   "outputs": [
    {
     "name": "stdout",
     "output_type": "stream",
     "text": [
      "489 foram treinados e  210 testes foram feitos. Desses, 131 tiveram resultado correto e 79 falharam\n",
      "Resultado: 37.62% falharam e 62.38% acertaram\n"
     ]
    }
   ],
   "source": [
    "from sklearn.neural_network import MLPClassifier\n",
    "\n",
    "X = np.array(dfCancerModa.drop('Class', axis=1).values)\n",
    "y = np.array(dfCancerModa.Class.values)\n",
    "\n",
    "from sklearn.model_selection import train_test_split\n",
    "\n",
    "X_train, X_test, y_train, y_test = train_test_split(X, y, test_size=0.3)\n",
    "\n",
    "\n",
    "clf = MLPClassifier(solver='lbfgs', alpha=1e-5, hidden_layer_sizes=(20), random_state=1)\n",
    "\n",
    "### TreiNAMENTO => a funcao fit treina a rede neural com o conjunto de entrada X e a saida esperada y\n",
    "clf.fit(X_train, y_train)\n",
    "\n",
    "Test = clf.predict(X_test)\n",
    "Real = y_test\n",
    "\n",
    "CancerModaRNA_Falhas = round((np.sum(Test != Real)*100)/(Test.size), 2)\n",
    "CancerModaRNA_Acertos = round((np.sum(Test == Real)*100)/(Test.size), 2)\n",
    " \n",
    "\n",
    "print(\"%s foram treinados e  %s testes foram feitos. Desses, %s tiveram resultado correto e %s falharam\" % (y_train.size, Real.size, np.sum(Test == Real), np.sum(Test != Real)))\n",
    "print(\"Resultado: %s%% falharam e %s%% acertaram\" % (CancerModaRNA_Falhas, CancerModaRNA_Acertos))\n",
    "\n",
    "\n",
    "\n"
   ]
  },
  {
   "cell_type": "markdown",
   "metadata": {
    "deletable": true,
    "editable": true
   },
   "source": [
    "### K-FOLD (RNA)\n",
    "\n",
    "- k variando entre k=2 até o tamanho máximo possível de folders"
   ]
  },
  {
   "cell_type": "code",
   "execution_count": 1046,
   "metadata": {
    "collapsed": false,
    "deletable": true,
    "editable": true
   },
   "outputs": [],
   "source": [
    "# from sklearn.neural_network import MLPClassifier\n",
    "# from sklearn.model_selection import KFold\n",
    "\n",
    "# X = dfCancerModa.drop('Class', axis=1)\n",
    "# y = dfCancerModa.Class\n",
    "\n",
    "# ## K-FOLD START\n",
    "# kf = KFold(n_splits = kf_Split)\n",
    "\n",
    "# for train_index, test_index in kf.split(X):\n",
    "#     X_train, X_test = X[train_index], X[test_index]\n",
    "#     y_train, y_test = y[train_index], y[test_index]\n",
    "# ## K-FOLD END\n",
    "\n",
    "# clf = MLPClassifier(solver='lbfgs', alpha=1e-5, hidden_layer_sizes=(20), random_state=1)\n",
    "    \n",
    "# clf.fit(X_train, y_train)\n",
    "\n",
    "# Test = clf.predict(X_test.values)\n",
    "# Real = y_test.values\n",
    "\n",
    "# CancerModaRNAKFold_Falhas = round((np.sum(Test != Real)*100)/(Test.size), 2)\n",
    "# CancerModaRNAKFold_Acertos = round((np.sum(Test == Real)*100)/(Test.size), 2)\n",
    " \n",
    "\n",
    "# print(\"%s foram treinados e  %s testes foram feitos. Desses, %s tiveram resultado correto e %s falharam\" % (y_train.size, Real.size, np.sum(Test == Real), np.sum(Test != Real)))\n",
    "# print(\"Resultado: %s falharam e %s acertaram\" % (CancerModaRNAKFold_Falhas, CancerModaRNAKFold_Acertos))\n",
    "\n",
    "\n"
   ]
  },
  {
   "cell_type": "markdown",
   "metadata": {
    "deletable": true,
    "editable": true
   },
   "source": [
    "### Treinamento - K-Means supervisionado: o Nearest Centroid Classifier\n",
    "\n"
   ]
  },
  {
   "cell_type": "code",
   "execution_count": 1047,
   "metadata": {
    "collapsed": false,
    "deletable": true,
    "editable": true
   },
   "outputs": [
    {
     "name": "stdout",
     "output_type": "stream",
     "text": [
      "489 foram treinados e  210 testes foram feitos. Desses, 120 tiveram resultado correto e 90 falharam\n",
      "Resultado: 42.86 falharam e 57.14 acertaram\n"
     ]
    }
   ],
   "source": [
    "from sklearn.neighbors.nearest_centroid import NearestCentroid\n",
    "import numpy as np\n",
    "\n",
    "X = np.array(dfCancerModa.drop('Class', axis=1).values)\n",
    "y = np.array(dfCancerModa.Class.values)\n",
    "\n",
    "from sklearn.model_selection import train_test_split\n",
    "\n",
    "X_train, X_test, y_train, y_test = train_test_split(X, y, test_size=0.3)\n",
    "\n",
    "clf = NearestCentroid()\n",
    "#TREINAMENTO\n",
    "clf.fit(X_train, y_train) \n",
    "#TESTE\n",
    "\n",
    "# clf.predict([[10,7,7,6,4,10,4,1,2], [6,1,1,1,2,1,3,1,1]]) # Saída esperada: array([1, 0])\n",
    "\n",
    "Test = clf.predict(X_test)\n",
    "Real = y_test\n",
    "\n",
    "CancerModaKMeans_Falhas = round((np.sum(Test != Real)*100)/(Test.size), 2)\n",
    "CancerModaKMeans_Acertos = round((np.sum(Test == Real)*100)/(Test.size), 2)\n",
    " \n",
    "\n",
    "print(\"%s foram treinados e  %s testes foram feitos. Desses, %s tiveram resultado correto e %s falharam\" % (y_train.size, Real.size, np.sum(Test == Real), np.sum(Test != Real)))\n",
    "print(\"Resultado: %s falharam e %s acertaram\" % (CancerModaKMeans_Falhas, CancerModaKMeans_Acertos))\n"
   ]
  },
  {
   "cell_type": "markdown",
   "metadata": {
    "deletable": true,
    "editable": true
   },
   "source": [
    "### Treinamento - kNN\n",
    "\n",
    "- ~~A taxa de erro de médio de classificação para diferentes valores de k~~\n"
   ]
  },
  {
   "cell_type": "code",
   "execution_count": 1048,
   "metadata": {
    "collapsed": false,
    "deletable": true,
    "editable": true
   },
   "outputs": [
    {
     "name": "stdout",
     "output_type": "stream",
     "text": [
      "489 foram treinados e  210 testes foram feitos. Desses, 124 tiveram resultado correto e 86 falharam\n",
      "Resultado: 40.95 falharam e 59.05 acertaram\n"
     ]
    }
   ],
   "source": [
    "from sklearn.neighbors import KNeighborsClassifier\n",
    "\n",
    "X = dfCancerModa.drop('Class', axis=1).values\n",
    "y = dfCancerModa.Class.values\n",
    "\n",
    "from sklearn.model_selection import train_test_split\n",
    "\n",
    "X_train, X_test, y_train, y_test = train_test_split(X, y, test_size=0.3)\n",
    "\n",
    "neigh = KNeighborsClassifier(n_neighbors=3)\n",
    "#TREINAMENTO\n",
    "neigh.fit(X_train, y_train) \n",
    "\n",
    "#TESTE\n",
    "\n",
    "# neigh.predict([[10,7,7,6,4,10,4,1,2], [6,1,1,1,2,1,3,1,1]]) # Saída esperada: array([1, 0])\n",
    "\n",
    "Test = neigh.predict(X_test)\n",
    "Real = y_test\n",
    "\n",
    "CancerModaKNN_Falhas = round((np.sum(Test != Real)*100)/(Test.size), 2)\n",
    "CancerModaKNN_Acertos = round((np.sum(Test == Real)*100)/(Test.size), 2)\n",
    " \n",
    "\n",
    "print(\"%s foram treinados e  %s testes foram feitos. Desses, %s tiveram resultado correto e %s falharam\" % (y_train.size, Real.size, np.sum(Test == Real), np.sum(Test != Real)))\n",
    "print(\"Resultado: %s falharam e %s acertaram\" % (CancerModaKNN_Falhas, CancerModaKNN_Acertos))"
   ]
  },
  {
   "cell_type": "markdown",
   "metadata": {
    "deletable": true,
    "editable": true
   },
   "source": [
    "## Random\n",
    "- Em **dfCancer**, os '**-**' e '**?**' são substituídos por um valor randômico específico de cada coluna.\n"
   ]
  },
  {
   "cell_type": "code",
   "execution_count": 1049,
   "metadata": {
    "collapsed": false,
    "deletable": true,
    "editable": true
   },
   "outputs": [],
   "source": [
    "dfCancer = pd.read_csv(\"breast-cancer-problemas.data\", names = ['col1', 'col2', 'col3', 'col4', 'col5', 'col6', 'col7', 'col8', 'col9', 'col10', 'col11'])\n",
    "\n",
    "for i in range (2,12):\n",
    "    coluna = 'col' + str(i)\n",
    "    colCleaned = dfCancer[coluna][dfCancer[coluna].astype(str) != '-'][dfCancer[coluna].astype(str) != '?'].astype(str).astype(int)\n",
    "    nu = np.random.randint(colCleaned.min(),colCleaned.max(),1) # Preenche os ruidos de uma coluna inteira com o mesmo random\n",
    "    elem = nu[0]\n",
    "    dfCancer[coluna] = dfCancer[coluna].apply(lambda x: elem if ((x == '-') or (x == '?')) else x)\n",
    "    \n",
    "dfCancer.columns = ['id', 'Clump Thickness', 'Uniformity of Cell Size', 'Uniformity of Cell Shape', 'Marginal Adhesion', 'Single Epithelial Cell Size', 'Bare Nuclei', 'Bland Chromatin', 'Normal Nucleoli', 'Mitoses', 'Class']\n",
    "\n",
    "dfCancerRandom = dfCancer"
   ]
  },
  {
   "cell_type": "markdown",
   "metadata": {
    "deletable": true,
    "editable": true
   },
   "source": [
    "\n",
    "\n",
    "### Treinamento - RNA\n",
    "- backpropagation\n",
    "- 20 neurônios na camada escondida\n",
    "- 70% para treinamento e 30% para teste\n",
    "\n"
   ]
  },
  {
   "cell_type": "code",
   "execution_count": 1050,
   "metadata": {
    "collapsed": false,
    "deletable": true,
    "editable": true
   },
   "outputs": [
    {
     "name": "stdout",
     "output_type": "stream",
     "text": [
      "489 foram treinados e  210 testes foram feitos. Desses, 195 tiveram resultado correto e 15 falharam\n",
      "Resultado: 7.14 falharam e 92.86 acertaram\n"
     ]
    }
   ],
   "source": [
    "dfCancerRandom.Class = dfCancerRandom.Class.apply(lambda x: 0 if x == 2 else 1) #Trocando atributo numérico por binário 2 => 0 e 4 => 1      \n",
    "dfCancerRandom = dfCancerRandom.drop('id', axis=1) # Eliminando atributo id\n",
    "\n",
    "X = dfCancerRandom.drop('Class', axis=1)\n",
    "y = dfCancerRandom.Class\n",
    "\n",
    "from sklearn.model_selection import train_test_split\n",
    "\n",
    "X_train, X_test, y_train, y_test = train_test_split(X, y, test_size=0.3)\n",
    "\n",
    "clf = MLPClassifier(solver='lbfgs', alpha=1e-5, hidden_layer_sizes=(20), random_state=1)\n",
    "\n",
    "### TreiNAMENTO => a funcao fit treina a rede neural com o conjunto de entrada X e a saida esperada y\n",
    "clf.fit(X_train, y_train)\n",
    "\n",
    "# TESTE => prediz qual a classe que pertence a entrada (2,2)\n",
    "# clf.predict([[10,7,7,6,4,10,4,1,2], [6,1,1,1,2,1,3,1,1]]) # Saída esperada: array([1, 0])\n",
    "\n",
    "# [[10,7,7,6,4,10,4,1,2], [6,1,1,1,2,1,3,1,1]] => array([1, 0])\n",
    "\n",
    "Test = clf.predict(X_test.values)\n",
    "Real = y_test.values\n",
    "\n",
    "CancerRandomRNA_Falhas = round((np.sum(Test != Real)*100)/(Test.size), 2)\n",
    "CancerRandomRNA_Acertos = round((np.sum(Test == Real)*100)/(Test.size), 2)\n",
    " \n",
    "\n",
    "print(\"%s foram treinados e  %s testes foram feitos. Desses, %s tiveram resultado correto e %s falharam\" % (y_train.size, Real.size, np.sum(Test == Real), np.sum(Test != Real)))\n",
    "print(\"Resultado: %s falharam e %s acertaram\" % (CancerRandomRNA_Falhas, CancerRandomRNA_Acertos))\n",
    "\n",
    "\n",
    "\n"
   ]
  },
  {
   "cell_type": "markdown",
   "metadata": {
    "deletable": true,
    "editable": true
   },
   "source": [
    "### Treinamento - K-Means supervisionado: o Nearest Centroid Classifier\n"
   ]
  },
  {
   "cell_type": "code",
   "execution_count": 1051,
   "metadata": {
    "collapsed": false,
    "deletable": true,
    "editable": true
   },
   "outputs": [
    {
     "name": "stdout",
     "output_type": "stream",
     "text": [
      "489 foram treinados e  210 testes foram feitos. Desses, 199 tiveram resultado correto e 11 falharam\n",
      "Resultado: 5.24 falharam e 94.76 acertaram\n"
     ]
    }
   ],
   "source": [
    "from sklearn.neighbors.nearest_centroid import NearestCentroid\n",
    "import numpy as np\n",
    "\n",
    "X = np.array(dfCancerRandom.drop('Class', axis=1).values)\n",
    "y = np.array(dfCancerRandom.Class.values)\n",
    "\n",
    "from sklearn.model_selection import train_test_split\n",
    "\n",
    "X_train, X_test, y_train, y_test = train_test_split(X, y, test_size=0.3)\n",
    "\n",
    "clf = NearestCentroid()\n",
    "#TREINAMENTO\n",
    "clf.fit(X_train, y_train) \n",
    "#TESTE\n",
    "\n",
    "# clf.predict([[10,7,7,6,4,10,4,1,2], [6,1,1,1,2,1,3,1,1]]) # Saída esperada: array([1, 0])\n",
    "\n",
    "Test = clf.predict(X_test)\n",
    "Real = y_test\n",
    "\n",
    "CancerRandomKMeans_Falhas = round((np.sum(Test != Real)*100)/(Test.size), 2)\n",
    "CancerRandomKMeans_Acertos = round((np.sum(Test == Real)*100)/(Test.size), 2)\n",
    " \n",
    "\n",
    "print(\"%s foram treinados e  %s testes foram feitos. Desses, %s tiveram resultado correto e %s falharam\" % (y_train.size, Real.size, np.sum(Test == Real), np.sum(Test != Real)))\n",
    "print(\"Resultado: %s falharam e %s acertaram\" % (CancerRandomKMeans_Falhas, CancerRandomKMeans_Acertos))\n",
    "\n"
   ]
  },
  {
   "cell_type": "markdown",
   "metadata": {
    "deletable": true,
    "editable": true
   },
   "source": [
    "### Treinamento - kNN\n",
    "\n",
    "- ~~A taxa de erro de médio de classificação para diferentes valores de k~~\n"
   ]
  },
  {
   "cell_type": "code",
   "execution_count": 1052,
   "metadata": {
    "collapsed": false,
    "deletable": true,
    "editable": true
   },
   "outputs": [
    {
     "name": "stdout",
     "output_type": "stream",
     "text": [
      "489 foram treinados e  210 testes foram feitos. Desses, 201 tiveram resultado correto e 9 falharam\n",
      "Resultado: 4.29 falharam e 95.71 acertaram\n"
     ]
    }
   ],
   "source": [
    "from sklearn.neighbors import KNeighborsClassifier\n",
    "\n",
    "X = dfCancerRandom.drop('Class', axis=1).values\n",
    "y = dfCancerRandom.Class.values\n",
    "\n",
    "from sklearn.model_selection import train_test_split\n",
    "\n",
    "X_train, X_test, y_train, y_test = train_test_split(X, y, test_size=0.3)\n",
    "\n",
    "neigh = KNeighborsClassifier(n_neighbors=3)\n",
    "#TREINAMENTO\n",
    "neigh.fit(X_train, y_train) \n",
    "\n",
    "#TESTE\n",
    "\n",
    "neigh.predict([[10,7,7,6,4,10,4,1,2], [6,1,1,1,2,1,3,1,1]]) # Saída esperada: array([1, 0])\n",
    "\n",
    "Test = neigh.predict(X_test)\n",
    "Real = y_test\n",
    "\n",
    "CancerRandomKNN_Falhas = round((np.sum(Test != Real)*100)/(Test.size), 2)\n",
    "CancerRandomKNN_Acertos = round((np.sum(Test == Real)*100)/(Test.size), 2)\n",
    " \n",
    "print(\"%s foram treinados e  %s testes foram feitos. Desses, %s tiveram resultado correto e %s falharam\" % (y_train.size, Real.size, np.sum(Test == Real), np.sum(Test != Real)))\n",
    "print(\"Resultado: %s falharam e %s acertaram\" % (CancerRandomKNN_Falhas, CancerRandomKNN_Acertos))"
   ]
  },
  {
   "cell_type": "markdown",
   "metadata": {
    "deletable": true,
    "editable": true
   },
   "source": [
    "## Not empty\n",
    "- Em **dfCancer**, as linhas com '**-**' e '**?**' são removidas."
   ]
  },
  {
   "cell_type": "code",
   "execution_count": 1053,
   "metadata": {
    "collapsed": false,
    "deletable": true,
    "editable": true
   },
   "outputs": [],
   "source": [
    "dfCancer = pd.read_csv(\"breast-cancer-problemas.data\", names = ['id', 'Clump Thickness', 'Uniformity of Cell Size', 'Uniformity of Cell Shape', 'Marginal Adhesion', 'Single Epithelial Cell Size', 'Bare Nuclei', 'Bland Chromatin', 'Normal Nucleoli', 'Mitoses', 'Class'])\n",
    "dfCancer = dfCancer.replace('?', np.nan)\n",
    "dfCancer = dfCancer.replace('-', np.nan)\n",
    "dfCancer = dfCancer.dropna()\n",
    "\n",
    "dfCancerNotEmpty = dfCancer"
   ]
  },
  {
   "cell_type": "markdown",
   "metadata": {
    "deletable": true,
    "editable": true
   },
   "source": [
    "\n",
    "\n",
    "### Treinamento - RNA\n",
    "- backpropagation\n",
    "- 20 neurônios na camada escondida\n",
    "- 70% para treinamento e 30% para teste\n",
    "\n"
   ]
  },
  {
   "cell_type": "code",
   "execution_count": 1054,
   "metadata": {
    "collapsed": false,
    "deletable": true,
    "editable": true
   },
   "outputs": [
    {
     "name": "stdout",
     "output_type": "stream",
     "text": [
      "450 foram treinados e  194 testes foram feitos. Desses, 186 tiveram resultado correto e 8 falharam\n",
      "Resultado: 4.12 falharam e 95.88 acertaram\n"
     ]
    }
   ],
   "source": [
    "dfCancerNotEmpty.Class = dfCancerNotEmpty.Class.apply(lambda x: 0 if x == 2 else 1) #Trocando atributo numérico por binário 2 => 0 e 4 => 1      \n",
    "dfCancerNotEmpty = dfCancerNotEmpty.drop('id', axis=1) # Eliminando atributo id\n",
    "\n",
    "X = dfCancerNotEmpty.drop('Class', axis=1)\n",
    "y = dfCancerNotEmpty.Class\n",
    "\n",
    "from sklearn.model_selection import train_test_split\n",
    "\n",
    "X_train, X_test, y_train, y_test = train_test_split(X, y, test_size=0.3)\n",
    "\n",
    "clf = MLPClassifier(solver='lbfgs', alpha=1e-5, hidden_layer_sizes=(20), random_state=1)\n",
    "\n",
    "### TreiNAMENTO => a funcao fit treina a rede neural com o conjunto de entrada X e a saida esperada y\n",
    "clf.fit(X_train, y_train)\n",
    "\n",
    "# TESTE => prediz qual a classe que pertence a entrada (2,2)\n",
    "clf.predict([[10,7,7,6,4,10,4,1,2], [6,1,1,1,2,1,3,1,1]]) # Saída esperada: array([1, 0])\n",
    "\n",
    "# [[10,7,7,6,4,10,4,1,2], [6,1,1,1,2,1,3,1,1]] => array([1, 0])\n",
    "\n",
    "Test = clf.predict(X_test.values)\n",
    "Real = y_test.values\n",
    "\n",
    "CancerNotEmptyRNA_Falhas = round((np.sum(Test != Real)*100)/(Test.size), 2)\n",
    "CancerNotEmptyRNA_Acertos = round((np.sum(Test == Real)*100)/(Test.size), 2)\n",
    " \n",
    "\n",
    "print(\"%s foram treinados e  %s testes foram feitos. Desses, %s tiveram resultado correto e %s falharam\" % (y_train.size, Real.size, np.sum(Test == Real), np.sum(Test != Real)))\n",
    "print(\"Resultado: %s falharam e %s acertaram\" % (CancerNotEmptyRNA_Falhas, CancerNotEmptyRNA_Acertos))\n",
    "\n",
    "\n"
   ]
  },
  {
   "cell_type": "markdown",
   "metadata": {
    "deletable": true,
    "editable": true
   },
   "source": [
    "### Treinamento - K-Means supervisionado: o Nearest Centroid Classifier\n",
    "\n"
   ]
  },
  {
   "cell_type": "code",
   "execution_count": 1055,
   "metadata": {
    "collapsed": false,
    "deletable": true,
    "editable": true
   },
   "outputs": [
    {
     "name": "stdout",
     "output_type": "stream",
     "text": [
      "450 foram treinados e  194 testes foram feitos. Desses, 189 tiveram resultado correto e 5 falharam\n",
      "Resultado: 2.58 falharam e 97.42 acertaram\n"
     ]
    }
   ],
   "source": [
    "from sklearn.neighbors.nearest_centroid import NearestCentroid\n",
    "import numpy as np\n",
    "\n",
    "X = np.array(dfCancerNotEmpty.drop('Class', axis=1).values)\n",
    "y = np.array(dfCancerNotEmpty.Class.values)\n",
    "\n",
    "from sklearn.model_selection import train_test_split\n",
    "\n",
    "X_train, X_test, y_train, y_test = train_test_split(X, y, test_size=0.3)\n",
    "\n",
    "clf.fit(X_train, y_train)\n",
    "\n",
    "\n",
    "clf = NearestCentroid()\n",
    "#TREINAMENTO\n",
    "clf.fit(X_train, y_train) \n",
    "#TESTE\n",
    "\n",
    "# clf.predict([[10,7,7,6,4,10,4,1,2], [6,1,1,1,2,1,3,1,1]]) # Saída esperada: array([1, 0])\n",
    "\n",
    "Test = clf.predict(X_test)\n",
    "Real = y_test\n",
    "\n",
    "CancerNotEmptyKMeans_Falhas = round((np.sum(Test != Real)*100)/(Test.size), 2)\n",
    "CancerNotEmptyKMeans_Acertos = round((np.sum(Test == Real)*100)/(Test.size), 2)\n",
    " \n",
    "\n",
    "print(\"%s foram treinados e  %s testes foram feitos. Desses, %s tiveram resultado correto e %s falharam\" % (y_train.size, Real.size, np.sum(Test == Real), np.sum(Test != Real)))\n",
    "print(\"Resultado: %s falharam e %s acertaram\" % (CancerNotEmptyKMeans_Falhas, CancerNotEmptyKMeans_Acertos))\n",
    "\n",
    "\n",
    "\n"
   ]
  },
  {
   "cell_type": "markdown",
   "metadata": {
    "deletable": true,
    "editable": true
   },
   "source": [
    "### Treinamento - kNN\n",
    "\n",
    "- ~~A taxa de erro de médio de classificação para diferentes valores de k~~\n"
   ]
  },
  {
   "cell_type": "code",
   "execution_count": 1056,
   "metadata": {
    "collapsed": false,
    "deletable": true,
    "editable": true
   },
   "outputs": [
    {
     "name": "stdout",
     "output_type": "stream",
     "text": [
      "450 foram treinados e  194 testes foram feitos. Desses, 192 tiveram resultado correto e 2 falharam\n",
      "Resultado: 1.03 falharam e 98.97 acertaram\n"
     ]
    }
   ],
   "source": [
    "from sklearn.neighbors import KNeighborsClassifier\n",
    "\n",
    "X = dfCancerNotEmpty.drop('Class', axis=1).values\n",
    "y = dfCancerNotEmpty.Class.values\n",
    "\n",
    "from sklearn.model_selection import train_test_split\n",
    "\n",
    "X_train, X_test, y_train, y_test = train_test_split(X, y, test_size=0.3)\n",
    "\n",
    "neigh = KNeighborsClassifier(n_neighbors=3)\n",
    "#TREINAMENTO\n",
    "neigh.fit(X, y) \n",
    "\n",
    "#TESTE\n",
    "\n",
    "# neigh.predict([[10,7,7,6,4,10,4,1,2], [6,1,1,1,2,1,3,1,1]]) # Saída esperada: array([1, 0])\n",
    "\n",
    "\n",
    "Test = neigh.predict(X_test)\n",
    "Real = y_test\n",
    "\n",
    "CancerNotEmptyKNN_Falhas = round((np.sum(Test != Real)*100)/(Test.size), 2)\n",
    "CancerNotEmptyKNN_Acertos = round((np.sum(Test == Real)*100)/(Test.size), 2)\n",
    " \n",
    "\n",
    "print(\"%s foram treinados e  %s testes foram feitos. Desses, %s tiveram resultado correto e %s falharam\" % (y_train.size, Real.size, np.sum(Test == Real), np.sum(Test != Real)))\n",
    "print(\"Resultado: %s falharam e %s acertaram\" % (CancerNotEmptyKNN_Falhas, CancerNotEmptyKNN_Acertos))"
   ]
  },
  {
   "cell_type": "markdown",
   "metadata": {
    "deletable": true,
    "editable": true
   },
   "source": [
    "# Iris"
   ]
  },
  {
   "cell_type": "markdown",
   "metadata": {
    "deletable": true,
    "editable": true
   },
   "source": [
    "## Média\n",
    "- Em **dfCancer** e **dfIris**, os '**-**' e '**?**' são substituídos pela média de cada coluna."
   ]
  },
  {
   "cell_type": "code",
   "execution_count": 1057,
   "metadata": {
    "collapsed": false,
    "deletable": true,
    "editable": true
   },
   "outputs": [],
   "source": [
    "dfIris = pd.read_csv('iris-problemas.data', names = [\"Slength\",\"Swidth\",\"Plength\",\"Pwidth\",\"class\"])\n",
    "\n",
    "#       0 -- Iris Setosa\n",
    "#       1 -- Iris Versicolour\n",
    "#       2 -- Iris Virginica\n",
    "\n",
    "dfIris['class'] = dfIris['class'].apply(lambda x: 0 if x == \"Iris-setosa\"  else (1 if x == \"Iris-versicolor\" else 2))\n",
    "\n",
    "for col in dfIris:\n",
    "    colMedia = dfIris[col][dfIris[col].astype(str) != '-'].astype(str).astype(float).values.mean()\n",
    "    dfIris[col] = dfIris[col].apply(lambda x: round(colMedia, 1) if (x == '-') else x)\n",
    "\n",
    "dfIrisMedia = dfIris\n",
    "\n"
   ]
  },
  {
   "cell_type": "markdown",
   "metadata": {
    "deletable": true,
    "editable": true
   },
   "source": [
    "\n",
    "\n",
    "### Treinamento - RNA\n",
    "- backpropagation\n",
    "- 20 neurônios na camada escondida\n",
    "- 70% para treinamento e 30% para teste\n",
    "\n"
   ]
  },
  {
   "cell_type": "code",
   "execution_count": 1058,
   "metadata": {
    "collapsed": false,
    "deletable": true,
    "editable": true
   },
   "outputs": [
    {
     "name": "stdout",
     "output_type": "stream",
     "text": [
      "105 foram treinados e  45 testes foram feitos. Desses, 45 tiveram resultado correto e 0 falharam\n",
      "Resultado: 0.0% falharam e 100.0% acertaram\n"
     ]
    }
   ],
   "source": [
    "X = dfIrisMedia.drop('class', axis=1)\n",
    "\n",
    "y = dfIrisMedia['class']\n",
    "\n",
    "from sklearn.model_selection import train_test_split\n",
    "\n",
    "X_train, X_test, y_train, y_test = train_test_split(X, y, test_size=0.3)\n",
    "\n",
    "\n",
    "clf = MLPClassifier(solver='lbfgs', alpha=1e-5, hidden_layer_sizes=(20), random_state=1)\n",
    "\n",
    "### TreiNAMENTO => a funcao fit treina a rede neural com o conjunto de entrada X e a saida esperada y\n",
    "clf.fit(X, y)\n",
    "\n",
    "# TESTE => prediz qual a classe que pertence a entrada (2,2)\n",
    "# clf.predict([[5.1,3.5,1.4,0.2], [5.8,2.7,4.1,1.0], [6.8,3.0,5.5,2.1]]) # Saída esperada: array([0, 1, 2])\n",
    "\n",
    "\n",
    "Test = clf.predict(X_test)\n",
    "Real = y_test\n",
    "\n",
    "IrisMediaRNA_Falhas = round((np.sum(Test != Real)*100)/(Test.size), 2)\n",
    "IrisMediaRNA_Acertos = round((np.sum(Test == Real)*100)/(Test.size), 2)\n",
    " \n",
    "\n",
    "print(\"%s foram treinados e  %s testes foram feitos. Desses, %s tiveram resultado correto e %s falharam\" % (y_train.size, Real.size, np.sum(Test == Real), np.sum(Test != Real)))\n",
    "print(\"Resultado: %s%% falharam e %s%% acertaram\" % (IrisMediaRNA_Falhas, IrisMediaRNA_Acertos))\n",
    "\n"
   ]
  },
  {
   "cell_type": "markdown",
   "metadata": {
    "deletable": true,
    "editable": true
   },
   "source": [
    "### Treinamento - K-Means supervisionado: o Nearest Centroid Classifier\n",
    "\n",
    "- Taxa de acerto/erro para cada uma das bases de treinamento\n",
    "- O impacto das decisões tomadas nas etapas de pré-processamento"
   ]
  },
  {
   "cell_type": "code",
   "execution_count": 1059,
   "metadata": {
    "collapsed": false,
    "deletable": true,
    "editable": true,
    "scrolled": true
   },
   "outputs": [
    {
     "name": "stdout",
     "output_type": "stream",
     "text": [
      "105 foram treinados e  45 testes foram feitos. Desses, 36 tiveram resultado correto e 9 falharam\n",
      "Resultado: 20.0 falharam e 80.0 acertaram\n"
     ]
    }
   ],
   "source": [
    "from sklearn.neighbors.nearest_centroid import NearestCentroid\n",
    "import numpy as np\n",
    "\n",
    "from sklearn.model_selection import train_test_split\n",
    "\n",
    "X_train, X_test, y_train, y_test = train_test_split(X, y, test_size=0.3)\n",
    "\n",
    "X = np.array(dfIrisMedia.drop('class', axis=1).values)\n",
    "y = np.array(dfIrisMedia['class'].values)\n",
    "\n",
    "clf = NearestCentroid()\n",
    "#TREINAMENTO\n",
    "clf.fit(X, y) \n",
    "#TESTE\n",
    "\n",
    "# clf.predict([[5.1,3.5,1.4,0.2], [5.8,2.7,4.1,1.0], [6.8,3.0,5.5,2.1]]) # Saída esperada: array([0, 1, 2])\n",
    "\n",
    "\n",
    "Test = clf.predict(X_test)\n",
    "Real = y_test\n",
    "\n",
    "IrisMediaKMeans_Falhas = round((np.sum(Test != Real)*100)/(Test.size), 2)\n",
    "IrisMediaKMeans_Acertos = round((np.sum(Test == Real)*100)/(Test.size), 2)\n",
    "\n",
    "print(\"%s foram treinados e  %s testes foram feitos. Desses, %s tiveram resultado correto e %s falharam\" % (y_train.size, Real.size, np.sum(Test == Real), np.sum(Test != Real)))\n",
    "print(\"Resultado: %s falharam e %s acertaram\" % (IrisMediaKMeans_Falhas, IrisMediaKMeans_Acertos))\n",
    "\n",
    "\n",
    "\n",
    "\n"
   ]
  },
  {
   "cell_type": "markdown",
   "metadata": {
    "deletable": true,
    "editable": true
   },
   "source": [
    "### Treinamento - kNN\n",
    "\n",
    "- ~~A taxa de erro de médio de classificação para diferentes valores de k~~\n"
   ]
  },
  {
   "cell_type": "code",
   "execution_count": 1060,
   "metadata": {
    "collapsed": false,
    "deletable": true,
    "editable": true
   },
   "outputs": [
    {
     "name": "stdout",
     "output_type": "stream",
     "text": [
      "105 foram treinados e  45 testes foram feitos. Desses, 39 tiveram resultado correto e 6 falharam\n",
      "Resultado: 13.33 falharam e 86.67 acertaram\n"
     ]
    }
   ],
   "source": [
    "from sklearn.neighbors import KNeighborsClassifier\n",
    "\n",
    "X = dfIrisMedia.drop('class', axis=1).values\n",
    "y = dfIrisMedia['class'].values\n",
    "\n",
    "from sklearn.model_selection import train_test_split\n",
    "\n",
    "X_train, X_test, y_train, y_test = train_test_split(X, y, test_size=0.3)\n",
    "\n",
    "\n",
    "neigh = KNeighborsClassifier(n_neighbors=3)\n",
    "#TREINAMENTO\n",
    "neigh.fit(X, y) \n",
    "\n",
    "#TESTE\n",
    "\n",
    "# neigh.predict([[5.1,3.5,1.4,0.2], [5.8,2.7,4.1,1.0], [6.8,3.0,5.5,2.1]]) # Saída esperada: array([0, 1, 2])\n",
    "\n",
    "Test = clf.predict(X_test)\n",
    "Real = y_test\n",
    "\n",
    "IrisMediaKNN_Falhas = round((np.sum(Test != Real)*100)/(Test.size), 2)\n",
    "IrisMediaKNN_Acertos = round((np.sum(Test == Real)*100)/(Test.size), 2)\n",
    "\n",
    "print(\"%s foram treinados e  %s testes foram feitos. Desses, %s tiveram resultado correto e %s falharam\" % (y_train.size, Real.size, np.sum(Test == Real), np.sum(Test != Real)))\n",
    "print(\"Resultado: %s falharam e %s acertaram\" % (IrisMediaKNN_Falhas, IrisMediaKNN_Acertos))\n"
   ]
  },
  {
   "cell_type": "markdown",
   "metadata": {
    "deletable": true,
    "editable": true
   },
   "source": [
    "## Moda\n",
    "- Em **dfCancer** e **dfIris**, os '**-**' e '**?**' são substituídos pela moda de cada coluna."
   ]
  },
  {
   "cell_type": "code",
   "execution_count": 1061,
   "metadata": {
    "collapsed": false,
    "deletable": true,
    "editable": true,
    "scrolled": true
   },
   "outputs": [],
   "source": [
    "dfIris = pd.read_csv('iris-problemas.data', names = [\"Slength\",\"Swidth\",\"Plength\",\"Pwidth\",\"class\"])\n",
    "\n",
    "#       0 -- Iris Setosa\n",
    "#       1 -- Iris Versicolour\n",
    "#       2 -- Iris Virginica\n",
    "\n",
    "dfIris['class'] = dfIris['class'].apply(lambda x: 0 if x == \"Iris-setosa\"  else (1 if x == \"Iris-versicolor\" else 2))\n",
    "\n",
    "for col in dfIris:\n",
    "    if col != \"class\":\n",
    "        colMode = mode(dfIris[col][dfIris[col].astype(str) != '-'].astype(str).astype(float).values)\n",
    "        dfIris[col] = dfIris[col].apply(lambda x: round(colMedia, 1) if (x == '-') else x)\n",
    "\n",
    "dfIrisModa = dfIris"
   ]
  },
  {
   "cell_type": "markdown",
   "metadata": {
    "deletable": true,
    "editable": true
   },
   "source": [
    "\n",
    "\n",
    "### Treinamento - RNA\n",
    "- backpropagation\n",
    "- 20 neurônios na camada escondida\n",
    "- ~~70% para treinamento e 30% para teste~~ \n",
    "\n"
   ]
  },
  {
   "cell_type": "code",
   "execution_count": 1062,
   "metadata": {
    "collapsed": false,
    "deletable": true,
    "editable": true
   },
   "outputs": [
    {
     "name": "stdout",
     "output_type": "stream",
     "text": [
      "105 foram treinados e  45 testes foram feitos. Desses, 44 tiveram resultado correto e 1 falharam\n",
      "Resultado: 2.22 falharam e 97.78 acertaram\n"
     ]
    }
   ],
   "source": [
    "X = dfIrisModa.drop('class', axis=1)\n",
    "\n",
    "y = dfIrisModa['class']\n",
    "\n",
    "from sklearn.model_selection import train_test_split\n",
    "\n",
    "X_train, X_test, y_train, y_test = train_test_split(X, y, test_size=0.3)\n",
    "\n",
    "clf = MLPClassifier(solver='lbfgs', alpha=1e-5, hidden_layer_sizes=(20), random_state=1)\n",
    "\n",
    "### TreiNAMENTO => a funcao fit treina a rede neural com o conjunto de entrada X e a saida esperada y\n",
    "clf.fit(X, y)\n",
    "\n",
    "# TESTE => prediz qual a classe que pertence a entrada (2,2)\n",
    "# clf.predict([[5.1,3.5,1.4,0.2], [5.8,2.7,4.1,1.0], [6.8,3.0,5.5,2.1]]) # Saída esperada: array([0, 1, 2])\n",
    "\n",
    "Test = clf.predict(X_test)\n",
    "Real = y_test\n",
    "\n",
    "IrisModaRNA_Falhas = round((np.sum(Test != Real)*100)/(Test.size), 2)\n",
    "IrisModaRNA_Acertos = round((np.sum(Test == Real)*100)/(Test.size), 2)\n",
    "\n",
    "print(\"%s foram treinados e  %s testes foram feitos. Desses, %s tiveram resultado correto e %s falharam\" % (y_train.size, Real.size, np.sum(Test == Real), np.sum(Test != Real)))\n",
    "print(\"Resultado: %s falharam e %s acertaram\" % (IrisModaRNA_Falhas, IrisModaRNA_Acertos))\n",
    "\n"
   ]
  },
  {
   "cell_type": "markdown",
   "metadata": {
    "deletable": true,
    "editable": true
   },
   "source": [
    "### Treinamento - K-Means supervisionado: o Nearest Centroid Classifier\n",
    "\n",
    "- Taxa de acerto/erro para cada uma das bases de treinamento\n",
    "- O impacto das decisões tomadas nas etapas de pré-processamento"
   ]
  },
  {
   "cell_type": "code",
   "execution_count": 1063,
   "metadata": {
    "collapsed": false,
    "deletable": true,
    "editable": true
   },
   "outputs": [
    {
     "name": "stdout",
     "output_type": "stream",
     "text": [
      "105 foram treinados e  45 testes foram feitos. Desses, 42 tiveram resultado correto e 3 falharam\n",
      "Resultado: 6.67 falharam e 93.33 acertaram\n"
     ]
    }
   ],
   "source": [
    "from sklearn.neighbors.nearest_centroid import NearestCentroid\n",
    "import numpy as np\n",
    "\n",
    "X = np.array(dfIrisModa.drop('class', axis=1).values)\n",
    "y = np.array(dfIrisModa['class'].values)\n",
    "\n",
    "from sklearn.model_selection import train_test_split\n",
    "\n",
    "X_train, X_test, y_train, y_test = train_test_split(X, y, test_size=0.3)\n",
    "\n",
    "clf = NearestCentroid()\n",
    "#TREINAMENTO\n",
    "clf.fit(X, y) \n",
    "#TESTE\n",
    "\n",
    "# clf.predict([[5.1,3.5,1.4,0.2], [5.8,2.7,4.1,1.0], [6.8,3.0,5.5,2.1]]) # Saída esperada: array([0, 1, 2])\n",
    "\n",
    "Test = clf.predict(X_test)\n",
    "Real = y_test\n",
    "\n",
    "IrisModaKMeans_Falhas = round((np.sum(Test != Real)*100)/(Test.size), 2)\n",
    "IrisModaKMeans_Acertos = round((np.sum(Test == Real)*100)/(Test.size), 2)\n",
    "\n",
    "print(\"%s foram treinados e  %s testes foram feitos. Desses, %s tiveram resultado correto e %s falharam\" % (y_train.size, Real.size, np.sum(Test == Real), np.sum(Test != Real)))\n",
    "print(\"Resultado: %s falharam e %s acertaram\" % (IrisModaKMeans_Falhas, IrisModaKMeans_Acertos))"
   ]
  },
  {
   "cell_type": "markdown",
   "metadata": {
    "deletable": true,
    "editable": true
   },
   "source": [
    "### Treinamento - kNN\n",
    "\n",
    "- ~~A taxa de erro de médio de classificação para diferentes valores de k~~\n"
   ]
  },
  {
   "cell_type": "code",
   "execution_count": 1064,
   "metadata": {
    "collapsed": false,
    "deletable": true,
    "editable": true
   },
   "outputs": [
    {
     "name": "stdout",
     "output_type": "stream",
     "text": [
      "105 foram treinados e  45 testes foram feitos. Desses, 42 tiveram resultado correto e 3 falharam\n",
      "Resultado: 6.67 falharam e 93.33 acertaram\n"
     ]
    }
   ],
   "source": [
    "from sklearn.neighbors import KNeighborsClassifier\n",
    "\n",
    "X = dfIrisModa.drop('class', axis=1).values\n",
    "y = dfIrisModa['class'].values\n",
    "\n",
    "from sklearn.model_selection import train_test_split\n",
    "\n",
    "X_train, X_test, y_train, y_test = train_test_split(X, y, test_size=0.3)\n",
    "\n",
    "neigh = KNeighborsClassifier(n_neighbors=3)\n",
    "#TREINAMENTO\n",
    "neigh.fit(X, y) \n",
    "\n",
    "#TESTE\n",
    "# neigh.predict([[5.1,3.5,1.4,0.2], [5.8,2.7,4.1,1.0], [6.8,3.0,5.5,2.1]]) # Saída esperada: array([0, 1, 2])\n",
    "\n",
    "Test = clf.predict(X_test)\n",
    "Real = y_test\n",
    "\n",
    "IrisModaKNN_Falhas = round((np.sum(Test != Real)*100)/(Test.size), 2)\n",
    "IrisModaKNN_Acertos = round((np.sum(Test == Real)*100)/(Test.size), 2)\n",
    "\n",
    "print(\"%s foram treinados e  %s testes foram feitos. Desses, %s tiveram resultado correto e %s falharam\" % (y_train.size, Real.size, np.sum(Test == Real), np.sum(Test != Real)))\n",
    "print(\"Resultado: %s falharam e %s acertaram\" % (IrisModaKNN_Falhas, IrisModaKNN_Acertos))"
   ]
  },
  {
   "cell_type": "markdown",
   "metadata": {
    "deletable": true,
    "editable": true
   },
   "source": [
    "## Random\n",
    "- Em **dfCancer** e **dfIris**, os '**-**' e '**?**' são substituídos por um valor randômico específico de cada coluna.\n"
   ]
  },
  {
   "cell_type": "code",
   "execution_count": 1065,
   "metadata": {
    "collapsed": false,
    "deletable": true,
    "editable": true,
    "scrolled": true
   },
   "outputs": [],
   "source": [
    "dfIris = pd.read_csv('iris-problemas.data', names = [\"Slength\",\"Swidth\",\"Plength\",\"Pwidth\",\"class\"])\n",
    "\n",
    "#       0 -- Iris Setosa\n",
    "#       1 -- Iris Versicolour\n",
    "#       2 -- Iris Virginica\n",
    "\n",
    "dfIris['class'] = dfIris['class'].apply(lambda x: 0 if x == \"Iris-setosa\"  else (1 if x == \"Iris-versicolor\" else 2))\n",
    "\n",
    "for col in dfIris:\n",
    "    if col != \"class\":\n",
    "        colRandom = dfIris[col][dfIris[col].astype(str) != '-'].astype(str).astype(float).values\n",
    "        nu = np.random.randint(colCleaned.min(),colCleaned.max(),1) # Preenche os ruidos de uma coluna inteira com o mesmo random\n",
    "        elem = nu[0]\n",
    "        dfIris[col] = dfIris[col].apply(lambda x: elem if (x == '-') else x)\n",
    "\n",
    "dfIrisRandom = dfIris\n"
   ]
  },
  {
   "cell_type": "markdown",
   "metadata": {
    "deletable": true,
    "editable": true
   },
   "source": [
    "\n",
    "\n",
    "### Treinamento - RNA\n",
    "- backpropagation\n",
    "- 20 neurônios na camada escondida\n",
    "- ~~70% para treinamento e 30% para teste~~ \n",
    "\n"
   ]
  },
  {
   "cell_type": "code",
   "execution_count": 1066,
   "metadata": {
    "collapsed": false,
    "deletable": true,
    "editable": true
   },
   "outputs": [
    {
     "name": "stdout",
     "output_type": "stream",
     "text": [
      "105 foram treinados e  45 testes foram feitos. Desses, 42 tiveram resultado correto e 3 falharam\n",
      "Resultado: 6.67 falharam e 93.33 acertaram\n"
     ]
    }
   ],
   "source": [
    "X = dfIrisRandom.drop('class', axis=1)\n",
    "y = dfIrisRandom['class']\n",
    "\n",
    "from sklearn.model_selection import train_test_split\n",
    "\n",
    "X_train, X_test, y_train, y_test = train_test_split(X, y, test_size=0.3)\n",
    "\n",
    "clf = MLPClassifier(solver='lbfgs', alpha=1e-5, hidden_layer_sizes=(20), random_state=1)\n",
    "\n",
    "### TreiNAMENTO => a funcao fit treina a rede neural com o conjunto de entrada X e a saida esperada y\n",
    "clf.fit(X, y)\n",
    "\n",
    "# TESTE => prediz qual a classe que pertence a entrada (2,2)\n",
    "# clf.predict([[5.1,3.5,1.4,0.2], [5.8,2.7,4.1,1.0], [6.8,3.0,5.5,2.1]]) # Saída esperada: array([0, 1, 2])\n",
    "\n",
    "Test = clf.predict(X_test)\n",
    "Real = y_test\n",
    "\n",
    "IrisRandomRNA_Falhas = round((np.sum(Test != Real)*100)/(Test.size), 2)\n",
    "IrisRandomRNA_Acertos = round((np.sum(Test == Real)*100)/(Test.size), 2)\n",
    "\n",
    "print(\"%s foram treinados e  %s testes foram feitos. Desses, %s tiveram resultado correto e %s falharam\" % (y_train.size, Real.size, np.sum(Test == Real), np.sum(Test != Real)))\n",
    "print(\"Resultado: %s falharam e %s acertaram\" % (IrisRandomRNA_Falhas, IrisRandomRNA_Acertos))"
   ]
  },
  {
   "cell_type": "markdown",
   "metadata": {
    "deletable": true,
    "editable": true
   },
   "source": [
    "### Treinamento - K-Means supervisionado: o Nearest Centroid Classifier\n",
    "\n",
    "- Taxa de acerto/erro para cada uma das bases de treinamento\n",
    "- O impacto das decisões tomadas nas etapas de pré-processamento"
   ]
  },
  {
   "cell_type": "code",
   "execution_count": 1067,
   "metadata": {
    "collapsed": false,
    "deletable": true,
    "editable": true
   },
   "outputs": [
    {
     "name": "stdout",
     "output_type": "stream",
     "text": [
      "105 foram treinados e  45 testes foram feitos. Desses, 39 tiveram resultado correto e 6 falharam\n",
      "Resultado: 13.33 falharam e 86.67 acertaram\n"
     ]
    }
   ],
   "source": [
    "from sklearn.neighbors.nearest_centroid import NearestCentroid\n",
    "import numpy as np\n",
    "\n",
    "X = np.array(dfIrisRandom.drop('class', axis=1).values)\n",
    "y = np.array(dfIrisRandom['class'].values)\n",
    "\n",
    "from sklearn.model_selection import train_test_split\n",
    "\n",
    "X_train, X_test, y_train, y_test = train_test_split(X, y, test_size=0.3)\n",
    "\n",
    "clf = NearestCentroid()\n",
    "#TREINAMENTO\n",
    "clf.fit(X, y) \n",
    "#TESTE\n",
    "\n",
    "# clf.predict([[5.1,3.5,1.4,0.2], [5.8,2.7,4.1,1.0], [6.8,3.0,5.5,2.1]]) # Saída esperada: array([0, 1, 2])\n",
    "\n",
    "Test = clf.predict(X_test)\n",
    "Real = y_test\n",
    "\n",
    "IrisRandomKMeans_Falhas = round((np.sum(Test != Real)*100)/(Test.size), 2)\n",
    "IrisRandomKMeans_Acertos = round((np.sum(Test == Real)*100)/(Test.size), 2)\n",
    "\n",
    "print(\"%s foram treinados e  %s testes foram feitos. Desses, %s tiveram resultado correto e %s falharam\" % (y_train.size, Real.size, np.sum(Test == Real), np.sum(Test != Real)))\n",
    "print(\"Resultado: %s falharam e %s acertaram\" % (IrisRandomKMeans_Falhas, IrisRandomKMeans_Acertos))"
   ]
  },
  {
   "cell_type": "markdown",
   "metadata": {
    "deletable": true,
    "editable": true
   },
   "source": [
    "### Treinamento - kNN\n",
    "\n",
    "- ~~A taxa de erro de médio de classificação para diferentes valores de k~~\n"
   ]
  },
  {
   "cell_type": "code",
   "execution_count": 1068,
   "metadata": {
    "collapsed": false,
    "deletable": true,
    "editable": true
   },
   "outputs": [
    {
     "name": "stdout",
     "output_type": "stream",
     "text": [
      "105 foram treinados e  45 testes foram feitos. Desses, 41 tiveram resultado correto e 4 falharam\n",
      "Resultado: 8.89 falharam e 91.11 acertaram\n"
     ]
    }
   ],
   "source": [
    "from sklearn.neighbors import KNeighborsClassifier\n",
    "\n",
    "X = dfIrisRandom.drop('class', axis=1).values\n",
    "y = dfIrisRandom['class'].values\n",
    "\n",
    "from sklearn.model_selection import train_test_split\n",
    "X_train, X_test, y_train, y_test = train_test_split(X, y, test_size=0.3)\n",
    "\n",
    "neigh = KNeighborsClassifier(n_neighbors=3)\n",
    "#TREINAMENTO\n",
    "neigh.fit(X, y) \n",
    "\n",
    "#TESTE\n",
    "\n",
    "# neigh.predict([[5.1,3.5,1.4,0.2], [5.8,2.7,4.1,1.0], [6.8,3.0,5.5,2.1]]) # Saída esperada: array([0, 1, 2])\n",
    "\n",
    "Test = clf.predict(X_test)\n",
    "Real = y_test\n",
    "\n",
    "IrisRandomKNN_Falhas = round((np.sum(Test != Real)*100)/(Test.size), 2)\n",
    "IrisRandomKNN_Acertos = round((np.sum(Test == Real)*100)/(Test.size), 2)\n",
    "\n",
    "print(\"%s foram treinados e  %s testes foram feitos. Desses, %s tiveram resultado correto e %s falharam\" % (y_train.size, Real.size, np.sum(Test == Real), np.sum(Test != Real)))\n",
    "print(\"Resultado: %s falharam e %s acertaram\" % (IrisRandomKNN_Falhas, IrisRandomKNN_Acertos))"
   ]
  },
  {
   "cell_type": "markdown",
   "metadata": {
    "deletable": true,
    "editable": true
   },
   "source": [
    "## Not empty\n",
    "- Em **dfCancer** e **dfIris**, as linhas com '**-**' e '**?**' são removidas."
   ]
  },
  {
   "cell_type": "code",
   "execution_count": 1069,
   "metadata": {
    "collapsed": false,
    "deletable": true,
    "editable": true
   },
   "outputs": [],
   "source": [
    "dfIris = pd.read_csv('iris-problemas.data', names = [\"Slength\",\"Swidth\",\"Plength\",\"Pwidth\",\"class\"])\n",
    "dfIris = dfIris.replace('?', np.nan)\n",
    "dfIris = dfIris.replace('-', np.nan)\n",
    "dfIris = dfIris.dropna()\n",
    "\n",
    "dfIris['class'] = dfIris['class'].apply(lambda x: 0 if x == \"Iris-setosa\"  else (1 if x == \"Iris-versicolor\" else 2))\n",
    "\n",
    "dfIrisNotEmpty = dfIris"
   ]
  },
  {
   "cell_type": "markdown",
   "metadata": {
    "deletable": true,
    "editable": true
   },
   "source": [
    "\n",
    "\n",
    "### Treinamento - RNA\n",
    "- backpropagation\n",
    "- 20 neurônios na camada escondida\n",
    "- ~~70% para treinamento e 30% para teste~~ \n",
    "\n"
   ]
  },
  {
   "cell_type": "code",
   "execution_count": 1070,
   "metadata": {
    "collapsed": false,
    "deletable": true,
    "editable": true
   },
   "outputs": [
    {
     "name": "stdout",
     "output_type": "stream",
     "text": [
      "82 foram treinados e  36 testes foram feitos. Desses, 35 tiveram resultado correto e 1 falharam\n",
      "Resultado: 2.78 falharam e 97.22 acertaram\n"
     ]
    }
   ],
   "source": [
    "X = dfIrisNotEmpty.drop('class', axis=1)\n",
    "\n",
    "y = dfIrisNotEmpty['class']\n",
    "\n",
    "from sklearn.model_selection import train_test_split\n",
    "X_train, X_test, y_train, y_test = train_test_split(X, y, test_size=0.3)\n",
    "\n",
    "clf = MLPClassifier(solver='lbfgs', alpha=1e-5, hidden_layer_sizes=(20), random_state=1)\n",
    "\n",
    "### TreiNAMENTO => a funcao fit treina a rede neural com o conjunto de entrada X e a saida esperada y\n",
    "clf.fit(X, y)\n",
    "\n",
    "# TESTE => prediz qual a classe que pertence a entrada (2,2)\n",
    "# clf.predict([[5.1,3.5,1.4,0.2], [5.8,2.7,4.1,1.0], [6.8,3.0,5.5,2.1]]) # Saída esperada: array([0, 1, 2])\n",
    "\n",
    "Test = clf.predict(X_test)\n",
    "Real = y_test\n",
    "\n",
    "IrisNotEmptyRNA_Falhas = round((np.sum(Test != Real)*100)/(Test.size), 2)\n",
    "IrisNotEmptyRNA_Acertos = round((np.sum(Test == Real)*100)/(Test.size), 2)\n",
    "\n",
    "print(\"%s foram treinados e  %s testes foram feitos. Desses, %s tiveram resultado correto e %s falharam\" % (y_train.size, Real.size, np.sum(Test == Real), np.sum(Test != Real)))\n",
    "print(\"Resultado: %s falharam e %s acertaram\" % (IrisNotEmptyRNA_Falhas, IrisNotEmptyRNA_Acertos))"
   ]
  },
  {
   "cell_type": "markdown",
   "metadata": {
    "deletable": true,
    "editable": true
   },
   "source": [
    "### Treinamento - K-Means supervisionado: o Nearest Centroid Classifier\n",
    "\n",
    "- Taxa de acerto/erro para cada uma das bases de treinamento\n",
    "- O impacto das decisões tomadas nas etapas de pré-processamento"
   ]
  },
  {
   "cell_type": "code",
   "execution_count": 1071,
   "metadata": {
    "collapsed": false,
    "deletable": true,
    "editable": true
   },
   "outputs": [
    {
     "name": "stdout",
     "output_type": "stream",
     "text": [
      "82 foram treinados e  36 testes foram feitos. Desses, 32 tiveram resultado correto e 4 falharam\n",
      "Resultado: 11.11 falharam e 88.89 acertaram\n"
     ]
    }
   ],
   "source": [
    "from sklearn.neighbors.nearest_centroid import NearestCentroid\n",
    "import numpy as np\n",
    "\n",
    "X = np.array(dfIrisNotEmpty.drop('class', axis=1).values)\n",
    "y = np.array(dfIrisNotEmpty['class'].values)\n",
    "\n",
    "from sklearn.model_selection import train_test_split\n",
    "X_train, X_test, y_train, y_test = train_test_split(X, y, test_size=0.3)\n",
    "\n",
    "clf = NearestCentroid()\n",
    "#TREINAMENTO\n",
    "clf.fit(X, y) \n",
    "#TESTE\n",
    "\n",
    "# clf.predict([[5.1,3.5,1.4,0.2], [5.8,2.7,4.1,1.0], [6.8,3.0,5.5,2.1]]) # Saída esperada: array([0, 1, 2])\n",
    "\n",
    "Test = clf.predict(X_test)\n",
    "Real = y_test\n",
    "\n",
    "IrisNotEmptyKMeans_Falhas = round((np.sum(Test != Real)*100)/(Test.size), 2)\n",
    "IrisNotEmptyKMeans_Acertos = round((np.sum(Test == Real)*100)/(Test.size), 2)\n",
    "\n",
    "print(\"%s foram treinados e  %s testes foram feitos. Desses, %s tiveram resultado correto e %s falharam\" % (y_train.size, Real.size, np.sum(Test == Real), np.sum(Test != Real)))\n",
    "print(\"Resultado: %s falharam e %s acertaram\" % (IrisNotEmptyKMeans_Falhas, IrisNotEmptyKMeans_Acertos))"
   ]
  },
  {
   "cell_type": "markdown",
   "metadata": {
    "deletable": true,
    "editable": true
   },
   "source": [
    "### Treinamento - kNN\n",
    "\n",
    "- ~~A taxa de erro de médio de classificação para diferentes valores de k~~\n"
   ]
  },
  {
   "cell_type": "code",
   "execution_count": 1072,
   "metadata": {
    "collapsed": false,
    "deletable": true,
    "editable": true
   },
   "outputs": [
    {
     "name": "stdout",
     "output_type": "stream",
     "text": [
      "82 foram treinados e  36 testes foram feitos. Desses, 33 tiveram resultado correto e 3 falharam\n",
      "Resultado: 8.33 falharam e 91.67 acertaram\n"
     ]
    }
   ],
   "source": [
    "from sklearn.neighbors import KNeighborsClassifier\n",
    "\n",
    "X = dfIrisNotEmpty.drop('class', axis=1).values\n",
    "y = dfIrisNotEmpty['class'].values\n",
    "\n",
    "from sklearn.model_selection import train_test_split\n",
    "X_train, X_test, y_train, y_test = train_test_split(X, y, test_size=0.3)\n",
    "\n",
    "neigh = KNeighborsClassifier(n_neighbors=3)\n",
    "#TREINAMENTO\n",
    "neigh.fit(X, y) \n",
    "\n",
    "#TESTE\n",
    "\n",
    "# neigh.predict([[5.1,3.5,1.4,0.2], [5.8,2.7,4.1,1.0], [6.8,3.0,5.5,2.1]]) # Saída esperada: array([0, 1, 2])\n",
    "\n",
    "Test = clf.predict(X_test)\n",
    "Real = y_test\n",
    "\n",
    "IrisNotEmptyKNN_Falhas = round((np.sum(Test != Real)*100)/(Test.size), 2)\n",
    "IrisNotEmptyKNN_Acertos = round((np.sum(Test == Real)*100)/(Test.size), 2)\n",
    "\n",
    "print(\"%s foram treinados e  %s testes foram feitos. Desses, %s tiveram resultado correto e %s falharam\" % (y_train.size, Real.size, np.sum(Test == Real), np.sum(Test != Real)))\n",
    "print(\"Resultado: %s falharam e %s acertaram\" % (IrisNotEmptyKNN_Falhas, IrisNotEmptyKNN_Acertos))"
   ]
  },
  {
   "cell_type": "markdown",
   "metadata": {
    "deletable": true,
    "editable": true
   },
   "source": [
    "# Resultado - Câncer"
   ]
  },
  {
   "cell_type": "code",
   "execution_count": 1073,
   "metadata": {
    "collapsed": false,
    "deletable": true,
    "editable": true,
    "scrolled": true
   },
   "outputs": [],
   "source": [
    "# initialise data of lists. \n",
    "data = {'Media':[CancerMediaRNA_Acertos, CancerMediaKMeans_Acertos, CancerMediaKNN_Acertos], 'Moda':[CancerModaRNA_Acertos, CancerModaKMeans_Acertos, CancerModaKNN_Acertos], 'Random':[CancerRandomRNA_Acertos, CancerRandomKMeans_Acertos, CancerRandomKNN_Acertos], 'Not Empty':[CancerNotEmptyRNA_Acertos, CancerNotEmptyKMeans_Acertos, CancerNotEmptyKNN_Acertos]} #Pre\n",
    " \n",
    "    \n",
    "# Creates pandas DataFrame. \n",
    "dfCancerResultAcertos = pd.DataFrame(data, index =['RNA', 'K-Means', 'kNN']) \n"
   ]
  },
  {
   "cell_type": "code",
   "execution_count": 1074,
   "metadata": {
    "collapsed": false,
    "deletable": true,
    "editable": true
   },
   "outputs": [],
   "source": [
    "# initialise data of lists. \n",
    "data = {'Media':[CancerMediaRNA_Falhas, CancerMediaKMeans_Falhas, CancerMediaKNN_Falhas], 'Moda':[CancerModaRNA_Falhas, CancerModaKMeans_Falhas, CancerModaKNN_Falhas], 'Random':[CancerRandomRNA_Falhas, CancerRandomKMeans_Falhas, CancerRandomKNN_Falhas], 'Not Empty':[CancerNotEmptyRNA_Falhas, CancerNotEmptyKMeans_Falhas, CancerNotEmptyKNN_Falhas]} #Pre\n",
    " \n",
    "    \n",
    "# Creates pandas DataFrame. \n",
    "dfCancerResultFalhas = pd.DataFrame(data, index =['RNA', 'K-Means', 'kNN']) \n"
   ]
  },
  {
   "cell_type": "markdown",
   "metadata": {
    "deletable": true,
    "editable": true
   },
   "source": [
    "# Resultado - Iris"
   ]
  },
  {
   "cell_type": "code",
   "execution_count": 1075,
   "metadata": {
    "collapsed": false,
    "deletable": true,
    "editable": true,
    "scrolled": true
   },
   "outputs": [],
   "source": [
    "# initialise data of lists. \n",
    "data = {'Media':[IrisMediaRNA_Acertos, IrisMediaKMeans_Acertos, IrisMediaKNN_Acertos], 'Moda':[IrisModaRNA_Acertos, IrisModaKMeans_Acertos, IrisModaKNN_Acertos], 'Random':[IrisRandomRNA_Acertos, IrisRandomKMeans_Acertos, IrisRandomKNN_Acertos], 'Not Empty':[IrisNotEmptyRNA_Acertos, IrisNotEmptyKMeans_Acertos, IrisNotEmptyKNN_Acertos]} #Pre\n",
    " \n",
    "    \n",
    "# Creates pandas DataFrame. \n",
    "dfIrisResultAcertos = pd.DataFrame(data, index =['RNA', 'K-Means', 'kNN']) \n"
   ]
  },
  {
   "cell_type": "code",
   "execution_count": 1076,
   "metadata": {
    "collapsed": false,
    "deletable": true,
    "editable": true
   },
   "outputs": [],
   "source": [
    "# initialise data of lists. \n",
    "data = {'Media':[IrisMediaRNA_Falhas, IrisMediaKMeans_Falhas, IrisMediaKNN_Falhas], 'Moda':[IrisModaRNA_Falhas, IrisModaKMeans_Falhas, IrisModaKNN_Falhas], 'Random':[IrisRandomRNA_Falhas, IrisRandomKMeans_Falhas, IrisRandomKNN_Falhas], 'Not Empty':[IrisNotEmptyRNA_Falhas, IrisNotEmptyKMeans_Falhas, IrisNotEmptyKNN_Falhas]} #Pre\n",
    " \n",
    "    \n",
    "# Creates pandas DataFrame. \n",
    "dfIrisResultFalhas = pd.DataFrame(data, index =['RNA', 'K-Means', 'kNN']) \n"
   ]
  },
  {
   "cell_type": "markdown",
   "metadata": {
    "deletable": true,
    "editable": true
   },
   "source": [
    "## Acertos - Câncer (%)"
   ]
  },
  {
   "cell_type": "code",
   "execution_count": 1077,
   "metadata": {
    "collapsed": false,
    "deletable": true,
    "editable": true
   },
   "outputs": [
    {
     "data": {
      "text/html": [
       "<div>\n",
       "<style>\n",
       "    .dataframe thead tr:only-child th {\n",
       "        text-align: right;\n",
       "    }\n",
       "\n",
       "    .dataframe thead th {\n",
       "        text-align: left;\n",
       "    }\n",
       "\n",
       "    .dataframe tbody tr th {\n",
       "        vertical-align: top;\n",
       "    }\n",
       "</style>\n",
       "<table border=\"1\" class=\"dataframe\">\n",
       "  <thead>\n",
       "    <tr style=\"text-align: right;\">\n",
       "      <th></th>\n",
       "      <th>Media</th>\n",
       "      <th>Moda</th>\n",
       "      <th>Not Empty</th>\n",
       "      <th>Random</th>\n",
       "    </tr>\n",
       "  </thead>\n",
       "  <tbody>\n",
       "    <tr>\n",
       "      <th>RNA</th>\n",
       "      <td>94.29</td>\n",
       "      <td>62.38</td>\n",
       "      <td>95.88</td>\n",
       "      <td>92.86</td>\n",
       "    </tr>\n",
       "    <tr>\n",
       "      <th>K-Means</th>\n",
       "      <td>97.62</td>\n",
       "      <td>57.14</td>\n",
       "      <td>97.42</td>\n",
       "      <td>94.76</td>\n",
       "    </tr>\n",
       "    <tr>\n",
       "      <th>kNN</th>\n",
       "      <td>95.71</td>\n",
       "      <td>59.05</td>\n",
       "      <td>98.97</td>\n",
       "      <td>95.71</td>\n",
       "    </tr>\n",
       "  </tbody>\n",
       "</table>\n",
       "</div>"
      ],
      "text/plain": [
       "         Media   Moda  Not Empty  Random\n",
       "RNA      94.29  62.38      95.88   92.86\n",
       "K-Means  97.62  57.14      97.42   94.76\n",
       "kNN      95.71  59.05      98.97   95.71"
      ]
     },
     "execution_count": 1077,
     "metadata": {},
     "output_type": "execute_result"
    }
   ],
   "source": [
    "dfCancerResultAcertos\n"
   ]
  },
  {
   "cell_type": "code",
   "execution_count": 1078,
   "metadata": {
    "collapsed": false,
    "deletable": true,
    "editable": true
   },
   "outputs": [
    {
     "data": {
      "image/png": "[encoded data removed]",
      "text/plain": [
       "<matplotlib.figure.Figure at 0x121eb76d8>"
      ]
     },
     "metadata": {},
     "output_type": "display_data"
    }
   ],
   "source": [
    "ax = dfCancerResultAcertos.plot.bar(rot=0)"
   ]
  },
  {
   "cell_type": "code",
   "execution_count": 1079,
   "metadata": {
    "collapsed": false,
    "deletable": true,
    "editable": true
   },
   "outputs": [
    {
     "data": {
      "image/png": "[encoded data removed]",
      "text/plain": [
       "<matplotlib.figure.Figure at 0x12174f390>"
      ]
     },
     "metadata": {},
     "output_type": "display_data"
    }
   ],
   "source": [
    "ax = dfCancerResultAcertos.T.plot.bar(rot=0)"
   ]
  },
  {
   "cell_type": "markdown",
   "metadata": {
    "deletable": true,
    "editable": true
   },
   "source": [
    "## Falhas - Câncer (%)"
   ]
  },
  {
   "cell_type": "code",
   "execution_count": 1080,
   "metadata": {
    "collapsed": false,
    "deletable": true,
    "editable": true,
    "scrolled": true
   },
   "outputs": [
    {
     "data": {
      "text/html": [
       "<div>\n",
       "<style>\n",
       "    .dataframe thead tr:only-child th {\n",
       "        text-align: right;\n",
       "    }\n",
       "\n",
       "    .dataframe thead th {\n",
       "        text-align: left;\n",
       "    }\n",
       "\n",
       "    .dataframe tbody tr th {\n",
       "        vertical-align: top;\n",
       "    }\n",
       "</style>\n",
       "<table border=\"1\" class=\"dataframe\">\n",
       "  <thead>\n",
       "    <tr style=\"text-align: right;\">\n",
       "      <th></th>\n",
       "      <th>Media</th>\n",
       "      <th>Moda</th>\n",
       "      <th>Not Empty</th>\n",
       "      <th>Random</th>\n",
       "    </tr>\n",
       "  </thead>\n",
       "  <tbody>\n",
       "    <tr>\n",
       "      <th>RNA</th>\n",
       "      <td>5.71</td>\n",
       "      <td>37.62</td>\n",
       "      <td>4.12</td>\n",
       "      <td>7.14</td>\n",
       "    </tr>\n",
       "    <tr>\n",
       "      <th>K-Means</th>\n",
       "      <td>2.38</td>\n",
       "      <td>42.86</td>\n",
       "      <td>2.58</td>\n",
       "      <td>5.24</td>\n",
       "    </tr>\n",
       "    <tr>\n",
       "      <th>kNN</th>\n",
       "      <td>4.29</td>\n",
       "      <td>40.95</td>\n",
       "      <td>1.03</td>\n",
       "      <td>4.29</td>\n",
       "    </tr>\n",
       "  </tbody>\n",
       "</table>\n",
       "</div>"
      ],
      "text/plain": [
       "         Media   Moda  Not Empty  Random\n",
       "RNA       5.71  37.62       4.12    7.14\n",
       "K-Means   2.38  42.86       2.58    5.24\n",
       "kNN       4.29  40.95       1.03    4.29"
      ]
     },
     "execution_count": 1080,
     "metadata": {},
     "output_type": "execute_result"
    }
   ],
   "source": [
    "dfCancerResultFalhas"
   ]
  },
  {
   "cell_type": "code",
   "execution_count": 1081,
   "metadata": {
    "collapsed": false,
    "deletable": true,
    "editable": true
   },
   "outputs": [
    {
     "data": {
      "image/png": "[encoded data removed]",
      "text/plain": [
       "<matplotlib.figure.Figure at 0x12188dfd0>"
      ]
     },
     "metadata": {},
     "output_type": "display_data"
    }
   ],
   "source": [
    "ax = dfCancerResultFalhas.plot.bar(rot=0)"
   ]
  },
  {
   "cell_type": "code",
   "execution_count": 1082,
   "metadata": {
    "collapsed": false,
    "deletable": true,
    "editable": true
   },
   "outputs": [
    {
     "data": {
      "image/png": "[encoded data removed]",
      "text/plain": [
       "<matplotlib.figure.Figure at 0x120de8860>"
      ]
     },
     "metadata": {},
     "output_type": "display_data"
    }
   ],
   "source": [
    "ax = dfCancerResultFalhas.T.plot.bar(rot=0)"
   ]
  },
  {
   "cell_type": "markdown",
   "metadata": {
    "deletable": true,
    "editable": true
   },
   "source": [
    "## Acertos - Iris (%)"
   ]
  },
  {
   "cell_type": "code",
   "execution_count": 1083,
   "metadata": {
    "collapsed": false
   },
   "outputs": [
    {
     "data": {
      "text/html": [
       "<div>\n",
       "<style>\n",
       "    .dataframe thead tr:only-child th {\n",
       "        text-align: right;\n",
       "    }\n",
       "\n",
       "    .dataframe thead th {\n",
       "        text-align: left;\n",
       "    }\n",
       "\n",
       "    .dataframe tbody tr th {\n",
       "        vertical-align: top;\n",
       "    }\n",
       "</style>\n",
       "<table border=\"1\" class=\"dataframe\">\n",
       "  <thead>\n",
       "    <tr style=\"text-align: right;\">\n",
       "      <th></th>\n",
       "      <th>Media</th>\n",
       "      <th>Moda</th>\n",
       "      <th>Not Empty</th>\n",
       "      <th>Random</th>\n",
       "    </tr>\n",
       "  </thead>\n",
       "  <tbody>\n",
       "    <tr>\n",
       "      <th>RNA</th>\n",
       "      <td>100.00</td>\n",
       "      <td>97.78</td>\n",
       "      <td>97.22</td>\n",
       "      <td>93.33</td>\n",
       "    </tr>\n",
       "    <tr>\n",
       "      <th>K-Means</th>\n",
       "      <td>80.00</td>\n",
       "      <td>93.33</td>\n",
       "      <td>88.89</td>\n",
       "      <td>86.67</td>\n",
       "    </tr>\n",
       "    <tr>\n",
       "      <th>kNN</th>\n",
       "      <td>86.67</td>\n",
       "      <td>93.33</td>\n",
       "      <td>91.67</td>\n",
       "      <td>91.11</td>\n",
       "    </tr>\n",
       "  </tbody>\n",
       "</table>\n",
       "</div>"
      ],
      "text/plain": [
       "          Media   Moda  Not Empty  Random\n",
       "RNA      100.00  97.78      97.22   93.33\n",
       "K-Means   80.00  93.33      88.89   86.67\n",
       "kNN       86.67  93.33      91.67   91.11"
      ]
     },
     "execution_count": 1083,
     "metadata": {},
     "output_type": "execute_result"
    }
   ],
   "source": [
    "dfIrisResultAcertos"
   ]
  },
  {
   "cell_type": "code",
   "execution_count": 1084,
   "metadata": {
    "collapsed": false,
    "deletable": true,
    "editable": true,
    "scrolled": true
   },
   "outputs": [
    {
     "data": {
      "image/png": "[encoded data removed]",
      "text/plain": [
       "<matplotlib.figure.Figure at 0x121e280b8>"
      ]
     },
     "metadata": {},
     "output_type": "display_data"
    }
   ],
   "source": [
    "ax = dfIrisResultAcertos.plot.bar(rot=0)\n"
   ]
  },
  {
   "cell_type": "code",
   "execution_count": 1085,
   "metadata": {
    "collapsed": false
   },
   "outputs": [
    {
     "data": {
      "image/png": "[encoded data removed]",
      "text/plain": [
       "<matplotlib.figure.Figure at 0x1218f0940>"
      ]
     },
     "metadata": {},
     "output_type": "display_data"
    }
   ],
   "source": [
    "ax = dfIrisResultAcertos.T.plot.bar(rot=0)"
   ]
  },
  {
   "cell_type": "markdown",
   "metadata": {
    "deletable": true,
    "editable": true
   },
   "source": [
    "## Falhas - Iris (%)"
   ]
  },
  {
   "cell_type": "code",
   "execution_count": 1086,
   "metadata": {
    "collapsed": false
   },
   "outputs": [
    {
     "data": {
      "text/html": [
       "<div>\n",
       "<style>\n",
       "    .dataframe thead tr:only-child th {\n",
       "        text-align: right;\n",
       "    }\n",
       "\n",
       "    .dataframe thead th {\n",
       "        text-align: left;\n",
       "    }\n",
       "\n",
       "    .dataframe tbody tr th {\n",
       "        vertical-align: top;\n",
       "    }\n",
       "</style>\n",
       "<table border=\"1\" class=\"dataframe\">\n",
       "  <thead>\n",
       "    <tr style=\"text-align: right;\">\n",
       "      <th></th>\n",
       "      <th>Media</th>\n",
       "      <th>Moda</th>\n",
       "      <th>Not Empty</th>\n",
       "      <th>Random</th>\n",
       "    </tr>\n",
       "  </thead>\n",
       "  <tbody>\n",
       "    <tr>\n",
       "      <th>RNA</th>\n",
       "      <td>0.00</td>\n",
       "      <td>2.22</td>\n",
       "      <td>2.78</td>\n",
       "      <td>6.67</td>\n",
       "    </tr>\n",
       "    <tr>\n",
       "      <th>K-Means</th>\n",
       "      <td>20.00</td>\n",
       "      <td>6.67</td>\n",
       "      <td>11.11</td>\n",
       "      <td>13.33</td>\n",
       "    </tr>\n",
       "    <tr>\n",
       "      <th>kNN</th>\n",
       "      <td>13.33</td>\n",
       "      <td>6.67</td>\n",
       "      <td>8.33</td>\n",
       "      <td>8.89</td>\n",
       "    </tr>\n",
       "  </tbody>\n",
       "</table>\n",
       "</div>"
      ],
      "text/plain": [
       "         Media  Moda  Not Empty  Random\n",
       "RNA       0.00  2.22       2.78    6.67\n",
       "K-Means  20.00  6.67      11.11   13.33\n",
       "kNN      13.33  6.67       8.33    8.89"
      ]
     },
     "execution_count": 1086,
     "metadata": {},
     "output_type": "execute_result"
    }
   ],
   "source": [
    "dfIrisResultFalhas"
   ]
  },
  {
   "cell_type": "code",
   "execution_count": 1092,
   "metadata": {
    "collapsed": false
   },
   "outputs": [
    {
     "data": {
      "image/png": "[encoded data removed]",
      "text/plain": [
       "<matplotlib.figure.Figure at 0x12105ecc0>"
      ]
     },
     "metadata": {},
     "output_type": "display_data"
    }
   ],
   "source": [
    "ax = dfIrisResultFalhas.plot.bar(rot=0)"
   ]
  },
  {
   "cell_type": "code",
   "execution_count": 1088,
   "metadata": {
    "collapsed": false
   },
   "outputs": [
    {
     "data": {
      "image/png": "[encoded data removed]",
      "text/plain": [
       "<matplotlib.figure.Figure at 0x1217f2550>"
      ]
     },
     "metadata": {},
     "output_type": "display_data"
    }
   ],
   "source": [
    "ax = dfIrisResultFalhas.T.plot.bar(rot=0)"
   ]
  }
 ],
 "metadata": {
  "celltoolbar": "Raw Cell Format",
  "kernelspec": {
   "display_name": "Python 3",
   "language": "python",
   "name": "python3"
  },
  "language_info": {
   "codemirror_mode": {
    "name": "ipython",
    "version": 3
   },
   "file_extension": ".py",
   "mimetype": "text/x-python",
   "name": "python",
   "nbconvert_exporter": "python",
   "pygments_lexer": "ipython3",
   "version": "3.5.2"
  }
 },
 "nbformat": 4,
 "nbformat_minor": 2
}
